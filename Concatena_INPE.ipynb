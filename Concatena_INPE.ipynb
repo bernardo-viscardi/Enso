{
 "cells": [
  {
   "cell_type": "code",
   "execution_count": 1,
   "id": "e3b1ba3f",
   "metadata": {},
   "outputs": [],
   "source": [
    "import pandas as pd\n",
    "import os\n",
    "from os import listdir\n",
    "from os.path import isfile, join"
   ]
  },
  {
   "cell_type": "markdown",
   "id": "8a2c0d8b",
   "metadata": {},
   "source": [
    "### Dados do INPE sobre precipitação no RS. Os dados resultaram na precipitação média coletada em 5 estações meteorológicas entre os meses de agosto a junho, quando ocorre o ciclo de produação de soja no RS, de acordo com a CONAB"
   ]
  },
  {
   "cell_type": "code",
   "execution_count": 2,
   "id": "e5573efe",
   "metadata": {},
   "outputs": [],
   "source": [
    "path_base = r\"C:\\Users\\DellVostro\\OneDrive\\Documentos\\XP\\Projeto_aplicado\\Enso\\Dados_clima_RS\""
   ]
  },
  {
   "cell_type": "code",
   "execution_count": 3,
   "id": "3c2da00f",
   "metadata": {},
   "outputs": [],
   "source": [
    "def coleta_dados(path_base):\n",
    "    dfs = []\n",
    "\n",
    "    for root, dirs, files in os.walk(path_base):\n",
    "        arquivos = [f for f in files if os.path.isfile(os.path.join(root, f))]\n",
    "        primeiros_5 = sorted(arquivos)[:5]  # Ordena e seleciona os cinco primeiros\n",
    "\n",
    "        for nome_arquivo in primeiros_5:\n",
    "            caminho_base = os.path.join(root, nome_arquivo)\n",
    "            try:\n",
    "                df = pd.read_csv(\n",
    "                    caminho_base,\n",
    "                    sep=\";\",\n",
    "                    header=8,\n",
    "                    encoding=\"iso-8859-1\",\n",
    "                    usecols=[0, 2]\n",
    "                )\n",
    "                dfs.append(df)\n",
    "            except Exception as e:\n",
    "                print(f\"Erro ao ler {caminho_base}: {e}\")\n",
    "\n",
    "    if dfs:\n",
    "        return pd.concat(dfs, ignore_index=True)\n",
    "    else:\n",
    "        print(\"Nenhum arquivo válido foi encontrado.\")\n",
    "        return pd.DataFrame()\n",
    "\n"
   ]
  },
  {
   "cell_type": "code",
   "execution_count": 3,
   "id": "49b30ad7",
   "metadata": {},
   "outputs": [],
   "source": [
    "import os\n",
    "import pandas as pd\n",
    "\n",
    "def coleta_dados(path_base):\n",
    "    dfs = []\n",
    "\n",
    "    for root, dirs, files in os.walk(path_base):\n",
    "        for nome_arquivo in files:\n",
    "            caminho_completo = os.path.join(root, nome_arquivo)\n",
    "            \n",
    "            # Extrai o nome da estação (entre o 4º e 5º underscore)\n",
    "            partes = nome_arquivo.split('_')\n",
    "            if len(partes) >= 5:\n",
    "                nome_estacao = partes[4]\n",
    "                \n",
    "                # Padroniza o nome: \"SANTA MARIA\" → \"Santa Maria\"\n",
    "                nome_estacao = nome_estacao.title()  # Ou .capitalize() para apenas a primeira letra\n",
    "            else:\n",
    "                print(f\"Formato de nome inválido: {nome_arquivo}\")\n",
    "                continue\n",
    "\n",
    "            try:\n",
    "                df = pd.read_csv(\n",
    "                    caminho_completo,\n",
    "                    sep=\";\",\n",
    "                    header=8,\n",
    "                    encoding=\"iso-8859-1\",\n",
    "                    usecols=[0, 2]\n",
    "                )\n",
    "                \n",
    "                # Adiciona a coluna com o nome da estação padronizado\n",
    "                df['Estacao'] = nome_estacao\n",
    "                \n",
    "                dfs.append(df)\n",
    "            except Exception as e:\n",
    "                print(f\"Erro ao ler {caminho_completo}: {e}\")\n",
    "\n",
    "    if dfs:\n",
    "        return pd.concat(dfs, ignore_index=True)\n",
    "    else:\n",
    "        print(\"Nenhum arquivo válido foi encontrado.\")\n",
    "        return pd.DataFrame()"
   ]
  },
  {
   "cell_type": "code",
   "execution_count": 4,
   "id": "c176c59c",
   "metadata": {},
   "outputs": [],
   "source": [
    "df = coleta_dados(path_base)"
   ]
  },
  {
   "cell_type": "code",
   "execution_count": 5,
   "id": "395ddb1b",
   "metadata": {},
   "outputs": [
    {
     "name": "stdout",
     "output_type": "stream",
     "text": [
      "<class 'pandas.core.frame.DataFrame'>\n",
      "RangeIndex: 4024488 entries, 0 to 4024487\n",
      "Data columns (total 3 columns):\n",
      " #   Column                            Dtype \n",
      "---  ------                            ----- \n",
      " 0   DATA (YYYY-MM-DD)                 object\n",
      " 1   PRECIPITAÇÃO TOTAL, HORÁRIO (mm)  object\n",
      " 2   Estacao                           object\n",
      "dtypes: object(3)\n",
      "memory usage: 92.1+ MB\n"
     ]
    }
   ],
   "source": [
    "df.info()"
   ]
  },
  {
   "cell_type": "code",
   "execution_count": 6,
   "id": "3101cb8a",
   "metadata": {},
   "outputs": [
    {
     "data": {
      "text/html": [
       "<div>\n",
       "<style scoped>\n",
       "    .dataframe tbody tr th:only-of-type {\n",
       "        vertical-align: middle;\n",
       "    }\n",
       "\n",
       "    .dataframe tbody tr th {\n",
       "        vertical-align: top;\n",
       "    }\n",
       "\n",
       "    .dataframe thead th {\n",
       "        text-align: right;\n",
       "    }\n",
       "</style>\n",
       "<table border=\"1\" class=\"dataframe\">\n",
       "  <thead>\n",
       "    <tr style=\"text-align: right;\">\n",
       "      <th></th>\n",
       "      <th>DATA (YYYY-MM-DD)</th>\n",
       "      <th>PRECIPITAÇÃO TOTAL, HORÁRIO (mm)</th>\n",
       "      <th>Estacao</th>\n",
       "    </tr>\n",
       "  </thead>\n",
       "  <tbody>\n",
       "    <tr>\n",
       "      <th>0</th>\n",
       "      <td>2000-09-22</td>\n",
       "      <td>-9999</td>\n",
       "      <td>Porto Alegre</td>\n",
       "    </tr>\n",
       "    <tr>\n",
       "      <th>1</th>\n",
       "      <td>2000-09-22</td>\n",
       "      <td>-9999</td>\n",
       "      <td>Porto Alegre</td>\n",
       "    </tr>\n",
       "    <tr>\n",
       "      <th>2</th>\n",
       "      <td>2000-09-22</td>\n",
       "      <td>-9999</td>\n",
       "      <td>Porto Alegre</td>\n",
       "    </tr>\n",
       "    <tr>\n",
       "      <th>3</th>\n",
       "      <td>2000-09-22</td>\n",
       "      <td>-9999</td>\n",
       "      <td>Porto Alegre</td>\n",
       "    </tr>\n",
       "    <tr>\n",
       "      <th>4</th>\n",
       "      <td>2000-09-22</td>\n",
       "      <td>0</td>\n",
       "      <td>Porto Alegre</td>\n",
       "    </tr>\n",
       "  </tbody>\n",
       "</table>\n",
       "</div>"
      ],
      "text/plain": [
       "  DATA (YYYY-MM-DD) PRECIPITAÇÃO TOTAL, HORÁRIO (mm)       Estacao\n",
       "0        2000-09-22                            -9999  Porto Alegre\n",
       "1        2000-09-22                            -9999  Porto Alegre\n",
       "2        2000-09-22                            -9999  Porto Alegre\n",
       "3        2000-09-22                            -9999  Porto Alegre\n",
       "4        2000-09-22                                0  Porto Alegre"
      ]
     },
     "execution_count": 6,
     "metadata": {},
     "output_type": "execute_result"
    }
   ],
   "source": [
    "df.head()"
   ]
  },
  {
   "cell_type": "markdown",
   "id": "a963de09",
   "metadata": {},
   "source": [
    "### De 2019 em frente houve uma mudança no formato da data nas bases do INPE, apliquei a função só para essas datas e fiz a concatenação das bases após aplicar as modificações"
   ]
  },
  {
   "cell_type": "code",
   "execution_count": 7,
   "id": "c51c39f4",
   "metadata": {},
   "outputs": [],
   "source": [
    "path_base = r\"C:\\Users\\DellVostro\\OneDrive\\Documentos\\XP\\Projeto_aplicado\\Enso\\Dados_clima_RS_2019_2024\""
   ]
  },
  {
   "cell_type": "code",
   "execution_count": 8,
   "id": "d409f014",
   "metadata": {},
   "outputs": [],
   "source": [
    "df_2019 = coleta_dados(path_base)"
   ]
  },
  {
   "cell_type": "code",
   "execution_count": 9,
   "id": "d9f216f4",
   "metadata": {},
   "outputs": [],
   "source": [
    "df_2019['Data'] = df_2019['Data'].str.replace(\"/\", \"-\")"
   ]
  },
  {
   "cell_type": "code",
   "execution_count": 10,
   "id": "d08db120",
   "metadata": {},
   "outputs": [],
   "source": [
    "df_2019.rename({\"Data\": \"DATA (YYYY-MM-DD)\"}, axis = 1, inplace = True)"
   ]
  },
  {
   "cell_type": "code",
   "execution_count": 11,
   "id": "6508324b",
   "metadata": {},
   "outputs": [],
   "source": [
    "df = pd.concat([df, df_2019])"
   ]
  },
  {
   "cell_type": "code",
   "execution_count": 12,
   "id": "6603184c",
   "metadata": {},
   "outputs": [],
   "source": [
    "del df_2019"
   ]
  },
  {
   "cell_type": "code",
   "execution_count": 13,
   "id": "5f1839b9",
   "metadata": {},
   "outputs": [],
   "source": [
    "df[\"PRECIPITAÇÃO TOTAL, HORÁRIO (mm)\"] = df[\"PRECIPITAÇÃO TOTAL, HORÁRIO (mm)\"].replace({\"-9999\": \"0\"})"
   ]
  },
  {
   "cell_type": "code",
   "execution_count": 14,
   "id": "50a9294f",
   "metadata": {},
   "outputs": [],
   "source": [
    "df[\"PRECIPITAÇÃO TOTAL, HORÁRIO (mm)\"] = df[\"PRECIPITAÇÃO TOTAL, HORÁRIO (mm)\"].str.replace(\",\", \".\").astype(float)"
   ]
  },
  {
   "cell_type": "code",
   "execution_count": 15,
   "id": "a1d645d8",
   "metadata": {},
   "outputs": [],
   "source": [
    "import numpy as np\n",
    "df[\"PRECIPITAÇÃO TOTAL, HORÁRIO (mm)\"] = np.where(df[\"PRECIPITAÇÃO TOTAL, HORÁRIO (mm)\"] == 0, np.nan, df[\"PRECIPITAÇÃO TOTAL, HORÁRIO (mm)\"])"
   ]
  },
  {
   "cell_type": "code",
   "execution_count": 16,
   "id": "970796cf",
   "metadata": {},
   "outputs": [],
   "source": [
    "df['Ano'] = df['DATA (YYYY-MM-DD)'].str[:4]"
   ]
  },
  {
   "cell_type": "code",
   "execution_count": 17,
   "id": "d4324fe5",
   "metadata": {},
   "outputs": [
    {
     "data": {
      "text/html": [
       "<div>\n",
       "<style scoped>\n",
       "    .dataframe tbody tr th:only-of-type {\n",
       "        vertical-align: middle;\n",
       "    }\n",
       "\n",
       "    .dataframe tbody tr th {\n",
       "        vertical-align: top;\n",
       "    }\n",
       "\n",
       "    .dataframe thead th {\n",
       "        text-align: right;\n",
       "    }\n",
       "</style>\n",
       "<table border=\"1\" class=\"dataframe\">\n",
       "  <thead>\n",
       "    <tr style=\"text-align: right;\">\n",
       "      <th></th>\n",
       "      <th>DATA (YYYY-MM-DD)</th>\n",
       "      <th>PRECIPITAÇÃO TOTAL, HORÁRIO (mm)</th>\n",
       "      <th>Estacao</th>\n",
       "      <th>Ano</th>\n",
       "    </tr>\n",
       "  </thead>\n",
       "  <tbody>\n",
       "    <tr>\n",
       "      <th>0</th>\n",
       "      <td>2000-09-22</td>\n",
       "      <td>NaN</td>\n",
       "      <td>Porto Alegre</td>\n",
       "      <td>2000</td>\n",
       "    </tr>\n",
       "    <tr>\n",
       "      <th>1</th>\n",
       "      <td>2000-09-22</td>\n",
       "      <td>NaN</td>\n",
       "      <td>Porto Alegre</td>\n",
       "      <td>2000</td>\n",
       "    </tr>\n",
       "    <tr>\n",
       "      <th>2</th>\n",
       "      <td>2000-09-22</td>\n",
       "      <td>NaN</td>\n",
       "      <td>Porto Alegre</td>\n",
       "      <td>2000</td>\n",
       "    </tr>\n",
       "    <tr>\n",
       "      <th>3</th>\n",
       "      <td>2000-09-22</td>\n",
       "      <td>NaN</td>\n",
       "      <td>Porto Alegre</td>\n",
       "      <td>2000</td>\n",
       "    </tr>\n",
       "    <tr>\n",
       "      <th>4</th>\n",
       "      <td>2000-09-22</td>\n",
       "      <td>NaN</td>\n",
       "      <td>Porto Alegre</td>\n",
       "      <td>2000</td>\n",
       "    </tr>\n",
       "  </tbody>\n",
       "</table>\n",
       "</div>"
      ],
      "text/plain": [
       "  DATA (YYYY-MM-DD)  PRECIPITAÇÃO TOTAL, HORÁRIO (mm)       Estacao   Ano\n",
       "0        2000-09-22                               NaN  Porto Alegre  2000\n",
       "1        2000-09-22                               NaN  Porto Alegre  2000\n",
       "2        2000-09-22                               NaN  Porto Alegre  2000\n",
       "3        2000-09-22                               NaN  Porto Alegre  2000\n",
       "4        2000-09-22                               NaN  Porto Alegre  2000"
      ]
     },
     "execution_count": 17,
     "metadata": {},
     "output_type": "execute_result"
    }
   ],
   "source": [
    "df.head()"
   ]
  },
  {
   "cell_type": "code",
   "execution_count": 18,
   "id": "6e5c0416",
   "metadata": {},
   "outputs": [],
   "source": [
    "from datetime import datetime\n",
    "df[\"DATA (YYYY-MM-DD)\"] =  pd.to_datetime(df[\"DATA (YYYY-MM-DD)\"])"
   ]
  },
  {
   "cell_type": "markdown",
   "id": "c4f8c7d6",
   "metadata": {},
   "source": [
    "### Filtrando apenas os meses de outrubro a maio, em que ocorre o ciclo da soja no RS"
   ]
  },
  {
   "cell_type": "code",
   "execution_count": 19,
   "id": "d8231036",
   "metadata": {},
   "outputs": [],
   "source": [
    "df_meses = df[df[\"DATA (YYYY-MM-DD)\"].dt.month.isin([9, 10, 11, 12, 1, 2, 3, 4, 5])]"
   ]
  },
  {
   "cell_type": "code",
   "execution_count": 20,
   "id": "3d757983",
   "metadata": {},
   "outputs": [
    {
     "data": {
      "text/plain": [
       "array([ 9, 10, 11, 12,  1,  2,  3,  4,  5])"
      ]
     },
     "execution_count": 20,
     "metadata": {},
     "output_type": "execute_result"
    }
   ],
   "source": [
    "df_meses[\"DATA (YYYY-MM-DD)\"].dt.month.unique()"
   ]
  },
  {
   "cell_type": "markdown",
   "id": "11b0a95e",
   "metadata": {},
   "source": [
    "### agrupando o total de precipitação por ano"
   ]
  },
  {
   "cell_type": "code",
   "execution_count": 21,
   "id": "31985676",
   "metadata": {},
   "outputs": [],
   "source": [
    "df_media = df_meses[df_meses[\"PRECIPITAÇÃO TOTAL, HORÁRIO (mm)\"].notna()].groupby([\"Ano\", \"Estacao\"]).sum(numeric_only= True)"
   ]
  },
  {
   "cell_type": "code",
   "execution_count": 22,
   "id": "33d6ccae",
   "metadata": {},
   "outputs": [],
   "source": [
    "#df_media[\"precipitacao_media\"] = df_media[\"PRECIPITAÇÃO TOTAL, HORÁRIO (mm)\"]/5"
   ]
  },
  {
   "cell_type": "code",
   "execution_count": 23,
   "id": "bc191199",
   "metadata": {},
   "outputs": [],
   "source": [
    "df_media.reset_index(inplace = True)"
   ]
  },
  {
   "cell_type": "markdown",
   "id": "da78433a",
   "metadata": {},
   "source": [
    "### Dados de 2000 e 2001 estão muito fora do padrão e será excluídos"
   ]
  },
  {
   "cell_type": "code",
   "execution_count": 24,
   "id": "4977f5c3",
   "metadata": {},
   "outputs": [],
   "source": [
    "df_media = df_media[(df_media[\"Ano\"] != \"2000\") & (df_media[\"Ano\"] != \"2001\")]"
   ]
  },
  {
   "cell_type": "code",
   "execution_count": 25,
   "id": "32bcd029",
   "metadata": {},
   "outputs": [],
   "source": [
    "df_media.to_csv(\"media_pluviometrica_RS.csv\", sep = \";\", index = False)"
   ]
  },
  {
   "cell_type": "code",
   "execution_count": 26,
   "id": "82eb5100",
   "metadata": {},
   "outputs": [
    {
     "data": {
      "text/html": [
       "<div>\n",
       "<style scoped>\n",
       "    .dataframe tbody tr th:only-of-type {\n",
       "        vertical-align: middle;\n",
       "    }\n",
       "\n",
       "    .dataframe tbody tr th {\n",
       "        vertical-align: top;\n",
       "    }\n",
       "\n",
       "    .dataframe thead th {\n",
       "        text-align: right;\n",
       "    }\n",
       "</style>\n",
       "<table border=\"1\" class=\"dataframe\">\n",
       "  <thead>\n",
       "    <tr style=\"text-align: right;\">\n",
       "      <th></th>\n",
       "      <th>Ano</th>\n",
       "      <th>Estacao</th>\n",
       "      <th>PRECIPITAÇÃO TOTAL, HORÁRIO (mm)</th>\n",
       "    </tr>\n",
       "  </thead>\n",
       "  <tbody>\n",
       "    <tr>\n",
       "      <th>6</th>\n",
       "      <td>2002</td>\n",
       "      <td>Porto Alegre</td>\n",
       "      <td>988.4</td>\n",
       "    </tr>\n",
       "    <tr>\n",
       "      <th>7</th>\n",
       "      <td>2002</td>\n",
       "      <td>Rio Grande</td>\n",
       "      <td>1738.4</td>\n",
       "    </tr>\n",
       "    <tr>\n",
       "      <th>8</th>\n",
       "      <td>2002</td>\n",
       "      <td>Santa Maria</td>\n",
       "      <td>42.0</td>\n",
       "    </tr>\n",
       "    <tr>\n",
       "      <th>9</th>\n",
       "      <td>2002</td>\n",
       "      <td>Santana Do Livramento</td>\n",
       "      <td>1979.8</td>\n",
       "    </tr>\n",
       "    <tr>\n",
       "      <th>10</th>\n",
       "      <td>2002</td>\n",
       "      <td>Santo Augusto</td>\n",
       "      <td>1562.0</td>\n",
       "    </tr>\n",
       "    <tr>\n",
       "      <th>...</th>\n",
       "      <td>...</td>\n",
       "      <td>...</td>\n",
       "      <td>...</td>\n",
       "    </tr>\n",
       "    <tr>\n",
       "      <th>1208</th>\n",
       "      <td>2024</td>\n",
       "      <td>Teutonia</td>\n",
       "      <td>1713.0</td>\n",
       "    </tr>\n",
       "    <tr>\n",
       "      <th>1209</th>\n",
       "      <td>2024</td>\n",
       "      <td>Tramandai</td>\n",
       "      <td>881.0</td>\n",
       "    </tr>\n",
       "    <tr>\n",
       "      <th>1210</th>\n",
       "      <td>2024</td>\n",
       "      <td>Tupancireta</td>\n",
       "      <td>1874.6</td>\n",
       "    </tr>\n",
       "    <tr>\n",
       "      <th>1211</th>\n",
       "      <td>2024</td>\n",
       "      <td>Uruguaiana</td>\n",
       "      <td>1424.6</td>\n",
       "    </tr>\n",
       "    <tr>\n",
       "      <th>1212</th>\n",
       "      <td>2024</td>\n",
       "      <td>Vacaria</td>\n",
       "      <td>1752.4</td>\n",
       "    </tr>\n",
       "  </tbody>\n",
       "</table>\n",
       "<p>1207 rows × 3 columns</p>\n",
       "</div>"
      ],
      "text/plain": [
       "       Ano                Estacao  PRECIPITAÇÃO TOTAL, HORÁRIO (mm)\n",
       "6     2002           Porto Alegre                             988.4\n",
       "7     2002             Rio Grande                            1738.4\n",
       "8     2002            Santa Maria                              42.0\n",
       "9     2002  Santana Do Livramento                            1979.8\n",
       "10    2002          Santo Augusto                            1562.0\n",
       "...    ...                    ...                               ...\n",
       "1208  2024               Teutonia                            1713.0\n",
       "1209  2024              Tramandai                             881.0\n",
       "1210  2024            Tupancireta                            1874.6\n",
       "1211  2024             Uruguaiana                            1424.6\n",
       "1212  2024                Vacaria                            1752.4\n",
       "\n",
       "[1207 rows x 3 columns]"
      ]
     },
     "execution_count": 26,
     "metadata": {},
     "output_type": "execute_result"
    }
   ],
   "source": [
    "df_media"
   ]
  },
  {
   "cell_type": "code",
   "execution_count": null,
   "id": "60caa504",
   "metadata": {},
   "outputs": [],
   "source": []
  }
 ],
 "metadata": {
  "kernelspec": {
   "display_name": "base",
   "language": "python",
   "name": "python3"
  },
  "language_info": {
   "codemirror_mode": {
    "name": "ipython",
    "version": 3
   },
   "file_extension": ".py",
   "mimetype": "text/x-python",
   "name": "python",
   "nbconvert_exporter": "python",
   "pygments_lexer": "ipython3",
   "version": "3.12.7"
  }
 },
 "nbformat": 4,
 "nbformat_minor": 5
}
