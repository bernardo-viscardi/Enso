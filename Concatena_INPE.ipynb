{
 "cells": [
  {
   "cell_type": "code",
   "execution_count": 61,
   "id": "e3b1ba3f",
   "metadata": {},
   "outputs": [],
   "source": [
    "import pandas as pd\n",
    "import os\n",
    "from os import listdir\n",
    "from os.path import isfile, join"
   ]
  },
  {
   "cell_type": "code",
   "execution_count": 22,
   "id": "e5573efe",
   "metadata": {},
   "outputs": [],
   "source": [
    "path_base = r\"C:\\Users\\DellVostro\\OneDrive\\Documentos\\XP\\Projeto_aplicado\\Enso\\Dados_clima_RS\""
   ]
  },
  {
   "cell_type": "code",
   "execution_count": 19,
   "id": "e3c09fe4",
   "metadata": {},
   "outputs": [],
   "source": [
    "def coleta_lista_nomes(path):\n",
    "   arquivos = [f for f in listdir(path) if isfile(join(path, f))] \n",
    "\n",
    "   return arquivos[:5]"
   ]
  },
  {
   "cell_type": "code",
   "execution_count": 20,
   "id": "36e45d58",
   "metadata": {},
   "outputs": [
    {
     "data": {
      "text/plain": [
       "['INMET_S_RS_A801_PORTO ALEGRE_01-01-2001_A_31-12-2001.CSV',\n",
       " 'INMET_S_RS_A802_RIO GRANDE_16-11-2001_A_31-12-2001.CSV',\n",
       " 'INMET_S_RS_A803_SANTA MARIA_26-11-2001_A_31-12-2001.CSV',\n",
       " 'INMET_S_RS_A804_SANTANA DO LIVRAMENTO_22-11-2001_A_31-12-2001.CSV',\n",
       " 'INMET_S_RS_A805_SANTO AUGUSTO_05-12-2001_A_31-12-2001.CSV']"
      ]
     },
     "execution_count": 20,
     "metadata": {},
     "output_type": "execute_result"
    }
   ],
   "source": [
    "coleta_lista_nomes(path)"
   ]
  },
  {
   "cell_type": "code",
   "execution_count": 27,
   "id": "5f07dbfb",
   "metadata": {},
   "outputs": [],
   "source": [
    "df = pd.read_csv(\n",
    "                    caminho_base,\n",
    "                    sep=\";\",\n",
    "                    header=8,\n",
    "                    encoding=\"iso-8859-1\",\n",
    "                    usecols=[0, 2]\n",
    "                )"
   ]
  },
  {
   "cell_type": "code",
   "execution_count": 24,
   "id": "3c2da00f",
   "metadata": {},
   "outputs": [],
   "source": [
    "import os\n",
    "import pandas as pd\n",
    "\n",
    "def coleta_dados(path_base):\n",
    "    dfs = []\n",
    "\n",
    "    for root, dirs, files in os.walk(path_base):\n",
    "        arquivos = [f for f in files if os.path.isfile(os.path.join(root, f))]\n",
    "        primeiros_5 = sorted(arquivos)[:5]  # Ordena e seleciona os cinco primeiros\n",
    "\n",
    "        for nome_arquivo in primeiros_5:\n",
    "            caminho_base = os.path.join(root, nome_arquivo)\n",
    "            try:\n",
    "                df = pd.read_csv(\n",
    "                    caminho_base,\n",
    "                    sep=\";\",\n",
    "                    header=8,\n",
    "                    encoding=\"iso-8859-1\",\n",
    "                    usecols=[0, 2]\n",
    "                )\n",
    "                dfs.append(df)\n",
    "            except Exception as e:\n",
    "                print(f\"Erro ao ler {caminho_base}: {e}\")\n",
    "\n",
    "    if dfs:\n",
    "        return pd.concat(dfs, ignore_index=True)\n",
    "    else:\n",
    "        print(\"Nenhum arquivo válido foi encontrado.\")\n",
    "        return pd.DataFrame()\n",
    "\n"
   ]
  },
  {
   "cell_type": "code",
   "execution_count": 52,
   "id": "c176c59c",
   "metadata": {},
   "outputs": [],
   "source": [
    "df = coleta_dados(path_base)"
   ]
  },
  {
   "cell_type": "code",
   "execution_count": 54,
   "id": "395ddb1b",
   "metadata": {},
   "outputs": [
    {
     "name": "stdout",
     "output_type": "stream",
     "text": [
      "<class 'pandas.core.frame.DataFrame'>\n",
      "RangeIndex: 976536 entries, 0 to 976535\n",
      "Data columns (total 3 columns):\n",
      " #   Column                            Non-Null Count   Dtype \n",
      "---  ------                            --------------   ----- \n",
      " 0   DATA (YYYY-MM-DD)                 757416 non-null  object\n",
      " 1   PRECIPITAÇÃO TOTAL, HORÁRIO (mm)  968492 non-null  object\n",
      " 2   Data                              219120 non-null  object\n",
      "dtypes: object(3)\n",
      "memory usage: 22.4+ MB\n"
     ]
    }
   ],
   "source": [
    "df.info()"
   ]
  },
  {
   "cell_type": "code",
   "execution_count": 56,
   "id": "5f1839b9",
   "metadata": {},
   "outputs": [
    {
     "name": "stderr",
     "output_type": "stream",
     "text": [
      "C:\\Users\\DellVostro\\AppData\\Local\\Temp\\ipykernel_14720\\547132121.py:1: FutureWarning: A value is trying to be set on a copy of a DataFrame or Series through chained assignment using an inplace method.\n",
      "The behavior will change in pandas 3.0. This inplace method will never work because the intermediate object on which we are setting values always behaves as a copy.\n",
      "\n",
      "For example, when doing 'df[col].method(value, inplace=True)', try using 'df.method({col: value}, inplace=True)' or df[col] = df[col].method(value) instead, to perform the operation inplace on the original object.\n",
      "\n",
      "\n",
      "  df[\"PRECIPITAÇÃO TOTAL, HORÁRIO (mm)\"].replace({\"-9999\": \"0\"}, inplace = True)\n"
     ]
    }
   ],
   "source": [
    "df[\"PRECIPITAÇÃO TOTAL, HORÁRIO (mm)\"].replace({\"-9999\": \"0\"}, inplace = True)"
   ]
  },
  {
   "cell_type": "code",
   "execution_count": 57,
   "id": "50a9294f",
   "metadata": {},
   "outputs": [],
   "source": [
    "df[\"PRECIPITAÇÃO TOTAL, HORÁRIO (mm)\"] = df[\"PRECIPITAÇÃO TOTAL, HORÁRIO (mm)\"].str.replace(\",\", \".\").astype(float)"
   ]
  },
  {
   "cell_type": "code",
   "execution_count": 58,
   "id": "970796cf",
   "metadata": {},
   "outputs": [],
   "source": [
    "df['Ano'] = df['DATA (YYYY-MM-DD)'].str[:4]"
   ]
  },
  {
   "cell_type": "code",
   "execution_count": 60,
   "id": "3ad3a3d6",
   "metadata": {},
   "outputs": [],
   "source": [
    "from datetime import datetime"
   ]
  },
  {
   "cell_type": "code",
   "execution_count": 62,
   "id": "6e5c0416",
   "metadata": {},
   "outputs": [],
   "source": [
    "df[\"DATA (YYYY-MM-DD)\"] =  pd.to_datetime(df[\"DATA (YYYY-MM-DD)\"])"
   ]
  },
  {
   "cell_type": "code",
   "execution_count": 66,
   "id": "d8231036",
   "metadata": {},
   "outputs": [
    {
     "data": {
      "text/plain": [
       "array(['2001', '2002', '2003', '2004', '2005', '2006', '2007', '2008',\n",
       "       '2009', '2010', '2011', '2012', '2013', '2014', '2015', '2016',\n",
       "       '2017', '2018', nan], dtype=object)"
      ]
     },
     "execution_count": 66,
     "metadata": {},
     "output_type": "execute_result"
    }
   ],
   "source": [
    "df[\"Ano\"].unique()"
   ]
  },
  {
   "cell_type": "code",
   "execution_count": 63,
   "id": "31985676",
   "metadata": {},
   "outputs": [
    {
     "data": {
      "text/plain": [
       "0        2001-01-01\n",
       "1        2001-01-01\n",
       "2        2001-01-01\n",
       "3        2001-01-01\n",
       "4        2001-01-01\n",
       "            ...    \n",
       "976531          NaT\n",
       "976532          NaT\n",
       "976533          NaT\n",
       "976534          NaT\n",
       "976535          NaT\n",
       "Name: DATA (YYYY-MM-DD), Length: 976536, dtype: datetime64[ns]"
      ]
     },
     "execution_count": 63,
     "metadata": {},
     "output_type": "execute_result"
    }
   ],
   "source": [
    "df[\"DATA (YYYY-MM-DD)\"]"
   ]
  },
  {
   "cell_type": "code",
   "execution_count": null,
   "id": "33d6ccae",
   "metadata": {},
   "outputs": [],
   "source": []
  }
 ],
 "metadata": {
  "kernelspec": {
   "display_name": "base",
   "language": "python",
   "name": "python3"
  },
  "language_info": {
   "codemirror_mode": {
    "name": "ipython",
    "version": 3
   },
   "file_extension": ".py",
   "mimetype": "text/x-python",
   "name": "python",
   "nbconvert_exporter": "python",
   "pygments_lexer": "ipython3",
   "version": "3.12.7"
  }
 },
 "nbformat": 4,
 "nbformat_minor": 5
}
