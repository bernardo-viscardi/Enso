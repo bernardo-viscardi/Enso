{
 "cells": [
  {
   "cell_type": "code",
   "execution_count": 1,
   "id": "b8463c03-1dce-43df-842b-6be4299b5014",
   "metadata": {},
   "outputs": [],
   "source": [
    "import pandas as pd\n",
    "import numpy as np\n",
    "import requests\n",
    "import pprint\n",
    "import sidrapy\n",
    "import warnings \n",
    "warnings.simplefilter(\"ignore\")\n",
    "from unidecode import unidecode"
   ]
  },
  {
   "cell_type": "code",
   "execution_count": 2,
   "id": "e1d6f1f6",
   "metadata": {},
   "outputs": [],
   "source": [
    "df = pd.read_excel(\"Tabela 1612.xlsx\")"
   ]
  },
  {
   "cell_type": "code",
   "execution_count": 3,
   "id": "f77564b6",
   "metadata": {},
   "outputs": [],
   "source": [
    "df[\"Município\"] = df[\"Município\"].str[:-5]"
   ]
  },
  {
   "cell_type": "code",
   "execution_count": 4,
   "id": "1d2d51a8",
   "metadata": {},
   "outputs": [],
   "source": [
    "df[\"Município\"] = df[\"Município\"].fillna(method = 'ffill')"
   ]
  },
  {
   "cell_type": "code",
   "execution_count": null,
   "id": "fbc3bcb7",
   "metadata": {},
   "outputs": [],
   "source": [
    "df[\"Município\"] = df[\"Município\"].apply(lambda x: unidecode(x).lower().title())"
   ]
  },
  {
   "cell_type": "code",
   "execution_count": 6,
   "id": "32434c21",
   "metadata": {},
   "outputs": [],
   "source": [
    "df = df.replace(\"-\", np.nan)\n",
    "df = df.replace(\"X\", np.nan)\n",
    "df = df.replace(\"...\", np.nan)\n",
    "df = df.replace(\"..\", np.nan)"
   ]
  },
  {
   "cell_type": "code",
   "execution_count": 7,
   "id": "bc47243f",
   "metadata": {},
   "outputs": [
    {
     "data": {
      "text/plain": [
       "10935"
      ]
     },
     "execution_count": 7,
     "metadata": {},
     "output_type": "execute_result"
    }
   ],
   "source": [
    "df.shape[0]"
   ]
  },
  {
   "cell_type": "code",
   "execution_count": 8,
   "id": "104caca2",
   "metadata": {},
   "outputs": [],
   "source": [
    "df = df[df['Rendimento médio da produção (Quilogramas por Hectare)'].notna()]"
   ]
  },
  {
   "cell_type": "code",
   "execution_count": 9,
   "id": "3d5b47dd",
   "metadata": {},
   "outputs": [
    {
     "data": {
      "text/html": [
       "<div>\n",
       "<style scoped>\n",
       "    .dataframe tbody tr th:only-of-type {\n",
       "        vertical-align: middle;\n",
       "    }\n",
       "\n",
       "    .dataframe tbody tr th {\n",
       "        vertical-align: top;\n",
       "    }\n",
       "\n",
       "    .dataframe thead th {\n",
       "        text-align: right;\n",
       "    }\n",
       "</style>\n",
       "<table border=\"1\" class=\"dataframe\">\n",
       "  <thead>\n",
       "    <tr style=\"text-align: right;\">\n",
       "      <th></th>\n",
       "      <th>Ano</th>\n",
       "      <th>Área plantada (Hectares)</th>\n",
       "      <th>Área colhida (Hectares)</th>\n",
       "      <th>Quantidade produzida (Toneladas)</th>\n",
       "      <th>Rendimento médio da produção (Quilogramas por Hectare)</th>\n",
       "      <th>Valor da produção (Mil Reais)</th>\n",
       "    </tr>\n",
       "    <tr>\n",
       "      <th>Município</th>\n",
       "      <th></th>\n",
       "      <th></th>\n",
       "      <th></th>\n",
       "      <th></th>\n",
       "      <th></th>\n",
       "      <th></th>\n",
       "    </tr>\n",
       "  </thead>\n",
       "  <tbody>\n",
       "    <tr>\n",
       "      <th>Tupancireta</th>\n",
       "      <td>44275.0</td>\n",
       "      <td>3030518.0</td>\n",
       "      <td>3028318.0</td>\n",
       "      <td>7415324.0</td>\n",
       "      <td>53411.0</td>\n",
       "      <td>7980437.0</td>\n",
       "    </tr>\n",
       "    <tr>\n",
       "      <th>Palmeira Das Missoes</th>\n",
       "      <td>44275.0</td>\n",
       "      <td>2090400.0</td>\n",
       "      <td>2090400.0</td>\n",
       "      <td>5420846.0</td>\n",
       "      <td>57120.0</td>\n",
       "      <td>5919752.0</td>\n",
       "    </tr>\n",
       "    <tr>\n",
       "      <th>Cruz Alta</th>\n",
       "      <td>44275.0</td>\n",
       "      <td>1907100.0</td>\n",
       "      <td>1903630.0</td>\n",
       "      <td>4855859.0</td>\n",
       "      <td>55594.0</td>\n",
       "      <td>5353706.0</td>\n",
       "    </tr>\n",
       "    <tr>\n",
       "      <th>Julio De Castilhos</th>\n",
       "      <td>44275.0</td>\n",
       "      <td>1830900.0</td>\n",
       "      <td>1830700.0</td>\n",
       "      <td>4592080.0</td>\n",
       "      <td>54611.0</td>\n",
       "      <td>5316596.0</td>\n",
       "    </tr>\n",
       "    <tr>\n",
       "      <th>Cachoeira Do Sul</th>\n",
       "      <td>44275.0</td>\n",
       "      <td>1907912.0</td>\n",
       "      <td>1903062.0</td>\n",
       "      <td>4382068.0</td>\n",
       "      <td>48339.0</td>\n",
       "      <td>4958090.0</td>\n",
       "    </tr>\n",
       "    <tr>\n",
       "      <th>...</th>\n",
       "      <td>...</td>\n",
       "      <td>...</td>\n",
       "      <td>...</td>\n",
       "      <td>...</td>\n",
       "      <td>...</td>\n",
       "      <td>...</td>\n",
       "    </tr>\n",
       "    <tr>\n",
       "      <th>Santa Tereza</th>\n",
       "      <td>8014.0</td>\n",
       "      <td>15.0</td>\n",
       "      <td>15.0</td>\n",
       "      <td>19.0</td>\n",
       "      <td>5133.0</td>\n",
       "      <td>10.0</td>\n",
       "    </tr>\n",
       "    <tr>\n",
       "      <th>Picada Cafe</th>\n",
       "      <td>16124.0</td>\n",
       "      <td>8.0</td>\n",
       "      <td>8.0</td>\n",
       "      <td>16.0</td>\n",
       "      <td>16000.0</td>\n",
       "      <td>17.0</td>\n",
       "    </tr>\n",
       "    <tr>\n",
       "      <th>Harmonia</th>\n",
       "      <td>6009.0</td>\n",
       "      <td>9.0</td>\n",
       "      <td>9.0</td>\n",
       "      <td>12.0</td>\n",
       "      <td>3999.0</td>\n",
       "      <td>8.0</td>\n",
       "    </tr>\n",
       "    <tr>\n",
       "      <th>Canudos Do Vale</th>\n",
       "      <td>6024.0</td>\n",
       "      <td>8.0</td>\n",
       "      <td>8.0</td>\n",
       "      <td>8.0</td>\n",
       "      <td>3250.0</td>\n",
       "      <td>7.0</td>\n",
       "    </tr>\n",
       "    <tr>\n",
       "      <th>Linha Nova</th>\n",
       "      <td>2002.0</td>\n",
       "      <td>2.0</td>\n",
       "      <td>2.0</td>\n",
       "      <td>3.0</td>\n",
       "      <td>1500.0</td>\n",
       "      <td>1.0</td>\n",
       "    </tr>\n",
       "  </tbody>\n",
       "</table>\n",
       "<p>451 rows × 6 columns</p>\n",
       "</div>"
      ],
      "text/plain": [
       "                          Ano  Área plantada (Hectares)  \\\n",
       "Município                                                 \n",
       "Tupancireta           44275.0                 3030518.0   \n",
       "Palmeira Das Missoes  44275.0                 2090400.0   \n",
       "Cruz Alta             44275.0                 1907100.0   \n",
       "Julio De Castilhos    44275.0                 1830900.0   \n",
       "Cachoeira Do Sul      44275.0                 1907912.0   \n",
       "...                       ...                       ...   \n",
       "Santa Tereza           8014.0                      15.0   \n",
       "Picada Cafe           16124.0                       8.0   \n",
       "Harmonia               6009.0                       9.0   \n",
       "Canudos Do Vale        6024.0                       8.0   \n",
       "Linha Nova             2002.0                       2.0   \n",
       "\n",
       "                      Área colhida (Hectares)  \\\n",
       "Município                                       \n",
       "Tupancireta                         3028318.0   \n",
       "Palmeira Das Missoes                2090400.0   \n",
       "Cruz Alta                           1903630.0   \n",
       "Julio De Castilhos                  1830700.0   \n",
       "Cachoeira Do Sul                    1903062.0   \n",
       "...                                       ...   \n",
       "Santa Tereza                             15.0   \n",
       "Picada Cafe                               8.0   \n",
       "Harmonia                                  9.0   \n",
       "Canudos Do Vale                           8.0   \n",
       "Linha Nova                                2.0   \n",
       "\n",
       "                      Quantidade produzida (Toneladas)  \\\n",
       "Município                                                \n",
       "Tupancireta                                  7415324.0   \n",
       "Palmeira Das Missoes                         5420846.0   \n",
       "Cruz Alta                                    4855859.0   \n",
       "Julio De Castilhos                           4592080.0   \n",
       "Cachoeira Do Sul                             4382068.0   \n",
       "...                                                ...   \n",
       "Santa Tereza                                      19.0   \n",
       "Picada Cafe                                       16.0   \n",
       "Harmonia                                          12.0   \n",
       "Canudos Do Vale                                    8.0   \n",
       "Linha Nova                                         3.0   \n",
       "\n",
       "                      Rendimento médio da produção (Quilogramas por Hectare)  \\\n",
       "Município                                                                      \n",
       "Tupancireta                                                     53411.0        \n",
       "Palmeira Das Missoes                                            57120.0        \n",
       "Cruz Alta                                                       55594.0        \n",
       "Julio De Castilhos                                              54611.0        \n",
       "Cachoeira Do Sul                                                48339.0        \n",
       "...                                                                 ...        \n",
       "Santa Tereza                                                     5133.0        \n",
       "Picada Cafe                                                     16000.0        \n",
       "Harmonia                                                         3999.0        \n",
       "Canudos Do Vale                                                  3250.0        \n",
       "Linha Nova                                                       1500.0        \n",
       "\n",
       "                      Valor da produção (Mil Reais)  \n",
       "Município                                            \n",
       "Tupancireta                               7980437.0  \n",
       "Palmeira Das Missoes                      5919752.0  \n",
       "Cruz Alta                                 5353706.0  \n",
       "Julio De Castilhos                        5316596.0  \n",
       "Cachoeira Do Sul                          4958090.0  \n",
       "...                                             ...  \n",
       "Santa Tereza                                   10.0  \n",
       "Picada Cafe                                    17.0  \n",
       "Harmonia                                        8.0  \n",
       "Canudos Do Vale                                 7.0  \n",
       "Linha Nova                                      1.0  \n",
       "\n",
       "[451 rows x 6 columns]"
      ]
     },
     "execution_count": 9,
     "metadata": {},
     "output_type": "execute_result"
    }
   ],
   "source": [
    "df.groupby(\"Município\").sum(numeric_only=True).sort_values(by = 'Quantidade produzida (Toneladas)', ascending = False)"
   ]
  },
  {
   "cell_type": "code",
   "execution_count": 10,
   "id": "6c8f52e5",
   "metadata": {},
   "outputs": [],
   "source": [
    "df.rename({\n",
    "    'Área plantada (Hectares)': 'area_plantada(ha)',\n",
    "    'Área colhida (Hectares)': 'area_colhida(ha)',\n",
    "    'Quantidade produzida (Toneladas)': 'producao(t)',\n",
    "    'Rendimento médio da produção (Quilogramas por Hectare)': 'produtividade(kg/ha)',\n",
    "    'Valor da produção (Mil Reais)':  'valor_mil(R$)'\n",
    "}, axis = 1, inplace = True)"
   ]
  },
  {
   "cell_type": "markdown",
   "id": "a75b72c6",
   "metadata": {},
   "source": [
    "Calcular a diferença entre áreas plantadas e colhidas"
   ]
  },
  {
   "cell_type": "code",
   "execution_count": 11,
   "id": "e811777a",
   "metadata": {},
   "outputs": [],
   "source": [
    "df[\"delta_area\"] = df['area_plantada(ha)'] - df['area_colhida(ha)']"
   ]
  },
  {
   "cell_type": "markdown",
   "id": "9855d5c9",
   "metadata": {},
   "source": [
    "Calcular o valor médio da saca de soja"
   ]
  },
  {
   "cell_type": "code",
   "execution_count": 12,
   "id": "92f07abd",
   "metadata": {},
   "outputs": [],
   "source": [
    "df['valor_saca'] = (df['valor_mil(R$)'] / ((df['producao(t)'] / 60))).round(2)"
   ]
  },
  {
   "cell_type": "code",
   "execution_count": 13,
   "id": "6653d554",
   "metadata": {},
   "outputs": [
    {
     "data": {
      "text/html": [
       "<div>\n",
       "<style scoped>\n",
       "    .dataframe tbody tr th:only-of-type {\n",
       "        vertical-align: middle;\n",
       "    }\n",
       "\n",
       "    .dataframe tbody tr th {\n",
       "        vertical-align: top;\n",
       "    }\n",
       "\n",
       "    .dataframe thead th {\n",
       "        text-align: right;\n",
       "    }\n",
       "</style>\n",
       "<table border=\"1\" class=\"dataframe\">\n",
       "  <thead>\n",
       "    <tr style=\"text-align: right;\">\n",
       "      <th></th>\n",
       "      <th>Município</th>\n",
       "      <th>Ano</th>\n",
       "      <th>area_plantada(ha)</th>\n",
       "      <th>area_colhida(ha)</th>\n",
       "      <th>producao(t)</th>\n",
       "      <th>produtividade(kg/ha)</th>\n",
       "      <th>valor_mil(R$)</th>\n",
       "      <th>delta_area</th>\n",
       "      <th>valor_saca</th>\n",
       "    </tr>\n",
       "  </thead>\n",
       "  <tbody>\n",
       "    <tr>\n",
       "      <th>0</th>\n",
       "      <td>Acegua</td>\n",
       "      <td>2002.0</td>\n",
       "      <td>100.0</td>\n",
       "      <td>100.0</td>\n",
       "      <td>126.0</td>\n",
       "      <td>1260.0</td>\n",
       "      <td>55.0</td>\n",
       "      <td>0.0</td>\n",
       "      <td>26.19</td>\n",
       "    </tr>\n",
       "    <tr>\n",
       "      <th>1</th>\n",
       "      <td>Acegua</td>\n",
       "      <td>2003.0</td>\n",
       "      <td>750.0</td>\n",
       "      <td>750.0</td>\n",
       "      <td>945.0</td>\n",
       "      <td>1260.0</td>\n",
       "      <td>624.0</td>\n",
       "      <td>0.0</td>\n",
       "      <td>39.62</td>\n",
       "    </tr>\n",
       "    <tr>\n",
       "      <th>2</th>\n",
       "      <td>Acegua</td>\n",
       "      <td>2004.0</td>\n",
       "      <td>750.0</td>\n",
       "      <td>750.0</td>\n",
       "      <td>945.0</td>\n",
       "      <td>1260.0</td>\n",
       "      <td>650.0</td>\n",
       "      <td>0.0</td>\n",
       "      <td>41.27</td>\n",
       "    </tr>\n",
       "    <tr>\n",
       "      <th>3</th>\n",
       "      <td>Acegua</td>\n",
       "      <td>2005.0</td>\n",
       "      <td>2000.0</td>\n",
       "      <td>2000.0</td>\n",
       "      <td>480.0</td>\n",
       "      <td>240.0</td>\n",
       "      <td>204.0</td>\n",
       "      <td>0.0</td>\n",
       "      <td>25.50</td>\n",
       "    </tr>\n",
       "    <tr>\n",
       "      <th>4</th>\n",
       "      <td>Acegua</td>\n",
       "      <td>2006.0</td>\n",
       "      <td>2000.0</td>\n",
       "      <td>2000.0</td>\n",
       "      <td>2400.0</td>\n",
       "      <td>1200.0</td>\n",
       "      <td>920.0</td>\n",
       "      <td>0.0</td>\n",
       "      <td>23.00</td>\n",
       "    </tr>\n",
       "  </tbody>\n",
       "</table>\n",
       "</div>"
      ],
      "text/plain": [
       "  Município     Ano  area_plantada(ha)  area_colhida(ha)  producao(t)  \\\n",
       "0    Acegua  2002.0              100.0             100.0        126.0   \n",
       "1    Acegua  2003.0              750.0             750.0        945.0   \n",
       "2    Acegua  2004.0              750.0             750.0        945.0   \n",
       "3    Acegua  2005.0             2000.0            2000.0        480.0   \n",
       "4    Acegua  2006.0             2000.0            2000.0       2400.0   \n",
       "\n",
       "   produtividade(kg/ha)  valor_mil(R$)  delta_area  valor_saca  \n",
       "0                1260.0           55.0         0.0       26.19  \n",
       "1                1260.0          624.0         0.0       39.62  \n",
       "2                1260.0          650.0         0.0       41.27  \n",
       "3                 240.0          204.0         0.0       25.50  \n",
       "4                1200.0          920.0         0.0       23.00  "
      ]
     },
     "execution_count": 13,
     "metadata": {},
     "output_type": "execute_result"
    }
   ],
   "source": [
    "df.head()"
   ]
  },
  {
   "cell_type": "code",
   "execution_count": 14,
   "id": "9ee7b74b",
   "metadata": {},
   "outputs": [],
   "source": [
    "mer = df[['Município', 'Ano', 'area_plantada(ha)',\n",
    "       'area_colhida(ha)', 'delta_area', 'producao(t)', 'produtividade(kg/ha)', 'valor_mil(R$)', 'valor_saca']]"
   ]
  },
  {
   "cell_type": "code",
   "execution_count": 15,
   "id": "ddc29717",
   "metadata": {},
   "outputs": [],
   "source": [
    "mer.to_csv(\"soja_IBGE_RS_munic.csv\")"
   ]
  },
  {
   "cell_type": "code",
   "execution_count": 161,
   "id": "ebb55869",
   "metadata": {},
   "outputs": [],
   "source": [
    "mer = pd.read_csv(\"soja_IBGE_RS_munic.csv\")"
   ]
  },
  {
   "cell_type": "code",
   "execution_count": 162,
   "id": "6563cb8e",
   "metadata": {},
   "outputs": [],
   "source": [
    "mer[\"var_produtividade\"] = mer[\"produtividade(kg/ha)\"].diff()\n",
    "mer[\"var_produtividade_%\"] = mer[\"produtividade(kg/ha)\"].pct_change()\n",
    "mer[\"var_producao(t)\"] = mer[\"produtividade(kg/ha)\"].diff()\n",
    "mer[\"var_producao(t)_%\"] = mer[\"produtividade(kg/ha)\"].pct_change()"
   ]
  },
  {
   "cell_type": "markdown",
   "id": "a0972abb",
   "metadata": {},
   "source": [
    "# Importar as variáveis climátivas"
   ]
  },
  {
   "cell_type": "markdown",
   "id": "4d997b3c",
   "metadata": {},
   "source": [
    "# Upload do histórico da variação da temperatura média da superfícia do Oceano Pacífico"
   ]
  },
  {
   "cell_type": "markdown",
   "id": "e8e9fb09",
   "metadata": {},
   "source": [
    "Os eventos de El Nino e La nina ocorrem quando há 5 ocorrências de temperaturas 0,5 acima (El Niño) ou abaixo (La Niña) do padrão. Os dados disponíveis nesse dataset"
   ]
  },
  {
   "cell_type": "markdown",
   "id": "48cbe0b4",
   "metadata": {},
   "source": [
    "Estudos mostraram que uma condição necessária para o desenvolvimento e persistência da convecção profunda (aumento da nebulosidade e da precipitação) nos Trópicos é que a temperatura da superfície do mar (SST) local seja de 28 °C ou superior. Uma vez que o padrão de convecção profunda é alterado devido a SSTs anômalas, a circulação atmosférica tropical e subtropical se ajusta ao novo padrão de aquecimento tropical, resultando em padrões anômalos de precipitação e temperatura que se estendem muito além da região do Pacífico equatorial. Uma anomalia de SST de +0,5 °C na região do Niño 3.4 é suficiente para atingir esse limite entre o final de março e meados de junho. Durante o restante do ano, uma anomalia de SST maior, chegando a +1,5 °C nos meses de novembro, dezembro e janeiro, é necessária para atingir o limiar que sustenta a convecção profunda persistente nessa região."
   ]
  },
  {
   "cell_type": "code",
   "execution_count": 163,
   "id": "436b62e7",
   "metadata": {},
   "outputs": [],
   "source": [
    "enso = pd.read_excel(\"Temp_media_2010_2025.xlsx\")"
   ]
  },
  {
   "cell_type": "markdown",
   "id": "a425bbc7",
   "metadata": {},
   "source": [
    "### Aplicando os ajustes para fazer a fusão entre as bases do IBGE e do NOOA"
   ]
  },
  {
   "cell_type": "code",
   "execution_count": 164,
   "id": "af1a3beb",
   "metadata": {},
   "outputs": [],
   "source": [
    "enso.rename(columns = {\"Year\": \"Ano\"}, inplace = True)"
   ]
  },
  {
   "cell_type": "code",
   "execution_count": 165,
   "id": "9ba8c4a7",
   "metadata": {},
   "outputs": [],
   "source": [
    "mer = mer[mer['Ano'].notna()]"
   ]
  },
  {
   "cell_type": "code",
   "execution_count": 166,
   "id": "6c8ef545",
   "metadata": {},
   "outputs": [],
   "source": [
    "mer[\"Ano\"] = mer[\"Ano\"].astype(int)"
   ]
  },
  {
   "cell_type": "code",
   "execution_count": 167,
   "id": "1cf633e1",
   "metadata": {},
   "outputs": [],
   "source": [
    "mer = mer.merge(enso[[\"Ano\", 'Media_mar_jun', 'Dez', 'Media_semestre_1',\n",
    "       'Media_semestre_2','Evento_mar_jun', 'Evento_nov_dez_jan']], on = \"Ano\", how = \"inner\")"
   ]
  },
  {
   "cell_type": "code",
   "execution_count": 168,
   "id": "41f372ca",
   "metadata": {},
   "outputs": [
    {
     "data": {
      "text/plain": [
       "\" \\nfrom sklearn.preprocessing import LabelEncoder\\n\\nle = LabelEncoder()\\n\\nmer['Evento_mar_jun_num'] = le.fit_transform(mer['Evento_mar_jun'])\\nmer['Evento_nov_dez_jan_num'] = le.fit_transform(mer['Evento_nov_dez_jan'])\\n\""
      ]
     },
     "execution_count": 168,
     "metadata": {},
     "output_type": "execute_result"
    }
   ],
   "source": [
    "\"\"\" \n",
    "from sklearn.preprocessing import LabelEncoder\n",
    "\n",
    "le = LabelEncoder()\n",
    "\n",
    "mer['Evento_mar_jun_num'] = le.fit_transform(mer['Evento_mar_jun'])\n",
    "mer['Evento_nov_dez_jan_num'] = le.fit_transform(mer['Evento_nov_dez_jan'])\n",
    "\"\"\""
   ]
  },
  {
   "cell_type": "code",
   "execution_count": 169,
   "id": "93f79e2b",
   "metadata": {},
   "outputs": [
    {
     "data": {
      "text/html": [
       "<div>\n",
       "<style scoped>\n",
       "    .dataframe tbody tr th:only-of-type {\n",
       "        vertical-align: middle;\n",
       "    }\n",
       "\n",
       "    .dataframe tbody tr th {\n",
       "        vertical-align: top;\n",
       "    }\n",
       "\n",
       "    .dataframe thead th {\n",
       "        text-align: right;\n",
       "    }\n",
       "</style>\n",
       "<table border=\"1\" class=\"dataframe\">\n",
       "  <thead>\n",
       "    <tr style=\"text-align: right;\">\n",
       "      <th></th>\n",
       "      <th>Unnamed: 0</th>\n",
       "      <th>Ano</th>\n",
       "      <th>area_plantada(ha)</th>\n",
       "      <th>area_colhida(ha)</th>\n",
       "      <th>delta_area</th>\n",
       "      <th>producao(t)</th>\n",
       "      <th>produtividade(kg/ha)</th>\n",
       "      <th>valor_mil(R$)</th>\n",
       "      <th>valor_saca</th>\n",
       "      <th>var_produtividade</th>\n",
       "      <th>var_produtividade_%</th>\n",
       "      <th>var_producao(t)</th>\n",
       "      <th>var_producao(t)_%</th>\n",
       "      <th>Media_mar_jun</th>\n",
       "      <th>Dez</th>\n",
       "      <th>Media_semestre_1</th>\n",
       "      <th>Media_semestre_2</th>\n",
       "    </tr>\n",
       "    <tr>\n",
       "      <th>Evento_mar_jun</th>\n",
       "      <th></th>\n",
       "      <th></th>\n",
       "      <th></th>\n",
       "      <th></th>\n",
       "      <th></th>\n",
       "      <th></th>\n",
       "      <th></th>\n",
       "      <th></th>\n",
       "      <th></th>\n",
       "      <th></th>\n",
       "      <th></th>\n",
       "      <th></th>\n",
       "      <th></th>\n",
       "      <th></th>\n",
       "      <th></th>\n",
       "      <th></th>\n",
       "      <th></th>\n",
       "    </tr>\n",
       "  </thead>\n",
       "  <tbody>\n",
       "    <tr>\n",
       "      <th>El nino</th>\n",
       "      <td>6886721</td>\n",
       "      <td>2524891</td>\n",
       "      <td>16571436.0</td>\n",
       "      <td>16518088.0</td>\n",
       "      <td>53348.0</td>\n",
       "      <td>50408275.0</td>\n",
       "      <td>3838257.0</td>\n",
       "      <td>55072812.0</td>\n",
       "      <td>81958.67</td>\n",
       "      <td>179013.0</td>\n",
       "      <td>88.684052</td>\n",
       "      <td>179013.0</td>\n",
       "      <td>88.684052</td>\n",
       "      <td>885.625</td>\n",
       "      <td>1036.8</td>\n",
       "      <td>1076.350000</td>\n",
       "      <td>800.783333</td>\n",
       "    </tr>\n",
       "    <tr>\n",
       "      <th>La nina</th>\n",
       "      <td>8961488</td>\n",
       "      <td>3313868</td>\n",
       "      <td>20375104.0</td>\n",
       "      <td>20201450.0</td>\n",
       "      <td>173654.0</td>\n",
       "      <td>49188327.0</td>\n",
       "      <td>4019356.0</td>\n",
       "      <td>97313867.0</td>\n",
       "      <td>180991.11</td>\n",
       "      <td>-177035.0</td>\n",
       "      <td>209.514647</td>\n",
       "      <td>-177035.0</td>\n",
       "      <td>209.514647</td>\n",
       "      <td>-1306.125</td>\n",
       "      <td>-1439.7</td>\n",
       "      <td>-1516.433333</td>\n",
       "      <td>-1191.516667</td>\n",
       "    </tr>\n",
       "    <tr>\n",
       "      <th>Neutro</th>\n",
       "      <td>33088154</td>\n",
       "      <td>12177220</td>\n",
       "      <td>68542657.0</td>\n",
       "      <td>67859270.0</td>\n",
       "      <td>683387.0</td>\n",
       "      <td>151197411.0</td>\n",
       "      <td>13206560.0</td>\n",
       "      <td>148061893.0</td>\n",
       "      <td>323924.10</td>\n",
       "      <td>362.0</td>\n",
       "      <td>1525.113009</td>\n",
       "      <td>362.0</td>\n",
       "      <td>1525.113009</td>\n",
       "      <td>-87.100</td>\n",
       "      <td>627.4</td>\n",
       "      <td>-216.700000</td>\n",
       "      <td>667.916667</td>\n",
       "    </tr>\n",
       "  </tbody>\n",
       "</table>\n",
       "</div>"
      ],
      "text/plain": [
       "                Unnamed: 0       Ano  area_plantada(ha)  area_colhida(ha)  \\\n",
       "Evento_mar_jun                                                              \n",
       "El nino            6886721   2524891         16571436.0        16518088.0   \n",
       "La nina            8961488   3313868         20375104.0        20201450.0   \n",
       "Neutro            33088154  12177220         68542657.0        67859270.0   \n",
       "\n",
       "                delta_area  producao(t)  produtividade(kg/ha)  valor_mil(R$)  \\\n",
       "Evento_mar_jun                                                                 \n",
       "El nino            53348.0   50408275.0             3838257.0     55072812.0   \n",
       "La nina           173654.0   49188327.0             4019356.0     97313867.0   \n",
       "Neutro            683387.0  151197411.0            13206560.0    148061893.0   \n",
       "\n",
       "                valor_saca  var_produtividade  var_produtividade_%  \\\n",
       "Evento_mar_jun                                                       \n",
       "El nino           81958.67           179013.0            88.684052   \n",
       "La nina          180991.11          -177035.0           209.514647   \n",
       "Neutro           323924.10              362.0          1525.113009   \n",
       "\n",
       "                var_producao(t)  var_producao(t)_%  Media_mar_jun     Dez  \\\n",
       "Evento_mar_jun                                                              \n",
       "El nino                179013.0          88.684052        885.625  1036.8   \n",
       "La nina               -177035.0         209.514647      -1306.125 -1439.7   \n",
       "Neutro                    362.0        1525.113009        -87.100   627.4   \n",
       "\n",
       "                Media_semestre_1  Media_semestre_2  \n",
       "Evento_mar_jun                                      \n",
       "El nino              1076.350000        800.783333  \n",
       "La nina             -1516.433333      -1191.516667  \n",
       "Neutro               -216.700000        667.916667  "
      ]
     },
     "execution_count": 169,
     "metadata": {},
     "output_type": "execute_result"
    }
   ],
   "source": [
    "mer.groupby('Evento_mar_jun').sum(numeric_only=True)"
   ]
  },
  {
   "cell_type": "code",
   "execution_count": 170,
   "id": "766747f5",
   "metadata": {},
   "outputs": [],
   "source": [
    "prec = pd.read_csv(\"media_pluviometrica_RS.csv\", sep = \";\")"
   ]
  },
  {
   "cell_type": "code",
   "execution_count": 171,
   "id": "cc0c5acb",
   "metadata": {},
   "outputs": [],
   "source": [
    "prec.rename({\"Estacao\": \"Município\"}, axis = 1, inplace = True)"
   ]
  },
  {
   "cell_type": "code",
   "execution_count": 172,
   "id": "404284b8",
   "metadata": {},
   "outputs": [],
   "source": [
    "mer = mer.merge(prec, on = [\"Ano\", \"Município\"], how = \"left\")\n",
    "mer.rename({'PRECIPITAÇÃO TOTAL, HORÁRIO (mm)': \"precipitacao_media\"}, axis = 1, inplace = True)"
   ]
  },
  {
   "cell_type": "code",
   "execution_count": 173,
   "id": "96c0c6ea",
   "metadata": {},
   "outputs": [],
   "source": [
    "coord = pd.read_csv(r\"C:\\Users\\DellVostro\\OneDrive\\Documentos\\XP\\Projeto_aplicado\\Enso\\Shapefiles\\municipios.csv\")"
   ]
  },
  {
   "cell_type": "code",
   "execution_count": 174,
   "id": "910f8467",
   "metadata": {},
   "outputs": [],
   "source": [
    "coord.rename({\"nome\": \"Município\"}, axis = 1, inplace = True)\n",
    "coord[\"Município\"] = coord[\"Município\"].apply(lambda x: unidecode(x).lower().title())"
   ]
  },
  {
   "cell_type": "code",
   "execution_count": 176,
   "id": "35238027",
   "metadata": {},
   "outputs": [],
   "source": [
    "mer = mer.merge(coord[['Município', 'latitude', 'longitude']], on= 'Município', how = 'inner')"
   ]
  },
  {
   "cell_type": "code",
   "execution_count": 177,
   "id": "547217be",
   "metadata": {},
   "outputs": [],
   "source": [
    "import numpy\n",
    "munic = np.array(mer[\"Município\"])\n",
    "ano = np.array(mer['Ano'])\n",
    "latitudes = np.array(mer[\"latitude\"])\n",
    "longitudes = np.array(mer[\"longitude\"])\n",
    "pluviosidade = np.array(mer[\"precipitacao_media\"])"
   ]
  },
  {
   "cell_type": "code",
   "execution_count": 20,
   "id": "637481c9",
   "metadata": {},
   "outputs": [],
   "source": [
    "from sklearn.cluster import DBSCAN\n",
    "\n",
    "\n",
    "# Dados de coordenadas\n",
    "coords = np.column_stack([latitudes, longitudes])\n",
    "\n",
    "# Clusterização por proximidade (ajuste 'eps' para definir a distância máxima)\n",
    "clustering = DBSCAN(eps=0.3, min_samples=2).fit(coords)\n",
    "labels = clustering.labels_\n",
    "\n",
    "# Atribuir a pluviosidade média do cluster a cada município\n",
    "df_1 = pd.DataFrame({'lat': latitudes, 'lon': longitudes, \"Ano\": ano, \"Município\": munic, 'pluv': pluviosidade, 'cluster': labels})\n",
    "df_1['pluv_media_cluster'] = df_1.groupby(['Ano', 'cluster'])['pluv'].transform('mean')"
   ]
  },
  {
   "cell_type": "code",
   "execution_count": 21,
   "id": "15e46da8",
   "metadata": {},
   "outputs": [
    {
     "data": {
      "text/html": [
       "<div>\n",
       "<style scoped>\n",
       "    .dataframe tbody tr th:only-of-type {\n",
       "        vertical-align: middle;\n",
       "    }\n",
       "\n",
       "    .dataframe tbody tr th {\n",
       "        vertical-align: top;\n",
       "    }\n",
       "\n",
       "    .dataframe thead th {\n",
       "        text-align: right;\n",
       "    }\n",
       "</style>\n",
       "<table border=\"1\" class=\"dataframe\">\n",
       "  <thead>\n",
       "    <tr style=\"text-align: right;\">\n",
       "      <th></th>\n",
       "      <th>lat</th>\n",
       "      <th>lon</th>\n",
       "      <th>Ano</th>\n",
       "      <th>Município</th>\n",
       "      <th>pluv</th>\n",
       "      <th>cluster</th>\n",
       "      <th>pluv_media_cluster</th>\n",
       "    </tr>\n",
       "  </thead>\n",
       "  <tbody>\n",
       "    <tr>\n",
       "      <th>18</th>\n",
       "      <td>-31.8665</td>\n",
       "      <td>-54.1615</td>\n",
       "      <td>2020</td>\n",
       "      <td>Acegua</td>\n",
       "      <td>NaN</td>\n",
       "      <td>0</td>\n",
       "      <td>NaN</td>\n",
       "    </tr>\n",
       "    <tr>\n",
       "      <th>40</th>\n",
       "      <td>-28.1672</td>\n",
       "      <td>-52.0310</td>\n",
       "      <td>2020</td>\n",
       "      <td>Agua Santa</td>\n",
       "      <td>NaN</td>\n",
       "      <td>1</td>\n",
       "      <td>770.52</td>\n",
       "    </tr>\n",
       "    <tr>\n",
       "      <th>56</th>\n",
       "      <td>-29.6447</td>\n",
       "      <td>-53.2515</td>\n",
       "      <td>2020</td>\n",
       "      <td>Agudo</td>\n",
       "      <td>NaN</td>\n",
       "      <td>1</td>\n",
       "      <td>770.52</td>\n",
       "    </tr>\n",
       "    <tr>\n",
       "      <th>78</th>\n",
       "      <td>-28.2342</td>\n",
       "      <td>-53.7757</td>\n",
       "      <td>2020</td>\n",
       "      <td>Ajuricaba</td>\n",
       "      <td>NaN</td>\n",
       "      <td>1</td>\n",
       "      <td>770.52</td>\n",
       "    </tr>\n",
       "    <tr>\n",
       "      <th>100</th>\n",
       "      <td>-27.6579</td>\n",
       "      <td>-54.7649</td>\n",
       "      <td>2020</td>\n",
       "      <td>Alecrim</td>\n",
       "      <td>NaN</td>\n",
       "      <td>1</td>\n",
       "      <td>770.52</td>\n",
       "    </tr>\n",
       "    <tr>\n",
       "      <th>...</th>\n",
       "      <td>...</td>\n",
       "      <td>...</td>\n",
       "      <td>...</td>\n",
       "      <td>...</td>\n",
       "      <td>...</td>\n",
       "      <td>...</td>\n",
       "      <td>...</td>\n",
       "    </tr>\n",
       "    <tr>\n",
       "      <th>9593</th>\n",
       "      <td>-27.3686</td>\n",
       "      <td>-53.4919</td>\n",
       "      <td>2020</td>\n",
       "      <td>Vista Alegre</td>\n",
       "      <td>NaN</td>\n",
       "      <td>1</td>\n",
       "      <td>770.52</td>\n",
       "    </tr>\n",
       "    <tr>\n",
       "      <th>9615</th>\n",
       "      <td>-28.8052</td>\n",
       "      <td>-51.7947</td>\n",
       "      <td>2020</td>\n",
       "      <td>Vista Alegre Do Prata</td>\n",
       "      <td>NaN</td>\n",
       "      <td>1</td>\n",
       "      <td>770.52</td>\n",
       "    </tr>\n",
       "    <tr>\n",
       "      <th>9637</th>\n",
       "      <td>-27.2902</td>\n",
       "      <td>-53.6974</td>\n",
       "      <td>2020</td>\n",
       "      <td>Vista Gaucha</td>\n",
       "      <td>NaN</td>\n",
       "      <td>1</td>\n",
       "      <td>770.52</td>\n",
       "    </tr>\n",
       "    <tr>\n",
       "      <th>9659</th>\n",
       "      <td>-28.3516</td>\n",
       "      <td>-54.5040</td>\n",
       "      <td>2020</td>\n",
       "      <td>Vitoria Das Missoes</td>\n",
       "      <td>NaN</td>\n",
       "      <td>1</td>\n",
       "      <td>770.52</td>\n",
       "    </tr>\n",
       "    <tr>\n",
       "      <th>9679</th>\n",
       "      <td>-29.4263</td>\n",
       "      <td>-51.7645</td>\n",
       "      <td>2020</td>\n",
       "      <td>Westfalia</td>\n",
       "      <td>NaN</td>\n",
       "      <td>1</td>\n",
       "      <td>770.52</td>\n",
       "    </tr>\n",
       "  </tbody>\n",
       "</table>\n",
       "<p>462 rows × 7 columns</p>\n",
       "</div>"
      ],
      "text/plain": [
       "          lat      lon   Ano              Município  pluv  cluster  \\\n",
       "18   -31.8665 -54.1615  2020                 Acegua   NaN        0   \n",
       "40   -28.1672 -52.0310  2020             Agua Santa   NaN        1   \n",
       "56   -29.6447 -53.2515  2020                  Agudo   NaN        1   \n",
       "78   -28.2342 -53.7757  2020              Ajuricaba   NaN        1   \n",
       "100  -27.6579 -54.7649  2020                Alecrim   NaN        1   \n",
       "...       ...      ...   ...                    ...   ...      ...   \n",
       "9593 -27.3686 -53.4919  2020           Vista Alegre   NaN        1   \n",
       "9615 -28.8052 -51.7947  2020  Vista Alegre Do Prata   NaN        1   \n",
       "9637 -27.2902 -53.6974  2020           Vista Gaucha   NaN        1   \n",
       "9659 -28.3516 -54.5040  2020    Vitoria Das Missoes   NaN        1   \n",
       "9679 -29.4263 -51.7645  2020              Westfalia   NaN        1   \n",
       "\n",
       "      pluv_media_cluster  \n",
       "18                   NaN  \n",
       "40                770.52  \n",
       "56                770.52  \n",
       "78                770.52  \n",
       "100               770.52  \n",
       "...                  ...  \n",
       "9593              770.52  \n",
       "9615              770.52  \n",
       "9637              770.52  \n",
       "9659              770.52  \n",
       "9679              770.52  \n",
       "\n",
       "[462 rows x 7 columns]"
      ]
     },
     "execution_count": 21,
     "metadata": {},
     "output_type": "execute_result"
    }
   ],
   "source": [
    "df_1[df_1[\"Ano\"] == 2020]"
   ]
  },
  {
   "cell_type": "code",
   "execution_count": 22,
   "id": "a227b4e5",
   "metadata": {},
   "outputs": [],
   "source": [
    "df_1_g = df_1.groupby(\"Ano\").mean(numeric_only=True)"
   ]
  },
  {
   "cell_type": "code",
   "execution_count": 23,
   "id": "22c85ef8",
   "metadata": {},
   "outputs": [],
   "source": [
    "df_1 = df_1.merge(df_1_g, on = \"Ano\")"
   ]
  },
  {
   "cell_type": "code",
   "execution_count": 24,
   "id": "883f4c10",
   "metadata": {},
   "outputs": [
    {
     "data": {
      "text/plain": [
       "Index(['lat_x', 'lon_x', 'Ano', 'Município', 'pluv_x', 'cluster_x',\n",
       "       'pluv_media_cluster_x', 'lat_y', 'lon_y', 'pluv_y', 'cluster_y',\n",
       "       'pluv_media_cluster_y'],\n",
       "      dtype='object')"
      ]
     },
     "execution_count": 24,
     "metadata": {},
     "output_type": "execute_result"
    }
   ],
   "source": [
    "df_1.columns"
   ]
  },
  {
   "cell_type": "code",
   "execution_count": 25,
   "id": "83f486eb",
   "metadata": {},
   "outputs": [],
   "source": [
    "df_1['pluv_media_cluster_x'].fillna(df_1['pluv_media_cluster_y'], inplace = True)"
   ]
  },
  {
   "cell_type": "code",
   "execution_count": 26,
   "id": "4917440b",
   "metadata": {},
   "outputs": [],
   "source": [
    "df_1 = df_1.rename(columns=lambda x: x.replace('_x', '') if x.endswith('_x') else x)"
   ]
  },
  {
   "cell_type": "code",
   "execution_count": 27,
   "id": "37eac1e7",
   "metadata": {},
   "outputs": [],
   "source": [
    "cols_to_drop = df_1.filter(regex='_y$').columns\n",
    "df_1 = df_1.drop(columns=cols_to_drop)"
   ]
  },
  {
   "cell_type": "code",
   "execution_count": 28,
   "id": "e2f5c734",
   "metadata": {},
   "outputs": [
    {
     "data": {
      "text/plain": [
       "9684"
      ]
     },
     "execution_count": 28,
     "metadata": {},
     "output_type": "execute_result"
    }
   ],
   "source": [
    "mer.shape[0]"
   ]
  },
  {
   "cell_type": "code",
   "execution_count": 32,
   "id": "ae8be854",
   "metadata": {},
   "outputs": [
    {
     "data": {
      "text/plain": [
       "Index(['lat', 'lon', 'Ano', 'Município', 'pluv', 'cluster',\n",
       "       'pluv_media_cluster'],\n",
       "      dtype='object')"
      ]
     },
     "execution_count": 32,
     "metadata": {},
     "output_type": "execute_result"
    }
   ],
   "source": [
    "df_1.columns"
   ]
  },
  {
   "cell_type": "code",
   "execution_count": 34,
   "id": "afed2100",
   "metadata": {},
   "outputs": [],
   "source": [
    "mer = mer.merge(df_1[[ 'Ano', \"Município\", 'pluv_media_cluster']])"
   ]
  },
  {
   "cell_type": "code",
   "execution_count": 36,
   "id": "34fc1680",
   "metadata": {},
   "outputs": [],
   "source": [
    "mer[\"precipitacao_media\"].fillna(mer[\"pluv_media_cluster\"], inplace = True)"
   ]
  },
  {
   "cell_type": "code",
   "execution_count": 44,
   "id": "882652d9",
   "metadata": {},
   "outputs": [],
   "source": [
    "mer.drop_duplicates([\"Município\", \"Ano\"], inplace = True)"
   ]
  },
  {
   "cell_type": "code",
   "execution_count": 79,
   "id": "69686db7",
   "metadata": {},
   "outputs": [
    {
     "data": {
      "text/html": [
       "<div>\n",
       "<style scoped>\n",
       "    .dataframe tbody tr th:only-of-type {\n",
       "        vertical-align: middle;\n",
       "    }\n",
       "\n",
       "    .dataframe tbody tr th {\n",
       "        vertical-align: top;\n",
       "    }\n",
       "\n",
       "    .dataframe thead th {\n",
       "        text-align: right;\n",
       "    }\n",
       "</style>\n",
       "<table border=\"1\" class=\"dataframe\">\n",
       "  <thead>\n",
       "    <tr style=\"text-align: right;\">\n",
       "      <th></th>\n",
       "      <th>Ano</th>\n",
       "      <th>area_plantada(ha)</th>\n",
       "      <th>area_colhida(ha)</th>\n",
       "      <th>delta_area</th>\n",
       "      <th>delta_area(%)</th>\n",
       "    </tr>\n",
       "  </thead>\n",
       "  <tbody>\n",
       "    <tr>\n",
       "      <th>8868</th>\n",
       "      <td>2005</td>\n",
       "      <td>300.0</td>\n",
       "      <td>15.0</td>\n",
       "      <td>285.0</td>\n",
       "      <td>0.950000</td>\n",
       "    </tr>\n",
       "    <tr>\n",
       "      <th>5220</th>\n",
       "      <td>2022</td>\n",
       "      <td>20400.0</td>\n",
       "      <td>2040.0</td>\n",
       "      <td>18360.0</td>\n",
       "      <td>0.900000</td>\n",
       "    </tr>\n",
       "    <tr>\n",
       "      <th>4089</th>\n",
       "      <td>2005</td>\n",
       "      <td>900.0</td>\n",
       "      <td>90.0</td>\n",
       "      <td>810.0</td>\n",
       "      <td>0.900000</td>\n",
       "    </tr>\n",
       "    <tr>\n",
       "      <th>9927</th>\n",
       "      <td>2012</td>\n",
       "      <td>7000.0</td>\n",
       "      <td>700.0</td>\n",
       "      <td>6300.0</td>\n",
       "      <td>0.900000</td>\n",
       "    </tr>\n",
       "    <tr>\n",
       "      <th>7771</th>\n",
       "      <td>2005</td>\n",
       "      <td>1650.0</td>\n",
       "      <td>200.0</td>\n",
       "      <td>1450.0</td>\n",
       "      <td>0.878788</td>\n",
       "    </tr>\n",
       "    <tr>\n",
       "      <th>...</th>\n",
       "      <td>...</td>\n",
       "      <td>...</td>\n",
       "      <td>...</td>\n",
       "      <td>...</td>\n",
       "      <td>...</td>\n",
       "    </tr>\n",
       "    <tr>\n",
       "      <th>4271</th>\n",
       "      <td>2022</td>\n",
       "      <td>6450.0</td>\n",
       "      <td>6438.0</td>\n",
       "      <td>12.0</td>\n",
       "      <td>0.001860</td>\n",
       "    </tr>\n",
       "    <tr>\n",
       "      <th>2931</th>\n",
       "      <td>2005</td>\n",
       "      <td>17000.0</td>\n",
       "      <td>16970.0</td>\n",
       "      <td>30.0</td>\n",
       "      <td>0.001765</td>\n",
       "    </tr>\n",
       "    <tr>\n",
       "      <th>5137</th>\n",
       "      <td>2005</td>\n",
       "      <td>8080.0</td>\n",
       "      <td>8070.0</td>\n",
       "      <td>10.0</td>\n",
       "      <td>0.001238</td>\n",
       "    </tr>\n",
       "    <tr>\n",
       "      <th>5517</th>\n",
       "      <td>2023</td>\n",
       "      <td>53000.0</td>\n",
       "      <td>52950.0</td>\n",
       "      <td>50.0</td>\n",
       "      <td>0.000943</td>\n",
       "    </tr>\n",
       "    <tr>\n",
       "      <th>7083</th>\n",
       "      <td>2019</td>\n",
       "      <td>36000.0</td>\n",
       "      <td>35970.0</td>\n",
       "      <td>30.0</td>\n",
       "      <td>0.000833</td>\n",
       "    </tr>\n",
       "  </tbody>\n",
       "</table>\n",
       "<p>455 rows × 5 columns</p>\n",
       "</div>"
      ],
      "text/plain": [
       "       Ano  area_plantada(ha)  area_colhida(ha)  delta_area  delta_area(%)\n",
       "8868  2005              300.0              15.0       285.0       0.950000\n",
       "5220  2022            20400.0            2040.0     18360.0       0.900000\n",
       "4089  2005              900.0              90.0       810.0       0.900000\n",
       "9927  2012             7000.0             700.0      6300.0       0.900000\n",
       "7771  2005             1650.0             200.0      1450.0       0.878788\n",
       "...    ...                ...               ...         ...            ...\n",
       "4271  2022             6450.0            6438.0        12.0       0.001860\n",
       "2931  2005            17000.0           16970.0        30.0       0.001765\n",
       "5137  2005             8080.0            8070.0        10.0       0.001238\n",
       "5517  2023            53000.0           52950.0        50.0       0.000943\n",
       "7083  2019            36000.0           35970.0        30.0       0.000833\n",
       "\n",
       "[455 rows x 5 columns]"
      ]
     },
     "execution_count": 79,
     "metadata": {},
     "output_type": "execute_result"
    }
   ],
   "source": [
    "mer[mer['delta_area'] != 0][[\"Ano\", \"area_plantada(ha)\", \"area_colhida(ha)\", \"delta_area\", \"delta_area(%)\"]].sort_values(by = \"delta_area(%)\", ascending=False)"
   ]
  },
  {
   "cell_type": "code",
   "execution_count": null,
   "id": "d8b544bb",
   "metadata": {},
   "outputs": [
    {
     "data": {
      "text/html": [
       "<div>\n",
       "<style scoped>\n",
       "    .dataframe tbody tr th:only-of-type {\n",
       "        vertical-align: middle;\n",
       "    }\n",
       "\n",
       "    .dataframe tbody tr th {\n",
       "        vertical-align: top;\n",
       "    }\n",
       "\n",
       "    .dataframe thead th {\n",
       "        text-align: right;\n",
       "    }\n",
       "</style>\n",
       "<table border=\"1\" class=\"dataframe\">\n",
       "  <thead>\n",
       "    <tr style=\"text-align: right;\">\n",
       "      <th></th>\n",
       "      <th>area_plantada(ha)</th>\n",
       "      <th>area_colhida(ha)</th>\n",
       "      <th>delta_area</th>\n",
       "      <th>delta_area(%)</th>\n",
       "    </tr>\n",
       "  </thead>\n",
       "  <tbody>\n",
       "    <tr>\n",
       "      <th>0</th>\n",
       "      <td>100.0</td>\n",
       "      <td>100.0</td>\n",
       "      <td>0.0</td>\n",
       "      <td>0.0</td>\n",
       "    </tr>\n",
       "    <tr>\n",
       "      <th>1</th>\n",
       "      <td>750.0</td>\n",
       "      <td>750.0</td>\n",
       "      <td>0.0</td>\n",
       "      <td>0.0</td>\n",
       "    </tr>\n",
       "    <tr>\n",
       "      <th>2</th>\n",
       "      <td>750.0</td>\n",
       "      <td>750.0</td>\n",
       "      <td>0.0</td>\n",
       "      <td>0.0</td>\n",
       "    </tr>\n",
       "    <tr>\n",
       "      <th>3</th>\n",
       "      <td>2000.0</td>\n",
       "      <td>2000.0</td>\n",
       "      <td>0.0</td>\n",
       "      <td>0.0</td>\n",
       "    </tr>\n",
       "    <tr>\n",
       "      <th>4</th>\n",
       "      <td>2000.0</td>\n",
       "      <td>2000.0</td>\n",
       "      <td>0.0</td>\n",
       "      <td>0.0</td>\n",
       "    </tr>\n",
       "    <tr>\n",
       "      <th>...</th>\n",
       "      <td>...</td>\n",
       "      <td>...</td>\n",
       "      <td>...</td>\n",
       "      <td>...</td>\n",
       "    </tr>\n",
       "    <tr>\n",
       "      <th>11783</th>\n",
       "      <td>50.0</td>\n",
       "      <td>50.0</td>\n",
       "      <td>0.0</td>\n",
       "      <td>0.0</td>\n",
       "    </tr>\n",
       "    <tr>\n",
       "      <th>11784</th>\n",
       "      <td>50.0</td>\n",
       "      <td>50.0</td>\n",
       "      <td>0.0</td>\n",
       "      <td>0.0</td>\n",
       "    </tr>\n",
       "    <tr>\n",
       "      <th>11785</th>\n",
       "      <td>50.0</td>\n",
       "      <td>50.0</td>\n",
       "      <td>0.0</td>\n",
       "      <td>0.0</td>\n",
       "    </tr>\n",
       "    <tr>\n",
       "      <th>11786</th>\n",
       "      <td>130.0</td>\n",
       "      <td>130.0</td>\n",
       "      <td>0.0</td>\n",
       "      <td>0.0</td>\n",
       "    </tr>\n",
       "    <tr>\n",
       "      <th>11787</th>\n",
       "      <td>240.0</td>\n",
       "      <td>240.0</td>\n",
       "      <td>0.0</td>\n",
       "      <td>0.0</td>\n",
       "    </tr>\n",
       "  </tbody>\n",
       "</table>\n",
       "<p>8951 rows × 4 columns</p>\n",
       "</div>"
      ],
      "text/plain": [
       "       area_plantada(ha)  area_colhida(ha)  delta_area  delta_area(%)\n",
       "0                  100.0             100.0         0.0            0.0\n",
       "1                  750.0             750.0         0.0            0.0\n",
       "2                  750.0             750.0         0.0            0.0\n",
       "3                 2000.0            2000.0         0.0            0.0\n",
       "4                 2000.0            2000.0         0.0            0.0\n",
       "...                  ...               ...         ...            ...\n",
       "11783               50.0              50.0         0.0            0.0\n",
       "11784               50.0              50.0         0.0            0.0\n",
       "11785               50.0              50.0         0.0            0.0\n",
       "11786              130.0             130.0         0.0            0.0\n",
       "11787              240.0             240.0         0.0            0.0\n",
       "\n",
       "[8951 rows x 4 columns]"
      ]
     },
     "execution_count": 75,
     "metadata": {},
     "output_type": "execute_result"
    }
   ],
   "source": [
    "mer[[\"area_plantada(ha)\", \"area_colhida(ha)\", \"delta_area\"]]"
   ]
  },
  {
   "cell_type": "code",
   "execution_count": 74,
   "id": "9535d9eb",
   "metadata": {},
   "outputs": [],
   "source": [
    "mer[\"delta_area(%)\"] = mer['delta_area'] / mer[\"area_plantada(ha)\"]"
   ]
  },
  {
   "cell_type": "code",
   "execution_count": 47,
   "id": "a358dfff",
   "metadata": {},
   "outputs": [],
   "source": [
    "nino = mer[(mer[\"Evento_mar_jun\"] == \"El nino\") | (mer[\"Evento_mar_jun\"] == \"Neutro\")]\n",
    "nina = mer[(mer[\"Evento_mar_jun\"] == \"La nina\") | (mer[\"Evento_mar_jun\"] == \"Neutro\")]"
   ]
  },
  {
   "cell_type": "code",
   "execution_count": 36,
   "id": "7624c5aa",
   "metadata": {},
   "outputs": [],
   "source": [
    "mer = mer[['area_plantada(ha)', 'area_colhida(ha)',\n",
    "       'delta_area', 'producao(t)', 'produtividade(kg/ha)', 'valor_mil(R$)',\n",
    "       'valor_saca', 'var_produtividade', 'var_produtividade_%',\n",
    "       'var_producao(t)', 'var_producao(t)_%', 'Media_mar_jun', 'Dez',\n",
    "       'Media_semestre_1', 'Media_semestre_2', \n",
    "        'precipitacao_media']]"
   ]
  },
  {
   "cell_type": "markdown",
   "id": "a609978d",
   "metadata": {},
   "source": [
    "# Verificando as variáveis que mais influenciam na variância com o PCA"
   ]
  },
  {
   "cell_type": "code",
   "execution_count": 100,
   "id": "4e967889",
   "metadata": {},
   "outputs": [],
   "source": [
    "from sklearn.preprocessing import StandardScaler\n",
    "from sklearn.decomposition import PCA"
   ]
  },
  {
   "cell_type": "code",
   "execution_count": 109,
   "id": "f023ddbd",
   "metadata": {},
   "outputs": [],
   "source": [
    "mer = mer[mer[\"produtividade(kg/ha)\"].notna()]\n",
    "mer = mer[mer[\"valor_mil(R$)\"].notna()]"
   ]
  },
  {
   "cell_type": "code",
   "execution_count": 111,
   "id": "e22b78c6",
   "metadata": {},
   "outputs": [
    {
     "data": {
      "text/plain": [
       "Index(['Unnamed: 0', 'Município', 'Ano', 'area_plantada(ha)',\n",
       "       'area_colhida(ha)', 'delta_area', 'producao(t)', 'produtividade(kg/ha)',\n",
       "       'valor_mil(R$)', 'valor_saca', 'var_produtividade',\n",
       "       'var_produtividade_%', 'var_producao(t)', 'var_producao(t)_%',\n",
       "       'Media_mar_jun', 'Dez', 'Media_semestre_1', 'Media_semestre_2',\n",
       "       'Evento_mar_jun', 'Evento_nov_dez_jan', 'precipitacao_media',\n",
       "       'latitude', 'longitude', 'pluv_media_cluster', 'delta_area(%)'],\n",
       "      dtype='object')"
      ]
     },
     "execution_count": 111,
     "metadata": {},
     "output_type": "execute_result"
    }
   ],
   "source": [
    "mer.columns"
   ]
  },
  {
   "cell_type": "code",
   "execution_count": 116,
   "id": "6c19d410",
   "metadata": {},
   "outputs": [
    {
     "name": "stdout",
     "output_type": "stream",
     "text": [
      "[0.31213926 0.16630768]\n",
      "0.4784469370812315\n",
      "\n",
      "Variáveis mais influentes em PC1:\n",
      "Media_mar_jun         0.523785\n",
      "Media_semestre_2      0.477783\n",
      "Dez                   0.468742\n",
      "Media_semestre_1      0.422669\n",
      "precipitacao_media    0.263130\n",
      "Name: PC1, dtype: float64\n",
      "\n",
      "Variáveis mais influentes em PC2:\n",
      "valor_saca              0.531573\n",
      "precipitacao_media      0.480227\n",
      "produtividade(kg/ha)    0.477940\n",
      "Dez                     0.180898\n",
      "area_colhida(ha)        0.143562\n",
      "Name: PC2, dtype: float64\n"
     ]
    }
   ],
   "source": [
    "X_PCA = mer[['area_colhida(ha)', 'delta_area', 'produtividade(kg/ha)',\n",
    "       'valor_saca', 'Media_mar_jun', 'Dez', 'Media_semestre_1', 'Media_semestre_2','precipitacao_media']]  # ou escolha colunas específicas\n",
    "\n",
    "scaler = StandardScaler()\n",
    "X_scaled = scaler.fit_transform(X_PCA)\n",
    "\n",
    "pca = PCA(n_components=2) #número de componentes\n",
    "X_pca = pca.fit_transform(X_scaled)\n",
    "\n",
    "df_pca = pd.DataFrame(X_pca, columns=[\"PC1\", \"PC2\"])\n",
    "\n",
    "print(pca.explained_variance_ratio_)\n",
    "print(pca.explained_variance_ratio_.sum())  # total de variância explicada\n",
    "\n",
    "df_final = pd.concat([mer.reset_index(drop=True), df_pca], axis=1)\n",
    "componentes_df = pd.DataFrame(\n",
    "    pca.components_,\n",
    "    columns=X_PCA.columns,\n",
    "    index=[\"PC1\", \"PC2\"]\n",
    ")\n",
    "for pc in componentes_df.index:\n",
    "    print(f\"\\nVariáveis mais influentes em {pc}:\")\n",
    "    print(componentes_df.loc[pc].sort_values(ascending=False).head(5))"
   ]
  },
  {
   "cell_type": "markdown",
   "id": "16a2d60e",
   "metadata": {},
   "source": [
    "### Aplicando métodos de aprendizando de máquina, começando pela regressão linear"
   ]
  },
  {
   "cell_type": "code",
   "execution_count": 56,
   "id": "eb2aa8f6",
   "metadata": {},
   "outputs": [],
   "source": [
    "from sklearn.model_selection import train_test_split\n",
    "from sklearn.linear_model import LinearRegression\n",
    "from sklearn.metrics import mean_squared_error, r2_score"
   ]
  },
  {
   "cell_type": "code",
   "execution_count": 57,
   "id": "1bbdc2b1",
   "metadata": {},
   "outputs": [],
   "source": [
    "X = nino[['Media_mar_jun']] #variável independente\n",
    "y = nino[['precipitacao_media']] #variável dependente"
   ]
  },
  {
   "cell_type": "code",
   "execution_count": 58,
   "id": "d61bb1e8",
   "metadata": {},
   "outputs": [
    {
     "data": {
      "text/plain": [
       "(7307, 1)"
      ]
     },
     "execution_count": 58,
     "metadata": {},
     "output_type": "execute_result"
    }
   ],
   "source": [
    "X.shape"
   ]
  },
  {
   "cell_type": "code",
   "execution_count": 59,
   "id": "3be0df12",
   "metadata": {},
   "outputs": [
    {
     "data": {
      "text/plain": [
       "(7307, 1)"
      ]
     },
     "execution_count": 59,
     "metadata": {},
     "output_type": "execute_result"
    }
   ],
   "source": [
    "y.shape"
   ]
  },
  {
   "cell_type": "code",
   "execution_count": 60,
   "id": "aa81bdfe",
   "metadata": {},
   "outputs": [],
   "source": [
    "X_train, X_test, y_train, y_test = train_test_split(X, y, test_size = 0.2, stratify = X)"
   ]
  },
  {
   "cell_type": "code",
   "execution_count": 61,
   "id": "3d620722",
   "metadata": {},
   "outputs": [
    {
     "data": {
      "text/html": [
       "<style>#sk-container-id-1 {\n",
       "  /* Definition of color scheme common for light and dark mode */\n",
       "  --sklearn-color-text: black;\n",
       "  --sklearn-color-line: gray;\n",
       "  /* Definition of color scheme for unfitted estimators */\n",
       "  --sklearn-color-unfitted-level-0: #fff5e6;\n",
       "  --sklearn-color-unfitted-level-1: #f6e4d2;\n",
       "  --sklearn-color-unfitted-level-2: #ffe0b3;\n",
       "  --sklearn-color-unfitted-level-3: chocolate;\n",
       "  /* Definition of color scheme for fitted estimators */\n",
       "  --sklearn-color-fitted-level-0: #f0f8ff;\n",
       "  --sklearn-color-fitted-level-1: #d4ebff;\n",
       "  --sklearn-color-fitted-level-2: #b3dbfd;\n",
       "  --sklearn-color-fitted-level-3: cornflowerblue;\n",
       "\n",
       "  /* Specific color for light theme */\n",
       "  --sklearn-color-text-on-default-background: var(--sg-text-color, var(--theme-code-foreground, var(--jp-content-font-color1, black)));\n",
       "  --sklearn-color-background: var(--sg-background-color, var(--theme-background, var(--jp-layout-color0, white)));\n",
       "  --sklearn-color-border-box: var(--sg-text-color, var(--theme-code-foreground, var(--jp-content-font-color1, black)));\n",
       "  --sklearn-color-icon: #696969;\n",
       "\n",
       "  @media (prefers-color-scheme: dark) {\n",
       "    /* Redefinition of color scheme for dark theme */\n",
       "    --sklearn-color-text-on-default-background: var(--sg-text-color, var(--theme-code-foreground, var(--jp-content-font-color1, white)));\n",
       "    --sklearn-color-background: var(--sg-background-color, var(--theme-background, var(--jp-layout-color0, #111)));\n",
       "    --sklearn-color-border-box: var(--sg-text-color, var(--theme-code-foreground, var(--jp-content-font-color1, white)));\n",
       "    --sklearn-color-icon: #878787;\n",
       "  }\n",
       "}\n",
       "\n",
       "#sk-container-id-1 {\n",
       "  color: var(--sklearn-color-text);\n",
       "}\n",
       "\n",
       "#sk-container-id-1 pre {\n",
       "  padding: 0;\n",
       "}\n",
       "\n",
       "#sk-container-id-1 input.sk-hidden--visually {\n",
       "  border: 0;\n",
       "  clip: rect(1px 1px 1px 1px);\n",
       "  clip: rect(1px, 1px, 1px, 1px);\n",
       "  height: 1px;\n",
       "  margin: -1px;\n",
       "  overflow: hidden;\n",
       "  padding: 0;\n",
       "  position: absolute;\n",
       "  width: 1px;\n",
       "}\n",
       "\n",
       "#sk-container-id-1 div.sk-dashed-wrapped {\n",
       "  border: 1px dashed var(--sklearn-color-line);\n",
       "  margin: 0 0.4em 0.5em 0.4em;\n",
       "  box-sizing: border-box;\n",
       "  padding-bottom: 0.4em;\n",
       "  background-color: var(--sklearn-color-background);\n",
       "}\n",
       "\n",
       "#sk-container-id-1 div.sk-container {\n",
       "  /* jupyter's `normalize.less` sets `[hidden] { display: none; }`\n",
       "     but bootstrap.min.css set `[hidden] { display: none !important; }`\n",
       "     so we also need the `!important` here to be able to override the\n",
       "     default hidden behavior on the sphinx rendered scikit-learn.org.\n",
       "     See: https://github.com/scikit-learn/scikit-learn/issues/21755 */\n",
       "  display: inline-block !important;\n",
       "  position: relative;\n",
       "}\n",
       "\n",
       "#sk-container-id-1 div.sk-text-repr-fallback {\n",
       "  display: none;\n",
       "}\n",
       "\n",
       "div.sk-parallel-item,\n",
       "div.sk-serial,\n",
       "div.sk-item {\n",
       "  /* draw centered vertical line to link estimators */\n",
       "  background-image: linear-gradient(var(--sklearn-color-text-on-default-background), var(--sklearn-color-text-on-default-background));\n",
       "  background-size: 2px 100%;\n",
       "  background-repeat: no-repeat;\n",
       "  background-position: center center;\n",
       "}\n",
       "\n",
       "/* Parallel-specific style estimator block */\n",
       "\n",
       "#sk-container-id-1 div.sk-parallel-item::after {\n",
       "  content: \"\";\n",
       "  width: 100%;\n",
       "  border-bottom: 2px solid var(--sklearn-color-text-on-default-background);\n",
       "  flex-grow: 1;\n",
       "}\n",
       "\n",
       "#sk-container-id-1 div.sk-parallel {\n",
       "  display: flex;\n",
       "  align-items: stretch;\n",
       "  justify-content: center;\n",
       "  background-color: var(--sklearn-color-background);\n",
       "  position: relative;\n",
       "}\n",
       "\n",
       "#sk-container-id-1 div.sk-parallel-item {\n",
       "  display: flex;\n",
       "  flex-direction: column;\n",
       "}\n",
       "\n",
       "#sk-container-id-1 div.sk-parallel-item:first-child::after {\n",
       "  align-self: flex-end;\n",
       "  width: 50%;\n",
       "}\n",
       "\n",
       "#sk-container-id-1 div.sk-parallel-item:last-child::after {\n",
       "  align-self: flex-start;\n",
       "  width: 50%;\n",
       "}\n",
       "\n",
       "#sk-container-id-1 div.sk-parallel-item:only-child::after {\n",
       "  width: 0;\n",
       "}\n",
       "\n",
       "/* Serial-specific style estimator block */\n",
       "\n",
       "#sk-container-id-1 div.sk-serial {\n",
       "  display: flex;\n",
       "  flex-direction: column;\n",
       "  align-items: center;\n",
       "  background-color: var(--sklearn-color-background);\n",
       "  padding-right: 1em;\n",
       "  padding-left: 1em;\n",
       "}\n",
       "\n",
       "\n",
       "/* Toggleable style: style used for estimator/Pipeline/ColumnTransformer box that is\n",
       "clickable and can be expanded/collapsed.\n",
       "- Pipeline and ColumnTransformer use this feature and define the default style\n",
       "- Estimators will overwrite some part of the style using the `sk-estimator` class\n",
       "*/\n",
       "\n",
       "/* Pipeline and ColumnTransformer style (default) */\n",
       "\n",
       "#sk-container-id-1 div.sk-toggleable {\n",
       "  /* Default theme specific background. It is overwritten whether we have a\n",
       "  specific estimator or a Pipeline/ColumnTransformer */\n",
       "  background-color: var(--sklearn-color-background);\n",
       "}\n",
       "\n",
       "/* Toggleable label */\n",
       "#sk-container-id-1 label.sk-toggleable__label {\n",
       "  cursor: pointer;\n",
       "  display: block;\n",
       "  width: 100%;\n",
       "  margin-bottom: 0;\n",
       "  padding: 0.5em;\n",
       "  box-sizing: border-box;\n",
       "  text-align: center;\n",
       "}\n",
       "\n",
       "#sk-container-id-1 label.sk-toggleable__label-arrow:before {\n",
       "  /* Arrow on the left of the label */\n",
       "  content: \"▸\";\n",
       "  float: left;\n",
       "  margin-right: 0.25em;\n",
       "  color: var(--sklearn-color-icon);\n",
       "}\n",
       "\n",
       "#sk-container-id-1 label.sk-toggleable__label-arrow:hover:before {\n",
       "  color: var(--sklearn-color-text);\n",
       "}\n",
       "\n",
       "/* Toggleable content - dropdown */\n",
       "\n",
       "#sk-container-id-1 div.sk-toggleable__content {\n",
       "  max-height: 0;\n",
       "  max-width: 0;\n",
       "  overflow: hidden;\n",
       "  text-align: left;\n",
       "  /* unfitted */\n",
       "  background-color: var(--sklearn-color-unfitted-level-0);\n",
       "}\n",
       "\n",
       "#sk-container-id-1 div.sk-toggleable__content.fitted {\n",
       "  /* fitted */\n",
       "  background-color: var(--sklearn-color-fitted-level-0);\n",
       "}\n",
       "\n",
       "#sk-container-id-1 div.sk-toggleable__content pre {\n",
       "  margin: 0.2em;\n",
       "  border-radius: 0.25em;\n",
       "  color: var(--sklearn-color-text);\n",
       "  /* unfitted */\n",
       "  background-color: var(--sklearn-color-unfitted-level-0);\n",
       "}\n",
       "\n",
       "#sk-container-id-1 div.sk-toggleable__content.fitted pre {\n",
       "  /* unfitted */\n",
       "  background-color: var(--sklearn-color-fitted-level-0);\n",
       "}\n",
       "\n",
       "#sk-container-id-1 input.sk-toggleable__control:checked~div.sk-toggleable__content {\n",
       "  /* Expand drop-down */\n",
       "  max-height: 200px;\n",
       "  max-width: 100%;\n",
       "  overflow: auto;\n",
       "}\n",
       "\n",
       "#sk-container-id-1 input.sk-toggleable__control:checked~label.sk-toggleable__label-arrow:before {\n",
       "  content: \"▾\";\n",
       "}\n",
       "\n",
       "/* Pipeline/ColumnTransformer-specific style */\n",
       "\n",
       "#sk-container-id-1 div.sk-label input.sk-toggleable__control:checked~label.sk-toggleable__label {\n",
       "  color: var(--sklearn-color-text);\n",
       "  background-color: var(--sklearn-color-unfitted-level-2);\n",
       "}\n",
       "\n",
       "#sk-container-id-1 div.sk-label.fitted input.sk-toggleable__control:checked~label.sk-toggleable__label {\n",
       "  background-color: var(--sklearn-color-fitted-level-2);\n",
       "}\n",
       "\n",
       "/* Estimator-specific style */\n",
       "\n",
       "/* Colorize estimator box */\n",
       "#sk-container-id-1 div.sk-estimator input.sk-toggleable__control:checked~label.sk-toggleable__label {\n",
       "  /* unfitted */\n",
       "  background-color: var(--sklearn-color-unfitted-level-2);\n",
       "}\n",
       "\n",
       "#sk-container-id-1 div.sk-estimator.fitted input.sk-toggleable__control:checked~label.sk-toggleable__label {\n",
       "  /* fitted */\n",
       "  background-color: var(--sklearn-color-fitted-level-2);\n",
       "}\n",
       "\n",
       "#sk-container-id-1 div.sk-label label.sk-toggleable__label,\n",
       "#sk-container-id-1 div.sk-label label {\n",
       "  /* The background is the default theme color */\n",
       "  color: var(--sklearn-color-text-on-default-background);\n",
       "}\n",
       "\n",
       "/* On hover, darken the color of the background */\n",
       "#sk-container-id-1 div.sk-label:hover label.sk-toggleable__label {\n",
       "  color: var(--sklearn-color-text);\n",
       "  background-color: var(--sklearn-color-unfitted-level-2);\n",
       "}\n",
       "\n",
       "/* Label box, darken color on hover, fitted */\n",
       "#sk-container-id-1 div.sk-label.fitted:hover label.sk-toggleable__label.fitted {\n",
       "  color: var(--sklearn-color-text);\n",
       "  background-color: var(--sklearn-color-fitted-level-2);\n",
       "}\n",
       "\n",
       "/* Estimator label */\n",
       "\n",
       "#sk-container-id-1 div.sk-label label {\n",
       "  font-family: monospace;\n",
       "  font-weight: bold;\n",
       "  display: inline-block;\n",
       "  line-height: 1.2em;\n",
       "}\n",
       "\n",
       "#sk-container-id-1 div.sk-label-container {\n",
       "  text-align: center;\n",
       "}\n",
       "\n",
       "/* Estimator-specific */\n",
       "#sk-container-id-1 div.sk-estimator {\n",
       "  font-family: monospace;\n",
       "  border: 1px dotted var(--sklearn-color-border-box);\n",
       "  border-radius: 0.25em;\n",
       "  box-sizing: border-box;\n",
       "  margin-bottom: 0.5em;\n",
       "  /* unfitted */\n",
       "  background-color: var(--sklearn-color-unfitted-level-0);\n",
       "}\n",
       "\n",
       "#sk-container-id-1 div.sk-estimator.fitted {\n",
       "  /* fitted */\n",
       "  background-color: var(--sklearn-color-fitted-level-0);\n",
       "}\n",
       "\n",
       "/* on hover */\n",
       "#sk-container-id-1 div.sk-estimator:hover {\n",
       "  /* unfitted */\n",
       "  background-color: var(--sklearn-color-unfitted-level-2);\n",
       "}\n",
       "\n",
       "#sk-container-id-1 div.sk-estimator.fitted:hover {\n",
       "  /* fitted */\n",
       "  background-color: var(--sklearn-color-fitted-level-2);\n",
       "}\n",
       "\n",
       "/* Specification for estimator info (e.g. \"i\" and \"?\") */\n",
       "\n",
       "/* Common style for \"i\" and \"?\" */\n",
       "\n",
       ".sk-estimator-doc-link,\n",
       "a:link.sk-estimator-doc-link,\n",
       "a:visited.sk-estimator-doc-link {\n",
       "  float: right;\n",
       "  font-size: smaller;\n",
       "  line-height: 1em;\n",
       "  font-family: monospace;\n",
       "  background-color: var(--sklearn-color-background);\n",
       "  border-radius: 1em;\n",
       "  height: 1em;\n",
       "  width: 1em;\n",
       "  text-decoration: none !important;\n",
       "  margin-left: 1ex;\n",
       "  /* unfitted */\n",
       "  border: var(--sklearn-color-unfitted-level-1) 1pt solid;\n",
       "  color: var(--sklearn-color-unfitted-level-1);\n",
       "}\n",
       "\n",
       ".sk-estimator-doc-link.fitted,\n",
       "a:link.sk-estimator-doc-link.fitted,\n",
       "a:visited.sk-estimator-doc-link.fitted {\n",
       "  /* fitted */\n",
       "  border: var(--sklearn-color-fitted-level-1) 1pt solid;\n",
       "  color: var(--sklearn-color-fitted-level-1);\n",
       "}\n",
       "\n",
       "/* On hover */\n",
       "div.sk-estimator:hover .sk-estimator-doc-link:hover,\n",
       ".sk-estimator-doc-link:hover,\n",
       "div.sk-label-container:hover .sk-estimator-doc-link:hover,\n",
       ".sk-estimator-doc-link:hover {\n",
       "  /* unfitted */\n",
       "  background-color: var(--sklearn-color-unfitted-level-3);\n",
       "  color: var(--sklearn-color-background);\n",
       "  text-decoration: none;\n",
       "}\n",
       "\n",
       "div.sk-estimator.fitted:hover .sk-estimator-doc-link.fitted:hover,\n",
       ".sk-estimator-doc-link.fitted:hover,\n",
       "div.sk-label-container:hover .sk-estimator-doc-link.fitted:hover,\n",
       ".sk-estimator-doc-link.fitted:hover {\n",
       "  /* fitted */\n",
       "  background-color: var(--sklearn-color-fitted-level-3);\n",
       "  color: var(--sklearn-color-background);\n",
       "  text-decoration: none;\n",
       "}\n",
       "\n",
       "/* Span, style for the box shown on hovering the info icon */\n",
       ".sk-estimator-doc-link span {\n",
       "  display: none;\n",
       "  z-index: 9999;\n",
       "  position: relative;\n",
       "  font-weight: normal;\n",
       "  right: .2ex;\n",
       "  padding: .5ex;\n",
       "  margin: .5ex;\n",
       "  width: min-content;\n",
       "  min-width: 20ex;\n",
       "  max-width: 50ex;\n",
       "  color: var(--sklearn-color-text);\n",
       "  box-shadow: 2pt 2pt 4pt #999;\n",
       "  /* unfitted */\n",
       "  background: var(--sklearn-color-unfitted-level-0);\n",
       "  border: .5pt solid var(--sklearn-color-unfitted-level-3);\n",
       "}\n",
       "\n",
       ".sk-estimator-doc-link.fitted span {\n",
       "  /* fitted */\n",
       "  background: var(--sklearn-color-fitted-level-0);\n",
       "  border: var(--sklearn-color-fitted-level-3);\n",
       "}\n",
       "\n",
       ".sk-estimator-doc-link:hover span {\n",
       "  display: block;\n",
       "}\n",
       "\n",
       "/* \"?\"-specific style due to the `<a>` HTML tag */\n",
       "\n",
       "#sk-container-id-1 a.estimator_doc_link {\n",
       "  float: right;\n",
       "  font-size: 1rem;\n",
       "  line-height: 1em;\n",
       "  font-family: monospace;\n",
       "  background-color: var(--sklearn-color-background);\n",
       "  border-radius: 1rem;\n",
       "  height: 1rem;\n",
       "  width: 1rem;\n",
       "  text-decoration: none;\n",
       "  /* unfitted */\n",
       "  color: var(--sklearn-color-unfitted-level-1);\n",
       "  border: var(--sklearn-color-unfitted-level-1) 1pt solid;\n",
       "}\n",
       "\n",
       "#sk-container-id-1 a.estimator_doc_link.fitted {\n",
       "  /* fitted */\n",
       "  border: var(--sklearn-color-fitted-level-1) 1pt solid;\n",
       "  color: var(--sklearn-color-fitted-level-1);\n",
       "}\n",
       "\n",
       "/* On hover */\n",
       "#sk-container-id-1 a.estimator_doc_link:hover {\n",
       "  /* unfitted */\n",
       "  background-color: var(--sklearn-color-unfitted-level-3);\n",
       "  color: var(--sklearn-color-background);\n",
       "  text-decoration: none;\n",
       "}\n",
       "\n",
       "#sk-container-id-1 a.estimator_doc_link.fitted:hover {\n",
       "  /* fitted */\n",
       "  background-color: var(--sklearn-color-fitted-level-3);\n",
       "}\n",
       "</style><div id=\"sk-container-id-1\" class=\"sk-top-container\"><div class=\"sk-text-repr-fallback\"><pre>LinearRegression()</pre><b>In a Jupyter environment, please rerun this cell to show the HTML representation or trust the notebook. <br />On GitHub, the HTML representation is unable to render, please try loading this page with nbviewer.org.</b></div><div class=\"sk-container\" hidden><div class=\"sk-item\"><div class=\"sk-estimator fitted sk-toggleable\"><input class=\"sk-toggleable__control sk-hidden--visually\" id=\"sk-estimator-id-1\" type=\"checkbox\" checked><label for=\"sk-estimator-id-1\" class=\"sk-toggleable__label fitted sk-toggleable__label-arrow fitted\">&nbsp;&nbsp;LinearRegression<a class=\"sk-estimator-doc-link fitted\" rel=\"noreferrer\" target=\"_blank\" href=\"https://scikit-learn.org/1.5/modules/generated/sklearn.linear_model.LinearRegression.html\">?<span>Documentation for LinearRegression</span></a><span class=\"sk-estimator-doc-link fitted\">i<span>Fitted</span></span></label><div class=\"sk-toggleable__content fitted\"><pre>LinearRegression()</pre></div> </div></div></div></div>"
      ],
      "text/plain": [
       "LinearRegression()"
      ]
     },
     "execution_count": 61,
     "metadata": {},
     "output_type": "execute_result"
    }
   ],
   "source": [
    "modelo = LinearRegression()\n",
    "modelo.fit(X_train, y_train)"
   ]
  },
  {
   "cell_type": "code",
   "execution_count": 62,
   "id": "5b4c5c3a",
   "metadata": {},
   "outputs": [],
   "source": [
    "y_pred = modelo.predict(X_test)"
   ]
  },
  {
   "cell_type": "code",
   "execution_count": 63,
   "id": "a3d9c1dd",
   "metadata": {},
   "outputs": [
    {
     "name": "stdout",
     "output_type": "stream",
     "text": [
      "R²: 0.07\n",
      "RMSE: 359.37\n"
     ]
    }
   ],
   "source": [
    "print(f\"R²: {r2_score(y_test, y_pred):.2f}\")\n",
    "print(f\"RMSE: {mean_squared_error(y_test, y_pred, squared=False):.2f}\")"
   ]
  },
  {
   "cell_type": "code",
   "execution_count": 403,
   "id": "f5f5d95f",
   "metadata": {},
   "outputs": [
    {
     "data": {
      "text/plain": [
       "75"
      ]
     },
     "execution_count": 403,
     "metadata": {},
     "output_type": "execute_result"
    }
   ],
   "source": [
    "y_pred.shape[0]"
   ]
  },
  {
   "cell_type": "code",
   "execution_count": 82,
   "id": "8ec3a252",
   "metadata": {},
   "outputs": [
    {
     "data": {
      "text/html": [
       "<div>\n",
       "<style scoped>\n",
       "    .dataframe tbody tr th:only-of-type {\n",
       "        vertical-align: middle;\n",
       "    }\n",
       "\n",
       "    .dataframe tbody tr th {\n",
       "        vertical-align: top;\n",
       "    }\n",
       "\n",
       "    .dataframe thead th {\n",
       "        text-align: right;\n",
       "    }\n",
       "</style>\n",
       "<table border=\"1\" class=\"dataframe\">\n",
       "  <thead>\n",
       "    <tr style=\"text-align: right;\">\n",
       "      <th></th>\n",
       "      <th>Unnamed: 0</th>\n",
       "      <th>Ano</th>\n",
       "      <th>area_plantada(ha)</th>\n",
       "      <th>area_colhida(ha)</th>\n",
       "      <th>delta_area</th>\n",
       "      <th>producao(t)</th>\n",
       "      <th>produtividade(kg/ha)</th>\n",
       "      <th>valor_mil(R$)</th>\n",
       "      <th>valor_saca</th>\n",
       "      <th>var_produtividade</th>\n",
       "      <th>...</th>\n",
       "      <th>Media_mar_jun</th>\n",
       "      <th>Media_semestre_1</th>\n",
       "      <th>Media_semestre_2</th>\n",
       "      <th>Evento_mar_jun</th>\n",
       "      <th>Evento_nov_dez_jan</th>\n",
       "      <th>ONI</th>\n",
       "      <th>Evento_mar_jun_num</th>\n",
       "      <th>Evento_nov_dez_jan_num</th>\n",
       "      <th>Precipitacao_out_mai</th>\n",
       "      <th>precipitacao_media</th>\n",
       "    </tr>\n",
       "  </thead>\n",
       "  <tbody>\n",
       "    <tr>\n",
       "      <th>0</th>\n",
       "      <td>0</td>\n",
       "      <td>2002</td>\n",
       "      <td>100.0</td>\n",
       "      <td>100.0</td>\n",
       "      <td>0.0</td>\n",
       "      <td>126.0</td>\n",
       "      <td>1260.0</td>\n",
       "      <td>55.0</td>\n",
       "      <td>26.19</td>\n",
       "      <td>NaN</td>\n",
       "      <td>...</td>\n",
       "      <td>0.350</td>\n",
       "      <td>0.216667</td>\n",
       "      <td>1.050000</td>\n",
       "      <td>Neutro</td>\n",
       "      <td>Neutro</td>\n",
       "      <td>0</td>\n",
       "      <td>2</td>\n",
       "      <td>2</td>\n",
       "      <td>5490.0</td>\n",
       "      <td>1098.00</td>\n",
       "    </tr>\n",
       "    <tr>\n",
       "      <th>1</th>\n",
       "      <td>1</td>\n",
       "      <td>2003</td>\n",
       "      <td>750.0</td>\n",
       "      <td>750.0</td>\n",
       "      <td>0.0</td>\n",
       "      <td>945.0</td>\n",
       "      <td>1260.0</td>\n",
       "      <td>624.0</td>\n",
       "      <td>39.62</td>\n",
       "      <td>0.0</td>\n",
       "      <td>...</td>\n",
       "      <td>-0.025</td>\n",
       "      <td>0.233333</td>\n",
       "      <td>0.283333</td>\n",
       "      <td>Neutro</td>\n",
       "      <td>Neutro</td>\n",
       "      <td>0</td>\n",
       "      <td>2</td>\n",
       "      <td>2</td>\n",
       "      <td>4847.8</td>\n",
       "      <td>969.56</td>\n",
       "    </tr>\n",
       "    <tr>\n",
       "      <th>2</th>\n",
       "      <td>2</td>\n",
       "      <td>2004</td>\n",
       "      <td>750.0</td>\n",
       "      <td>750.0</td>\n",
       "      <td>0.0</td>\n",
       "      <td>945.0</td>\n",
       "      <td>1260.0</td>\n",
       "      <td>650.0</td>\n",
       "      <td>41.27</td>\n",
       "      <td>0.0</td>\n",
       "      <td>...</td>\n",
       "      <td>0.225</td>\n",
       "      <td>0.266667</td>\n",
       "      <td>0.650000</td>\n",
       "      <td>Neutro</td>\n",
       "      <td>Neutro</td>\n",
       "      <td>0</td>\n",
       "      <td>2</td>\n",
       "      <td>2</td>\n",
       "      <td>2405.4</td>\n",
       "      <td>481.08</td>\n",
       "    </tr>\n",
       "    <tr>\n",
       "      <th>3</th>\n",
       "      <td>3</td>\n",
       "      <td>2005</td>\n",
       "      <td>2000.0</td>\n",
       "      <td>2000.0</td>\n",
       "      <td>0.0</td>\n",
       "      <td>480.0</td>\n",
       "      <td>240.0</td>\n",
       "      <td>204.0</td>\n",
       "      <td>25.50</td>\n",
       "      <td>-1020.0</td>\n",
       "      <td>...</td>\n",
       "      <td>0.300</td>\n",
       "      <td>0.400000</td>\n",
       "      <td>-0.333333</td>\n",
       "      <td>Neutro</td>\n",
       "      <td>Neutro</td>\n",
       "      <td>0</td>\n",
       "      <td>2</td>\n",
       "      <td>2</td>\n",
       "      <td>3215.8</td>\n",
       "      <td>643.16</td>\n",
       "    </tr>\n",
       "    <tr>\n",
       "      <th>4</th>\n",
       "      <td>4</td>\n",
       "      <td>2006</td>\n",
       "      <td>2000.0</td>\n",
       "      <td>2000.0</td>\n",
       "      <td>0.0</td>\n",
       "      <td>2400.0</td>\n",
       "      <td>1200.0</td>\n",
       "      <td>920.0</td>\n",
       "      <td>23.00</td>\n",
       "      <td>960.0</td>\n",
       "      <td>...</td>\n",
       "      <td>-0.275</td>\n",
       "      <td>-0.466667</td>\n",
       "      <td>0.583333</td>\n",
       "      <td>Neutro</td>\n",
       "      <td>Neutro</td>\n",
       "      <td>-1</td>\n",
       "      <td>2</td>\n",
       "      <td>2</td>\n",
       "      <td>4194.4</td>\n",
       "      <td>838.88</td>\n",
       "    </tr>\n",
       "    <tr>\n",
       "      <th>5</th>\n",
       "      <td>5</td>\n",
       "      <td>2007</td>\n",
       "      <td>2000.0</td>\n",
       "      <td>2000.0</td>\n",
       "      <td>0.0</td>\n",
       "      <td>3160.0</td>\n",
       "      <td>1580.0</td>\n",
       "      <td>2054.0</td>\n",
       "      <td>39.00</td>\n",
       "      <td>380.0</td>\n",
       "      <td>...</td>\n",
       "      <td>-0.325</td>\n",
       "      <td>-0.066667</td>\n",
       "      <td>-1.150000</td>\n",
       "      <td>Neutro</td>\n",
       "      <td>La nina</td>\n",
       "      <td>-2</td>\n",
       "      <td>2</td>\n",
       "      <td>1</td>\n",
       "      <td>5916.0</td>\n",
       "      <td>1183.20</td>\n",
       "    </tr>\n",
       "    <tr>\n",
       "      <th>6</th>\n",
       "      <td>6</td>\n",
       "      <td>2008</td>\n",
       "      <td>2000.0</td>\n",
       "      <td>2000.0</td>\n",
       "      <td>0.0</td>\n",
       "      <td>3480.0</td>\n",
       "      <td>1740.0</td>\n",
       "      <td>2429.0</td>\n",
       "      <td>41.88</td>\n",
       "      <td>160.0</td>\n",
       "      <td>...</td>\n",
       "      <td>-0.925</td>\n",
       "      <td>-1.133333</td>\n",
       "      <td>-0.416667</td>\n",
       "      <td>La nina</td>\n",
       "      <td>Neutro</td>\n",
       "      <td>-3</td>\n",
       "      <td>1</td>\n",
       "      <td>2</td>\n",
       "      <td>4413.2</td>\n",
       "      <td>882.64</td>\n",
       "    </tr>\n",
       "    <tr>\n",
       "      <th>7</th>\n",
       "      <td>7</td>\n",
       "      <td>2009</td>\n",
       "      <td>2100.0</td>\n",
       "      <td>2100.0</td>\n",
       "      <td>0.0</td>\n",
       "      <td>3675.0</td>\n",
       "      <td>1750.0</td>\n",
       "      <td>2542.0</td>\n",
       "      <td>41.50</td>\n",
       "      <td>10.0</td>\n",
       "      <td>...</td>\n",
       "      <td>-0.150</td>\n",
       "      <td>-0.366667</td>\n",
       "      <td>0.966667</td>\n",
       "      <td>Neutro</td>\n",
       "      <td>El nino</td>\n",
       "      <td>-1</td>\n",
       "      <td>2</td>\n",
       "      <td>0</td>\n",
       "      <td>6007.6</td>\n",
       "      <td>1201.52</td>\n",
       "    </tr>\n",
       "    <tr>\n",
       "      <th>8</th>\n",
       "      <td>8</td>\n",
       "      <td>2010</td>\n",
       "      <td>2100.0</td>\n",
       "      <td>2100.0</td>\n",
       "      <td>0.0</td>\n",
       "      <td>3675.0</td>\n",
       "      <td>1750.0</td>\n",
       "      <td>2235.0</td>\n",
       "      <td>36.49</td>\n",
       "      <td>0.0</td>\n",
       "      <td>...</td>\n",
       "      <td>0.075</td>\n",
       "      <td>0.500000</td>\n",
       "      <td>-1.450000</td>\n",
       "      <td>Neutro</td>\n",
       "      <td>La nina</td>\n",
       "      <td>3</td>\n",
       "      <td>2</td>\n",
       "      <td>1</td>\n",
       "      <td>4925.8</td>\n",
       "      <td>985.16</td>\n",
       "    </tr>\n",
       "    <tr>\n",
       "      <th>9</th>\n",
       "      <td>9</td>\n",
       "      <td>2011</td>\n",
       "      <td>5000.0</td>\n",
       "      <td>5000.0</td>\n",
       "      <td>0.0</td>\n",
       "      <td>12000.0</td>\n",
       "      <td>2400.0</td>\n",
       "      <td>8650.0</td>\n",
       "      <td>43.25</td>\n",
       "      <td>650.0</td>\n",
       "      <td>...</td>\n",
       "      <td>-0.650</td>\n",
       "      <td>-0.866667</td>\n",
       "      <td>-0.833333</td>\n",
       "      <td>La nina</td>\n",
       "      <td>Neutro</td>\n",
       "      <td>-3</td>\n",
       "      <td>1</td>\n",
       "      <td>2</td>\n",
       "      <td>4264.8</td>\n",
       "      <td>852.96</td>\n",
       "    </tr>\n",
       "  </tbody>\n",
       "</table>\n",
       "<p>10 rows × 23 columns</p>\n",
       "</div>"
      ],
      "text/plain": [
       "   Unnamed: 0   Ano  area_plantada(ha)  area_colhida(ha)  delta_area  \\\n",
       "0           0  2002              100.0             100.0         0.0   \n",
       "1           1  2003              750.0             750.0         0.0   \n",
       "2           2  2004              750.0             750.0         0.0   \n",
       "3           3  2005             2000.0            2000.0         0.0   \n",
       "4           4  2006             2000.0            2000.0         0.0   \n",
       "5           5  2007             2000.0            2000.0         0.0   \n",
       "6           6  2008             2000.0            2000.0         0.0   \n",
       "7           7  2009             2100.0            2100.0         0.0   \n",
       "8           8  2010             2100.0            2100.0         0.0   \n",
       "9           9  2011             5000.0            5000.0         0.0   \n",
       "\n",
       "   producao(t)  produtividade(kg/ha)  valor_mil(R$)  valor_saca  \\\n",
       "0        126.0                1260.0           55.0       26.19   \n",
       "1        945.0                1260.0          624.0       39.62   \n",
       "2        945.0                1260.0          650.0       41.27   \n",
       "3        480.0                 240.0          204.0       25.50   \n",
       "4       2400.0                1200.0          920.0       23.00   \n",
       "5       3160.0                1580.0         2054.0       39.00   \n",
       "6       3480.0                1740.0         2429.0       41.88   \n",
       "7       3675.0                1750.0         2542.0       41.50   \n",
       "8       3675.0                1750.0         2235.0       36.49   \n",
       "9      12000.0                2400.0         8650.0       43.25   \n",
       "\n",
       "   var_produtividade  ...  Media_mar_jun  Media_semestre_1  Media_semestre_2  \\\n",
       "0                NaN  ...          0.350          0.216667          1.050000   \n",
       "1                0.0  ...         -0.025          0.233333          0.283333   \n",
       "2                0.0  ...          0.225          0.266667          0.650000   \n",
       "3            -1020.0  ...          0.300          0.400000         -0.333333   \n",
       "4              960.0  ...         -0.275         -0.466667          0.583333   \n",
       "5              380.0  ...         -0.325         -0.066667         -1.150000   \n",
       "6              160.0  ...         -0.925         -1.133333         -0.416667   \n",
       "7               10.0  ...         -0.150         -0.366667          0.966667   \n",
       "8                0.0  ...          0.075          0.500000         -1.450000   \n",
       "9              650.0  ...         -0.650         -0.866667         -0.833333   \n",
       "\n",
       "   Evento_mar_jun  Evento_nov_dez_jan  ONI Evento_mar_jun_num  \\\n",
       "0          Neutro              Neutro    0                  2   \n",
       "1          Neutro              Neutro    0                  2   \n",
       "2          Neutro              Neutro    0                  2   \n",
       "3          Neutro              Neutro    0                  2   \n",
       "4          Neutro              Neutro   -1                  2   \n",
       "5          Neutro             La nina   -2                  2   \n",
       "6         La nina              Neutro   -3                  1   \n",
       "7          Neutro             El nino   -1                  2   \n",
       "8          Neutro             La nina    3                  2   \n",
       "9         La nina              Neutro   -3                  1   \n",
       "\n",
       "  Evento_nov_dez_jan_num  Precipitacao_out_mai  precipitacao_media  \n",
       "0                      2                5490.0             1098.00  \n",
       "1                      2                4847.8              969.56  \n",
       "2                      2                2405.4              481.08  \n",
       "3                      2                3215.8              643.16  \n",
       "4                      2                4194.4              838.88  \n",
       "5                      1                5916.0             1183.20  \n",
       "6                      2                4413.2              882.64  \n",
       "7                      0                6007.6             1201.52  \n",
       "8                      1                4925.8              985.16  \n",
       "9                      2                4264.8              852.96  \n",
       "\n",
       "[10 rows x 23 columns]"
      ]
     },
     "execution_count": 82,
     "metadata": {},
     "output_type": "execute_result"
    }
   ],
   "source": [
    "mer.head(10)"
   ]
  },
  {
   "cell_type": "code",
   "execution_count": 68,
   "id": "44b8c797",
   "metadata": {},
   "outputs": [
    {
     "data": {
      "text/plain": [
       "1705"
      ]
     },
     "execution_count": 68,
     "metadata": {},
     "output_type": "execute_result"
    }
   ],
   "source": [
    "y_test.shape[0]"
   ]
  },
  {
   "cell_type": "code",
   "execution_count": 76,
   "id": "79a8f406",
   "metadata": {},
   "outputs": [
    {
     "data": {
      "text/html": [
       "<div>\n",
       "<style scoped>\n",
       "    .dataframe tbody tr th:only-of-type {\n",
       "        vertical-align: middle;\n",
       "    }\n",
       "\n",
       "    .dataframe tbody tr th {\n",
       "        vertical-align: top;\n",
       "    }\n",
       "\n",
       "    .dataframe thead th {\n",
       "        text-align: right;\n",
       "    }\n",
       "</style>\n",
       "<table border=\"1\" class=\"dataframe\">\n",
       "  <thead>\n",
       "    <tr style=\"text-align: right;\">\n",
       "      <th></th>\n",
       "      <th>Media_semestre_2</th>\n",
       "    </tr>\n",
       "  </thead>\n",
       "  <tbody>\n",
       "    <tr>\n",
       "      <th>5258</th>\n",
       "      <td>-1.450000</td>\n",
       "    </tr>\n",
       "    <tr>\n",
       "      <th>2177</th>\n",
       "      <td>-0.583333</td>\n",
       "    </tr>\n",
       "    <tr>\n",
       "      <th>294</th>\n",
       "      <td>1.050000</td>\n",
       "    </tr>\n",
       "    <tr>\n",
       "      <th>3020</th>\n",
       "      <td>0.316667</td>\n",
       "    </tr>\n",
       "    <tr>\n",
       "      <th>3326</th>\n",
       "      <td>-1.450000</td>\n",
       "    </tr>\n",
       "    <tr>\n",
       "      <th>...</th>\n",
       "      <td>...</td>\n",
       "    </tr>\n",
       "    <tr>\n",
       "      <th>9428</th>\n",
       "      <td>1.616667</td>\n",
       "    </tr>\n",
       "    <tr>\n",
       "      <th>1075</th>\n",
       "      <td>0.583333</td>\n",
       "    </tr>\n",
       "    <tr>\n",
       "      <th>1087</th>\n",
       "      <td>0.550000</td>\n",
       "    </tr>\n",
       "    <tr>\n",
       "      <th>4168</th>\n",
       "      <td>0.200000</td>\n",
       "    </tr>\n",
       "    <tr>\n",
       "      <th>8672</th>\n",
       "      <td>1.616667</td>\n",
       "    </tr>\n",
       "  </tbody>\n",
       "</table>\n",
       "<p>6820 rows × 1 columns</p>\n",
       "</div>"
      ],
      "text/plain": [
       "      Media_semestre_2\n",
       "5258         -1.450000\n",
       "2177         -0.583333\n",
       "294           1.050000\n",
       "3020          0.316667\n",
       "3326         -1.450000\n",
       "...                ...\n",
       "9428          1.616667\n",
       "1075          0.583333\n",
       "1087          0.550000\n",
       "4168          0.200000\n",
       "8672          1.616667\n",
       "\n",
       "[6820 rows x 1 columns]"
      ]
     },
     "execution_count": 76,
     "metadata": {},
     "output_type": "execute_result"
    }
   ],
   "source": [
    "X_train"
   ]
  },
  {
   "cell_type": "code",
   "execution_count": 73,
   "id": "6946fabc",
   "metadata": {},
   "outputs": [
    {
     "data": {
      "text/html": [
       "<div>\n",
       "<style scoped>\n",
       "    .dataframe tbody tr th:only-of-type {\n",
       "        vertical-align: middle;\n",
       "    }\n",
       "\n",
       "    .dataframe tbody tr th {\n",
       "        vertical-align: top;\n",
       "    }\n",
       "\n",
       "    .dataframe thead th {\n",
       "        text-align: right;\n",
       "    }\n",
       "</style>\n",
       "<table border=\"1\" class=\"dataframe\">\n",
       "  <thead>\n",
       "    <tr style=\"text-align: right;\">\n",
       "      <th></th>\n",
       "      <th>Media_semestre_2</th>\n",
       "    </tr>\n",
       "  </thead>\n",
       "  <tbody>\n",
       "    <tr>\n",
       "      <th>9169</th>\n",
       "      <td>2.200000</td>\n",
       "    </tr>\n",
       "    <tr>\n",
       "      <th>5488</th>\n",
       "      <td>0.966667</td>\n",
       "    </tr>\n",
       "    <tr>\n",
       "      <th>1854</th>\n",
       "      <td>-0.416667</td>\n",
       "    </tr>\n",
       "    <tr>\n",
       "      <th>9852</th>\n",
       "      <td>-0.333333</td>\n",
       "    </tr>\n",
       "    <tr>\n",
       "      <th>3187</th>\n",
       "      <td>0.550000</td>\n",
       "    </tr>\n",
       "    <tr>\n",
       "      <th>...</th>\n",
       "      <td>...</td>\n",
       "    </tr>\n",
       "    <tr>\n",
       "      <th>1956</th>\n",
       "      <td>-0.333333</td>\n",
       "    </tr>\n",
       "    <tr>\n",
       "      <th>840</th>\n",
       "      <td>1.050000</td>\n",
       "    </tr>\n",
       "    <tr>\n",
       "      <th>6573</th>\n",
       "      <td>1.050000</td>\n",
       "    </tr>\n",
       "    <tr>\n",
       "      <th>5275</th>\n",
       "      <td>0.583333</td>\n",
       "    </tr>\n",
       "    <tr>\n",
       "      <th>6797</th>\n",
       "      <td>-0.583333</td>\n",
       "    </tr>\n",
       "  </tbody>\n",
       "</table>\n",
       "<p>1705 rows × 1 columns</p>\n",
       "</div>"
      ],
      "text/plain": [
       "      Media_semestre_2\n",
       "9169          2.200000\n",
       "5488          0.966667\n",
       "1854         -0.416667\n",
       "9852         -0.333333\n",
       "3187          0.550000\n",
       "...                ...\n",
       "1956         -0.333333\n",
       "840           1.050000\n",
       "6573          1.050000\n",
       "5275          0.583333\n",
       "6797         -0.583333\n",
       "\n",
       "[1705 rows x 1 columns]"
      ]
     },
     "execution_count": 73,
     "metadata": {},
     "output_type": "execute_result"
    }
   ],
   "source": [
    "X_test"
   ]
  },
  {
   "cell_type": "code",
   "execution_count": null,
   "id": "81666845",
   "metadata": {},
   "outputs": [],
   "source": [
    "mer[\"produtividade\"]"
   ]
  },
  {
   "cell_type": "code",
   "execution_count": 66,
   "id": "3b6462d3",
   "metadata": {},
   "outputs": [
    {
     "data": {
      "text/html": [
       "<div>\n",
       "<style scoped>\n",
       "    .dataframe tbody tr th:only-of-type {\n",
       "        vertical-align: middle;\n",
       "    }\n",
       "\n",
       "    .dataframe tbody tr th {\n",
       "        vertical-align: top;\n",
       "    }\n",
       "\n",
       "    .dataframe thead th {\n",
       "        text-align: right;\n",
       "    }\n",
       "</style>\n",
       "<table border=\"1\" class=\"dataframe\">\n",
       "  <thead>\n",
       "    <tr style=\"text-align: right;\">\n",
       "      <th></th>\n",
       "      <th>Evento_nov_dez_jan</th>\n",
       "      <th>Evento_nov_dez_jan_num</th>\n",
       "    </tr>\n",
       "  </thead>\n",
       "  <tbody>\n",
       "    <tr>\n",
       "      <th>0</th>\n",
       "      <td>Neutro</td>\n",
       "      <td>2</td>\n",
       "    </tr>\n",
       "    <tr>\n",
       "      <th>1</th>\n",
       "      <td>Neutro</td>\n",
       "      <td>2</td>\n",
       "    </tr>\n",
       "    <tr>\n",
       "      <th>2</th>\n",
       "      <td>Neutro</td>\n",
       "      <td>2</td>\n",
       "    </tr>\n",
       "    <tr>\n",
       "      <th>3</th>\n",
       "      <td>Neutro</td>\n",
       "      <td>2</td>\n",
       "    </tr>\n",
       "    <tr>\n",
       "      <th>4</th>\n",
       "      <td>Neutro</td>\n",
       "      <td>2</td>\n",
       "    </tr>\n",
       "    <tr>\n",
       "      <th>...</th>\n",
       "      <td>...</td>\n",
       "      <td>...</td>\n",
       "    </tr>\n",
       "    <tr>\n",
       "      <th>10432</th>\n",
       "      <td>Neutro</td>\n",
       "      <td>2</td>\n",
       "    </tr>\n",
       "    <tr>\n",
       "      <th>10433</th>\n",
       "      <td>Neutro</td>\n",
       "      <td>2</td>\n",
       "    </tr>\n",
       "    <tr>\n",
       "      <th>10434</th>\n",
       "      <td>Neutro</td>\n",
       "      <td>2</td>\n",
       "    </tr>\n",
       "    <tr>\n",
       "      <th>10435</th>\n",
       "      <td>Neutro</td>\n",
       "      <td>2</td>\n",
       "    </tr>\n",
       "    <tr>\n",
       "      <th>10436</th>\n",
       "      <td>El nino</td>\n",
       "      <td>0</td>\n",
       "    </tr>\n",
       "  </tbody>\n",
       "</table>\n",
       "<p>10437 rows × 2 columns</p>\n",
       "</div>"
      ],
      "text/plain": [
       "      Evento_nov_dez_jan  Evento_nov_dez_jan_num\n",
       "0                 Neutro                       2\n",
       "1                 Neutro                       2\n",
       "2                 Neutro                       2\n",
       "3                 Neutro                       2\n",
       "4                 Neutro                       2\n",
       "...                  ...                     ...\n",
       "10432             Neutro                       2\n",
       "10433             Neutro                       2\n",
       "10434             Neutro                       2\n",
       "10435             Neutro                       2\n",
       "10436            El nino                       0\n",
       "\n",
       "[10437 rows x 2 columns]"
      ]
     },
     "execution_count": 66,
     "metadata": {},
     "output_type": "execute_result"
    }
   ],
   "source": [
    "mer[['Evento_nov_dez_jan', 'Evento_nov_dez_jan_num']]"
   ]
  },
  {
   "cell_type": "markdown",
   "id": "ccd0b7a2",
   "metadata": {},
   "source": [
    "### arvore de decisao"
   ]
  },
  {
   "cell_type": "code",
   "execution_count": 64,
   "id": "1f17437a",
   "metadata": {},
   "outputs": [],
   "source": [
    "from sklearn.tree import DecisionTreeRegressor\n",
    "from sklearn.model_selection import train_test_split\n",
    "from sklearn.metrics import r2_score, mean_squared_error"
   ]
  },
  {
   "cell_type": "markdown",
   "id": "ee025738",
   "metadata": {},
   "source": [
    "### Influência das variações de temperatura do oceâno pacífico no regime de precipitação"
   ]
  },
  {
   "cell_type": "markdown",
   "id": "5126e4c7",
   "metadata": {},
   "source": [
    "#### Média entre março e junho e precipitação média"
   ]
  },
  {
   "cell_type": "code",
   "execution_count": 84,
   "id": "f87d093e",
   "metadata": {},
   "outputs": [
    {
     "name": "stdout",
     "output_type": "stream",
     "text": [
      "R²: 0.397\n",
      "RMSE: 268.60\n",
      "|--- Media_mar_jun <= 0.33\n",
      "|   |--- Media_mar_jun <= -0.21\n",
      "|   |   |--- Media_mar_jun <= -0.30\n",
      "|   |   |   |--- Media_mar_jun <= -0.48\n",
      "|   |   |   |   |--- value: [1014.39]\n",
      "|   |   |   |--- Media_mar_jun >  -0.48\n",
      "|   |   |   |   |--- value: [1142.95]\n",
      "|   |   |--- Media_mar_jun >  -0.30\n",
      "|   |   |   |--- value: [452.82]\n",
      "|   |--- Media_mar_jun >  -0.21\n",
      "|   |   |--- Media_mar_jun <= 0.04\n",
      "|   |   |   |--- Media_mar_jun <= 0.00\n",
      "|   |   |   |   |--- value: [1244.09]\n",
      "|   |   |   |--- Media_mar_jun >  0.00\n",
      "|   |   |   |   |--- value: [1540.22]\n",
      "|   |   |--- Media_mar_jun >  0.04\n",
      "|   |   |   |--- Media_mar_jun <= 0.06\n",
      "|   |   |   |   |--- value: [760.09]\n",
      "|   |   |   |--- Media_mar_jun >  0.06\n",
      "|   |   |   |   |--- value: [1106.64]\n",
      "|--- Media_mar_jun >  0.33\n",
      "|   |--- Media_mar_jun <= 0.76\n",
      "|   |   |--- Media_mar_jun <= 0.65\n",
      "|   |   |   |--- Media_mar_jun <= 0.48\n",
      "|   |   |   |   |--- value: [1293.75]\n",
      "|   |   |   |--- Media_mar_jun >  0.48\n",
      "|   |   |   |   |--- value: [1338.86]\n",
      "|   |   |--- Media_mar_jun >  0.65\n",
      "|   |   |   |--- value: [1251.92]\n",
      "|   |--- Media_mar_jun >  0.76\n",
      "|   |   |--- value: [1540.84]\n",
      "\n"
     ]
    }
   ],
   "source": [
    "from sklearn.tree import export_text\n",
    "\n",
    "X = mer[['Media_mar_jun']]  # variáveis explicativas\n",
    "y = mer[\"precipitacao_media\"] # variável alvo\n",
    "\n",
    "X_train, X_test, y_train, y_test = train_test_split(X, y, test_size=0.2, random_state=42)\n",
    "tree = DecisionTreeRegressor(max_depth=4, random_state=42)\n",
    "tree.fit(X_train, y_train)\n",
    "y_pred = tree.predict(X_test)\n",
    "\n",
    "r2 = r2_score(y_test, y_pred)\n",
    "rmse = mean_squared_error(y_test, y_pred, squared=False)\n",
    "\n",
    "print(f\"R²: {r2:.3f}\")\n",
    "print(f\"RMSE: {rmse:.2f}\")\n",
    "\n",
    "tree_rules = export_text(tree, feature_names=list(X.columns))\n",
    "print(tree_rules)\n"
   ]
  },
  {
   "cell_type": "markdown",
   "id": "4c769a95",
   "metadata": {},
   "source": [
    "#### Média nov-dez-jan e precipitação média"
   ]
  },
  {
   "cell_type": "code",
   "execution_count": 82,
   "id": "7851543a",
   "metadata": {},
   "outputs": [
    {
     "name": "stdout",
     "output_type": "stream",
     "text": [
      "R²: 0.451\n",
      "RMSE: 256.29\n",
      "|--- Dez <= 1.35\n",
      "|   |--- Dez <= 0.85\n",
      "|   |   |--- Dez <= 0.75\n",
      "|   |   |   |--- Dez <= -1.40\n",
      "|   |   |   |   |--- value: [1204.71]\n",
      "|   |   |   |--- Dez >  -1.40\n",
      "|   |   |   |   |--- value: [1086.31]\n",
      "|   |   |--- Dez >  0.75\n",
      "|   |   |   |--- value: [1245.26]\n",
      "|   |--- Dez >  0.85\n",
      "|   |   |--- Dez <= 1.00\n",
      "|   |   |   |--- value: [452.82]\n",
      "|   |   |--- Dez >  1.00\n",
      "|   |   |   |--- value: [801.39]\n",
      "|--- Dez >  1.35\n",
      "|   |--- Dez <= 1.80\n",
      "|   |   |--- value: [1534.63]\n",
      "|   |--- Dez >  1.80\n",
      "|   |   |--- Dez <= 2.30\n",
      "|   |   |   |--- value: [1737.43]\n",
      "|   |   |--- Dez >  2.30\n",
      "|   |   |   |--- value: [1540.84]\n",
      "\n"
     ]
    }
   ],
   "source": [
    "X = mer[['Dez']] # variáveis explicativas\n",
    "y = mer[\"precipitacao_media\"] # variável alvo\n",
    "\n",
    "X_train, X_test, y_train, y_test = train_test_split(X, y, test_size=0.2, random_state=42)\n",
    "tree = DecisionTreeRegressor(max_depth=4, random_state=42)\n",
    "tree.fit(X_train, y_train)\n",
    "y_pred = tree.predict(X_test)\n",
    "\n",
    "r2 = r2_score(y_test, y_pred)\n",
    "rmse = mean_squared_error(y_test, y_pred, squared=False)\n",
    "\n",
    "print(f\"R²: {r2:.3f}\")\n",
    "print(f\"RMSE: {rmse:.2f}\")\n",
    "\n",
    "tree_rules = export_text(tree, feature_names=list(X.columns))\n",
    "print(tree_rules)"
   ]
  },
  {
   "cell_type": "code",
   "execution_count": 97,
   "id": "82538dc2",
   "metadata": {},
   "outputs": [
    {
     "data": {
      "text/plain": [
       "Index(['Unnamed: 0', 'Município', 'Ano', 'area_plantada(ha)',\n",
       "       'area_colhida(ha)', 'delta_area', 'producao(t)', 'produtividade(kg/ha)',\n",
       "       'valor_mil(R$)', 'valor_saca', 'var_produtividade',\n",
       "       'var_produtividade_%', 'var_producao(t)', 'var_producao(t)_%',\n",
       "       'Media_mar_jun', 'Dez', 'Media_semestre_1', 'Media_semestre_2',\n",
       "       'Evento_mar_jun', 'Evento_nov_dez_jan', 'precipitacao_media',\n",
       "       'latitude', 'longitude', 'pluv_media_cluster', 'delta_area(%)'],\n",
       "      dtype='object')"
      ]
     },
     "execution_count": 97,
     "metadata": {},
     "output_type": "execute_result"
    }
   ],
   "source": [
    "mer.columns"
   ]
  },
  {
   "cell_type": "markdown",
   "id": "15ff97a6",
   "metadata": {},
   "source": [
    "####  Árvore de decisão - Precipitação média e produtividade"
   ]
  },
  {
   "cell_type": "code",
   "execution_count": 98,
   "id": "2ff12ee7",
   "metadata": {},
   "outputs": [
    {
     "name": "stdout",
     "output_type": "stream",
     "text": [
      "R²: 0.538\n",
      "RMSE: 609.65\n",
      "|--- precipitacao_media <= 1063.83\n",
      "|   |--- valor_saca <= 58.51\n",
      "|   |   |--- precipitacao_media <= 948.15\n",
      "|   |   |   |--- precipitacao_media <= 917.40\n",
      "|   |   |   |   |--- value: [1673.25]\n",
      "|   |   |   |--- precipitacao_media >  917.40\n",
      "|   |   |   |   |--- value: [2324.88]\n",
      "|   |   |--- precipitacao_media >  948.15\n",
      "|   |   |   |--- precipitacao_media <= 950.46\n",
      "|   |   |   |   |--- value: [657.43]\n",
      "|   |   |   |--- precipitacao_media >  950.46\n",
      "|   |   |   |   |--- value: [1629.12]\n",
      "|   |--- valor_saca >  58.51\n",
      "|   |   |--- valor_saca <= 175.26\n",
      "|   |   |   |--- valor_saca <= 107.53\n",
      "|   |   |   |   |--- value: [2045.54]\n",
      "|   |   |   |--- valor_saca >  107.53\n",
      "|   |   |   |   |--- value: [3183.59]\n",
      "|   |   |--- valor_saca >  175.26\n",
      "|   |   |   |--- valor_saca <= 186.21\n",
      "|   |   |   |   |--- value: [1390.61]\n",
      "|   |   |   |--- valor_saca >  186.21\n",
      "|   |   |   |   |--- value: [1925.35]\n",
      "|--- precipitacao_media >  1063.83\n",
      "|   |--- valor_saca <= 52.69\n",
      "|   |   |--- precipitacao_media <= 1085.49\n",
      "|   |   |   |--- precipitacao_media <= 1073.08\n",
      "|   |   |   |   |--- value: [2412.41]\n",
      "|   |   |   |--- precipitacao_media >  1073.08\n",
      "|   |   |   |   |--- value: [2900.68]\n",
      "|   |   |--- precipitacao_media >  1085.49\n",
      "|   |   |   |--- valor_saca <= 35.08\n",
      "|   |   |   |   |--- value: [2497.28]\n",
      "|   |   |   |--- valor_saca >  35.08\n",
      "|   |   |   |   |--- value: [2142.78]\n",
      "|   |--- valor_saca >  52.69\n",
      "|   |   |--- valor_saca <= 88.23\n",
      "|   |   |   |--- precipitacao_media <= 1639.17\n",
      "|   |   |   |   |--- value: [2950.01]\n",
      "|   |   |   |--- precipitacao_media >  1639.17\n",
      "|   |   |   |   |--- value: [3378.39]\n",
      "|   |   |--- valor_saca >  88.23\n",
      "|   |   |   |--- precipitacao_media <= 1210.30\n",
      "|   |   |   |   |--- value: [2845.56]\n",
      "|   |   |   |--- precipitacao_media >  1210.30\n",
      "|   |   |   |   |--- value: [2135.75]\n",
      "\n"
     ]
    }
   ],
   "source": [
    "X = mer[['valor_saca','precipitacao_media']] # variáveis explicativas\n",
    "y = mer[\"produtividade(kg/ha)\"] # variável alvo\n",
    "\n",
    "X_train, X_test, y_train, y_test = train_test_split(X, y, test_size=0.2, random_state=42)\n",
    "tree = DecisionTreeRegressor(max_depth=4, random_state=42)\n",
    "tree.fit(X_train, y_train)\n",
    "y_pred = tree.predict(X_test)\n",
    "\n",
    "r2 = r2_score(y_test, y_pred)\n",
    "rmse = mean_squared_error(y_test, y_pred, squared=False)\n",
    "\n",
    "print(f\"R²: {r2:.3f}\")\n",
    "print(f\"RMSE: {rmse:.2f}\")\n",
    "\n",
    "tree_rules = export_text(tree, feature_names=list(X.columns))\n",
    "print(tree_rules)"
   ]
  },
  {
   "cell_type": "code",
   "execution_count": 89,
   "id": "0e744fe4",
   "metadata": {},
   "outputs": [],
   "source": [
    "#### Média mar-jun e produtividade"
   ]
  },
  {
   "cell_type": "code",
   "execution_count": 88,
   "id": "dabc5569",
   "metadata": {},
   "outputs": [
    {
     "name": "stdout",
     "output_type": "stream",
     "text": [
      "R²: 0.351\n",
      "RMSE: 722.33\n",
      "|--- Media_mar_jun <= 0.48\n",
      "|   |--- Media_mar_jun <= 0.26\n",
      "|   |   |--- Media_mar_jun <= -0.79\n",
      "|   |   |   |--- Media_mar_jun <= -0.96\n",
      "|   |   |   |   |--- value: [1699.10]\n",
      "|   |   |   |--- Media_mar_jun >  -0.96\n",
      "|   |   |   |   |--- value: [1999.50]\n",
      "|   |   |--- Media_mar_jun >  -0.79\n",
      "|   |   |   |--- Media_mar_jun <= -0.48\n",
      "|   |   |   |   |--- value: [3061.32]\n",
      "|   |   |   |--- Media_mar_jun >  -0.48\n",
      "|   |   |   |   |--- value: [2337.68]\n",
      "|   |--- Media_mar_jun >  0.26\n",
      "|   |   |--- Media_mar_jun <= 0.33\n",
      "|   |   |   |--- value: [657.77]\n",
      "|   |   |--- Media_mar_jun >  0.33\n",
      "|   |   |   |--- value: [1923.42]\n",
      "|--- Media_mar_jun >  0.48\n",
      "|   |--- Media_mar_jun <= 0.65\n",
      "|   |   |--- value: [3235.82]\n",
      "|   |--- Media_mar_jun >  0.65\n",
      "|   |   |--- Media_mar_jun <= 0.76\n",
      "|   |   |   |--- value: [2968.65]\n",
      "|   |   |--- Media_mar_jun >  0.76\n",
      "|   |   |   |--- value: [2995.17]\n",
      "\n"
     ]
    }
   ],
   "source": [
    "X = mer[['Media_mar_jun']] # variáveis explicativas\n",
    "y = mer[\"produtividade(kg/ha)\"] # variável alvo\n",
    "\n",
    "X_train, X_test, y_train, y_test = train_test_split(X, y, test_size=0.2, random_state=42)\n",
    "tree = DecisionTreeRegressor(max_depth=4, random_state=42)\n",
    "tree.fit(X_train, y_train)\n",
    "y_pred = tree.predict(X_test)\n",
    "\n",
    "r2 = r2_score(y_test, y_pred)\n",
    "rmse = mean_squared_error(y_test, y_pred, squared=False)\n",
    "\n",
    "print(f\"R²: {r2:.3f}\")\n",
    "print(f\"RMSE: {rmse:.2f}\")\n",
    "\n",
    "tree_rules = export_text(tree, feature_names=list(X.columns))\n",
    "print(tree_rules)"
   ]
  },
  {
   "cell_type": "markdown",
   "id": "6297c9c7",
   "metadata": {},
   "source": [
    "#### Média nov-dez-jan e produtividade"
   ]
  },
  {
   "cell_type": "code",
   "execution_count": 86,
   "id": "edbd42b4",
   "metadata": {},
   "outputs": [
    {
     "name": "stdout",
     "output_type": "stream",
     "text": [
      "R²: 0.341\n",
      "RMSE: 728.04\n",
      "|--- Dez <= -0.90\n",
      "|   |--- Dez <= -1.10\n",
      "|   |   |--- Dez <= -1.40\n",
      "|   |   |   |--- value: [2457.13]\n",
      "|   |   |--- Dez >  -1.40\n",
      "|   |   |   |--- value: [2004.82]\n",
      "|   |--- Dez >  -1.10\n",
      "|   |   |--- value: [3151.47]\n",
      "|--- Dez >  -0.90\n",
      "|   |--- Dez <= -0.75\n",
      "|   |   |--- value: [1203.99]\n",
      "|   |--- Dez >  -0.75\n",
      "|   |   |--- Dez <= 2.30\n",
      "|   |   |   |--- Dez <= 0.85\n",
      "|   |   |   |   |--- value: [2458.17]\n",
      "|   |   |   |--- Dez >  0.85\n",
      "|   |   |   |   |--- value: [1952.57]\n",
      "|   |   |--- Dez >  2.30\n",
      "|   |   |   |--- value: [2995.17]\n",
      "\n"
     ]
    }
   ],
   "source": [
    "X = mer[['Dez']] # variáveis explicativas\n",
    "y = mer[\"produtividade(kg/ha)\"] # variável alvo\n",
    "\n",
    "X_train, X_test, y_train, y_test = train_test_split(X, y, test_size=0.2, random_state=42)\n",
    "tree = DecisionTreeRegressor(max_depth=4, random_state=42)\n",
    "tree.fit(X_train, y_train)\n",
    "y_pred = tree.predict(X_test)\n",
    "\n",
    "r2 = r2_score(y_test, y_pred)\n",
    "rmse = mean_squared_error(y_test, y_pred, squared=False)\n",
    "\n",
    "print(f\"R²: {r2:.3f}\")\n",
    "print(f\"RMSE: {rmse:.2f}\")\n",
    "\n",
    "tree_rules = export_text(tree, feature_names=list(X.columns))\n",
    "print(tree_rules)"
   ]
  },
  {
   "cell_type": "code",
   "execution_count": 80,
   "id": "a534c601",
   "metadata": {},
   "outputs": [
    {
     "name": "stdout",
     "output_type": "stream",
     "text": [
      "R²: 0.144\n",
      "RMSE: 0.06\n",
      "|--- Media_mar_jun <= 0.26\n",
      "|   |--- Media_mar_jun <= -0.96\n",
      "|   |   |--- value: [0.03]\n",
      "|   |--- Media_mar_jun >  -0.96\n",
      "|   |   |--- Media_mar_jun <= -0.48\n",
      "|   |   |   |--- Media_mar_jun <= -0.79\n",
      "|   |   |   |   |--- value: [0.00]\n",
      "|   |   |   |--- Media_mar_jun >  -0.79\n",
      "|   |   |   |   |--- value: [0.00]\n",
      "|   |   |--- Media_mar_jun >  -0.48\n",
      "|   |   |   |--- Media_mar_jun <= -0.34\n",
      "|   |   |   |   |--- value: [0.01]\n",
      "|   |   |   |--- Media_mar_jun >  -0.34\n",
      "|   |   |   |   |--- value: [0.00]\n",
      "|--- Media_mar_jun >  0.26\n",
      "|   |--- Media_mar_jun <= 0.33\n",
      "|   |   |--- value: [0.13]\n",
      "|   |--- Media_mar_jun >  0.33\n",
      "|   |   |--- Media_mar_jun <= 0.76\n",
      "|   |   |   |--- Media_mar_jun <= 0.65\n",
      "|   |   |   |   |--- value: [0.00]\n",
      "|   |   |   |--- Media_mar_jun >  0.65\n",
      "|   |   |   |   |--- value: [0.01]\n",
      "|   |   |--- Media_mar_jun >  0.76\n",
      "|   |   |   |--- value: [0.00]\n",
      "\n"
     ]
    }
   ],
   "source": [
    "X = mer[['Media_mar_jun']] # variáveis explicativas\n",
    "y = mer[\"delta_area(%)\"] # variável alvo\n",
    "\n",
    "X_train, X_test, y_train, y_test = train_test_split(X, y, test_size=0.2, random_state=42)\n",
    "tree = DecisionTreeRegressor(max_depth=4, random_state=42)\n",
    "tree.fit(X_train, y_train)\n",
    "y_pred = tree.predict(X_test)\n",
    "\n",
    "r2 = r2_score(y_test, y_pred)\n",
    "rmse = mean_squared_error(y_test, y_pred, squared=False)\n",
    "\n",
    "print(f\"R²: {r2:.3f}\")\n",
    "print(f\"RMSE: {rmse:.2f}\")\n",
    "\n",
    "tree_rules = export_text(tree, feature_names=list(X.columns))\n",
    "print(tree_rules)"
   ]
  },
  {
   "cell_type": "markdown",
   "id": "bceaf504",
   "metadata": {},
   "source": [
    "# Vamos testar o Random Forest para tentar pegar relações mais complexas"
   ]
  },
  {
   "cell_type": "code",
   "execution_count": 120,
   "id": "9bd5e21c",
   "metadata": {},
   "outputs": [],
   "source": [
    "from sklearn.ensemble import RandomForestRegressor"
   ]
  },
  {
   "cell_type": "code",
   "execution_count": 131,
   "id": "0848ba8a",
   "metadata": {},
   "outputs": [],
   "source": [
    "mer_prec = mer.drop_duplicates(\"precipitacao_media\")"
   ]
  },
  {
   "cell_type": "code",
   "execution_count": 156,
   "id": "3418d430",
   "metadata": {},
   "outputs": [
    {
     "name": "stdout",
     "output_type": "stream",
     "text": [
      "R²: 0.523\n",
      "RMSE: 237.46\n"
     ]
    }
   ],
   "source": [
    "X = mer[['Media_mar_jun']] # variáveis explicativas\n",
    "y = mer[\"precipitacao_media\"] # variável alvo\n",
    "\n",
    "X_train, X_test, y_train, y_test = train_test_split(X, y, test_size=0.2, random_state=42)\n",
    "forest = RandomForestRegressor(n_estimators=100, random_state=42)\n",
    "forest.fit(X_train, y_train) \n",
    "\n",
    "y_pred = forest.predict(X_test)\n",
    "\n",
    "r2 = r2_score(y_test, y_pred)\n",
    "rmse = mean_squared_error(y_test, y_pred, squared=False)\n",
    "\n",
    "print(f\"R²: {r2:.3f}\")\n",
    "print(f\"RMSE: {rmse:.2f}\")"
   ]
  },
  {
   "cell_type": "code",
   "execution_count": 138,
   "id": "a45465df",
   "metadata": {},
   "outputs": [
    {
     "data": {
      "text/plain": [
       "8949"
      ]
     },
     "execution_count": 138,
     "metadata": {},
     "output_type": "execute_result"
    }
   ],
   "source": [
    "mer.shape[0]"
   ]
  },
  {
   "cell_type": "code",
   "execution_count": 137,
   "id": "6a29b06e",
   "metadata": {},
   "outputs": [
    {
     "data": {
      "text/plain": [
       "1790"
      ]
     },
     "execution_count": 137,
     "metadata": {},
     "output_type": "execute_result"
    }
   ],
   "source": [
    "len(y_pred)"
   ]
  },
  {
   "cell_type": "code",
   "execution_count": null,
   "id": "9fdb14fe",
   "metadata": {},
   "outputs": [
    {
     "data": {
      "image/png": "[encoded data removed]",
      "text/plain": [
       "<Figure size 1000x600 with 1 Axes>"
      ]
     },
     "metadata": {},
     "output_type": "display_data"
    }
   ],
   "source": [
    "import matplotlib.pyplot as plt\n",
    "import seaborn as sns\n",
    "\n",
    "plt.figure(figsize=(10, 6))\n",
    "sns.scatterplot(x=y_test, y=y_pred, alpha=0.6)\n",
    "plt.plot([y_test.min(), y_test.max()], [y_test.min(), y_test.max()], 'r--')\n",
    "plt.xlabel(\"Valores Reais\")\n",
    "plt.ylabel(\"Previsões\")\n",
    "plt.title(\"Random Forest: Valores Reais vs. Previsões\")\n",
    "plt.grid(True)\n",
    "plt.show()"
   ]
  },
  {
   "cell_type": "markdown",
   "id": "43c9a07d",
   "metadata": {},
   "source": [
    "### Criar DataFrame de cenários (usando a média mar-jun como variável)"
   ]
  },
  {
   "cell_type": "code",
   "execution_count": 157,
   "id": "bbac3da8",
   "metadata": {},
   "outputs": [],
   "source": [
    "cenarios = pd.DataFrame({\n",
    "    \"Cenario\": [\"El Nino Forte\", \"El Nino Moderado\", \"Neutro\", \"La Niña Moderado\", \"La Niña Forte\"],\n",
    "    \"Media_mar_jun\": [2.0, 1.2, 0.0, -1.2, -2.0]\n",
    "})"
   ]
  },
  {
   "cell_type": "code",
   "execution_count": 158,
   "id": "1c1ae7c9",
   "metadata": {},
   "outputs": [
    {
     "name": "stdout",
     "output_type": "stream",
     "text": [
      "            Cenario  Media_mar_jun  Precipitacao_Prevista\n",
      "0     El Nino Forte            2.0            1540.988032\n",
      "1  El Nino Moderado            1.2            1540.988032\n",
      "2            Neutro            0.0             942.286026\n",
      "3  La Niña Moderado           -1.2            1008.589792\n",
      "4     La Niña Forte           -2.0            1008.589792\n"
     ]
    }
   ],
   "source": [
    "# Gerar previsões\n",
    "cenarios[\"Precipitacao_Prevista\"] = forest.predict(cenarios[[\"Media_mar_jun\"]])\n",
    "\n",
    "# Mostrar resultados\n",
    "print(cenarios[[\"Cenario\", \"Media_mar_jun\", \"Precipitacao_Prevista\"]])"
   ]
  },
  {
   "cell_type": "code",
   "execution_count": 159,
   "id": "e19d7f2d",
   "metadata": {},
   "outputs": [
    {
     "name": "stdout",
     "output_type": "stream",
     "text": [
      "R²: 0.595\n",
      "RMSE: 218.72\n"
     ]
    }
   ],
   "source": [
    "X = mer[['Dez']] # variáveis explicativas\n",
    "y = mer[\"precipitacao_media\"] # variável alvo\n",
    "\n",
    "X_train, X_test, y_train, y_test = train_test_split(X, y, test_size=0.2, random_state=42)\n",
    "forest = RandomForestRegressor(n_estimators=100, random_state=42)\n",
    "forest.fit(X_train, y_train) \n",
    "\n",
    "y_pred = forest.predict(X_test)\n",
    "\n",
    "r2 = r2_score(y_test, y_pred)\n",
    "rmse = mean_squared_error(y_test, y_pred, squared=False)\n",
    "\n",
    "print(f\"R²: {r2:.3f}\")\n",
    "print(f\"RMSE: {rmse:.2f}\")"
   ]
  },
  {
   "cell_type": "code",
   "execution_count": 160,
   "id": "a066f2ae",
   "metadata": {},
   "outputs": [
    {
     "name": "stdout",
     "output_type": "stream",
     "text": [
      "            Cenario  Dez  Precipitacao_Prevista\n",
      "0     El Nino Forte  2.0            1740.671907\n",
      "1  El Nino Moderado  1.2             801.747848\n",
      "2            Neutro  0.0             943.082833\n",
      "3  La Niña Moderado -1.2             759.203657\n",
      "4     La Niña Forte -2.0            1208.051062\n"
     ]
    }
   ],
   "source": [
    "cenarios_dez = pd.DataFrame({\n",
    "    \"Cenario\": [\"El Nino Forte\", \"El Nino Moderado\", \"Neutro\", \"La Niña Moderado\", \"La Niña Forte\"],\n",
    "    \"Dez\": [2.0, 1.2, 0.0, -1.2, -2.0]\n",
    "})\n",
    "\n",
    "# Gerar previsões\n",
    "cenarios_dez[\"Precipitacao_Prevista\"] = forest.predict(cenarios_dez[[\"Dez\"]])\n",
    "\n",
    "# Mostrar resultados\n",
    "print(cenarios_dez[[\"Cenario\", \"Dez\", \"Precipitacao_Prevista\"]])"
   ]
  },
  {
   "cell_type": "code",
   "execution_count": 155,
   "id": "99787268",
   "metadata": {},
   "outputs": [
    {
     "data": {
      "text/plain": [
       "Index(['Unnamed: 0', 'Município', 'Ano', 'area_plantada(ha)',\n",
       "       'area_colhida(ha)', 'delta_area', 'producao(t)', 'produtividade(kg/ha)',\n",
       "       'valor_mil(R$)', 'valor_saca', 'var_produtividade',\n",
       "       'var_produtividade_%', 'var_producao(t)', 'var_producao(t)_%',\n",
       "       'Media_mar_jun', 'Dez', 'Media_semestre_1', 'Media_semestre_2',\n",
       "       'Evento_mar_jun', 'Evento_nov_dez_jan', 'precipitacao_media',\n",
       "       'latitude', 'longitude', 'pluv_media_cluster', 'delta_area(%)'],\n",
       "      dtype='object')"
      ]
     },
     "execution_count": 155,
     "metadata": {},
     "output_type": "execute_result"
    }
   ],
   "source": [
    "mer.columns"
   ]
  },
  {
   "cell_type": "code",
   "execution_count": 154,
   "id": "a0c5512e",
   "metadata": {},
   "outputs": [
    {
     "name": "stdout",
     "output_type": "stream",
     "text": [
      "            Cenario  Media_mar_jun  Precipitacao_Prevista\n",
      "0     El Nino Forte            2.0            1740.671907\n",
      "1  El Nino Moderado            1.2             801.747848\n",
      "2            Neutro            0.0             943.082833\n",
      "3  La Niña Moderado           -1.2             759.203657\n",
      "4     La Niña Forte           -2.0            1208.051062\n"
     ]
    }
   ],
   "source": [
    "# Gerar previsões\n",
    "cenarios[\"Precipitacao_Prevista\"] = forest.predict(cenarios_dez[[\"Dez\"]])\n",
    "\n",
    "# Mostrar resultados\n",
    "print(cenarios[[\"Cenario\", \"Media_mar_jun\", \"Precipitacao_Prevista\"]])"
   ]
  },
  {
   "cell_type": "code",
   "execution_count": 140,
   "id": "ce91af89",
   "metadata": {},
   "outputs": [
    {
     "ename": "TypeError",
     "evalue": "Data source must be a DataFrame or Mapping, not <class 'numpy.ndarray'>.",
     "output_type": "error",
     "traceback": [
      "\u001b[1;31m---------------------------------------------------------------------------\u001b[0m",
      "\u001b[1;31mTypeError\u001b[0m                                 Traceback (most recent call last)",
      "Cell \u001b[1;32mIn[140], line 5\u001b[0m\n\u001b[0;32m      2\u001b[0m \u001b[38;5;28;01mimport\u001b[39;00m\u001b[38;5;250m \u001b[39m\u001b[38;5;21;01mseaborn\u001b[39;00m\u001b[38;5;250m \u001b[39m\u001b[38;5;28;01mas\u001b[39;00m\u001b[38;5;250m \u001b[39m\u001b[38;5;21;01msns\u001b[39;00m\n\u001b[0;32m      4\u001b[0m plt\u001b[38;5;241m.\u001b[39mfigure(figsize\u001b[38;5;241m=\u001b[39m(\u001b[38;5;241m10\u001b[39m, \u001b[38;5;241m6\u001b[39m))\n\u001b[1;32m----> 5\u001b[0m \u001b[43msns\u001b[49m\u001b[38;5;241;43m.\u001b[39;49m\u001b[43mbarplot\u001b[49m\u001b[43m(\u001b[49m\u001b[43mdata\u001b[49m\u001b[38;5;241;43m=\u001b[39;49m\u001b[43my_pred\u001b[49m\u001b[43m,\u001b[49m\u001b[43m \u001b[49m\u001b[43mx\u001b[49m\u001b[38;5;241;43m=\u001b[39;49m\u001b[38;5;124;43m\"\u001b[39;49m\u001b[38;5;124;43mCenario\u001b[39;49m\u001b[38;5;124;43m\"\u001b[39;49m\u001b[43m,\u001b[49m\u001b[43m \u001b[49m\u001b[43my\u001b[49m\u001b[38;5;241;43m=\u001b[39;49m\u001b[38;5;124;43m\"\u001b[39;49m\u001b[38;5;124;43mPrecipitacao_Prevista\u001b[39;49m\u001b[38;5;124;43m\"\u001b[39;49m\u001b[43m,\u001b[49m\u001b[43m \u001b[49m\u001b[43mpalette\u001b[49m\u001b[38;5;241;43m=\u001b[39;49m\u001b[38;5;124;43m\"\u001b[39;49m\u001b[38;5;124;43mcoolwarm\u001b[39;49m\u001b[38;5;124;43m\"\u001b[39;49m\u001b[43m)\u001b[49m\n\u001b[0;32m      6\u001b[0m plt\u001b[38;5;241m.\u001b[39mtitle(\u001b[38;5;124m\"\u001b[39m\u001b[38;5;124mPrecipitação Prevista no RS por Cenário de ENSO\u001b[39m\u001b[38;5;124m\"\u001b[39m)\n\u001b[0;32m      7\u001b[0m plt\u001b[38;5;241m.\u001b[39mylabel(\u001b[38;5;124m\"\u001b[39m\u001b[38;5;124mPrecipitação (mm)\u001b[39m\u001b[38;5;124m\"\u001b[39m)\n",
      "File \u001b[1;32mc:\\Users\\DellVostro\\anaconda3\\Lib\\site-packages\\seaborn\\categorical.py:2341\u001b[0m, in \u001b[0;36mbarplot\u001b[1;34m(data, x, y, hue, order, hue_order, estimator, errorbar, n_boot, seed, units, weights, orient, color, palette, saturation, fill, hue_norm, width, dodge, gap, log_scale, native_scale, formatter, legend, capsize, err_kws, ci, errcolor, errwidth, ax, **kwargs)\u001b[0m\n\u001b[0;32m   2338\u001b[0m \u001b[38;5;28;01mif\u001b[39;00m estimator \u001b[38;5;129;01mis\u001b[39;00m \u001b[38;5;28mlen\u001b[39m:\n\u001b[0;32m   2339\u001b[0m     estimator \u001b[38;5;241m=\u001b[39m \u001b[38;5;124m\"\u001b[39m\u001b[38;5;124msize\u001b[39m\u001b[38;5;124m\"\u001b[39m\n\u001b[1;32m-> 2341\u001b[0m p \u001b[38;5;241m=\u001b[39m \u001b[43m_CategoricalAggPlotter\u001b[49m\u001b[43m(\u001b[49m\n\u001b[0;32m   2342\u001b[0m \u001b[43m    \u001b[49m\u001b[43mdata\u001b[49m\u001b[38;5;241;43m=\u001b[39;49m\u001b[43mdata\u001b[49m\u001b[43m,\u001b[49m\n\u001b[0;32m   2343\u001b[0m \u001b[43m    \u001b[49m\u001b[43mvariables\u001b[49m\u001b[38;5;241;43m=\u001b[39;49m\u001b[38;5;28;43mdict\u001b[39;49m\u001b[43m(\u001b[49m\u001b[43mx\u001b[49m\u001b[38;5;241;43m=\u001b[39;49m\u001b[43mx\u001b[49m\u001b[43m,\u001b[49m\u001b[43m \u001b[49m\u001b[43my\u001b[49m\u001b[38;5;241;43m=\u001b[39;49m\u001b[43my\u001b[49m\u001b[43m,\u001b[49m\u001b[43m \u001b[49m\u001b[43mhue\u001b[49m\u001b[38;5;241;43m=\u001b[39;49m\u001b[43mhue\u001b[49m\u001b[43m,\u001b[49m\u001b[43m \u001b[49m\u001b[43munits\u001b[49m\u001b[38;5;241;43m=\u001b[39;49m\u001b[43munits\u001b[49m\u001b[43m,\u001b[49m\u001b[43m \u001b[49m\u001b[43mweight\u001b[49m\u001b[38;5;241;43m=\u001b[39;49m\u001b[43mweights\u001b[49m\u001b[43m)\u001b[49m\u001b[43m,\u001b[49m\n\u001b[0;32m   2344\u001b[0m \u001b[43m    \u001b[49m\u001b[43morder\u001b[49m\u001b[38;5;241;43m=\u001b[39;49m\u001b[43morder\u001b[49m\u001b[43m,\u001b[49m\n\u001b[0;32m   2345\u001b[0m \u001b[43m    \u001b[49m\u001b[43morient\u001b[49m\u001b[38;5;241;43m=\u001b[39;49m\u001b[43morient\u001b[49m\u001b[43m,\u001b[49m\n\u001b[0;32m   2346\u001b[0m \u001b[43m    \u001b[49m\u001b[43mcolor\u001b[49m\u001b[38;5;241;43m=\u001b[39;49m\u001b[43mcolor\u001b[49m\u001b[43m,\u001b[49m\n\u001b[0;32m   2347\u001b[0m \u001b[43m    \u001b[49m\u001b[43mlegend\u001b[49m\u001b[38;5;241;43m=\u001b[39;49m\u001b[43mlegend\u001b[49m\u001b[43m,\u001b[49m\n\u001b[0;32m   2348\u001b[0m \u001b[43m\u001b[49m\u001b[43m)\u001b[49m\n\u001b[0;32m   2350\u001b[0m \u001b[38;5;28;01mif\u001b[39;00m ax \u001b[38;5;129;01mis\u001b[39;00m \u001b[38;5;28;01mNone\u001b[39;00m:\n\u001b[0;32m   2351\u001b[0m     ax \u001b[38;5;241m=\u001b[39m plt\u001b[38;5;241m.\u001b[39mgca()\n",
      "File \u001b[1;32mc:\\Users\\DellVostro\\anaconda3\\Lib\\site-packages\\seaborn\\categorical.py:67\u001b[0m, in \u001b[0;36m_CategoricalPlotter.__init__\u001b[1;34m(self, data, variables, order, orient, require_numeric, color, legend)\u001b[0m\n\u001b[0;32m     56\u001b[0m \u001b[38;5;28;01mdef\u001b[39;00m\u001b[38;5;250m \u001b[39m\u001b[38;5;21m__init__\u001b[39m(\n\u001b[0;32m     57\u001b[0m     \u001b[38;5;28mself\u001b[39m,\n\u001b[0;32m     58\u001b[0m     data\u001b[38;5;241m=\u001b[39m\u001b[38;5;28;01mNone\u001b[39;00m,\n\u001b[1;32m   (...)\u001b[0m\n\u001b[0;32m     64\u001b[0m     legend\u001b[38;5;241m=\u001b[39m\u001b[38;5;124m\"\u001b[39m\u001b[38;5;124mauto\u001b[39m\u001b[38;5;124m\"\u001b[39m,\n\u001b[0;32m     65\u001b[0m ):\n\u001b[1;32m---> 67\u001b[0m     \u001b[38;5;28;43msuper\u001b[39;49m\u001b[43m(\u001b[49m\u001b[43m)\u001b[49m\u001b[38;5;241;43m.\u001b[39;49m\u001b[38;5;21;43m__init__\u001b[39;49m\u001b[43m(\u001b[49m\u001b[43mdata\u001b[49m\u001b[38;5;241;43m=\u001b[39;49m\u001b[43mdata\u001b[49m\u001b[43m,\u001b[49m\u001b[43m \u001b[49m\u001b[43mvariables\u001b[49m\u001b[38;5;241;43m=\u001b[39;49m\u001b[43mvariables\u001b[49m\u001b[43m)\u001b[49m\n\u001b[0;32m     69\u001b[0m     \u001b[38;5;66;03m# This method takes care of some bookkeeping that is necessary because the\u001b[39;00m\n\u001b[0;32m     70\u001b[0m     \u001b[38;5;66;03m# original categorical plots (prior to the 2021 refactor) had some rules that\u001b[39;00m\n\u001b[0;32m     71\u001b[0m     \u001b[38;5;66;03m# don't fit exactly into VectorPlotter logic. It may be wise to have a second\u001b[39;00m\n\u001b[1;32m   (...)\u001b[0m\n\u001b[0;32m     76\u001b[0m     \u001b[38;5;66;03m# default VectorPlotter rules. If we do decide to make orient part of the\u001b[39;00m\n\u001b[0;32m     77\u001b[0m     \u001b[38;5;66;03m# _base variable assignment, we'll want to figure out how to express that.\u001b[39;00m\n\u001b[0;32m     78\u001b[0m     \u001b[38;5;28;01mif\u001b[39;00m \u001b[38;5;28mself\u001b[39m\u001b[38;5;241m.\u001b[39minput_format \u001b[38;5;241m==\u001b[39m \u001b[38;5;124m\"\u001b[39m\u001b[38;5;124mwide\u001b[39m\u001b[38;5;124m\"\u001b[39m \u001b[38;5;129;01mand\u001b[39;00m orient \u001b[38;5;129;01min\u001b[39;00m [\u001b[38;5;124m\"\u001b[39m\u001b[38;5;124mh\u001b[39m\u001b[38;5;124m\"\u001b[39m, \u001b[38;5;124m\"\u001b[39m\u001b[38;5;124my\u001b[39m\u001b[38;5;124m\"\u001b[39m]:\n",
      "File \u001b[1;32mc:\\Users\\DellVostro\\anaconda3\\Lib\\site-packages\\seaborn\\_base.py:634\u001b[0m, in \u001b[0;36mVectorPlotter.__init__\u001b[1;34m(self, data, variables)\u001b[0m\n\u001b[0;32m    629\u001b[0m \u001b[38;5;66;03m# var_ordered is relevant only for categorical axis variables, and may\u001b[39;00m\n\u001b[0;32m    630\u001b[0m \u001b[38;5;66;03m# be better handled by an internal axis information object that tracks\u001b[39;00m\n\u001b[0;32m    631\u001b[0m \u001b[38;5;66;03m# such information and is set up by the scale_* methods. The analogous\u001b[39;00m\n\u001b[0;32m    632\u001b[0m \u001b[38;5;66;03m# information for numeric axes would be information about log scales.\u001b[39;00m\n\u001b[0;32m    633\u001b[0m \u001b[38;5;28mself\u001b[39m\u001b[38;5;241m.\u001b[39m_var_ordered \u001b[38;5;241m=\u001b[39m {\u001b[38;5;124m\"\u001b[39m\u001b[38;5;124mx\u001b[39m\u001b[38;5;124m\"\u001b[39m: \u001b[38;5;28;01mFalse\u001b[39;00m, \u001b[38;5;124m\"\u001b[39m\u001b[38;5;124my\u001b[39m\u001b[38;5;124m\"\u001b[39m: \u001b[38;5;28;01mFalse\u001b[39;00m}  \u001b[38;5;66;03m# alt., used DefaultDict\u001b[39;00m\n\u001b[1;32m--> 634\u001b[0m \u001b[38;5;28;43mself\u001b[39;49m\u001b[38;5;241;43m.\u001b[39;49m\u001b[43massign_variables\u001b[49m\u001b[43m(\u001b[49m\u001b[43mdata\u001b[49m\u001b[43m,\u001b[49m\u001b[43m \u001b[49m\u001b[43mvariables\u001b[49m\u001b[43m)\u001b[49m\n\u001b[0;32m    636\u001b[0m \u001b[38;5;66;03m# TODO Lots of tests assume that these are called to initialize the\u001b[39;00m\n\u001b[0;32m    637\u001b[0m \u001b[38;5;66;03m# mappings to default values on class initialization. I'd prefer to\u001b[39;00m\n\u001b[0;32m    638\u001b[0m \u001b[38;5;66;03m# move away from that and only have a mapping when explicitly called.\u001b[39;00m\n\u001b[0;32m    639\u001b[0m \u001b[38;5;28;01mfor\u001b[39;00m var \u001b[38;5;129;01min\u001b[39;00m [\u001b[38;5;124m\"\u001b[39m\u001b[38;5;124mhue\u001b[39m\u001b[38;5;124m\"\u001b[39m, \u001b[38;5;124m\"\u001b[39m\u001b[38;5;124msize\u001b[39m\u001b[38;5;124m\"\u001b[39m, \u001b[38;5;124m\"\u001b[39m\u001b[38;5;124mstyle\u001b[39m\u001b[38;5;124m\"\u001b[39m]:\n",
      "File \u001b[1;32mc:\\Users\\DellVostro\\anaconda3\\Lib\\site-packages\\seaborn\\_base.py:679\u001b[0m, in \u001b[0;36mVectorPlotter.assign_variables\u001b[1;34m(self, data, variables)\u001b[0m\n\u001b[0;32m    674\u001b[0m \u001b[38;5;28;01melse\u001b[39;00m:\n\u001b[0;32m    675\u001b[0m     \u001b[38;5;66;03m# When dealing with long-form input, use the newer PlotData\u001b[39;00m\n\u001b[0;32m    676\u001b[0m     \u001b[38;5;66;03m# object (internal but introduced for the objects interface)\u001b[39;00m\n\u001b[0;32m    677\u001b[0m     \u001b[38;5;66;03m# to centralize / standardize data consumption logic.\u001b[39;00m\n\u001b[0;32m    678\u001b[0m     \u001b[38;5;28mself\u001b[39m\u001b[38;5;241m.\u001b[39minput_format \u001b[38;5;241m=\u001b[39m \u001b[38;5;124m\"\u001b[39m\u001b[38;5;124mlong\u001b[39m\u001b[38;5;124m\"\u001b[39m\n\u001b[1;32m--> 679\u001b[0m     plot_data \u001b[38;5;241m=\u001b[39m \u001b[43mPlotData\u001b[49m\u001b[43m(\u001b[49m\u001b[43mdata\u001b[49m\u001b[43m,\u001b[49m\u001b[43m \u001b[49m\u001b[43mvariables\u001b[49m\u001b[43m)\u001b[49m\n\u001b[0;32m    680\u001b[0m     frame \u001b[38;5;241m=\u001b[39m plot_data\u001b[38;5;241m.\u001b[39mframe\n\u001b[0;32m    681\u001b[0m     names \u001b[38;5;241m=\u001b[39m plot_data\u001b[38;5;241m.\u001b[39mnames\n",
      "File \u001b[1;32mc:\\Users\\DellVostro\\anaconda3\\Lib\\site-packages\\seaborn\\_core\\data.py:57\u001b[0m, in \u001b[0;36mPlotData.__init__\u001b[1;34m(self, data, variables)\u001b[0m\n\u001b[0;32m     51\u001b[0m \u001b[38;5;28;01mdef\u001b[39;00m\u001b[38;5;250m \u001b[39m\u001b[38;5;21m__init__\u001b[39m(\n\u001b[0;32m     52\u001b[0m     \u001b[38;5;28mself\u001b[39m,\n\u001b[0;32m     53\u001b[0m     data: DataSource,\n\u001b[0;32m     54\u001b[0m     variables: \u001b[38;5;28mdict\u001b[39m[\u001b[38;5;28mstr\u001b[39m, VariableSpec],\n\u001b[0;32m     55\u001b[0m ):\n\u001b[1;32m---> 57\u001b[0m     data \u001b[38;5;241m=\u001b[39m \u001b[43mhandle_data_source\u001b[49m\u001b[43m(\u001b[49m\u001b[43mdata\u001b[49m\u001b[43m)\u001b[49m\n\u001b[0;32m     58\u001b[0m     frame, names, ids \u001b[38;5;241m=\u001b[39m \u001b[38;5;28mself\u001b[39m\u001b[38;5;241m.\u001b[39m_assign_variables(data, variables)\n\u001b[0;32m     60\u001b[0m     \u001b[38;5;28mself\u001b[39m\u001b[38;5;241m.\u001b[39mframe \u001b[38;5;241m=\u001b[39m frame\n",
      "File \u001b[1;32mc:\\Users\\DellVostro\\anaconda3\\Lib\\site-packages\\seaborn\\_core\\data.py:278\u001b[0m, in \u001b[0;36mhandle_data_source\u001b[1;34m(data)\u001b[0m\n\u001b[0;32m    276\u001b[0m \u001b[38;5;28;01melif\u001b[39;00m data \u001b[38;5;129;01mis\u001b[39;00m \u001b[38;5;129;01mnot\u001b[39;00m \u001b[38;5;28;01mNone\u001b[39;00m \u001b[38;5;129;01mand\u001b[39;00m \u001b[38;5;129;01mnot\u001b[39;00m \u001b[38;5;28misinstance\u001b[39m(data, Mapping):\n\u001b[0;32m    277\u001b[0m     err \u001b[38;5;241m=\u001b[39m \u001b[38;5;124mf\u001b[39m\u001b[38;5;124m\"\u001b[39m\u001b[38;5;124mData source must be a DataFrame or Mapping, not \u001b[39m\u001b[38;5;132;01m{\u001b[39;00m\u001b[38;5;28mtype\u001b[39m(data)\u001b[38;5;132;01m!r}\u001b[39;00m\u001b[38;5;124m.\u001b[39m\u001b[38;5;124m\"\u001b[39m\n\u001b[1;32m--> 278\u001b[0m     \u001b[38;5;28;01mraise\u001b[39;00m \u001b[38;5;167;01mTypeError\u001b[39;00m(err)\n\u001b[0;32m    280\u001b[0m \u001b[38;5;28;01mreturn\u001b[39;00m data\n",
      "\u001b[1;31mTypeError\u001b[0m: Data source must be a DataFrame or Mapping, not <class 'numpy.ndarray'>."
     ]
    },
    {
     "data": {
      "text/plain": [
       "<Figure size 1000x600 with 0 Axes>"
      ]
     },
     "metadata": {},
     "output_type": "display_data"
    }
   ],
   "source": [
    "import matplotlib.pyplot as plt\n",
    "import seaborn as sns\n",
    "\n",
    "plt.figure(figsize=(10, 6))\n",
    "sns.barplot(data=y_pred, x=\"Cenario\", y=\"Precipitacao_Prevista\", palette=\"coolwarm\")\n",
    "plt.title(\"Precipitação Prevista no RS por Cenário de ENSO\")\n",
    "plt.ylabel(\"Precipitação (mm)\")\n",
    "plt.xticks(rotation=45)\n",
    "plt.show()"
   ]
  },
  {
   "cell_type": "code",
   "execution_count": 230,
   "id": "223d6853",
   "metadata": {},
   "outputs": [
    {
     "name": "stdout",
     "output_type": "stream",
     "text": [
      "           variavel  importancia\n",
      "2  Media_semestre_1     0.656440\n",
      "3  Media_semestre_2     0.171553\n",
      "1               Dez     0.138176\n",
      "0     Media_mar_jun     0.033831\n"
     ]
    }
   ],
   "source": [
    "importances = tree.feature_importances_\n",
    "df_importancia = pd.DataFrame({\n",
    "    \"variavel\": X.columns,\n",
    "    \"importancia\": importances\n",
    "}).sort_values(by=\"importancia\", ascending=False)\n",
    "\n",
    "print(df_importancia)"
   ]
  },
  {
   "cell_type": "markdown",
   "id": "0399538c",
   "metadata": {},
   "source": [
    "#### Influência das variações de temperatura do oceâno pacífico na produtividade da soja"
   ]
  },
  {
   "cell_type": "code",
   "execution_count": 232,
   "id": "4122fecc",
   "metadata": {},
   "outputs": [],
   "source": [
    "mer = mer[mer['produtividade(kg/ha)'].notna()]"
   ]
  },
  {
   "cell_type": "code",
   "execution_count": 439,
   "id": "6f5fbf9c",
   "metadata": {},
   "outputs": [
    {
     "name": "stdout",
     "output_type": "stream",
     "text": [
      "R²: -0.065\n",
      "RMSE: 843.03\n"
     ]
    },
    {
     "data": {
      "image/png": "[encoded data removed]",
      "text/plain": [
       "<Figure size 3000x2000 with 1 Axes>"
      ]
     },
     "metadata": {},
     "output_type": "display_data"
    },
    {
     "name": "stdout",
     "output_type": "stream",
     "text": [
      "             variavel  importancia\n",
      "0  precipitacao_media          1.0\n"
     ]
    }
   ],
   "source": [
    "X = mer[['precipitacao_media']]\n",
    "y = mer['produtividade(kg/ha)']                 # variável alvo\n",
    "\n",
    "X_train, X_test, y_train, y_test = train_test_split(X, y, test_size=0.2, random_state=42)\n",
    "tree = DecisionTreeRegressor(max_depth=3, random_state=42)\n",
    "tree.fit(X_train, y_train)\n",
    "y_pred = tree.predict(X_test)\n",
    "\n",
    "r2 = r2_score(y_test, y_pred)\n",
    "rmse = mean_squared_error(y_test, y_pred, squared=False)\n",
    "\n",
    "print(f\"R²: {r2:.3f}\")\n",
    "print(f\"RMSE: {rmse:.2f}\")\n",
    "\n",
    "plt.figure(figsize=(30, 20))\n",
    "plot_tree(tree, feature_names=X.columns, filled=True, rounded=True)\n",
    "plt.show()\n",
    "\n",
    "importances = tree.feature_importances_\n",
    "df_importancia = pd.DataFrame({\n",
    "    \"variavel\": X.columns,\n",
    "    \"importancia\": importances\n",
    "}).sort_values(by=\"importancia\", ascending=False)\n",
    "\n",
    "print(df_importancia)"
   ]
  },
  {
   "cell_type": "code",
   "execution_count": 440,
   "id": "dc41e933",
   "metadata": {},
   "outputs": [
    {
     "name": "stdout",
     "output_type": "stream",
     "text": [
      "|--- precipitacao_media <= 1381.00\n",
      "|   |--- precipitacao_media <= 1350.60\n",
      "|   |   |--- precipitacao_media <= 1290.00\n",
      "|   |   |   |--- value: [2264.25]\n",
      "|   |   |--- precipitacao_media >  1290.00\n",
      "|   |   |   |--- value: [2699.18]\n",
      "|   |--- precipitacao_media >  1350.60\n",
      "|   |   |--- precipitacao_media <= 1356.90\n",
      "|   |   |   |--- value: [420.00]\n",
      "|   |   |--- precipitacao_media >  1356.90\n",
      "|   |   |   |--- value: [1668.00]\n",
      "|--- precipitacao_media >  1381.00\n",
      "|   |--- precipitacao_media <= 1403.50\n",
      "|   |   |--- precipitacao_media <= 1402.00\n",
      "|   |   |   |--- value: [2836.92]\n",
      "|   |   |--- precipitacao_media >  1402.00\n",
      "|   |   |   |--- value: [3900.00]\n",
      "|   |--- precipitacao_media >  1403.50\n",
      "|   |   |--- precipitacao_media <= 1413.10\n",
      "|   |   |   |--- value: [1942.00]\n",
      "|   |   |--- precipitacao_media >  1413.10\n",
      "|   |   |   |--- value: [2634.08]\n",
      "\n"
     ]
    }
   ],
   "source": [
    "from sklearn.tree import export_text\n",
    "\n",
    "tree_rules = export_text(tree, feature_names=list(X.columns))\n",
    "print(tree_rules)\n"
   ]
  },
  {
   "cell_type": "code",
   "execution_count": null,
   "id": "c5ad0432",
   "metadata": {},
   "outputs": [],
   "source": []
  },
  {
   "cell_type": "code",
   "execution_count": null,
   "id": "ef8dafbb",
   "metadata": {},
   "outputs": [],
   "source": []
  },
  {
   "cell_type": "markdown",
   "id": "fa6ca67c",
   "metadata": {},
   "source": []
  },
  {
   "cell_type": "markdown",
   "id": "3c4bac82",
   "metadata": {},
   "source": []
  }
 ],
 "metadata": {
  "kernelspec": {
   "display_name": "base",
   "language": "python",
   "name": "python3"
  },
  "language_info": {
   "codemirror_mode": {
    "name": "ipython",
    "version": 3
   },
   "file_extension": ".py",
   "mimetype": "text/x-python",
   "name": "python",
   "nbconvert_exporter": "python",
   "pygments_lexer": "ipython3",
   "version": "3.12.7"
  }
 },
 "nbformat": 4,
 "nbformat_minor": 5
}
