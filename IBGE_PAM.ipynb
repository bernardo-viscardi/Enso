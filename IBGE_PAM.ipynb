{
 "cells": [
  {
   "cell_type": "code",
   "execution_count": 1,
   "id": "b8463c03-1dce-43df-842b-6be4299b5014",
   "metadata": {},
   "outputs": [],
   "source": [
    "import pandas as pd\n",
    "import numpy as np\n",
    "import requests\n",
    "import pprint\n",
    "import sidrapy\n",
    "import warnings \n",
    "warnings.simplefilter(\"ignore\")"
   ]
  },
  {
   "cell_type": "markdown",
   "id": "7c3c912d",
   "metadata": {},
   "source": [
    "# Estabelecer a conexão com a API do SIDRA IBGE"
   ]
  },
  {
   "cell_type": "code",
   "execution_count": 2,
   "id": "27a6f732-ea90-41ad-95aa-49dabfd40711",
   "metadata": {},
   "outputs": [],
   "source": [
    "API = \"https://apisidra.ibge.gov.br/values/t/1612/n3/43/v/allxp/p/last%2024/c81/2713\""
   ]
  },
  {
   "cell_type": "markdown",
   "id": "e3b3f81c",
   "metadata": {},
   "source": [
    "Transformar o arquivo json em um Dataframe"
   ]
  },
  {
   "cell_type": "code",
   "execution_count": 4,
   "id": "b0beac5e-5bfc-4976-b9aa-d9149a996070",
   "metadata": {},
   "outputs": [],
   "source": [
    "req = requests.get(API)\n",
    "info = req.json()"
   ]
  },
  {
   "cell_type": "code",
   "execution_count": 5,
   "id": "2a717457-05ee-4e57-8ff7-dd4d2c1b42a0",
   "metadata": {},
   "outputs": [],
   "source": [
    "df = pd.DataFrame(info)\n",
    "df.columns = df.iloc[0]\n",
    "df = df[1:]\n",
    "df.reset_index(drop=True, inplace=True)"
   ]
  },
  {
   "cell_type": "markdown",
   "id": "9e6fb5db",
   "metadata": {},
   "source": [
    "Exluir colunas desnecessárias"
   ]
  },
  {
   "cell_type": "code",
   "execution_count": 6,
   "id": "f6d2762c-b731-4703-8dbc-a8b0b86e6f4b",
   "metadata": {},
   "outputs": [],
   "source": [
    "df.drop(['Nível Territorial (Código)', 'Nível Territorial',\n",
    "       'Unidade de Medida (Código)', 'Variável (Código)', 'Ano (Código)', 'Produto das lavouras temporárias (Código)',\n",
    "       'Unidade de Medida'\n",
    "       ],\n",
    "       axis = 1, inplace = True)"
   ]
  },
  {
   "cell_type": "markdown",
   "id": "4ec49702",
   "metadata": {},
   "source": [
    "Substituir valores não numéricos da coluna Valor e transformá-la em decimal"
   ]
  },
  {
   "cell_type": "code",
   "execution_count": 7,
   "id": "7be6382a-ff24-4968-9db7-c757c3a95804",
   "metadata": {},
   "outputs": [],
   "source": [
    "df.Valor.replace(\"-\", np.nan, inplace = True)\n",
    "df.Valor.replace(\"X\", np.nan, inplace = True)\n",
    "df.Valor.replace(\"...\", np.nan, inplace = True)\n",
    "df.Valor.replace(\"..\", np.nan, inplace = True)"
   ]
  },
  {
   "cell_type": "code",
   "execution_count": 8,
   "id": "6f4182ba",
   "metadata": {},
   "outputs": [],
   "source": [
    "df.Valor = df.Valor.astype(float)"
   ]
  },
  {
   "cell_type": "markdown",
   "id": "35bace24",
   "metadata": {},
   "source": [
    "# Seperar os valores em linha e depois fazer o merge em colunas"
   ]
  },
  {
   "cell_type": "code",
   "execution_count": 9,
   "id": "427f2b44-a059-4866-89a8-e7fe9222d290",
   "metadata": {},
   "outputs": [],
   "source": [
    "\n",
    "area_plant = df.loc[df[\"Variável\"] == \"Área plantada\"]\n",
    "area_col = df.loc[df[\"Variável\"] == \"Área colhida\"]\n",
    "produtiv = df.loc[df[\"Variável\"] == 'Rendimento médio da produção']\n",
    "prod = df.loc[df[\"Variável\"] == \"Quantidade produzida\"]\n",
    "val = df.loc[df[\"Variável\"] == \"Valor da produção\"]"
   ]
  },
  {
   "cell_type": "code",
   "execution_count": 10,
   "id": "bac9fbdb",
   "metadata": {},
   "outputs": [],
   "source": [
    "area_plant.drop(\"Variável\", axis = 1, inplace = True)\n",
    "area_col.drop(\"Variável\", axis = 1, inplace = True)\n",
    "produtiv.drop(\"Variável\", axis = 1, inplace = True)\n",
    "prod.drop(\"Variável\", axis = 1, inplace = True)\n",
    "val.drop(\"Variável\", axis = 1, inplace = True)"
   ]
  },
  {
   "cell_type": "code",
   "execution_count": 93,
   "id": "7e042c5f",
   "metadata": {},
   "outputs": [],
   "source": [
    "mer = area_plant.merge(area_col, on = [\"Ano\", 'Unidade da Federação (Código)',\n",
    "       'Unidade da Federação', 'Produto das lavouras temporárias'], how = \"inner\")\n",
    "mer.rename({\n",
    "    'Valor_x': 'area_plantada(ha)',\n",
    "    'Valor_y': 'area_colhida(ha)'\n",
    "}, axis = 1, inplace = True)"
   ]
  },
  {
   "cell_type": "markdown",
   "id": "a75b72c6",
   "metadata": {},
   "source": [
    "Calcular a diferença entre áreas plantadas e colhidas"
   ]
  },
  {
   "cell_type": "code",
   "execution_count": 94,
   "id": "e811777a",
   "metadata": {},
   "outputs": [],
   "source": [
    "mer[\"delta_area\"] = mer['area_colhida(ha)'] - mer['area_plantada(ha)']"
   ]
  },
  {
   "cell_type": "code",
   "execution_count": 95,
   "id": "09372e4e",
   "metadata": {},
   "outputs": [],
   "source": [
    "mer = mer.merge(prod, on = [\"Ano\", 'Unidade da Federação (Código)',\n",
    "       'Unidade da Federação', 'Produto das lavouras temporárias'], how = \"inner\")\n",
    "mer.rename({\"Valor\": \"producao(t)\"}, axis = 1, inplace = True)"
   ]
  },
  {
   "cell_type": "code",
   "execution_count": 96,
   "id": "d668ae8e",
   "metadata": {},
   "outputs": [],
   "source": [
    "mer = mer.merge(produtiv, on = [\"Ano\", 'Unidade da Federação (Código)',\n",
    "       'Unidade da Federação', 'Produto das lavouras temporárias'], how = \"inner\")\n",
    "mer.rename({\"Valor\": \"produtividade(kg/ha)\"}, axis = 1, inplace = True)"
   ]
  },
  {
   "cell_type": "code",
   "execution_count": 97,
   "id": "1a32092d",
   "metadata": {},
   "outputs": [],
   "source": [
    "mer = mer.merge(val, on = [\"Ano\", 'Unidade da Federação (Código)',\n",
    "       'Unidade da Federação', 'Produto das lavouras temporárias'], how = \"inner\")\n",
    "mer.rename({\"Valor\": \"valor_mil(R$)\"}, axis = 1, inplace = True)"
   ]
  },
  {
   "cell_type": "markdown",
   "id": "9855d5c9",
   "metadata": {},
   "source": [
    "Calcular o valor médio da saca de soja"
   ]
  },
  {
   "cell_type": "code",
   "execution_count": 98,
   "id": "92f07abd",
   "metadata": {},
   "outputs": [],
   "source": [
    "mer['valor_saca'] = (mer['valor_mil(R$)'] / ((mer['producao(t)'] / 60))).round(2)"
   ]
  },
  {
   "cell_type": "code",
   "execution_count": 99,
   "id": "e6ff17fb",
   "metadata": {},
   "outputs": [
    {
     "data": {
      "text/plain": [
       "Index(['area_plantada(ha)', 'Unidade da Federação (Código)',\n",
       "       'Unidade da Federação', 'Ano', 'Produto das lavouras temporárias',\n",
       "       'area_colhida(ha)', 'delta_area', 'producao(t)', 'produtividade(kg/ha)',\n",
       "       'valor_mil(R$)', 'valor_saca'],\n",
       "      dtype='object', name=0)"
      ]
     },
     "execution_count": 99,
     "metadata": {},
     "output_type": "execute_result"
    }
   ],
   "source": [
    "mer.columns"
   ]
  },
  {
   "cell_type": "code",
   "execution_count": 100,
   "id": "9ee7b74b",
   "metadata": {},
   "outputs": [],
   "source": [
    "mer = mer[[ 'Ano', 'Unidade da Federação', 'Produto das lavouras temporárias', 'area_plantada(ha)',\n",
    "       'area_colhida(ha)', 'delta_area', 'producao(t)', 'produtividade(kg/ha)', 'valor_mil(R$)', 'valor_saca']]"
   ]
  },
  {
   "cell_type": "code",
   "execution_count": 101,
   "id": "ddc29717",
   "metadata": {},
   "outputs": [],
   "source": [
    "mer.to_parquet(\"soja_IBGE_RS.parquet\", index = False)"
   ]
  },
  {
   "cell_type": "code",
   "execution_count": 102,
   "id": "6563cb8e",
   "metadata": {},
   "outputs": [],
   "source": [
    "mer[\"var_produtividade\"] = mer[\"produtividade(kg/ha)\"].diff()\n",
    "mer[\"var_produtividade_%\"] = mer[\"produtividade(kg/ha)\"].pct_change()\n",
    "mer[\"var_producao(t)\"] = mer[\"produtividade(kg/ha)\"].diff()\n",
    "mer[\"var_producao(t)_%\"] = mer[\"produtividade(kg/ha)\"].pct_change()"
   ]
  },
  {
   "cell_type": "code",
   "execution_count": 103,
   "id": "81a0dd88",
   "metadata": {},
   "outputs": [
    {
     "data": {
      "text/html": [
       "<div>\n",
       "<style scoped>\n",
       "    .dataframe tbody tr th:only-of-type {\n",
       "        vertical-align: middle;\n",
       "    }\n",
       "\n",
       "    .dataframe tbody tr th {\n",
       "        vertical-align: top;\n",
       "    }\n",
       "\n",
       "    .dataframe thead th {\n",
       "        text-align: right;\n",
       "    }\n",
       "</style>\n",
       "<table border=\"1\" class=\"dataframe\">\n",
       "  <thead>\n",
       "    <tr style=\"text-align: right;\">\n",
       "      <th></th>\n",
       "      <th>Ano</th>\n",
       "      <th>Unidade da Federação</th>\n",
       "      <th>Produto das lavouras temporárias</th>\n",
       "      <th>area_plantada(ha)</th>\n",
       "      <th>area_colhida(ha)</th>\n",
       "      <th>delta_area</th>\n",
       "      <th>producao(t)</th>\n",
       "      <th>produtividade(kg/ha)</th>\n",
       "      <th>valor_mil(R$)</th>\n",
       "      <th>valor_saca</th>\n",
       "      <th>var_produtividade</th>\n",
       "      <th>var_produtividade_%</th>\n",
       "      <th>var_producao(t)</th>\n",
       "      <th>var_producao(t)_%</th>\n",
       "    </tr>\n",
       "  </thead>\n",
       "  <tbody>\n",
       "    <tr>\n",
       "      <th>0</th>\n",
       "      <td>2000</td>\n",
       "      <td>Rio Grande do Sul</td>\n",
       "      <td>Soja (em grão)</td>\n",
       "      <td>3030556.0</td>\n",
       "      <td>3001836.0</td>\n",
       "      <td>-28720.0</td>\n",
       "      <td>4783895.0</td>\n",
       "      <td>1593.0</td>\n",
       "      <td>1385502.0</td>\n",
       "      <td>17.38</td>\n",
       "      <td>NaN</td>\n",
       "      <td>NaN</td>\n",
       "      <td>NaN</td>\n",
       "      <td>NaN</td>\n",
       "    </tr>\n",
       "    <tr>\n",
       "      <th>1</th>\n",
       "      <td>2001</td>\n",
       "      <td>Rio Grande do Sul</td>\n",
       "      <td>Soja (em grão)</td>\n",
       "      <td>2976498.0</td>\n",
       "      <td>2974513.0</td>\n",
       "      <td>-1985.0</td>\n",
       "      <td>6951830.0</td>\n",
       "      <td>2337.0</td>\n",
       "      <td>2381513.0</td>\n",
       "      <td>20.55</td>\n",
       "      <td>744.0</td>\n",
       "      <td>0.467043</td>\n",
       "      <td>744.0</td>\n",
       "      <td>0.467043</td>\n",
       "    </tr>\n",
       "    <tr>\n",
       "      <th>2</th>\n",
       "      <td>2002</td>\n",
       "      <td>Rio Grande do Sul</td>\n",
       "      <td>Soja (em grão)</td>\n",
       "      <td>3307252.0</td>\n",
       "      <td>3295342.0</td>\n",
       "      <td>-11910.0</td>\n",
       "      <td>5610518.0</td>\n",
       "      <td>1702.0</td>\n",
       "      <td>2477854.0</td>\n",
       "      <td>26.50</td>\n",
       "      <td>-635.0</td>\n",
       "      <td>-0.271716</td>\n",
       "      <td>-635.0</td>\n",
       "      <td>-0.271716</td>\n",
       "    </tr>\n",
       "    <tr>\n",
       "      <th>3</th>\n",
       "      <td>2003</td>\n",
       "      <td>Rio Grande do Sul</td>\n",
       "      <td>Soja (em grão)</td>\n",
       "      <td>3591970.0</td>\n",
       "      <td>3591470.0</td>\n",
       "      <td>-500.0</td>\n",
       "      <td>9579297.0</td>\n",
       "      <td>2667.0</td>\n",
       "      <td>5434779.0</td>\n",
       "      <td>34.04</td>\n",
       "      <td>965.0</td>\n",
       "      <td>0.566980</td>\n",
       "      <td>965.0</td>\n",
       "      <td>0.566980</td>\n",
       "    </tr>\n",
       "    <tr>\n",
       "      <th>4</th>\n",
       "      <td>2004</td>\n",
       "      <td>Rio Grande do Sul</td>\n",
       "      <td>Soja (em grão)</td>\n",
       "      <td>3984337.0</td>\n",
       "      <td>3968530.0</td>\n",
       "      <td>-15807.0</td>\n",
       "      <td>5541714.0</td>\n",
       "      <td>1396.0</td>\n",
       "      <td>3804582.0</td>\n",
       "      <td>41.19</td>\n",
       "      <td>-1271.0</td>\n",
       "      <td>-0.476565</td>\n",
       "      <td>-1271.0</td>\n",
       "      <td>-0.476565</td>\n",
       "    </tr>\n",
       "  </tbody>\n",
       "</table>\n",
       "</div>"
      ],
      "text/plain": [
       "0   Ano Unidade da Federação Produto das lavouras temporárias  \\\n",
       "0  2000    Rio Grande do Sul                   Soja (em grão)   \n",
       "1  2001    Rio Grande do Sul                   Soja (em grão)   \n",
       "2  2002    Rio Grande do Sul                   Soja (em grão)   \n",
       "3  2003    Rio Grande do Sul                   Soja (em grão)   \n",
       "4  2004    Rio Grande do Sul                   Soja (em grão)   \n",
       "\n",
       "0  area_plantada(ha)  area_colhida(ha)  delta_area  producao(t)  \\\n",
       "0          3030556.0         3001836.0    -28720.0    4783895.0   \n",
       "1          2976498.0         2974513.0     -1985.0    6951830.0   \n",
       "2          3307252.0         3295342.0    -11910.0    5610518.0   \n",
       "3          3591970.0         3591470.0      -500.0    9579297.0   \n",
       "4          3984337.0         3968530.0    -15807.0    5541714.0   \n",
       "\n",
       "0  produtividade(kg/ha)  valor_mil(R$)  valor_saca  var_produtividade  \\\n",
       "0                1593.0      1385502.0       17.38                NaN   \n",
       "1                2337.0      2381513.0       20.55              744.0   \n",
       "2                1702.0      2477854.0       26.50             -635.0   \n",
       "3                2667.0      5434779.0       34.04              965.0   \n",
       "4                1396.0      3804582.0       41.19            -1271.0   \n",
       "\n",
       "0  var_produtividade_%  var_producao(t)  var_producao(t)_%  \n",
       "0                  NaN              NaN                NaN  \n",
       "1             0.467043            744.0           0.467043  \n",
       "2            -0.271716           -635.0          -0.271716  \n",
       "3             0.566980            965.0           0.566980  \n",
       "4            -0.476565          -1271.0          -0.476565  "
      ]
     },
     "execution_count": 103,
     "metadata": {},
     "output_type": "execute_result"
    }
   ],
   "source": [
    "mer.head()"
   ]
  },
  {
   "cell_type": "markdown",
   "id": "a0972abb",
   "metadata": {},
   "source": [
    "# Importar as variáveis climátivas"
   ]
  },
  {
   "cell_type": "markdown",
   "id": "4d997b3c",
   "metadata": {},
   "source": [
    "# Upload do histórico da variação da temperatura média da superfícia do Oceano Pacífico"
   ]
  },
  {
   "cell_type": "markdown",
   "id": "e8e9fb09",
   "metadata": {},
   "source": [
    "Os eventos de El Nino e La nina ocorrem quando há 5 ocorrências de temperaturas 0,5 acima (El Niño) ou abaixo (La Niña) do padrão. Os dados disponíveis nesse dataset"
   ]
  },
  {
   "cell_type": "markdown",
   "id": "48cbe0b4",
   "metadata": {},
   "source": [
    "Estudos mostraram que uma condição necessária para o desenvolvimento e persistência da convecção profunda (aumento da nebulosidade e da precipitação) nos Trópicos é que a temperatura da superfície do mar (SST) local seja de 28 °C ou superior. Uma vez que o padrão de convecção profunda é alterado devido a SSTs anômalas, a circulação atmosférica tropical e subtropical se ajusta ao novo padrão de aquecimento tropical, resultando em padrões anômalos de precipitação e temperatura que se estendem muito além da região do Pacífico equatorial. Uma anomalia de SST de +0,5 °C na região do Niño 3.4 é suficiente para atingir esse limite entre o final de março e meados de junho. Durante o restante do ano, uma anomalia de SST maior, chegando a +1,5 °C nos meses de novembro, dezembro e janeiro, é necessária para atingir o limiar que sustenta a convecção profunda persistente nessa região."
   ]
  },
  {
   "cell_type": "code",
   "execution_count": 104,
   "id": "436b62e7",
   "metadata": {},
   "outputs": [],
   "source": [
    "enso = pd.read_excel(\"Temp_media_2010_2025.xlsx\")"
   ]
  },
  {
   "cell_type": "markdown",
   "id": "a425bbc7",
   "metadata": {},
   "source": [
    "### Aplicando os ajustes para fazer a fusão entre as bases do IBGE e do NOOA"
   ]
  },
  {
   "cell_type": "code",
   "execution_count": 105,
   "id": "2cbd1933",
   "metadata": {},
   "outputs": [
    {
     "data": {
      "text/plain": [
       "24"
      ]
     },
     "execution_count": 105,
     "metadata": {},
     "output_type": "execute_result"
    }
   ],
   "source": [
    "mer.shape[0]"
   ]
  },
  {
   "cell_type": "code",
   "execution_count": 106,
   "id": "6fa90048",
   "metadata": {},
   "outputs": [
    {
     "data": {
      "text/plain": [
       "array([2000, 2001, 2002, 2003, 2004, 2005, 2006, 2007, 2008, 2009, 2010,\n",
       "       2011, 2012, 2013, 2014, 2015, 2016, 2017, 2018, 2019, 2020, 2021,\n",
       "       2022, 2023, 2024, 2025], dtype=int64)"
      ]
     },
     "execution_count": 106,
     "metadata": {},
     "output_type": "execute_result"
    }
   ],
   "source": [
    "enso.Year.unique()"
   ]
  },
  {
   "cell_type": "code",
   "execution_count": 107,
   "id": "af1a3beb",
   "metadata": {},
   "outputs": [],
   "source": [
    "enso.rename(columns = {\"Year\": \"Ano\"}, inplace = True)"
   ]
  },
  {
   "cell_type": "code",
   "execution_count": 108,
   "id": "6c8ef545",
   "metadata": {},
   "outputs": [],
   "source": [
    "mer[\"Ano\"] = mer[\"Ano\"].astype(int)"
   ]
  },
  {
   "cell_type": "code",
   "execution_count": 109,
   "id": "fc7e1fd2",
   "metadata": {},
   "outputs": [
    {
     "data": {
      "text/plain": [
       "Index(['Ano', 'Jan', 'Fev', 'Mar', 'Abr', 'Mai', 'Jun', 'Jul', 'Ago', 'Set',\n",
       "       'Out', 'Nov', 'Dez', 'Media_mar_jun', 'Media_semestre_1',\n",
       "       'Media_semestre_2', 'Evento_mar_jun', 'Evento_nov_dez_jan', 'ONI'],\n",
       "      dtype='object')"
      ]
     },
     "execution_count": 109,
     "metadata": {},
     "output_type": "execute_result"
    }
   ],
   "source": [
    "enso.columns"
   ]
  },
  {
   "cell_type": "code",
   "execution_count": 110,
   "id": "1cf633e1",
   "metadata": {},
   "outputs": [],
   "source": [
    "mer = mer.merge(enso[[\"Ano\", 'Media_mar_jun', 'Media_semestre_1',\n",
    "       'Media_semestre_2', 'Evento_mar_jun', 'Evento_nov_dez_jan', 'ONI']], on = \"Ano\", how = \"inner\")"
   ]
  },
  {
   "cell_type": "code",
   "execution_count": 111,
   "id": "41f372ca",
   "metadata": {},
   "outputs": [],
   "source": [
    "from sklearn.preprocessing import LabelEncoder\n",
    "\n",
    "le = LabelEncoder()\n",
    "\n",
    "mer['Evento_mar_jun_num'] = le.fit_transform(mer['Evento_mar_jun'])\n",
    "mer['Evento_nov_dez_jan_num'] = le.fit_transform(mer['Evento_nov_dez_jan'])\n"
   ]
  },
  {
   "cell_type": "code",
   "execution_count": 112,
   "id": "1ca14fb5",
   "metadata": {},
   "outputs": [
    {
     "data": {
      "text/html": [
       "<div>\n",
       "<style scoped>\n",
       "    .dataframe tbody tr th:only-of-type {\n",
       "        vertical-align: middle;\n",
       "    }\n",
       "\n",
       "    .dataframe tbody tr th {\n",
       "        vertical-align: top;\n",
       "    }\n",
       "\n",
       "    .dataframe thead th {\n",
       "        text-align: right;\n",
       "    }\n",
       "</style>\n",
       "<table border=\"1\" class=\"dataframe\">\n",
       "  <thead>\n",
       "    <tr style=\"text-align: right;\">\n",
       "      <th></th>\n",
       "      <th>delta_area</th>\n",
       "      <th>produtividade(kg/ha)</th>\n",
       "      <th>ONI</th>\n",
       "    </tr>\n",
       "  </thead>\n",
       "  <tbody>\n",
       "    <tr>\n",
       "      <th>delta_area</th>\n",
       "      <td>1.000000</td>\n",
       "      <td>0.591566</td>\n",
       "      <td>0.017745</td>\n",
       "    </tr>\n",
       "    <tr>\n",
       "      <th>produtividade(kg/ha)</th>\n",
       "      <td>0.591566</td>\n",
       "      <td>1.000000</td>\n",
       "      <td>0.081296</td>\n",
       "    </tr>\n",
       "    <tr>\n",
       "      <th>ONI</th>\n",
       "      <td>0.017745</td>\n",
       "      <td>0.081296</td>\n",
       "      <td>1.000000</td>\n",
       "    </tr>\n",
       "  </tbody>\n",
       "</table>\n",
       "</div>"
      ],
      "text/plain": [
       "                      delta_area  produtividade(kg/ha)       ONI\n",
       "delta_area              1.000000              0.591566  0.017745\n",
       "produtividade(kg/ha)    0.591566              1.000000  0.081296\n",
       "ONI                     0.017745              0.081296  1.000000"
      ]
     },
     "execution_count": 112,
     "metadata": {},
     "output_type": "execute_result"
    }
   ],
   "source": [
    "mer[['delta_area', 'produtividade(kg/ha)', 'ONI']].corr()"
   ]
  },
  {
   "cell_type": "code",
   "execution_count": 113,
   "id": "5a0f6b96",
   "metadata": {},
   "outputs": [
    {
     "data": {
      "text/html": [
       "<div>\n",
       "<style scoped>\n",
       "    .dataframe tbody tr th:only-of-type {\n",
       "        vertical-align: middle;\n",
       "    }\n",
       "\n",
       "    .dataframe tbody tr th {\n",
       "        vertical-align: top;\n",
       "    }\n",
       "\n",
       "    .dataframe thead th {\n",
       "        text-align: right;\n",
       "    }\n",
       "</style>\n",
       "<table border=\"1\" class=\"dataframe\">\n",
       "  <thead>\n",
       "    <tr style=\"text-align: right;\">\n",
       "      <th></th>\n",
       "      <th>delta_area</th>\n",
       "      <th>produtividade(kg/ha)</th>\n",
       "      <th>Evento_nov_dez_jan_num</th>\n",
       "    </tr>\n",
       "  </thead>\n",
       "  <tbody>\n",
       "    <tr>\n",
       "      <th>delta_area</th>\n",
       "      <td>1.000000</td>\n",
       "      <td>0.591566</td>\n",
       "      <td>-0.19012</td>\n",
       "    </tr>\n",
       "    <tr>\n",
       "      <th>produtividade(kg/ha)</th>\n",
       "      <td>0.591566</td>\n",
       "      <td>1.000000</td>\n",
       "      <td>-0.05650</td>\n",
       "    </tr>\n",
       "    <tr>\n",
       "      <th>Evento_nov_dez_jan_num</th>\n",
       "      <td>-0.190120</td>\n",
       "      <td>-0.056500</td>\n",
       "      <td>1.00000</td>\n",
       "    </tr>\n",
       "  </tbody>\n",
       "</table>\n",
       "</div>"
      ],
      "text/plain": [
       "                        delta_area  produtividade(kg/ha)  \\\n",
       "delta_area                1.000000              0.591566   \n",
       "produtividade(kg/ha)      0.591566              1.000000   \n",
       "Evento_nov_dez_jan_num   -0.190120             -0.056500   \n",
       "\n",
       "                        Evento_nov_dez_jan_num  \n",
       "delta_area                            -0.19012  \n",
       "produtividade(kg/ha)                  -0.05650  \n",
       "Evento_nov_dez_jan_num                 1.00000  "
      ]
     },
     "execution_count": 113,
     "metadata": {},
     "output_type": "execute_result"
    }
   ],
   "source": [
    "mer[['delta_area', 'produtividade(kg/ha)', 'Evento_nov_dez_jan_num']].corr()"
   ]
  },
  {
   "cell_type": "code",
   "execution_count": 114,
   "id": "9d592847",
   "metadata": {},
   "outputs": [
    {
     "data": {
      "text/html": [
       "<div>\n",
       "<style scoped>\n",
       "    .dataframe tbody tr th:only-of-type {\n",
       "        vertical-align: middle;\n",
       "    }\n",
       "\n",
       "    .dataframe tbody tr th {\n",
       "        vertical-align: top;\n",
       "    }\n",
       "\n",
       "    .dataframe thead th {\n",
       "        text-align: right;\n",
       "    }\n",
       "</style>\n",
       "<table border=\"1\" class=\"dataframe\">\n",
       "  <thead>\n",
       "    <tr style=\"text-align: right;\">\n",
       "      <th></th>\n",
       "      <th>delta_area</th>\n",
       "      <th>produtividade(kg/ha)</th>\n",
       "      <th>Evento_mar_jun_num</th>\n",
       "    </tr>\n",
       "  </thead>\n",
       "  <tbody>\n",
       "    <tr>\n",
       "      <th>delta_area</th>\n",
       "      <td>1.000000</td>\n",
       "      <td>0.591566</td>\n",
       "      <td>-0.077402</td>\n",
       "    </tr>\n",
       "    <tr>\n",
       "      <th>produtividade(kg/ha)</th>\n",
       "      <td>0.591566</td>\n",
       "      <td>1.000000</td>\n",
       "      <td>-0.352697</td>\n",
       "    </tr>\n",
       "    <tr>\n",
       "      <th>Evento_mar_jun_num</th>\n",
       "      <td>-0.077402</td>\n",
       "      <td>-0.352697</td>\n",
       "      <td>1.000000</td>\n",
       "    </tr>\n",
       "  </tbody>\n",
       "</table>\n",
       "</div>"
      ],
      "text/plain": [
       "                      delta_area  produtividade(kg/ha)  Evento_mar_jun_num\n",
       "delta_area              1.000000              0.591566           -0.077402\n",
       "produtividade(kg/ha)    0.591566              1.000000           -0.352697\n",
       "Evento_mar_jun_num     -0.077402             -0.352697            1.000000"
      ]
     },
     "execution_count": 114,
     "metadata": {},
     "output_type": "execute_result"
    }
   ],
   "source": [
    "mer[['delta_area', 'produtividade(kg/ha)','Evento_mar_jun_num']].corr()"
   ]
  },
  {
   "cell_type": "code",
   "execution_count": null,
   "id": "404284b8",
   "metadata": {},
   "outputs": [],
   "source": []
  },
  {
   "cell_type": "markdown",
   "id": "fa6ca67c",
   "metadata": {},
   "source": []
  },
  {
   "cell_type": "markdown",
   "id": "3c4bac82",
   "metadata": {},
   "source": []
  }
 ],
 "metadata": {
  "kernelspec": {
   "display_name": "base",
   "language": "python",
   "name": "python3"
  },
  "language_info": {
   "codemirror_mode": {
    "name": "ipython",
    "version": 3
   },
   "file_extension": ".py",
   "mimetype": "text/x-python",
   "name": "python",
   "nbconvert_exporter": "python",
   "pygments_lexer": "ipython3",
   "version": "3.12.7"
  }
 },
 "nbformat": 4,
 "nbformat_minor": 5
}
