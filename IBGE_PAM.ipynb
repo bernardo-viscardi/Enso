{
 "cells": [
  {
   "cell_type": "code",
   "execution_count": 3,
   "id": "b8463c03-1dce-43df-842b-6be4299b5014",
   "metadata": {},
   "outputs": [],
   "source": [
    "import pandas as pd\n",
    "import numpy as np\n",
    "import requests\n",
    "import pprint\n",
    "import sidrapy\n",
    "import warnings \n",
    "warnings.simplefilter(\"ignore\")"
   ]
  },
  {
   "cell_type": "code",
   "execution_count": 4,
   "id": "27a6f732-ea90-41ad-95aa-49dabfd40711",
   "metadata": {},
   "outputs": [],
   "source": [
    "API = \"https://apisidra.ibge.gov.br/values/t/5457/n6/all/v/214,215/p/last%201/c782/0\""
   ]
  },
  {
   "cell_type": "code",
   "execution_count": 5,
   "id": "b0beac5e-5bfc-4976-b9aa-d9149a996070",
   "metadata": {},
   "outputs": [],
   "source": [
    "req = requests.get(API)\n",
    "info = req.json()"
   ]
  },
  {
   "cell_type": "code",
   "execution_count": 5,
   "id": "e49d100a-438b-47ab-bf87-386af5e2cc71",
   "metadata": {},
   "outputs": [
    {
     "data": {
      "text/plain": [
       "'\\nAPI = \"https://apisidra.ibge.gov.br/values/t/5457/n6/all/v/214,215/p/last%201/c782/0\"\\nreq = requests.get(API)\\n\\nprint(req.status_code)\\nprint(req.text[:500])  # Mostra os primeiros 500 caracteres da resposta\\n'"
      ]
     },
     "execution_count": 5,
     "metadata": {},
     "output_type": "execute_result"
    }
   ],
   "source": [
    "\"\"\"\n",
    "API = \"https://apisidra.ibge.gov.br/values/t/5457/n6/all/v/214,215/p/last%201/c782/0\"\n",
    "req = requests.get(API)\n",
    "\n",
    "print(req.status_code)\n",
    "print(req.text[:500])  # Mostra os primeiros 500 caracteres da resposta\n",
    "\"\"\""
   ]
  },
  {
   "cell_type": "code",
   "execution_count": 6,
   "id": "2a717457-05ee-4e57-8ff7-dd4d2c1b42a0",
   "metadata": {},
   "outputs": [],
   "source": [
    "df = pd.DataFrame(info)\n",
    "df.columns = df.iloc[0]\n",
    "df = df[1:]\n",
    "df.reset_index(drop=True, inplace=True)"
   ]
  },
  {
   "cell_type": "code",
   "execution_count": 7,
   "id": "6cde6f1f-784e-4a73-b01f-926eda3c7d00",
   "metadata": {},
   "outputs": [
    {
     "data": {
      "text/plain": [
       "Index(['Nível Territorial (Código)', 'Nível Territorial',\n",
       "       'Unidade de Medida (Código)', 'Unidade de Medida', 'Valor',\n",
       "       'Município (Código)', 'Município', 'Variável (Código)', 'Variável',\n",
       "       'Ano (Código)', 'Ano',\n",
       "       'Produto das lavouras temporárias e permanentes (Código)',\n",
       "       'Produto das lavouras temporárias e permanentes'],\n",
       "      dtype='object', name=0)"
      ]
     },
     "execution_count": 7,
     "metadata": {},
     "output_type": "execute_result"
    }
   ],
   "source": [
    "df.columns"
   ]
  },
  {
   "cell_type": "code",
   "execution_count": 8,
   "id": "b787b3fd-d265-4b71-86a3-f79af4793bbf",
   "metadata": {},
   "outputs": [
    {
     "data": {
      "text/plain": [
       "array(['Quantidade produzida', 'Valor da produção'], dtype=object)"
      ]
     },
     "execution_count": 8,
     "metadata": {},
     "output_type": "execute_result"
    }
   ],
   "source": [
    "df.Variável.unique()"
   ]
  },
  {
   "cell_type": "code",
   "execution_count": 9,
   "id": "f6d2762c-b731-4703-8dbc-a8b0b86e6f4b",
   "metadata": {},
   "outputs": [],
   "source": [
    "df.drop(['Nível Territorial (Código)', 'Nível Territorial',\n",
    "       'Unidade de Medida (Código)', 'Variável (Código)', 'Ano (Código)', 'Produto das lavouras temporárias e permanentes (Código)'],\n",
    "       axis = 1, inplace = True)"
   ]
  },
  {
   "cell_type": "code",
   "execution_count": 10,
   "id": "7be6382a-ff24-4968-9db7-c757c3a95804",
   "metadata": {},
   "outputs": [],
   "source": [
    "df.Valor.replace(\"-\", np.nan, inplace = True)\n",
    "df.Valor.replace(\"X\", np.nan, inplace = True)\n",
    "df.Valor.replace(\"...\", np.nan, inplace = True)\n",
    "df.Valor.replace(\"..\", np.nan, inplace = True)"
   ]
  },
  {
   "cell_type": "code",
   "execution_count": 11,
   "id": "427f2b44-a059-4866-89a8-e7fe9222d290",
   "metadata": {},
   "outputs": [],
   "source": [
    "prod = df.loc[df[\"Variável\"] == \"Quantidade produzida\"]\n",
    "val = df.loc[df[\"Variável\"] == \"Valor da produção\"]"
   ]
  },
  {
   "cell_type": "code",
   "execution_count": 12,
   "id": "98d1a734-52fe-4e66-a382-975538cd46b2",
   "metadata": {},
   "outputs": [],
   "source": [
    "mer = prod.merge(val, on =[\"Município (Código)\", \"Município\", \"Ano\",\"Produto das lavouras temporárias e permanentes\"], how = \"inner\")"
   ]
  },
  {
   "cell_type": "code",
   "execution_count": 13,
   "id": "e98773f6-ed1e-46e9-aede-0320dfab02bc",
   "metadata": {},
   "outputs": [],
   "source": [
    "mer.rename({\"Unidade de Medida_x\": \"Und_medida\", \"Valor_x\": \"Producao\", \"Valor_y\": \"Valor (mil R$)\"}, axis =1, inplace =True)\n",
    "mer.drop([\"Variável_x\", \"Unidade de Medida_y\", \"Variável_y\"], axis = 1, inplace = True)"
   ]
  },
  {
   "cell_type": "code",
   "execution_count": 14,
   "id": "d437eb91-afcd-496b-a738-dab064e0e349",
   "metadata": {},
   "outputs": [
    {
     "ename": "SyntaxError",
     "evalue": "unmatched ']' (2331096690.py, line 3)",
     "output_type": "error",
     "traceback": [
      "\u001b[1;36m  Cell \u001b[1;32mIn[14], line 3\u001b[1;36m\u001b[0m\n\u001b[1;33m    'Valor (mil R$)']]]\u001b[0m\n\u001b[1;37m                      ^\u001b[0m\n\u001b[1;31mSyntaxError\u001b[0m\u001b[1;31m:\u001b[0m unmatched ']'\n"
     ]
    }
   ],
   "source": [
    "mer[['Município (Código)', 'Und_medida', 'Producao',  'Município',\n",
    "       'Ano', 'Produto das lavouras temporárias e permanentes',\n",
    "       'Valor (mil R$)']]]"
   ]
  },
  {
   "cell_type": "code",
   "execution_count": 15,
   "id": "768456c3-7af5-4275-8872-8b223dfc92f3",
   "metadata": {},
   "outputs": [],
   "source": [
    "mer.to_parquet(\"producao_total_pam.parquet\")"
   ]
  },
  {
   "cell_type": "markdown",
   "id": "6084e9f0-3be9-4ea3-8d57-29fdcee40b03",
   "metadata": {},
   "source": [
    "# Soja"
   ]
  },
  {
   "cell_type": "code",
   "execution_count": 89,
   "id": "be6564cf-86b7-4d36-a589-8762c9ab85cb",
   "metadata": {},
   "outputs": [],
   "source": [
    "API = \"https://apisidra.ibge.gov.br/values/t/5457/n6/all/v/214,215/p/last%201/c782/40124\""
   ]
  },
  {
   "cell_type": "code",
   "execution_count": 95,
   "id": "1916b82d-da65-4296-a17d-33acfa3fb833",
   "metadata": {},
   "outputs": [],
   "source": [
    "req = requests.get(API)\n",
    "info = req.json()\n",
    "df = pd.DataFrame(info)\n",
    "df.columns = df.iloc[0]\n",
    "df = df[1:]\n",
    "df.reset_index(drop=True, inplace=True)\n",
    "df.drop(['Nível Territorial (Código)', 'Nível Territorial',\n",
    "       'Unidade de Medida (Código)', 'Variável (Código)', 'Ano (Código)', 'Produto das lavouras temporárias e permanentes (Código)'],\n",
    "       axis = 1, inplace = True)\n",
    "df.Valor.replace(\"-\", np.nan, inplace = True)\n",
    "df.Valor.replace(\"X\", np.nan, inplace = True)\n",
    "df.Valor.replace(\"...\", np.nan, inplace = True)\n",
    "df.Valor.replace(\"..\", np.nan, inplace = True)\n",
    "prod = df.loc[df[\"Variável\"] == \"Quantidade produzida\"]\n",
    "val = df.loc[df[\"Variável\"] == \"Valor da produção\"]\n",
    "mer = prod.merge(val, on =[\"Município (Código)\", \"Município\", \"Ano\",\"Produto das lavouras temporárias e permanentes\"], how = \"inner\")\n",
    "mer.rename({\"Unidade de Medida_x\": \"Und_medida\", \"Valor_x\": \"Producao\", \"Valor_y\": \"Valor (mil R$)\"}, axis =1, inplace =True)\n",
    "mer.drop([\"Variável_x\", \"Unidade de Medida_y\", \"Variável_y\"], axis = 1, inplace = True)\n",
    "mer[['Município (Código)', 'Und_medida', 'Producao',  'Município',\n",
    "       'Ano', 'Produto das lavouras temporárias e permanentes',\n",
    "       'Valor (mil R$)']]\n",
    "mer.to_parquet(\"soja_pam.parquet\")"
   ]
  },
  {
   "cell_type": "markdown",
   "id": "2b8912e5-720b-4dd1-aeca-e5f15b2b2aad",
   "metadata": {},
   "source": [
    "# Arroz"
   ]
  },
  {
   "cell_type": "code",
   "execution_count": 106,
   "id": "1f3a00e0-dda2-4e5b-b845-1184a9b18999",
   "metadata": {},
   "outputs": [],
   "source": [
    "API = \"https://apisidra.ibge.gov.br/values/t/5457/n6/all/v/214,215/p/last%201/c782/40102\""
   ]
  },
  {
   "cell_type": "code",
   "execution_count": 108,
   "id": "fe9b8427-0a36-42eb-bd80-4b7d75911805",
   "metadata": {},
   "outputs": [],
   "source": [
    "req = requests.get(API)\n",
    "info = req.json()\n",
    "df = pd.DataFrame(info)\n",
    "df.columns = df.iloc[0]\n",
    "df = df[1:]\n",
    "df.reset_index(drop=True, inplace=True)\n",
    "df.drop(['Nível Territorial (Código)', 'Nível Territorial',\n",
    "       'Unidade de Medida (Código)', 'Variável (Código)', 'Ano (Código)', 'Produto das lavouras temporárias e permanentes (Código)'],\n",
    "       axis = 1, inplace = True)\n",
    "df.Valor.replace(\"-\", np.nan, inplace = True)\n",
    "df.Valor.replace(\"X\", np.nan, inplace = True)\n",
    "df.Valor.replace(\"...\", np.nan, inplace = True)\n",
    "df.Valor.replace(\"..\", np.nan, inplace = True)\n",
    "prod = df.loc[df[\"Variável\"] == \"Quantidade produzida\"]\n",
    "val = df.loc[df[\"Variável\"] == \"Valor da produção\"]\n",
    "mer = prod.merge(val, on =[\"Município (Código)\", \"Município\", \"Ano\",\"Produto das lavouras temporárias e permanentes\"], how = \"inner\")\n",
    "mer.rename({\"Unidade de Medida_x\": \"Und_medida\", \"Valor_x\": \"Producao\", \"Valor_y\": \"Valor (mil R$)\"}, axis =1, inplace =True)\n",
    "mer.drop([\"Variável_x\", \"Unidade de Medida_y\", \"Variável_y\"], axis = 1, inplace = True)\n",
    "mer[['Município (Código)', 'Und_medida', 'Producao',  'Município',\n",
    "       'Ano', 'Produto das lavouras temporárias e permanentes',\n",
    "       'Valor (mil R$)']]\n",
    "mer.to_parquet(\"arroz_pam.parquet\")"
   ]
  },
  {
   "cell_type": "markdown",
   "id": "1df8deac-9b24-4b7b-806e-d57aa92bceb9",
   "metadata": {},
   "source": [
    "# Feijão"
   ]
  },
  {
   "cell_type": "code",
   "execution_count": 111,
   "id": "0120037c-7efd-4d1c-becd-d4f21eed2297",
   "metadata": {},
   "outputs": [],
   "source": [
    "API = \"https://apisidra.ibge.gov.br/values/t/5457/n6/all/v/214,215/p/last%201/c782/40112\""
   ]
  },
  {
   "cell_type": "code",
   "execution_count": 113,
   "id": "b076ce8f-e188-4d14-bba8-da80d65ccb68",
   "metadata": {},
   "outputs": [],
   "source": [
    "req = requests.get(API)\n",
    "info = req.json()\n",
    "df = pd.DataFrame(info)\n",
    "df.columns = df.iloc[0]\n",
    "df = df[1:]\n",
    "df.reset_index(drop=True, inplace=True)\n",
    "df.drop(['Nível Territorial (Código)', 'Nível Territorial',\n",
    "       'Unidade de Medida (Código)', 'Variável (Código)', 'Ano (Código)', 'Produto das lavouras temporárias e permanentes (Código)'],\n",
    "       axis = 1, inplace = True)\n",
    "df.Valor.replace(\"-\", np.nan, inplace = True)\n",
    "df.Valor.replace(\"X\", np.nan, inplace = True)\n",
    "df.Valor.replace(\"...\", np.nan, inplace = True)\n",
    "df.Valor.replace(\"..\", np.nan, inplace = True)\n",
    "prod = df.loc[df[\"Variável\"] == \"Quantidade produzida\"]\n",
    "val = df.loc[df[\"Variável\"] == \"Valor da produção\"]\n",
    "mer = prod.merge(val, on =[\"Município (Código)\", \"Município\", \"Ano\",\"Produto das lavouras temporárias e permanentes\"], how = \"inner\")\n",
    "mer.rename({\"Unidade de Medida_x\": \"Und_medida\", \"Valor_x\": \"Producao\", \"Valor_y\": \"Valor (mil R$)\"}, axis =1, inplace =True)\n",
    "mer.drop([\"Variável_x\", \"Unidade de Medida_y\", \"Variável_y\"], axis = 1, inplace = True)\n",
    "mer[['Município (Código)', 'Und_medida', 'Producao',  'Município',\n",
    "       'Ano', 'Produto das lavouras temporárias e permanentes',\n",
    "       'Valor (mil R$)']]\n",
    "mer.to_parquet(\"feijao_pam.parquet\")"
   ]
  },
  {
   "cell_type": "markdown",
   "id": "5ddc3555-141f-4c8e-8fa4-ff967d4d3cc6",
   "metadata": {},
   "source": [
    "# Milho"
   ]
  },
  {
   "cell_type": "code",
   "execution_count": 116,
   "id": "79454c00-6f1e-4432-b566-5edd63d97075",
   "metadata": {},
   "outputs": [],
   "source": [
    "API = \"https://apisidra.ibge.gov.br/values/t/5457/n6/all/v/214,215/p/last%201/c782/40122\""
   ]
  },
  {
   "cell_type": "code",
   "execution_count": 118,
   "id": "b61558fa-7576-4acc-b5fd-eaa70149c871",
   "metadata": {},
   "outputs": [],
   "source": [
    "req = requests.get(API)\n",
    "info = req.json()\n",
    "df = pd.DataFrame(info)\n",
    "df.columns = df.iloc[0]\n",
    "df = df[1:]\n",
    "df.reset_index(drop=True, inplace=True)\n",
    "df.drop(['Nível Territorial (Código)', 'Nível Territorial',\n",
    "       'Unidade de Medida (Código)', 'Variável (Código)', 'Ano (Código)', 'Produto das lavouras temporárias e permanentes (Código)'],\n",
    "       axis = 1, inplace = True)\n",
    "df.Valor.replace(\"-\", np.nan, inplace = True)\n",
    "df.Valor.replace(\"X\", np.nan, inplace = True)\n",
    "df.Valor.replace(\"...\", np.nan, inplace = True)\n",
    "df.Valor.replace(\"..\", np.nan, inplace = True)\n",
    "prod = df.loc[df[\"Variável\"] == \"Quantidade produzida\"]\n",
    "val = df.loc[df[\"Variável\"] == \"Valor da produção\"]\n",
    "mer = prod.merge(val, on =[\"Município (Código)\", \"Município\", \"Ano\",\"Produto das lavouras temporárias e permanentes\"], how = \"inner\")\n",
    "mer.rename({\"Unidade de Medida_x\": \"Und_medida\", \"Valor_x\": \"Producao\", \"Valor_y\": \"Valor (mil R$)\"}, axis =1, inplace =True)\n",
    "mer.drop([\"Variável_x\", \"Unidade de Medida_y\", \"Variável_y\"], axis = 1, inplace = True)\n",
    "mer[['Município (Código)', 'Und_medida', 'Producao',  'Município',\n",
    "       'Ano', 'Produto das lavouras temporárias e permanentes',\n",
    "       'Valor (mil R$)']]\n",
    "mer.to_parquet(\"milho_pam.parquet\")"
   ]
  },
  {
   "cell_type": "markdown",
   "id": "00ec49d0-f6bf-4599-8964-99ae432cdb99",
   "metadata": {},
   "source": [
    "# Trigo"
   ]
  },
  {
   "cell_type": "code",
   "execution_count": 179,
   "id": "9a25b7ac-a060-4db0-a74b-a7ba46d14edd",
   "metadata": {},
   "outputs": [],
   "source": [
    "API = \"https://apisidra.ibge.gov.br/values/t/5457/n6/all/v/214,215/p/last%201/c782/40127\""
   ]
  },
  {
   "cell_type": "code",
   "execution_count": 181,
   "id": "52d8079f-9b3c-4778-ac7d-920a2da867c3",
   "metadata": {},
   "outputs": [],
   "source": [
    "req = requests.get(API)\n",
    "info = req.json()\n",
    "df = pd.DataFrame(info)\n",
    "df.columns = df.iloc[0]\n",
    "df = df[1:]\n",
    "df.reset_index(drop=True, inplace=True)\n",
    "df.drop(['Nível Territorial (Código)', 'Nível Territorial',\n",
    "       'Unidade de Medida (Código)', 'Variável (Código)', 'Ano (Código)', 'Produto das lavouras temporárias e permanentes (Código)'],\n",
    "       axis = 1, inplace = True)\n",
    "df.Valor.replace(\"-\", np.nan, inplace = True)\n",
    "df.Valor.replace(\"X\", np.nan, inplace = True)\n",
    "df.Valor.replace(\"...\", np.nan, inplace = True)\n",
    "df.Valor.replace(\"..\", np.nan, inplace = True)\n",
    "prod = df.loc[df[\"Variável\"] == \"Quantidade produzida\"]\n",
    "val = df.loc[df[\"Variável\"] == \"Valor da produção\"]\n",
    "mer = prod.merge(val, on =[\"Município (Código)\", \"Município\", \"Ano\",\"Produto das lavouras temporárias e permanentes\"], how = \"inner\")\n",
    "mer.rename({\"Unidade de Medida_x\": \"Und_medida\", \"Valor_x\": \"Producao\", \"Valor_y\": \"Valor (mil R$)\"}, axis =1, inplace =True)\n",
    "mer.drop([\"Variável_x\", \"Unidade de Medida_y\", \"Variável_y\"], axis = 1, inplace = True)\n",
    "mer[['Município (Código)', 'Und_medida', 'Producao',  'Município',\n",
    "       'Ano', 'Produto das lavouras temporárias e permanentes',\n",
    "       'Valor (mil R$)']]\n",
    "mer.to_parquet(\"trigo_pam.parquet\")"
   ]
  },
  {
   "cell_type": "code",
   "execution_count": 187,
   "id": "7aefe300-dadf-4991-baa9-af9545a4b9c5",
   "metadata": {},
   "outputs": [],
   "source": [
    "soja = pd.read_parquet(\"soja_pam.parquet\")\n",
    "milho = pd.read_parquet(\"milho_pam.parquet\")\n",
    "arroz = pd.read_parquet(\"arroz_pam.parquet\")\n",
    "feijao = pd.read_parquet(\"feijao_pam.parquet\")\n",
    "trigo = pd.read_parquet(\"trigo_pam.parquet\")\n",
    "\n",
    "graos = pd.concat([soja, milho, arroz, feijao, trigo])\n",
    "\n",
    "graos.to_parquet(\"graos_pam.parquet\")"
   ]
  },
  {
   "cell_type": "code",
   "execution_count": 185,
   "id": "c0ca8315-7bf7-4bed-9821-f8335d6ea80b",
   "metadata": {},
   "outputs": [
    {
     "data": {
      "text/html": [
       "<div>\n",
       "<style scoped>\n",
       "    .dataframe tbody tr th:only-of-type {\n",
       "        vertical-align: middle;\n",
       "    }\n",
       "\n",
       "    .dataframe tbody tr th {\n",
       "        vertical-align: top;\n",
       "    }\n",
       "\n",
       "    .dataframe thead th {\n",
       "        text-align: right;\n",
       "    }\n",
       "</style>\n",
       "<table border=\"1\" class=\"dataframe\">\n",
       "  <thead>\n",
       "    <tr style=\"text-align: right;\">\n",
       "      <th></th>\n",
       "      <th>Und_medida</th>\n",
       "      <th>Producao</th>\n",
       "      <th>Município (Código)</th>\n",
       "      <th>Município</th>\n",
       "      <th>Ano</th>\n",
       "      <th>Produto das lavouras temporárias e permanentes</th>\n",
       "      <th>Valor (mil R$)</th>\n",
       "    </tr>\n",
       "  </thead>\n",
       "  <tbody>\n",
       "    <tr>\n",
       "      <th>0</th>\n",
       "      <td>Toneladas</td>\n",
       "      <td>4824</td>\n",
       "      <td>1100015</td>\n",
       "      <td>Alta Floresta D'Oeste - RO</td>\n",
       "      <td>2023</td>\n",
       "      <td>Soja (em grão)</td>\n",
       "      <td>10968</td>\n",
       "    </tr>\n",
       "    <tr>\n",
       "      <th>1</th>\n",
       "      <td>Toneladas</td>\n",
       "      <td>46230</td>\n",
       "      <td>1100023</td>\n",
       "      <td>Ariquemes - RO</td>\n",
       "      <td>2023</td>\n",
       "      <td>Soja (em grão)</td>\n",
       "      <td>106682</td>\n",
       "    </tr>\n",
       "    <tr>\n",
       "      <th>2</th>\n",
       "      <td>Toneladas</td>\n",
       "      <td>100000</td>\n",
       "      <td>1100031</td>\n",
       "      <td>Cabixi - RO</td>\n",
       "      <td>2023</td>\n",
       "      <td>Soja (em grão)</td>\n",
       "      <td>246666</td>\n",
       "    </tr>\n",
       "    <tr>\n",
       "      <th>3</th>\n",
       "      <td>Toneladas</td>\n",
       "      <td>16420</td>\n",
       "      <td>1100049</td>\n",
       "      <td>Cacoal - RO</td>\n",
       "      <td>2023</td>\n",
       "      <td>Soja (em grão)</td>\n",
       "      <td>37194</td>\n",
       "    </tr>\n",
       "    <tr>\n",
       "      <th>4</th>\n",
       "      <td>Toneladas</td>\n",
       "      <td>140000</td>\n",
       "      <td>1100056</td>\n",
       "      <td>Cerejeiras - RO</td>\n",
       "      <td>2023</td>\n",
       "      <td>Soja (em grão)</td>\n",
       "      <td>345332</td>\n",
       "    </tr>\n",
       "  </tbody>\n",
       "</table>\n",
       "</div>"
      ],
      "text/plain": [
       "0 Und_medida Producao Município (Código)                   Município   Ano  \\\n",
       "0  Toneladas     4824            1100015  Alta Floresta D'Oeste - RO  2023   \n",
       "1  Toneladas    46230            1100023              Ariquemes - RO  2023   \n",
       "2  Toneladas   100000            1100031                 Cabixi - RO  2023   \n",
       "3  Toneladas    16420            1100049                 Cacoal - RO  2023   \n",
       "4  Toneladas   140000            1100056             Cerejeiras - RO  2023   \n",
       "\n",
       "0 Produto das lavouras temporárias e permanentes Valor (mil R$)  \n",
       "0                                 Soja (em grão)          10968  \n",
       "1                                 Soja (em grão)         106682  \n",
       "2                                 Soja (em grão)         246666  \n",
       "3                                 Soja (em grão)          37194  \n",
       "4                                 Soja (em grão)         345332  "
      ]
     },
     "execution_count": 185,
     "metadata": {},
     "output_type": "execute_result"
    }
   ],
   "source": [
    "graos.head()"
   ]
  },
  {
   "cell_type": "markdown",
   "id": "a88361c9-10b6-42e2-a445-4b303fd0e23c",
   "metadata": {},
   "source": [
    "# Banana"
   ]
  },
  {
   "cell_type": "code",
   "execution_count": 134,
   "id": "e98bc381-5a07-4a1f-a5e0-8938b69ca208",
   "metadata": {},
   "outputs": [],
   "source": [
    "API = \"https://apisidra.ibge.gov.br/values/t/5457/n6/all/v/214,215/p/last%201/c782/40136\""
   ]
  },
  {
   "cell_type": "code",
   "execution_count": 136,
   "id": "91f5c9bc-913f-4543-a0dd-0818f453c8a2",
   "metadata": {},
   "outputs": [],
   "source": [
    "req = requests.get(API)\n",
    "info = req.json()\n",
    "df = pd.DataFrame(info)\n",
    "df.columns = df.iloc[0]\n",
    "df = df[1:]\n",
    "df.reset_index(drop=True, inplace=True)\n",
    "df.drop(['Nível Territorial (Código)', 'Nível Territorial',\n",
    "       'Unidade de Medida (Código)', 'Variável (Código)', 'Ano (Código)', 'Produto das lavouras temporárias e permanentes (Código)'],\n",
    "       axis = 1, inplace = True)\n",
    "df.Valor.replace(\"-\", np.nan, inplace = True)\n",
    "df.Valor.replace(\"X\", np.nan, inplace = True)\n",
    "df.Valor.replace(\"...\", np.nan, inplace = True)\n",
    "df.Valor.replace(\"..\", np.nan, inplace = True)\n",
    "prod = df.loc[df[\"Variável\"] == \"Quantidade produzida\"]\n",
    "val = df.loc[df[\"Variável\"] == \"Valor da produção\"]\n",
    "mer = prod.merge(val, on =[\"Município (Código)\", \"Município\", \"Ano\",\"Produto das lavouras temporárias e permanentes\"], how = \"inner\")\n",
    "mer.rename({\"Unidade de Medida_x\": \"Und_medida\", \"Valor_x\": \"Producao\", \"Valor_y\": \"Valor (mil R$)\"}, axis =1, inplace =True)\n",
    "mer.drop([\"Variável_x\", \"Unidade de Medida_y\", \"Variável_y\"], axis = 1, inplace = True)\n",
    "mer[['Município (Código)', 'Und_medida', 'Producao',  'Município',\n",
    "       'Ano', 'Produto das lavouras temporárias e permanentes',\n",
    "       'Valor (mil R$)']]\n",
    "mer.to_parquet(\"banana_pam.parquet\")"
   ]
  },
  {
   "cell_type": "markdown",
   "id": "631b6d1c-b42f-4c3a-bc57-5b3082e8569a",
   "metadata": {},
   "source": [
    "# Uva"
   ]
  },
  {
   "cell_type": "code",
   "execution_count": 140,
   "id": "2828e887-e41e-4797-a2a5-e6f6d097e5c5",
   "metadata": {},
   "outputs": [],
   "source": [
    "API = \"https://apisidra.ibge.gov.br/values/t/5457/n6/all/v/214,215/p/last%201/c782/40274\""
   ]
  },
  {
   "cell_type": "code",
   "execution_count": 142,
   "id": "e5bd52ff-8ee6-465f-ad32-dc8452c2a6aa",
   "metadata": {},
   "outputs": [],
   "source": [
    "req = requests.get(API)\n",
    "info = req.json()\n",
    "df = pd.DataFrame(info)\n",
    "df.columns = df.iloc[0]\n",
    "df = df[1:]\n",
    "df.reset_index(drop=True, inplace=True)\n",
    "df.drop(['Nível Territorial (Código)', 'Nível Territorial',\n",
    "       'Unidade de Medida (Código)', 'Variável (Código)', 'Ano (Código)', 'Produto das lavouras temporárias e permanentes (Código)'],\n",
    "       axis = 1, inplace = True)\n",
    "df.Valor.replace(\"-\", np.nan, inplace = True)\n",
    "df.Valor.replace(\"X\", np.nan, inplace = True)\n",
    "df.Valor.replace(\"...\", np.nan, inplace = True)\n",
    "df.Valor.replace(\"..\", np.nan, inplace = True)\n",
    "prod = df.loc[df[\"Variável\"] == \"Quantidade produzida\"]\n",
    "val = df.loc[df[\"Variável\"] == \"Valor da produção\"]\n",
    "mer = prod.merge(val, on =[\"Município (Código)\", \"Município\", \"Ano\",\"Produto das lavouras temporárias e permanentes\"], how = \"inner\")\n",
    "mer.rename({\"Unidade de Medida_x\": \"Und_medida\", \"Valor_x\": \"Producao\", \"Valor_y\": \"Valor (mil R$)\"}, axis =1, inplace =True)\n",
    "mer.drop([\"Variável_x\", \"Unidade de Medida_y\", \"Variável_y\"], axis = 1, inplace = True)\n",
    "mer[['Município (Código)', 'Und_medida', 'Producao',  'Município',\n",
    "       'Ano', 'Produto das lavouras temporárias e permanentes',\n",
    "       'Valor (mil R$)']]\n",
    "mer.to_parquet(\"uva_pam.parquet\")"
   ]
  },
  {
   "cell_type": "markdown",
   "id": "305121ec-a5cb-4ec5-b259-2c8e7053876d",
   "metadata": {},
   "source": [
    "# Manga"
   ]
  },
  {
   "cell_type": "code",
   "execution_count": 146,
   "id": "90c3e5e5-6a0c-42b6-b749-28e21be69b56",
   "metadata": {},
   "outputs": [],
   "source": [
    "API = \"https://apisidra.ibge.gov.br/values/t/5457/n6/all/v/214,215/p/last%201/c782/40262\""
   ]
  },
  {
   "cell_type": "code",
   "execution_count": 148,
   "id": "f7c9f19b-9c97-4bb6-a43a-099f2e448922",
   "metadata": {},
   "outputs": [],
   "source": [
    "req = requests.get(API)\n",
    "info = req.json()\n",
    "df = pd.DataFrame(info)\n",
    "df.columns = df.iloc[0]\n",
    "df = df[1:]\n",
    "df.reset_index(drop=True, inplace=True)\n",
    "df.drop(['Nível Territorial (Código)', 'Nível Territorial',\n",
    "       'Unidade de Medida (Código)', 'Variável (Código)', 'Ano (Código)', 'Produto das lavouras temporárias e permanentes (Código)'],\n",
    "       axis = 1, inplace = True)\n",
    "df.Valor.replace(\"-\", np.nan, inplace = True)\n",
    "df.Valor.replace(\"X\", np.nan, inplace = True)\n",
    "df.Valor.replace(\"...\", np.nan, inplace = True)\n",
    "df.Valor.replace(\"..\", np.nan, inplace = True)\n",
    "prod = df.loc[df[\"Variável\"] == \"Quantidade produzida\"]\n",
    "val = df.loc[df[\"Variável\"] == \"Valor da produção\"]\n",
    "mer = prod.merge(val, on =[\"Município (Código)\", \"Município\", \"Ano\",\"Produto das lavouras temporárias e permanentes\"], how = \"inner\")\n",
    "mer.rename({\"Unidade de Medida_x\": \"Und_medida\", \"Valor_x\": \"Producao\", \"Valor_y\": \"Valor (mil R$)\"}, axis =1, inplace =True)\n",
    "mer.drop([\"Variável_x\", \"Unidade de Medida_y\", \"Variável_y\"], axis = 1, inplace = True)\n",
    "mer[['Município (Código)', 'Und_medida', 'Producao',  'Município',\n",
    "       'Ano', 'Produto das lavouras temporárias e permanentes',\n",
    "       'Valor (mil R$)']]\n",
    "mer.to_parquet(\"manga_pam.parquet\")"
   ]
  },
  {
   "cell_type": "markdown",
   "id": "15260e9b-e079-4847-b998-a3c569d98d36",
   "metadata": {},
   "source": [
    "# Café"
   ]
  },
  {
   "cell_type": "code",
   "execution_count": 158,
   "id": "dbe4ce2a-f16b-41b1-ad89-2f73d8c18c2f",
   "metadata": {},
   "outputs": [],
   "source": [
    "API = \"https://apisidra.ibge.gov.br/values/t/5457/n6/all/v/214,215/p/last%201/c782/40139\""
   ]
  },
  {
   "cell_type": "code",
   "execution_count": 160,
   "id": "7eb0dd19-0aea-4220-a8f4-74c99ede6300",
   "metadata": {},
   "outputs": [],
   "source": [
    "req = requests.get(API)\n",
    "info = req.json()\n",
    "df = pd.DataFrame(info)\n",
    "df.columns = df.iloc[0]\n",
    "df = df[1:]\n",
    "df.reset_index(drop=True, inplace=True)\n",
    "df.drop(['Nível Territorial (Código)', 'Nível Territorial',\n",
    "       'Unidade de Medida (Código)', 'Variável (Código)', 'Ano (Código)', 'Produto das lavouras temporárias e permanentes (Código)'],\n",
    "       axis = 1, inplace = True)\n",
    "df.Valor.replace(\"-\", np.nan, inplace = True)\n",
    "df.Valor.replace(\"X\", np.nan, inplace = True)\n",
    "df.Valor.replace(\"...\", np.nan, inplace = True)\n",
    "df.Valor.replace(\"..\", np.nan, inplace = True)\n",
    "prod = df.loc[df[\"Variável\"] == \"Quantidade produzida\"]\n",
    "val = df.loc[df[\"Variável\"] == \"Valor da produção\"]\n",
    "mer = prod.merge(val, on =[\"Município (Código)\", \"Município\", \"Ano\",\"Produto das lavouras temporárias e permanentes\"], how = \"inner\")\n",
    "mer.rename({\"Unidade de Medida_x\": \"Und_medida\", \"Valor_x\": \"Producao\", \"Valor_y\": \"Valor (mil R$)\"}, axis =1, inplace =True)\n",
    "mer.drop([\"Variável_x\", \"Unidade de Medida_y\", \"Variável_y\"], axis = 1, inplace = True)\n",
    "mer[['Município (Código)', 'Und_medida', 'Producao',  'Município',\n",
    "       'Ano', 'Produto das lavouras temporárias e permanentes',\n",
    "       'Valor (mil R$)']]\n",
    "mer.to_parquet(\"cafe_pam.parquet\")"
   ]
  },
  {
   "cell_type": "markdown",
   "id": "b4310fa4-5e87-4a60-91dd-a45d11cd213b",
   "metadata": {},
   "source": [
    "# Laranja"
   ]
  },
  {
   "cell_type": "code",
   "execution_count": 162,
   "id": "c968aaa3-318a-4db8-aefc-03bd01f0ca05",
   "metadata": {},
   "outputs": [],
   "source": [
    "API = \"https://apisidra.ibge.gov.br/values/t/5457/n6/all/v/214,215/p/last%201/c782/40151\""
   ]
  },
  {
   "cell_type": "code",
   "execution_count": 164,
   "id": "6fba3c53-cc12-4f8e-80a4-adb89e210120",
   "metadata": {},
   "outputs": [],
   "source": [
    "req = requests.get(API)\n",
    "info = req.json()\n",
    "df = pd.DataFrame(info)\n",
    "df.columns = df.iloc[0]\n",
    "df = df[1:]\n",
    "df.reset_index(drop=True, inplace=True)\n",
    "df.drop(['Nível Territorial (Código)', 'Nível Territorial',\n",
    "       'Unidade de Medida (Código)', 'Variável (Código)', 'Ano (Código)', 'Produto das lavouras temporárias e permanentes (Código)'],\n",
    "       axis = 1, inplace = True)\n",
    "df.Valor.replace(\"-\", np.nan, inplace = True)\n",
    "df.Valor.replace(\"X\", np.nan, inplace = True)\n",
    "df.Valor.replace(\"...\", np.nan, inplace = True)\n",
    "df.Valor.replace(\"..\", np.nan, inplace = True)\n",
    "prod = df.loc[df[\"Variável\"] == \"Quantidade produzida\"]\n",
    "val = df.loc[df[\"Variável\"] == \"Valor da produção\"]\n",
    "mer = prod.merge(val, on =[\"Município (Código)\", \"Município\", \"Ano\",\"Produto das lavouras temporárias e permanentes\"], how = \"inner\")\n",
    "mer.rename({\"Unidade de Medida_x\": \"Und_medida\", \"Valor_x\": \"Producao\", \"Valor_y\": \"Valor (mil R$)\"}, axis =1, inplace =True)\n",
    "mer.drop([\"Variável_x\", \"Unidade de Medida_y\", \"Variável_y\"], axis = 1, inplace = True)\n",
    "mer[['Município (Código)', 'Und_medida', 'Producao',  'Município',\n",
    "       'Ano', 'Produto das lavouras temporárias e permanentes',\n",
    "       'Valor (mil R$)']]\n",
    "mer.to_parquet(\"laranja_pam.parquet\")"
   ]
  },
  {
   "cell_type": "markdown",
   "id": "0c18cb56-c7a9-473b-9fa7-e3c800ebf1c0",
   "metadata": {},
   "source": [
    "# Fruticultura"
   ]
  },
  {
   "cell_type": "code",
   "execution_count": 191,
   "id": "ec9e5abb-cce7-4dcc-a221-9b5cbcde90ae",
   "metadata": {},
   "outputs": [],
   "source": [
    "banana = pd.read_parquet(\"banana_pam.parquet\")\n",
    "uva = pd.read_parquet(\"uva_pam.parquet\")\n",
    "manga = pd.read_parquet(\"manga_pam.parquet\")\n",
    "laranja = pd.read_parquet(\"laranja_pam.parquet\")\n",
    "\n",
    "\n",
    "frut = pd.concat([banana, uva, manga, laranja])\n",
    "\n",
    "frut.to_parquet(\"frut_pam.parquet\")"
   ]
  },
  {
   "cell_type": "markdown",
   "id": "7cb7b25b-0633-4caf-b70f-4807ad8f5483",
   "metadata": {},
   "source": [
    "# Tomate"
   ]
  },
  {
   "cell_type": "code",
   "execution_count": 167,
   "id": "d55876da-c549-4178-8937-4485b9f1ceb0",
   "metadata": {},
   "outputs": [],
   "source": [
    "API = \"https://apisidra.ibge.gov.br/values/t/5457/n6/all/v/214,215/p/last%201/c782/40126\""
   ]
  },
  {
   "cell_type": "code",
   "execution_count": 169,
   "id": "b6dd4e36-ca8c-457e-a6e5-263c3fb8f5ee",
   "metadata": {},
   "outputs": [],
   "source": [
    "req = requests.get(API)\n",
    "info = req.json()\n",
    "df = pd.DataFrame(info)\n",
    "df.columns = df.iloc[0]\n",
    "df = df[1:]\n",
    "df.reset_index(drop=True, inplace=True)\n",
    "df.drop(['Nível Territorial (Código)', 'Nível Territorial',\n",
    "       'Unidade de Medida (Código)', 'Variável (Código)', 'Ano (Código)', 'Produto das lavouras temporárias e permanentes (Código)'],\n",
    "       axis = 1, inplace = True)\n",
    "df.Valor.replace(\"-\", np.nan, inplace = True)\n",
    "df.Valor.replace(\"X\", np.nan, inplace = True)\n",
    "df.Valor.replace(\"...\", np.nan, inplace = True)\n",
    "df.Valor.replace(\"..\", np.nan, inplace = True)\n",
    "prod = df.loc[df[\"Variável\"] == \"Quantidade produzida\"]\n",
    "val = df.loc[df[\"Variável\"] == \"Valor da produção\"]\n",
    "mer = prod.merge(val, on =[\"Município (Código)\", \"Município\", \"Ano\",\"Produto das lavouras temporárias e permanentes\"], how = \"inner\")\n",
    "mer.rename({\"Unidade de Medida_x\": \"Und_medida\", \"Valor_x\": \"Producao\", \"Valor_y\": \"Valor (mil R$)\"}, axis =1, inplace =True)\n",
    "mer.drop([\"Variável_x\", \"Unidade de Medida_y\", \"Variável_y\"], axis = 1, inplace = True)\n",
    "mer[['Município (Código)', 'Und_medida', 'Producao',  'Município',\n",
    "       'Ano', 'Produto das lavouras temporárias e permanentes',\n",
    "       'Valor (mil R$)']]\n",
    "mer.to_parquet(\"tomate_pam.parquet\")"
   ]
  },
  {
   "cell_type": "markdown",
   "id": "30bbf976-00df-4e0b-bcdf-1d62302ca856",
   "metadata": {},
   "source": [
    "# Cebola"
   ]
  },
  {
   "cell_type": "code",
   "execution_count": 172,
   "id": "6ee7f45b-20f0-469b-8924-42096a371b90",
   "metadata": {},
   "outputs": [],
   "source": [
    "API = \"https://apisidra.ibge.gov.br/values/t/5457/n6/all/v/214,215/p/last%201/c782/40107\""
   ]
  },
  {
   "cell_type": "code",
   "execution_count": 174,
   "id": "d4c800c9-127e-40a2-98bc-42298f27e72e",
   "metadata": {},
   "outputs": [],
   "source": [
    "req = requests.get(API)\n",
    "info = req.json()\n",
    "df = pd.DataFrame(info)\n",
    "df.columns = df.iloc[0]\n",
    "df = df[1:]\n",
    "df.reset_index(drop=True, inplace=True)\n",
    "df.drop(['Nível Territorial (Código)', 'Nível Territorial',\n",
    "       'Unidade de Medida (Código)', 'Variável (Código)', 'Ano (Código)', 'Produto das lavouras temporárias e permanentes (Código)'],\n",
    "       axis = 1, inplace = True)\n",
    "df.Valor.replace(\"-\", np.nan, inplace = True)\n",
    "df.Valor.replace(\"X\", np.nan, inplace = True)\n",
    "df.Valor.replace(\"...\", np.nan, inplace = True)\n",
    "df.Valor.replace(\"..\", np.nan, inplace = True)\n",
    "prod = df.loc[df[\"Variável\"] == \"Quantidade produzida\"]\n",
    "val = df.loc[df[\"Variável\"] == \"Valor da produção\"]\n",
    "mer = prod.merge(val, on =[\"Município (Código)\", \"Município\", \"Ano\",\"Produto das lavouras temporárias e permanentes\"], how = \"inner\")\n",
    "mer.rename({\"Unidade de Medida_x\": \"Und_medida\", \"Valor_x\": \"Producao\", \"Valor_y\": \"Valor (mil R$)\"}, axis =1, inplace =True)\n",
    "mer.drop([\"Variável_x\", \"Unidade de Medida_y\", \"Variável_y\"], axis = 1, inplace = True)\n",
    "mer[['Município (Código)', 'Und_medida', 'Producao',  'Município',\n",
    "       'Ano', 'Produto das lavouras temporárias e permanentes',\n",
    "       'Valor (mil R$)']]\n",
    "mer.to_parquet(\"cebola_pam.parquet\")"
   ]
  },
  {
   "cell_type": "markdown",
   "id": "a5f0c429-5762-43c2-b4e5-d6eda536c47a",
   "metadata": {},
   "source": [
    "# Mandioca"
   ]
  },
  {
   "cell_type": "code",
   "execution_count": null,
   "id": "aa473323-fd7f-4111-8781-c064ddabaf39",
   "metadata": {},
   "outputs": [],
   "source": [
    "API = \"https://apisidra.ibge.gov.br/values/t/5457/n6/all/v/214,215/p/last%201/c782/40119\""
   ]
  },
  {
   "cell_type": "code",
   "execution_count": null,
   "id": "79c377b4-70bd-404a-99e6-772f149b7430",
   "metadata": {},
   "outputs": [],
   "source": [
    "req = requests.get(API)\n",
    "info = req.json()\n",
    "df = pd.DataFrame(info)\n",
    "df.columns = df.iloc[0]\n",
    "df = df[1:]\n",
    "df.reset_index(drop=True, inplace=True)\n",
    "df.drop(['Nível Territorial (Código)', 'Nível Territorial',\n",
    "       'Unidade de Medida (Código)', 'Variável (Código)', 'Ano (Código)', 'Produto das lavouras temporárias e permanentes (Código)'],\n",
    "       axis = 1, inplace = True)\n",
    "df.Valor.replace(\"-\", np.nan, inplace = True)\n",
    "df.Valor.replace(\"X\", np.nan, inplace = True)\n",
    "df.Valor.replace(\"...\", np.nan, inplace = True)\n",
    "df.Valor.replace(\"..\", np.nan, inplace = True)\n",
    "prod = df.loc[df[\"Variável\"] == \"Quantidade produzida\"]\n",
    "val = df.loc[df[\"Variável\"] == \"Valor da produção\"]\n",
    "mer = prod.merge(val, on =[\"Município (Código)\", \"Município\", \"Ano\",\"Produto das lavouras temporárias e permanentes\"], how = \"inner\")\n",
    "mer.rename({\"Unidade de Medida_x\": \"Und_medida\", \"Valor_x\": \"Producao\", \"Valor_y\": \"Valor (mil R$)\"}, axis =1, inplace =True)\n",
    "mer.drop([\"Variável_x\", \"Unidade de Medida_y\", \"Variável_y\"], axis = 1, inplace = True)\n",
    "mer[['Município (Código)', 'Und_medida', 'Producao',  'Município',\n",
    "       'Ano', 'Produto das lavouras temporárias e permanentes',\n",
    "       'Valor (mil R$)']]\n",
    "mer.to_parquet(\"mandioca_pam.parquet\")"
   ]
  },
  {
   "cell_type": "markdown",
   "id": "f64fda7c-0238-442f-9414-cfbc9c1e7b4e",
   "metadata": {},
   "source": [
    "# Olericultura"
   ]
  },
  {
   "cell_type": "code",
   "execution_count": 196,
   "id": "fbf270af-9895-47d4-ab36-81925b64fd4a",
   "metadata": {},
   "outputs": [],
   "source": [
    "tomate = pd.read_parquet(\"tomate_pam.parquet\")\n",
    "cebola = pd.read_parquet(\"cebola_pam.parquet\")\n",
    "mandioca = pd.read_parquet(\"mandioca_pam.parquet\")\n",
    "\n",
    "\n",
    "\n",
    "oleri = pd.concat([tomate, cebola, mandioca])\n",
    "\n",
    "oleri.to_parquet(\"oleri_pam.parquet\")"
   ]
  },
  {
   "cell_type": "code",
   "execution_count": 198,
   "id": "324b3102-15c7-49f1-950f-a35806625e48",
   "metadata": {},
   "outputs": [],
   "source": [
    "graos = pd.read_parquet(\"graos_pam.parquet\")"
   ]
  },
  {
   "cell_type": "code",
   "execution_count": 200,
   "id": "e4cd831b-66fb-4ef9-837a-9e5a3ab83fb6",
   "metadata": {},
   "outputs": [
    {
     "data": {
      "text/html": [
       "<div>\n",
       "<style scoped>\n",
       "    .dataframe tbody tr th:only-of-type {\n",
       "        vertical-align: middle;\n",
       "    }\n",
       "\n",
       "    .dataframe tbody tr th {\n",
       "        vertical-align: top;\n",
       "    }\n",
       "\n",
       "    .dataframe thead th {\n",
       "        text-align: right;\n",
       "    }\n",
       "</style>\n",
       "<table border=\"1\" class=\"dataframe\">\n",
       "  <thead>\n",
       "    <tr style=\"text-align: right;\">\n",
       "      <th></th>\n",
       "      <th>Und_medida</th>\n",
       "      <th>Producao</th>\n",
       "      <th>Município (Código)</th>\n",
       "      <th>Município</th>\n",
       "      <th>Ano</th>\n",
       "      <th>Produto das lavouras temporárias e permanentes</th>\n",
       "      <th>Valor (mil R$)</th>\n",
       "    </tr>\n",
       "  </thead>\n",
       "  <tbody>\n",
       "    <tr>\n",
       "      <th>0</th>\n",
       "      <td>Toneladas</td>\n",
       "      <td>4824</td>\n",
       "      <td>1100015</td>\n",
       "      <td>Alta Floresta D'Oeste - RO</td>\n",
       "      <td>2023</td>\n",
       "      <td>Soja (em grão)</td>\n",
       "      <td>10968</td>\n",
       "    </tr>\n",
       "    <tr>\n",
       "      <th>1</th>\n",
       "      <td>Toneladas</td>\n",
       "      <td>46230</td>\n",
       "      <td>1100023</td>\n",
       "      <td>Ariquemes - RO</td>\n",
       "      <td>2023</td>\n",
       "      <td>Soja (em grão)</td>\n",
       "      <td>106682</td>\n",
       "    </tr>\n",
       "    <tr>\n",
       "      <th>2</th>\n",
       "      <td>Toneladas</td>\n",
       "      <td>100000</td>\n",
       "      <td>1100031</td>\n",
       "      <td>Cabixi - RO</td>\n",
       "      <td>2023</td>\n",
       "      <td>Soja (em grão)</td>\n",
       "      <td>246666</td>\n",
       "    </tr>\n",
       "    <tr>\n",
       "      <th>3</th>\n",
       "      <td>Toneladas</td>\n",
       "      <td>16420</td>\n",
       "      <td>1100049</td>\n",
       "      <td>Cacoal - RO</td>\n",
       "      <td>2023</td>\n",
       "      <td>Soja (em grão)</td>\n",
       "      <td>37194</td>\n",
       "    </tr>\n",
       "    <tr>\n",
       "      <th>4</th>\n",
       "      <td>Toneladas</td>\n",
       "      <td>140000</td>\n",
       "      <td>1100056</td>\n",
       "      <td>Cerejeiras - RO</td>\n",
       "      <td>2023</td>\n",
       "      <td>Soja (em grão)</td>\n",
       "      <td>345332</td>\n",
       "    </tr>\n",
       "    <tr>\n",
       "      <th>...</th>\n",
       "      <td>...</td>\n",
       "      <td>...</td>\n",
       "      <td>...</td>\n",
       "      <td>...</td>\n",
       "      <td>...</td>\n",
       "      <td>...</td>\n",
       "      <td>...</td>\n",
       "    </tr>\n",
       "    <tr>\n",
       "      <th>5558</th>\n",
       "      <td>Toneladas</td>\n",
       "      <td>1058</td>\n",
       "      <td>5222005</td>\n",
       "      <td>Vianópolis - GO</td>\n",
       "      <td>2023</td>\n",
       "      <td>Trigo (em grão)</td>\n",
       "      <td>1555</td>\n",
       "    </tr>\n",
       "    <tr>\n",
       "      <th>5559</th>\n",
       "      <td>Toneladas</td>\n",
       "      <td>None</td>\n",
       "      <td>5222054</td>\n",
       "      <td>Vicentinópolis - GO</td>\n",
       "      <td>2023</td>\n",
       "      <td>Trigo (em grão)</td>\n",
       "      <td>None</td>\n",
       "    </tr>\n",
       "    <tr>\n",
       "      <th>5560</th>\n",
       "      <td>Toneladas</td>\n",
       "      <td>None</td>\n",
       "      <td>5222203</td>\n",
       "      <td>Vila Boa - GO</td>\n",
       "      <td>2023</td>\n",
       "      <td>Trigo (em grão)</td>\n",
       "      <td>None</td>\n",
       "    </tr>\n",
       "    <tr>\n",
       "      <th>5561</th>\n",
       "      <td>Toneladas</td>\n",
       "      <td>None</td>\n",
       "      <td>5222302</td>\n",
       "      <td>Vila Propício - GO</td>\n",
       "      <td>2023</td>\n",
       "      <td>Trigo (em grão)</td>\n",
       "      <td>None</td>\n",
       "    </tr>\n",
       "    <tr>\n",
       "      <th>5562</th>\n",
       "      <td>Toneladas</td>\n",
       "      <td>10920</td>\n",
       "      <td>5300108</td>\n",
       "      <td>Brasília - DF</td>\n",
       "      <td>2023</td>\n",
       "      <td>Trigo (em grão)</td>\n",
       "      <td>21840</td>\n",
       "    </tr>\n",
       "  </tbody>\n",
       "</table>\n",
       "<p>27815 rows × 7 columns</p>\n",
       "</div>"
      ],
      "text/plain": [
       "0    Und_medida Producao Município (Código)                   Município   Ano  \\\n",
       "0     Toneladas     4824            1100015  Alta Floresta D'Oeste - RO  2023   \n",
       "1     Toneladas    46230            1100023              Ariquemes - RO  2023   \n",
       "2     Toneladas   100000            1100031                 Cabixi - RO  2023   \n",
       "3     Toneladas    16420            1100049                 Cacoal - RO  2023   \n",
       "4     Toneladas   140000            1100056             Cerejeiras - RO  2023   \n",
       "...         ...      ...                ...                         ...   ...   \n",
       "5558  Toneladas     1058            5222005             Vianópolis - GO  2023   \n",
       "5559  Toneladas     None            5222054         Vicentinópolis - GO  2023   \n",
       "5560  Toneladas     None            5222203               Vila Boa - GO  2023   \n",
       "5561  Toneladas     None            5222302          Vila Propício - GO  2023   \n",
       "5562  Toneladas    10920            5300108               Brasília - DF  2023   \n",
       "\n",
       "0    Produto das lavouras temporárias e permanentes Valor (mil R$)  \n",
       "0                                    Soja (em grão)          10968  \n",
       "1                                    Soja (em grão)         106682  \n",
       "2                                    Soja (em grão)         246666  \n",
       "3                                    Soja (em grão)          37194  \n",
       "4                                    Soja (em grão)         345332  \n",
       "...                                             ...            ...  \n",
       "5558                                Trigo (em grão)           1555  \n",
       "5559                                Trigo (em grão)           None  \n",
       "5560                                Trigo (em grão)           None  \n",
       "5561                                Trigo (em grão)           None  \n",
       "5562                                Trigo (em grão)          21840  \n",
       "\n",
       "[27815 rows x 7 columns]"
      ]
     },
     "execution_count": 200,
     "metadata": {},
     "output_type": "execute_result"
    }
   ],
   "source": [
    "graos"
   ]
  },
  {
   "cell_type": "code",
   "execution_count": 202,
   "id": "84837cd5-533c-4342-a08a-3a229d6a30ba",
   "metadata": {},
   "outputs": [],
   "source": [
    "frut = pd.read_parquet(\"frut_pam.parquet\")"
   ]
  },
  {
   "cell_type": "code",
   "execution_count": 204,
   "id": "a70786b1-95c2-450c-8bfe-b0510700775b",
   "metadata": {},
   "outputs": [
    {
     "data": {
      "text/html": [
       "<div>\n",
       "<style scoped>\n",
       "    .dataframe tbody tr th:only-of-type {\n",
       "        vertical-align: middle;\n",
       "    }\n",
       "\n",
       "    .dataframe tbody tr th {\n",
       "        vertical-align: top;\n",
       "    }\n",
       "\n",
       "    .dataframe thead th {\n",
       "        text-align: right;\n",
       "    }\n",
       "</style>\n",
       "<table border=\"1\" class=\"dataframe\">\n",
       "  <thead>\n",
       "    <tr style=\"text-align: right;\">\n",
       "      <th></th>\n",
       "      <th>Und_medida</th>\n",
       "      <th>Producao</th>\n",
       "      <th>Município (Código)</th>\n",
       "      <th>Município</th>\n",
       "      <th>Ano</th>\n",
       "      <th>Produto das lavouras temporárias e permanentes</th>\n",
       "      <th>Valor (mil R$)</th>\n",
       "    </tr>\n",
       "  </thead>\n",
       "  <tbody>\n",
       "    <tr>\n",
       "      <th>0</th>\n",
       "      <td>Toneladas</td>\n",
       "      <td>1230</td>\n",
       "      <td>1100015</td>\n",
       "      <td>Alta Floresta D'Oeste - RO</td>\n",
       "      <td>2023</td>\n",
       "      <td>Banana (cacho)</td>\n",
       "      <td>3275</td>\n",
       "    </tr>\n",
       "    <tr>\n",
       "      <th>1</th>\n",
       "      <td>Toneladas</td>\n",
       "      <td>2997</td>\n",
       "      <td>1100023</td>\n",
       "      <td>Ariquemes - RO</td>\n",
       "      <td>2023</td>\n",
       "      <td>Banana (cacho)</td>\n",
       "      <td>10250</td>\n",
       "    </tr>\n",
       "    <tr>\n",
       "      <th>2</th>\n",
       "      <td>Toneladas</td>\n",
       "      <td>230</td>\n",
       "      <td>1100031</td>\n",
       "      <td>Cabixi - RO</td>\n",
       "      <td>2023</td>\n",
       "      <td>Banana (cacho)</td>\n",
       "      <td>644</td>\n",
       "    </tr>\n",
       "    <tr>\n",
       "      <th>3</th>\n",
       "      <td>Toneladas</td>\n",
       "      <td>6000</td>\n",
       "      <td>1100049</td>\n",
       "      <td>Cacoal - RO</td>\n",
       "      <td>2023</td>\n",
       "      <td>Banana (cacho)</td>\n",
       "      <td>17862</td>\n",
       "    </tr>\n",
       "    <tr>\n",
       "      <th>4</th>\n",
       "      <td>Toneladas</td>\n",
       "      <td>108</td>\n",
       "      <td>1100056</td>\n",
       "      <td>Cerejeiras - RO</td>\n",
       "      <td>2023</td>\n",
       "      <td>Banana (cacho)</td>\n",
       "      <td>324</td>\n",
       "    </tr>\n",
       "    <tr>\n",
       "      <th>...</th>\n",
       "      <td>...</td>\n",
       "      <td>...</td>\n",
       "      <td>...</td>\n",
       "      <td>...</td>\n",
       "      <td>...</td>\n",
       "      <td>...</td>\n",
       "      <td>...</td>\n",
       "    </tr>\n",
       "    <tr>\n",
       "      <th>5558</th>\n",
       "      <td>Toneladas</td>\n",
       "      <td>471</td>\n",
       "      <td>5222005</td>\n",
       "      <td>Vianópolis - GO</td>\n",
       "      <td>2023</td>\n",
       "      <td>Laranja</td>\n",
       "      <td>424</td>\n",
       "    </tr>\n",
       "    <tr>\n",
       "      <th>5559</th>\n",
       "      <td>Toneladas</td>\n",
       "      <td>None</td>\n",
       "      <td>5222054</td>\n",
       "      <td>Vicentinópolis - GO</td>\n",
       "      <td>2023</td>\n",
       "      <td>Laranja</td>\n",
       "      <td>None</td>\n",
       "    </tr>\n",
       "    <tr>\n",
       "      <th>5560</th>\n",
       "      <td>Toneladas</td>\n",
       "      <td>None</td>\n",
       "      <td>5222203</td>\n",
       "      <td>Vila Boa - GO</td>\n",
       "      <td>2023</td>\n",
       "      <td>Laranja</td>\n",
       "      <td>None</td>\n",
       "    </tr>\n",
       "    <tr>\n",
       "      <th>5561</th>\n",
       "      <td>Toneladas</td>\n",
       "      <td>None</td>\n",
       "      <td>5222302</td>\n",
       "      <td>Vila Propício - GO</td>\n",
       "      <td>2023</td>\n",
       "      <td>Laranja</td>\n",
       "      <td>None</td>\n",
       "    </tr>\n",
       "    <tr>\n",
       "      <th>5562</th>\n",
       "      <td>Toneladas</td>\n",
       "      <td>1010</td>\n",
       "      <td>5300108</td>\n",
       "      <td>Brasília - DF</td>\n",
       "      <td>2023</td>\n",
       "      <td>Laranja</td>\n",
       "      <td>2626</td>\n",
       "    </tr>\n",
       "  </tbody>\n",
       "</table>\n",
       "<p>22252 rows × 7 columns</p>\n",
       "</div>"
      ],
      "text/plain": [
       "0    Und_medida Producao Município (Código)                   Município   Ano  \\\n",
       "0     Toneladas     1230            1100015  Alta Floresta D'Oeste - RO  2023   \n",
       "1     Toneladas     2997            1100023              Ariquemes - RO  2023   \n",
       "2     Toneladas      230            1100031                 Cabixi - RO  2023   \n",
       "3     Toneladas     6000            1100049                 Cacoal - RO  2023   \n",
       "4     Toneladas      108            1100056             Cerejeiras - RO  2023   \n",
       "...         ...      ...                ...                         ...   ...   \n",
       "5558  Toneladas      471            5222005             Vianópolis - GO  2023   \n",
       "5559  Toneladas     None            5222054         Vicentinópolis - GO  2023   \n",
       "5560  Toneladas     None            5222203               Vila Boa - GO  2023   \n",
       "5561  Toneladas     None            5222302          Vila Propício - GO  2023   \n",
       "5562  Toneladas     1010            5300108               Brasília - DF  2023   \n",
       "\n",
       "0    Produto das lavouras temporárias e permanentes Valor (mil R$)  \n",
       "0                                    Banana (cacho)           3275  \n",
       "1                                    Banana (cacho)          10250  \n",
       "2                                    Banana (cacho)            644  \n",
       "3                                    Banana (cacho)          17862  \n",
       "4                                    Banana (cacho)            324  \n",
       "...                                             ...            ...  \n",
       "5558                                        Laranja            424  \n",
       "5559                                        Laranja           None  \n",
       "5560                                        Laranja           None  \n",
       "5561                                        Laranja           None  \n",
       "5562                                        Laranja           2626  \n",
       "\n",
       "[22252 rows x 7 columns]"
      ]
     },
     "execution_count": 204,
     "metadata": {},
     "output_type": "execute_result"
    }
   ],
   "source": [
    "frut"
   ]
  },
  {
   "cell_type": "code",
   "execution_count": 206,
   "id": "672e5a38-a3c8-4711-a3d5-e4638c132400",
   "metadata": {},
   "outputs": [],
   "source": [
    "oleri = pd.read_parquet(\"oleri_pam.parquet\")"
   ]
  },
  {
   "cell_type": "code",
   "execution_count": 208,
   "id": "c49aec94-e65e-4c47-8aeb-2a5a2562f79d",
   "metadata": {},
   "outputs": [
    {
     "data": {
      "text/html": [
       "<div>\n",
       "<style scoped>\n",
       "    .dataframe tbody tr th:only-of-type {\n",
       "        vertical-align: middle;\n",
       "    }\n",
       "\n",
       "    .dataframe tbody tr th {\n",
       "        vertical-align: top;\n",
       "    }\n",
       "\n",
       "    .dataframe thead th {\n",
       "        text-align: right;\n",
       "    }\n",
       "</style>\n",
       "<table border=\"1\" class=\"dataframe\">\n",
       "  <thead>\n",
       "    <tr style=\"text-align: right;\">\n",
       "      <th></th>\n",
       "      <th>Und_medida</th>\n",
       "      <th>Producao</th>\n",
       "      <th>Município (Código)</th>\n",
       "      <th>Município</th>\n",
       "      <th>Ano</th>\n",
       "      <th>Produto das lavouras temporárias e permanentes</th>\n",
       "      <th>Valor (mil R$)</th>\n",
       "    </tr>\n",
       "  </thead>\n",
       "  <tbody>\n",
       "    <tr>\n",
       "      <th>0</th>\n",
       "      <td>Toneladas</td>\n",
       "      <td>245</td>\n",
       "      <td>1100015</td>\n",
       "      <td>Alta Floresta D'Oeste - RO</td>\n",
       "      <td>2023</td>\n",
       "      <td>Tomate</td>\n",
       "      <td>1146</td>\n",
       "    </tr>\n",
       "    <tr>\n",
       "      <th>1</th>\n",
       "      <td>Toneladas</td>\n",
       "      <td>72</td>\n",
       "      <td>1100023</td>\n",
       "      <td>Ariquemes - RO</td>\n",
       "      <td>2023</td>\n",
       "      <td>Tomate</td>\n",
       "      <td>468</td>\n",
       "    </tr>\n",
       "    <tr>\n",
       "      <th>2</th>\n",
       "      <td>Toneladas</td>\n",
       "      <td>None</td>\n",
       "      <td>1100031</td>\n",
       "      <td>Cabixi - RO</td>\n",
       "      <td>2023</td>\n",
       "      <td>Tomate</td>\n",
       "      <td>None</td>\n",
       "    </tr>\n",
       "    <tr>\n",
       "      <th>3</th>\n",
       "      <td>Toneladas</td>\n",
       "      <td>350</td>\n",
       "      <td>1100049</td>\n",
       "      <td>Cacoal - RO</td>\n",
       "      <td>2023</td>\n",
       "      <td>Tomate</td>\n",
       "      <td>1641</td>\n",
       "    </tr>\n",
       "    <tr>\n",
       "      <th>4</th>\n",
       "      <td>Toneladas</td>\n",
       "      <td>437</td>\n",
       "      <td>1100056</td>\n",
       "      <td>Cerejeiras - RO</td>\n",
       "      <td>2023</td>\n",
       "      <td>Tomate</td>\n",
       "      <td>2185</td>\n",
       "    </tr>\n",
       "    <tr>\n",
       "      <th>...</th>\n",
       "      <td>...</td>\n",
       "      <td>...</td>\n",
       "      <td>...</td>\n",
       "      <td>...</td>\n",
       "      <td>...</td>\n",
       "      <td>...</td>\n",
       "      <td>...</td>\n",
       "    </tr>\n",
       "    <tr>\n",
       "      <th>5558</th>\n",
       "      <td>Toneladas</td>\n",
       "      <td>1765</td>\n",
       "      <td>5222005</td>\n",
       "      <td>Vianópolis - GO</td>\n",
       "      <td>2023</td>\n",
       "      <td>Mandioca</td>\n",
       "      <td>1589</td>\n",
       "    </tr>\n",
       "    <tr>\n",
       "      <th>5559</th>\n",
       "      <td>Toneladas</td>\n",
       "      <td>123</td>\n",
       "      <td>5222054</td>\n",
       "      <td>Vicentinópolis - GO</td>\n",
       "      <td>2023</td>\n",
       "      <td>Mandioca</td>\n",
       "      <td>148</td>\n",
       "    </tr>\n",
       "    <tr>\n",
       "      <th>5560</th>\n",
       "      <td>Toneladas</td>\n",
       "      <td>96</td>\n",
       "      <td>5222203</td>\n",
       "      <td>Vila Boa - GO</td>\n",
       "      <td>2023</td>\n",
       "      <td>Mandioca</td>\n",
       "      <td>98</td>\n",
       "    </tr>\n",
       "    <tr>\n",
       "      <th>5561</th>\n",
       "      <td>Toneladas</td>\n",
       "      <td>780</td>\n",
       "      <td>5222302</td>\n",
       "      <td>Vila Propício - GO</td>\n",
       "      <td>2023</td>\n",
       "      <td>Mandioca</td>\n",
       "      <td>1076</td>\n",
       "    </tr>\n",
       "    <tr>\n",
       "      <th>5562</th>\n",
       "      <td>Toneladas</td>\n",
       "      <td>20550</td>\n",
       "      <td>5300108</td>\n",
       "      <td>Brasília - DF</td>\n",
       "      <td>2023</td>\n",
       "      <td>Mandioca</td>\n",
       "      <td>61650</td>\n",
       "    </tr>\n",
       "  </tbody>\n",
       "</table>\n",
       "<p>16689 rows × 7 columns</p>\n",
       "</div>"
      ],
      "text/plain": [
       "0    Und_medida Producao Município (Código)                   Município   Ano  \\\n",
       "0     Toneladas      245            1100015  Alta Floresta D'Oeste - RO  2023   \n",
       "1     Toneladas       72            1100023              Ariquemes - RO  2023   \n",
       "2     Toneladas     None            1100031                 Cabixi - RO  2023   \n",
       "3     Toneladas      350            1100049                 Cacoal - RO  2023   \n",
       "4     Toneladas      437            1100056             Cerejeiras - RO  2023   \n",
       "...         ...      ...                ...                         ...   ...   \n",
       "5558  Toneladas     1765            5222005             Vianópolis - GO  2023   \n",
       "5559  Toneladas      123            5222054         Vicentinópolis - GO  2023   \n",
       "5560  Toneladas       96            5222203               Vila Boa - GO  2023   \n",
       "5561  Toneladas      780            5222302          Vila Propício - GO  2023   \n",
       "5562  Toneladas    20550            5300108               Brasília - DF  2023   \n",
       "\n",
       "0    Produto das lavouras temporárias e permanentes Valor (mil R$)  \n",
       "0                                            Tomate           1146  \n",
       "1                                            Tomate            468  \n",
       "2                                            Tomate           None  \n",
       "3                                            Tomate           1641  \n",
       "4                                            Tomate           2185  \n",
       "...                                             ...            ...  \n",
       "5558                                       Mandioca           1589  \n",
       "5559                                       Mandioca            148  \n",
       "5560                                       Mandioca             98  \n",
       "5561                                       Mandioca           1076  \n",
       "5562                                       Mandioca          61650  \n",
       "\n",
       "[16689 rows x 7 columns]"
      ]
     },
     "execution_count": 208,
     "metadata": {},
     "output_type": "execute_result"
    }
   ],
   "source": [
    "oleri"
   ]
  },
  {
   "cell_type": "code",
   "execution_count": null,
   "id": "0b4337b0-f9f2-464c-9605-c6d36aa5a396",
   "metadata": {},
   "outputs": [],
   "source": []
  }
 ],
 "metadata": {
  "kernelspec": {
   "display_name": "data_env",
   "language": "python",
   "name": "python3"
  },
  "language_info": {
   "codemirror_mode": {
    "name": "ipython",
    "version": 3
   },
   "file_extension": ".py",
   "mimetype": "text/x-python",
   "name": "python",
   "nbconvert_exporter": "python",
   "pygments_lexer": "ipython3",
   "version": "3.12.10"
  }
 },
 "nbformat": 4,
 "nbformat_minor": 5
}
