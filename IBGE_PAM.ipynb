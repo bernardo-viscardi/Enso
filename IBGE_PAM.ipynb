{
 "cells": [
  {
   "cell_type": "code",
   "execution_count": 1,
   "id": "b8463c03-1dce-43df-842b-6be4299b5014",
   "metadata": {},
   "outputs": [],
   "source": [
    "import pandas as pd\n",
    "import numpy as np\n",
    "import requests\n",
    "import pprint\n",
    "import sidrapy\n",
    "import warnings \n",
    "warnings.simplefilter(\"ignore\")"
   ]
  },
  {
   "cell_type": "markdown",
   "id": "7c3c912d",
   "metadata": {},
   "source": [
    "# Estabelecer a conexão com a API do SIDRA IBGE"
   ]
  },
  {
   "cell_type": "code",
   "execution_count": 4,
   "id": "27a6f732-ea90-41ad-95aa-49dabfd40711",
   "metadata": {},
   "outputs": [],
   "source": [
    "API = \"https://apisidra.ibge.gov.br/values/t/1612/n3/43/v/allxp/p/last%2024/c81/2713\""
   ]
  },
  {
   "cell_type": "markdown",
   "id": "e3b3f81c",
   "metadata": {},
   "source": [
    "Transformar o arquivo json em um Dataframe"
   ]
  },
  {
   "cell_type": "code",
   "execution_count": 5,
   "id": "b0beac5e-5bfc-4976-b9aa-d9149a996070",
   "metadata": {},
   "outputs": [],
   "source": [
    "req = requests.get(API)\n",
    "info = req.json()"
   ]
  },
  {
   "cell_type": "code",
   "execution_count": 6,
   "id": "2a717457-05ee-4e57-8ff7-dd4d2c1b42a0",
   "metadata": {},
   "outputs": [],
   "source": [
    "df = pd.DataFrame(info)\n",
    "df.columns = df.iloc[0]\n",
    "df = df[1:]\n",
    "df.reset_index(drop=True, inplace=True)"
   ]
  },
  {
   "cell_type": "markdown",
   "id": "9e6fb5db",
   "metadata": {},
   "source": [
    "Exluir colunas desnecessárias"
   ]
  },
  {
   "cell_type": "code",
   "execution_count": 7,
   "id": "f6d2762c-b731-4703-8dbc-a8b0b86e6f4b",
   "metadata": {},
   "outputs": [],
   "source": [
    "df.drop(['Nível Territorial (Código)', 'Nível Territorial',\n",
    "       'Unidade de Medida (Código)', 'Variável (Código)', 'Ano (Código)', 'Produto das lavouras temporárias (Código)',\n",
    "       'Unidade de Medida'\n",
    "       ],\n",
    "       axis = 1, inplace = True)"
   ]
  },
  {
   "cell_type": "markdown",
   "id": "4ec49702",
   "metadata": {},
   "source": [
    "Substituir valores não numéricos da coluna Valor e transformá-la em decimal"
   ]
  },
  {
   "cell_type": "code",
   "execution_count": 8,
   "id": "7be6382a-ff24-4968-9db7-c757c3a95804",
   "metadata": {},
   "outputs": [],
   "source": [
    "df.Valor.replace(\"-\", np.nan, inplace = True)\n",
    "df.Valor.replace(\"X\", np.nan, inplace = True)\n",
    "df.Valor.replace(\"...\", np.nan, inplace = True)\n",
    "df.Valor.replace(\"..\", np.nan, inplace = True)"
   ]
  },
  {
   "cell_type": "code",
   "execution_count": 9,
   "id": "6f4182ba",
   "metadata": {},
   "outputs": [],
   "source": [
    "df.Valor = df.Valor.astype(float)"
   ]
  },
  {
   "cell_type": "markdown",
   "id": "35bace24",
   "metadata": {},
   "source": [
    "# Seperar os valores em linha e depois fazer o merge em colunas"
   ]
  },
  {
   "cell_type": "code",
   "execution_count": 10,
   "id": "427f2b44-a059-4866-89a8-e7fe9222d290",
   "metadata": {},
   "outputs": [],
   "source": [
    "\n",
    "area_plant = df.loc[df[\"Variável\"] == \"Área plantada\"]\n",
    "area_col = df.loc[df[\"Variável\"] == \"Área colhida\"]\n",
    "produtiv = df.loc[df[\"Variável\"] == 'Rendimento médio da produção']\n",
    "prod = df.loc[df[\"Variável\"] == \"Quantidade produzida\"]\n",
    "val = df.loc[df[\"Variável\"] == \"Valor da produção\"]"
   ]
  },
  {
   "cell_type": "code",
   "execution_count": 11,
   "id": "bac9fbdb",
   "metadata": {},
   "outputs": [],
   "source": [
    "area_plant.drop(\"Variável\", axis = 1, inplace = True)\n",
    "area_col.drop(\"Variável\", axis = 1, inplace = True)\n",
    "produtiv.drop(\"Variável\", axis = 1, inplace = True)\n",
    "prod.drop(\"Variável\", axis = 1, inplace = True)\n",
    "val.drop(\"Variável\", axis = 1, inplace = True)"
   ]
  },
  {
   "cell_type": "code",
   "execution_count": 12,
   "id": "7e042c5f",
   "metadata": {},
   "outputs": [],
   "source": [
    "mer = area_plant.merge(area_col, on = [\"Ano\", 'Unidade da Federação (Código)',\n",
    "       'Unidade da Federação', 'Produto das lavouras temporárias'], how = \"inner\")\n",
    "mer.rename({\n",
    "    'Valor_x': 'area_plantada(ha)',\n",
    "    'Valor_y': 'area_colhida(ha)'\n",
    "}, axis = 1, inplace = True)"
   ]
  },
  {
   "cell_type": "markdown",
   "id": "a75b72c6",
   "metadata": {},
   "source": [
    "Calcular a diferença entre áreas plantadas e colhidas"
   ]
  },
  {
   "cell_type": "code",
   "execution_count": 13,
   "id": "e811777a",
   "metadata": {},
   "outputs": [],
   "source": [
    "mer[\"delta_area\"] = mer['area_colhida(ha)'] - mer['area_plantada(ha)']"
   ]
  },
  {
   "cell_type": "code",
   "execution_count": 14,
   "id": "09372e4e",
   "metadata": {},
   "outputs": [],
   "source": [
    "mer = mer.merge(prod, on = [\"Ano\", 'Unidade da Federação (Código)',\n",
    "       'Unidade da Federação', 'Produto das lavouras temporárias'], how = \"inner\")\n",
    "mer.rename({\"Valor\": \"producao(t)\"}, axis = 1, inplace = True)"
   ]
  },
  {
   "cell_type": "code",
   "execution_count": 15,
   "id": "d668ae8e",
   "metadata": {},
   "outputs": [],
   "source": [
    "mer = mer.merge(produtiv, on = [\"Ano\", 'Unidade da Federação (Código)',\n",
    "       'Unidade da Federação', 'Produto das lavouras temporárias'], how = \"inner\")\n",
    "mer.rename({\"Valor\": \"produtividade(kg/ha)\"}, axis = 1, inplace = True)"
   ]
  },
  {
   "cell_type": "code",
   "execution_count": 16,
   "id": "1a32092d",
   "metadata": {},
   "outputs": [],
   "source": [
    "mer = mer.merge(val, on = [\"Ano\", 'Unidade da Federação (Código)',\n",
    "       'Unidade da Federação', 'Produto das lavouras temporárias'], how = \"inner\")\n",
    "mer.rename({\"Valor\": \"valor_mil(R$)\"}, axis = 1, inplace = True)"
   ]
  },
  {
   "cell_type": "markdown",
   "id": "9855d5c9",
   "metadata": {},
   "source": [
    "Calcular o valor médio da saca de soja"
   ]
  },
  {
   "cell_type": "code",
   "execution_count": 17,
   "id": "92f07abd",
   "metadata": {},
   "outputs": [],
   "source": [
    "mer['valor_saca'] = (mer['valor_mil(R$)'] / ((mer['producao(t)'] / 60))).round(2)"
   ]
  },
  {
   "cell_type": "code",
   "execution_count": 18,
   "id": "e6ff17fb",
   "metadata": {},
   "outputs": [
    {
     "data": {
      "text/plain": [
       "Index(['area_plantada(ha)', 'Unidade da Federação (Código)',\n",
       "       'Unidade da Federação', 'Ano', 'Produto das lavouras temporárias',\n",
       "       'area_colhida(ha)', 'delta_area', 'producao(t)', 'produtividade(kg/ha)',\n",
       "       'valor_mil(R$)', 'valor_saca'],\n",
       "      dtype='object', name=0)"
      ]
     },
     "execution_count": 18,
     "metadata": {},
     "output_type": "execute_result"
    }
   ],
   "source": [
    "mer.columns"
   ]
  },
  {
   "cell_type": "code",
   "execution_count": 19,
   "id": "9ee7b74b",
   "metadata": {},
   "outputs": [],
   "source": [
    "mer = mer[[ 'Ano', 'Unidade da Federação', 'Produto das lavouras temporárias', 'area_plantada(ha)',\n",
    "       'area_colhida(ha)', 'delta_area', 'producao(t)', 'produtividade(kg/ha)', 'valor_mil(R$)', 'valor_saca']]"
   ]
  },
  {
   "cell_type": "code",
   "execution_count": 20,
   "id": "ddc29717",
   "metadata": {},
   "outputs": [],
   "source": [
    "mer.to_csv(\"soja_IBGE_RS.csv\")"
   ]
  },
  {
   "cell_type": "code",
   "execution_count": 285,
   "id": "ebb55869",
   "metadata": {},
   "outputs": [],
   "source": [
    "mer = pd.read_csv(\"soja_IBGE_RS.csv\")"
   ]
  },
  {
   "cell_type": "code",
   "execution_count": 286,
   "id": "6563cb8e",
   "metadata": {},
   "outputs": [],
   "source": [
    "mer[\"var_produtividade\"] = mer[\"produtividade(kg/ha)\"].diff()\n",
    "mer[\"var_produtividade_%\"] = mer[\"produtividade(kg/ha)\"].pct_change()\n",
    "mer[\"var_producao(t)\"] = mer[\"produtividade(kg/ha)\"].diff()\n",
    "mer[\"var_producao(t)_%\"] = mer[\"produtividade(kg/ha)\"].pct_change()"
   ]
  },
  {
   "cell_type": "markdown",
   "id": "a0972abb",
   "metadata": {},
   "source": [
    "# Importar as variáveis climátivas"
   ]
  },
  {
   "cell_type": "markdown",
   "id": "4d997b3c",
   "metadata": {},
   "source": [
    "# Upload do histórico da variação da temperatura média da superfícia do Oceano Pacífico"
   ]
  },
  {
   "cell_type": "markdown",
   "id": "e8e9fb09",
   "metadata": {},
   "source": [
    "Os eventos de El Nino e La nina ocorrem quando há 5 ocorrências de temperaturas 0,5 acima (El Niño) ou abaixo (La Niña) do padrão. Os dados disponíveis nesse dataset"
   ]
  },
  {
   "cell_type": "markdown",
   "id": "48cbe0b4",
   "metadata": {},
   "source": [
    "Estudos mostraram que uma condição necessária para o desenvolvimento e persistência da convecção profunda (aumento da nebulosidade e da precipitação) nos Trópicos é que a temperatura da superfície do mar (SST) local seja de 28 °C ou superior. Uma vez que o padrão de convecção profunda é alterado devido a SSTs anômalas, a circulação atmosférica tropical e subtropical se ajusta ao novo padrão de aquecimento tropical, resultando em padrões anômalos de precipitação e temperatura que se estendem muito além da região do Pacífico equatorial. Uma anomalia de SST de +0,5 °C na região do Niño 3.4 é suficiente para atingir esse limite entre o final de março e meados de junho. Durante o restante do ano, uma anomalia de SST maior, chegando a +1,5 °C nos meses de novembro, dezembro e janeiro, é necessária para atingir o limiar que sustenta a convecção profunda persistente nessa região."
   ]
  },
  {
   "cell_type": "code",
   "execution_count": 287,
   "id": "436b62e7",
   "metadata": {},
   "outputs": [],
   "source": [
    "enso = pd.read_excel(\"Temp_media_2010_2025.xlsx\")"
   ]
  },
  {
   "cell_type": "markdown",
   "id": "a425bbc7",
   "metadata": {},
   "source": [
    "### Aplicando os ajustes para fazer a fusão entre as bases do IBGE e do NOOA"
   ]
  },
  {
   "cell_type": "code",
   "execution_count": 288,
   "id": "2cbd1933",
   "metadata": {},
   "outputs": [
    {
     "data": {
      "text/plain": [
       "24"
      ]
     },
     "execution_count": 288,
     "metadata": {},
     "output_type": "execute_result"
    }
   ],
   "source": [
    "mer.shape[0]"
   ]
  },
  {
   "cell_type": "code",
   "execution_count": 289,
   "id": "6fa90048",
   "metadata": {},
   "outputs": [
    {
     "data": {
      "text/plain": [
       "array([2000, 2001, 2002, 2003, 2004, 2005, 2006, 2007, 2008, 2009, 2010,\n",
       "       2011, 2012, 2013, 2014, 2015, 2016, 2017, 2018, 2019, 2020, 2021,\n",
       "       2022, 2023, 2024, 2025], dtype=int64)"
      ]
     },
     "execution_count": 289,
     "metadata": {},
     "output_type": "execute_result"
    }
   ],
   "source": [
    "enso.Year.unique()"
   ]
  },
  {
   "cell_type": "code",
   "execution_count": 290,
   "id": "af1a3beb",
   "metadata": {},
   "outputs": [],
   "source": [
    "enso.rename(columns = {\"Year\": \"Ano\"}, inplace = True)"
   ]
  },
  {
   "cell_type": "code",
   "execution_count": 291,
   "id": "6c8ef545",
   "metadata": {},
   "outputs": [],
   "source": [
    "mer[\"Ano\"] = mer[\"Ano\"].astype(int)"
   ]
  },
  {
   "cell_type": "code",
   "execution_count": 292,
   "id": "fc7e1fd2",
   "metadata": {},
   "outputs": [
    {
     "data": {
      "text/plain": [
       "Index(['Ano', 'Jan', 'Fev', 'Mar', 'Abr', 'Mai', 'Jun', 'Jul', 'Ago', 'Set',\n",
       "       'Out', 'Nov', 'Dez', 'Media_mar_jun', 'Media_semestre_1',\n",
       "       'Media_semestre_2', 'Evento_mar_jun', 'Evento_nov_dez_jan', 'ONI',\n",
       "       'ONI_nino', 'ONI_nina'],\n",
       "      dtype='object')"
      ]
     },
     "execution_count": 292,
     "metadata": {},
     "output_type": "execute_result"
    }
   ],
   "source": [
    "enso.columns"
   ]
  },
  {
   "cell_type": "code",
   "execution_count": 293,
   "id": "1cf633e1",
   "metadata": {},
   "outputs": [],
   "source": [
    "mer = mer.merge(enso[[\"Ano\", 'Media_mar_jun', 'Media_semestre_1',\n",
    "       'Media_semestre_2', 'Evento_mar_jun', 'Evento_nov_dez_jan', 'ONI', 'ONI_nino', 'ONI_nina']], on = \"Ano\", how = \"inner\")"
   ]
  },
  {
   "cell_type": "code",
   "execution_count": 294,
   "id": "41f372ca",
   "metadata": {},
   "outputs": [],
   "source": [
    "from sklearn.preprocessing import LabelEncoder\n",
    "\n",
    "le = LabelEncoder()\n",
    "\n",
    "mer['Evento_mar_jun_num'] = le.fit_transform(mer['Evento_mar_jun'])\n",
    "mer['Evento_nov_dez_jan_num'] = le.fit_transform(mer['Evento_nov_dez_jan'])\n"
   ]
  },
  {
   "cell_type": "markdown",
   "id": "0a9a2843",
   "metadata": {},
   "source": [
    "### Bases sobre precipitação média no RS provenientes do INPE"
   ]
  },
  {
   "cell_type": "code",
   "execution_count": 295,
   "id": "766747f5",
   "metadata": {},
   "outputs": [],
   "source": [
    "prec = pd.read_csv(\"media_pluviometrica_RS.csv\", sep = \";\")"
   ]
  },
  {
   "cell_type": "code",
   "execution_count": 296,
   "id": "404284b8",
   "metadata": {},
   "outputs": [],
   "source": [
    "mer = mer.merge(prec, on = \"Ano\", how = \"inner\")"
   ]
  },
  {
   "cell_type": "code",
   "execution_count": 297,
   "id": "5c7f290d",
   "metadata": {},
   "outputs": [
    {
     "data": {
      "text/html": [
       "<div>\n",
       "<style scoped>\n",
       "    .dataframe tbody tr th:only-of-type {\n",
       "        vertical-align: middle;\n",
       "    }\n",
       "\n",
       "    .dataframe tbody tr th {\n",
       "        vertical-align: top;\n",
       "    }\n",
       "\n",
       "    .dataframe thead th {\n",
       "        text-align: right;\n",
       "    }\n",
       "</style>\n",
       "<table border=\"1\" class=\"dataframe\">\n",
       "  <thead>\n",
       "    <tr style=\"text-align: right;\">\n",
       "      <th></th>\n",
       "      <th>delta_area</th>\n",
       "      <th>produtividade(kg/ha)</th>\n",
       "      <th>ONI</th>\n",
       "      <th>Evento_nov_dez_jan_num</th>\n",
       "      <th>Evento_nov_dez_jan_num</th>\n",
       "      <th>ONI_nino</th>\n",
       "      <th>ONI_nina</th>\n",
       "    </tr>\n",
       "  </thead>\n",
       "  <tbody>\n",
       "    <tr>\n",
       "      <th>delta_area</th>\n",
       "      <td>1.000000</td>\n",
       "      <td>0.629241</td>\n",
       "      <td>0.023536</td>\n",
       "      <td>-0.213196</td>\n",
       "      <td>-0.213196</td>\n",
       "      <td>0.127947</td>\n",
       "      <td>0.118445</td>\n",
       "    </tr>\n",
       "    <tr>\n",
       "      <th>produtividade(kg/ha)</th>\n",
       "      <td>0.629241</td>\n",
       "      <td>1.000000</td>\n",
       "      <td>0.075495</td>\n",
       "      <td>-0.020774</td>\n",
       "      <td>-0.020774</td>\n",
       "      <td>0.141683</td>\n",
       "      <td>0.151026</td>\n",
       "    </tr>\n",
       "    <tr>\n",
       "      <th>ONI</th>\n",
       "      <td>0.023536</td>\n",
       "      <td>0.075495</td>\n",
       "      <td>1.000000</td>\n",
       "      <td>-0.322041</td>\n",
       "      <td>-0.322041</td>\n",
       "      <td>0.704643</td>\n",
       "      <td>-0.457737</td>\n",
       "    </tr>\n",
       "    <tr>\n",
       "      <th>Evento_nov_dez_jan_num</th>\n",
       "      <td>-0.213196</td>\n",
       "      <td>-0.020774</td>\n",
       "      <td>-0.322041</td>\n",
       "      <td>1.000000</td>\n",
       "      <td>1.000000</td>\n",
       "      <td>-0.388034</td>\n",
       "      <td>0.108864</td>\n",
       "    </tr>\n",
       "    <tr>\n",
       "      <th>Evento_nov_dez_jan_num</th>\n",
       "      <td>-0.213196</td>\n",
       "      <td>-0.020774</td>\n",
       "      <td>-0.322041</td>\n",
       "      <td>1.000000</td>\n",
       "      <td>1.000000</td>\n",
       "      <td>-0.388034</td>\n",
       "      <td>0.108864</td>\n",
       "    </tr>\n",
       "    <tr>\n",
       "      <th>ONI_nino</th>\n",
       "      <td>0.127947</td>\n",
       "      <td>0.141683</td>\n",
       "      <td>0.704643</td>\n",
       "      <td>-0.388034</td>\n",
       "      <td>-0.388034</td>\n",
       "      <td>1.000000</td>\n",
       "      <td>-0.344942</td>\n",
       "    </tr>\n",
       "    <tr>\n",
       "      <th>ONI_nina</th>\n",
       "      <td>0.118445</td>\n",
       "      <td>0.151026</td>\n",
       "      <td>-0.457737</td>\n",
       "      <td>0.108864</td>\n",
       "      <td>0.108864</td>\n",
       "      <td>-0.344942</td>\n",
       "      <td>1.000000</td>\n",
       "    </tr>\n",
       "  </tbody>\n",
       "</table>\n",
       "</div>"
      ],
      "text/plain": [
       "                        delta_area  produtividade(kg/ha)       ONI  \\\n",
       "delta_area                1.000000              0.629241  0.023536   \n",
       "produtividade(kg/ha)      0.629241              1.000000  0.075495   \n",
       "ONI                       0.023536              0.075495  1.000000   \n",
       "Evento_nov_dez_jan_num   -0.213196             -0.020774 -0.322041   \n",
       "Evento_nov_dez_jan_num   -0.213196             -0.020774 -0.322041   \n",
       "ONI_nino                  0.127947              0.141683  0.704643   \n",
       "ONI_nina                  0.118445              0.151026 -0.457737   \n",
       "\n",
       "                        Evento_nov_dez_jan_num  Evento_nov_dez_jan_num  \\\n",
       "delta_area                           -0.213196               -0.213196   \n",
       "produtividade(kg/ha)                 -0.020774               -0.020774   \n",
       "ONI                                  -0.322041               -0.322041   \n",
       "Evento_nov_dez_jan_num                1.000000                1.000000   \n",
       "Evento_nov_dez_jan_num                1.000000                1.000000   \n",
       "ONI_nino                             -0.388034               -0.388034   \n",
       "ONI_nina                              0.108864                0.108864   \n",
       "\n",
       "                        ONI_nino  ONI_nina  \n",
       "delta_area              0.127947  0.118445  \n",
       "produtividade(kg/ha)    0.141683  0.151026  \n",
       "ONI                     0.704643 -0.457737  \n",
       "Evento_nov_dez_jan_num -0.388034  0.108864  \n",
       "Evento_nov_dez_jan_num -0.388034  0.108864  \n",
       "ONI_nino                1.000000 -0.344942  \n",
       "ONI_nina               -0.344942  1.000000  "
      ]
     },
     "execution_count": 297,
     "metadata": {},
     "output_type": "execute_result"
    }
   ],
   "source": [
    "mer[['delta_area', 'produtividade(kg/ha)', 'ONI', 'Evento_nov_dez_jan_num', 'Evento_nov_dez_jan_num', 'ONI_nino', 'ONI_nina']].corr()"
   ]
  },
  {
   "cell_type": "code",
   "execution_count": 298,
   "id": "ec0c2d23",
   "metadata": {},
   "outputs": [
    {
     "data": {
      "text/html": [
       "<div>\n",
       "<style scoped>\n",
       "    .dataframe tbody tr th:only-of-type {\n",
       "        vertical-align: middle;\n",
       "    }\n",
       "\n",
       "    .dataframe tbody tr th {\n",
       "        vertical-align: top;\n",
       "    }\n",
       "\n",
       "    .dataframe thead th {\n",
       "        text-align: right;\n",
       "    }\n",
       "</style>\n",
       "<table border=\"1\" class=\"dataframe\">\n",
       "  <thead>\n",
       "    <tr style=\"text-align: right;\">\n",
       "      <th></th>\n",
       "      <th>delta_area</th>\n",
       "      <th>produtividade(kg/ha)</th>\n",
       "      <th>Evento_nov_dez_jan_num</th>\n",
       "    </tr>\n",
       "  </thead>\n",
       "  <tbody>\n",
       "    <tr>\n",
       "      <th>delta_area</th>\n",
       "      <td>1.000000</td>\n",
       "      <td>0.629241</td>\n",
       "      <td>-0.213196</td>\n",
       "    </tr>\n",
       "    <tr>\n",
       "      <th>produtividade(kg/ha)</th>\n",
       "      <td>0.629241</td>\n",
       "      <td>1.000000</td>\n",
       "      <td>-0.020774</td>\n",
       "    </tr>\n",
       "    <tr>\n",
       "      <th>Evento_nov_dez_jan_num</th>\n",
       "      <td>-0.213196</td>\n",
       "      <td>-0.020774</td>\n",
       "      <td>1.000000</td>\n",
       "    </tr>\n",
       "  </tbody>\n",
       "</table>\n",
       "</div>"
      ],
      "text/plain": [
       "                        delta_area  produtividade(kg/ha)  \\\n",
       "delta_area                1.000000              0.629241   \n",
       "produtividade(kg/ha)      0.629241              1.000000   \n",
       "Evento_nov_dez_jan_num   -0.213196             -0.020774   \n",
       "\n",
       "                        Evento_nov_dez_jan_num  \n",
       "delta_area                           -0.213196  \n",
       "produtividade(kg/ha)                 -0.020774  \n",
       "Evento_nov_dez_jan_num                1.000000  "
      ]
     },
     "execution_count": 298,
     "metadata": {},
     "output_type": "execute_result"
    }
   ],
   "source": [
    "mer[['delta_area', 'produtividade(kg/ha)', 'Evento_nov_dez_jan_num']].corr()"
   ]
  },
  {
   "cell_type": "code",
   "execution_count": 299,
   "id": "c3450b8b",
   "metadata": {},
   "outputs": [
    {
     "data": {
      "text/html": [
       "<div>\n",
       "<style scoped>\n",
       "    .dataframe tbody tr th:only-of-type {\n",
       "        vertical-align: middle;\n",
       "    }\n",
       "\n",
       "    .dataframe tbody tr th {\n",
       "        vertical-align: top;\n",
       "    }\n",
       "\n",
       "    .dataframe thead th {\n",
       "        text-align: right;\n",
       "    }\n",
       "</style>\n",
       "<table border=\"1\" class=\"dataframe\">\n",
       "  <thead>\n",
       "    <tr style=\"text-align: right;\">\n",
       "      <th></th>\n",
       "      <th>delta_area</th>\n",
       "      <th>produtividade(kg/ha)</th>\n",
       "      <th>Evento_mar_jun_num</th>\n",
       "    </tr>\n",
       "  </thead>\n",
       "  <tbody>\n",
       "    <tr>\n",
       "      <th>delta_area</th>\n",
       "      <td>1.000000</td>\n",
       "      <td>0.629241</td>\n",
       "      <td>-0.096442</td>\n",
       "    </tr>\n",
       "    <tr>\n",
       "      <th>produtividade(kg/ha)</th>\n",
       "      <td>0.629241</td>\n",
       "      <td>1.000000</td>\n",
       "      <td>-0.392848</td>\n",
       "    </tr>\n",
       "    <tr>\n",
       "      <th>Evento_mar_jun_num</th>\n",
       "      <td>-0.096442</td>\n",
       "      <td>-0.392848</td>\n",
       "      <td>1.000000</td>\n",
       "    </tr>\n",
       "  </tbody>\n",
       "</table>\n",
       "</div>"
      ],
      "text/plain": [
       "                      delta_area  produtividade(kg/ha)  Evento_mar_jun_num\n",
       "delta_area              1.000000              0.629241           -0.096442\n",
       "produtividade(kg/ha)    0.629241              1.000000           -0.392848\n",
       "Evento_mar_jun_num     -0.096442             -0.392848            1.000000"
      ]
     },
     "execution_count": 299,
     "metadata": {},
     "output_type": "execute_result"
    }
   ],
   "source": [
    "mer[['delta_area', 'produtividade(kg/ha)','Evento_mar_jun_num']].corr()"
   ]
  },
  {
   "cell_type": "code",
   "execution_count": 300,
   "id": "63ea646b",
   "metadata": {},
   "outputs": [
    {
     "data": {
      "text/plain": [
       "Index(['Unnamed: 0', 'Ano', 'Unidade da Federação',\n",
       "       'Produto das lavouras temporárias', 'area_plantada(ha)',\n",
       "       'area_colhida(ha)', 'delta_area', 'producao(t)', 'produtividade(kg/ha)',\n",
       "       'valor_mil(R$)', 'valor_saca', 'var_produtividade',\n",
       "       'var_produtividade_%', 'var_producao(t)', 'var_producao(t)_%',\n",
       "       'Media_mar_jun', 'Media_semestre_1', 'Media_semestre_2',\n",
       "       'Evento_mar_jun', 'Evento_nov_dez_jan', 'ONI', 'ONI_nino', 'ONI_nina',\n",
       "       'Evento_mar_jun_num', 'Evento_nov_dez_jan_num',\n",
       "       'PRECIPITAÇÃO TOTAL, HORÁRIO (mm)', 'precipitacao_media'],\n",
       "      dtype='object')"
      ]
     },
     "execution_count": 300,
     "metadata": {},
     "output_type": "execute_result"
    }
   ],
   "source": [
    "mer.columns"
   ]
  },
  {
   "cell_type": "code",
   "execution_count": 301,
   "id": "d11f3efe",
   "metadata": {},
   "outputs": [],
   "source": [
    "mer.rename({'PRECIPITAÇÃO TOTAL, HORÁRIO (mm)': \"Precipitacao_out_mai\"}, axis = 1, inplace = True)"
   ]
  },
  {
   "cell_type": "code",
   "execution_count": 312,
   "id": "8149b57e",
   "metadata": {},
   "outputs": [
    {
     "data": {
      "text/html": [
       "<div>\n",
       "<style scoped>\n",
       "    .dataframe tbody tr th:only-of-type {\n",
       "        vertical-align: middle;\n",
       "    }\n",
       "\n",
       "    .dataframe tbody tr th {\n",
       "        vertical-align: top;\n",
       "    }\n",
       "\n",
       "    .dataframe thead th {\n",
       "        text-align: right;\n",
       "    }\n",
       "</style>\n",
       "<table border=\"1\" class=\"dataframe\">\n",
       "  <thead>\n",
       "    <tr style=\"text-align: right;\">\n",
       "      <th></th>\n",
       "      <th>precipitacao_media</th>\n",
       "      <th>ONI</th>\n",
       "      <th>ONI_nino</th>\n",
       "      <th>ONI_nina</th>\n",
       "      <th>Media_semestre_1</th>\n",
       "      <th>Media_semestre_2</th>\n",
       "    </tr>\n",
       "  </thead>\n",
       "  <tbody>\n",
       "    <tr>\n",
       "      <th>precipitacao_media</th>\n",
       "      <td>1.000000</td>\n",
       "      <td>0.004727</td>\n",
       "      <td>0.078601</td>\n",
       "      <td>0.007535</td>\n",
       "      <td>-0.079600</td>\n",
       "      <td>-0.029615</td>\n",
       "    </tr>\n",
       "    <tr>\n",
       "      <th>ONI</th>\n",
       "      <td>0.004727</td>\n",
       "      <td>1.000000</td>\n",
       "      <td>0.704643</td>\n",
       "      <td>-0.457737</td>\n",
       "      <td>0.805887</td>\n",
       "      <td>0.215516</td>\n",
       "    </tr>\n",
       "    <tr>\n",
       "      <th>ONI_nino</th>\n",
       "      <td>0.078601</td>\n",
       "      <td>0.704643</td>\n",
       "      <td>1.000000</td>\n",
       "      <td>-0.344942</td>\n",
       "      <td>0.527617</td>\n",
       "      <td>0.262133</td>\n",
       "    </tr>\n",
       "    <tr>\n",
       "      <th>ONI_nina</th>\n",
       "      <td>0.007535</td>\n",
       "      <td>-0.457737</td>\n",
       "      <td>-0.344942</td>\n",
       "      <td>1.000000</td>\n",
       "      <td>-0.495392</td>\n",
       "      <td>-0.639817</td>\n",
       "    </tr>\n",
       "    <tr>\n",
       "      <th>Media_semestre_1</th>\n",
       "      <td>-0.079600</td>\n",
       "      <td>0.805887</td>\n",
       "      <td>0.527617</td>\n",
       "      <td>-0.495392</td>\n",
       "      <td>1.000000</td>\n",
       "      <td>0.227692</td>\n",
       "    </tr>\n",
       "    <tr>\n",
       "      <th>Media_semestre_2</th>\n",
       "      <td>-0.029615</td>\n",
       "      <td>0.215516</td>\n",
       "      <td>0.262133</td>\n",
       "      <td>-0.639817</td>\n",
       "      <td>0.227692</td>\n",
       "      <td>1.000000</td>\n",
       "    </tr>\n",
       "  </tbody>\n",
       "</table>\n",
       "</div>"
      ],
      "text/plain": [
       "                    precipitacao_media       ONI  ONI_nino  ONI_nina  \\\n",
       "precipitacao_media            1.000000  0.004727  0.078601  0.007535   \n",
       "ONI                           0.004727  1.000000  0.704643 -0.457737   \n",
       "ONI_nino                      0.078601  0.704643  1.000000 -0.344942   \n",
       "ONI_nina                      0.007535 -0.457737 -0.344942  1.000000   \n",
       "Media_semestre_1             -0.079600  0.805887  0.527617 -0.495392   \n",
       "Media_semestre_2             -0.029615  0.215516  0.262133 -0.639817   \n",
       "\n",
       "                    Media_semestre_1  Media_semestre_2  \n",
       "precipitacao_media         -0.079600         -0.029615  \n",
       "ONI                         0.805887          0.215516  \n",
       "ONI_nino                    0.527617          0.262133  \n",
       "ONI_nina                   -0.495392         -0.639817  \n",
       "Media_semestre_1            1.000000          0.227692  \n",
       "Media_semestre_2            0.227692          1.000000  "
      ]
     },
     "execution_count": 312,
     "metadata": {},
     "output_type": "execute_result"
    }
   ],
   "source": [
    "mer[[\"precipitacao_media\", 'ONI', 'ONI_nino', 'ONI_nina', 'Media_semestre_1', 'Media_semestre_2']].corr()"
   ]
  },
  {
   "cell_type": "code",
   "execution_count": 310,
   "id": "48d21fc0",
   "metadata": {},
   "outputs": [
    {
     "data": {
      "text/html": [
       "<div>\n",
       "<style scoped>\n",
       "    .dataframe tbody tr th:only-of-type {\n",
       "        vertical-align: middle;\n",
       "    }\n",
       "\n",
       "    .dataframe tbody tr th {\n",
       "        vertical-align: top;\n",
       "    }\n",
       "\n",
       "    .dataframe thead th {\n",
       "        text-align: right;\n",
       "    }\n",
       "</style>\n",
       "<table border=\"1\" class=\"dataframe\">\n",
       "  <thead>\n",
       "    <tr style=\"text-align: right;\">\n",
       "      <th></th>\n",
       "      <th>delta_area</th>\n",
       "      <th>produtividade(kg/ha)</th>\n",
       "      <th>producao(t)</th>\n",
       "      <th>valor_saca</th>\n",
       "      <th>precipitacao_media</th>\n",
       "      <th>Evento_mar_jun_num</th>\n",
       "      <th>Evento_nov_dez_jan_num</th>\n",
       "    </tr>\n",
       "  </thead>\n",
       "  <tbody>\n",
       "    <tr>\n",
       "      <th>delta_area</th>\n",
       "      <td>1.000000</td>\n",
       "      <td>0.629241</td>\n",
       "      <td>0.436164</td>\n",
       "      <td>-0.050294</td>\n",
       "      <td>0.263874</td>\n",
       "      <td>-0.096442</td>\n",
       "      <td>-0.213196</td>\n",
       "    </tr>\n",
       "    <tr>\n",
       "      <th>produtividade(kg/ha)</th>\n",
       "      <td>0.629241</td>\n",
       "      <td>1.000000</td>\n",
       "      <td>0.902097</td>\n",
       "      <td>0.105316</td>\n",
       "      <td>0.326429</td>\n",
       "      <td>-0.392848</td>\n",
       "      <td>-0.020774</td>\n",
       "    </tr>\n",
       "    <tr>\n",
       "      <th>producao(t)</th>\n",
       "      <td>0.436164</td>\n",
       "      <td>0.902097</td>\n",
       "      <td>1.000000</td>\n",
       "      <td>0.428596</td>\n",
       "      <td>0.322912</td>\n",
       "      <td>-0.479999</td>\n",
       "      <td>-0.027233</td>\n",
       "    </tr>\n",
       "    <tr>\n",
       "      <th>valor_saca</th>\n",
       "      <td>-0.050294</td>\n",
       "      <td>0.105316</td>\n",
       "      <td>0.428596</td>\n",
       "      <td>1.000000</td>\n",
       "      <td>0.238390</td>\n",
       "      <td>-0.290019</td>\n",
       "      <td>-0.055376</td>\n",
       "    </tr>\n",
       "    <tr>\n",
       "      <th>precipitacao_media</th>\n",
       "      <td>0.263874</td>\n",
       "      <td>0.326429</td>\n",
       "      <td>0.322912</td>\n",
       "      <td>0.238390</td>\n",
       "      <td>1.000000</td>\n",
       "      <td>-0.023555</td>\n",
       "      <td>-0.293877</td>\n",
       "    </tr>\n",
       "    <tr>\n",
       "      <th>Evento_mar_jun_num</th>\n",
       "      <td>-0.096442</td>\n",
       "      <td>-0.392848</td>\n",
       "      <td>-0.479999</td>\n",
       "      <td>-0.290019</td>\n",
       "      <td>-0.023555</td>\n",
       "      <td>1.000000</td>\n",
       "      <td>0.017169</td>\n",
       "    </tr>\n",
       "    <tr>\n",
       "      <th>Evento_nov_dez_jan_num</th>\n",
       "      <td>-0.213196</td>\n",
       "      <td>-0.020774</td>\n",
       "      <td>-0.027233</td>\n",
       "      <td>-0.055376</td>\n",
       "      <td>-0.293877</td>\n",
       "      <td>0.017169</td>\n",
       "      <td>1.000000</td>\n",
       "    </tr>\n",
       "  </tbody>\n",
       "</table>\n",
       "</div>"
      ],
      "text/plain": [
       "                        delta_area  produtividade(kg/ha)  producao(t)  \\\n",
       "delta_area                1.000000              0.629241     0.436164   \n",
       "produtividade(kg/ha)      0.629241              1.000000     0.902097   \n",
       "producao(t)               0.436164              0.902097     1.000000   \n",
       "valor_saca               -0.050294              0.105316     0.428596   \n",
       "precipitacao_media        0.263874              0.326429     0.322912   \n",
       "Evento_mar_jun_num       -0.096442             -0.392848    -0.479999   \n",
       "Evento_nov_dez_jan_num   -0.213196             -0.020774    -0.027233   \n",
       "\n",
       "                        valor_saca  precipitacao_media  Evento_mar_jun_num  \\\n",
       "delta_area               -0.050294            0.263874           -0.096442   \n",
       "produtividade(kg/ha)      0.105316            0.326429           -0.392848   \n",
       "producao(t)               0.428596            0.322912           -0.479999   \n",
       "valor_saca                1.000000            0.238390           -0.290019   \n",
       "precipitacao_media        0.238390            1.000000           -0.023555   \n",
       "Evento_mar_jun_num       -0.290019           -0.023555            1.000000   \n",
       "Evento_nov_dez_jan_num   -0.055376           -0.293877            0.017169   \n",
       "\n",
       "                        Evento_nov_dez_jan_num  \n",
       "delta_area                           -0.213196  \n",
       "produtividade(kg/ha)                 -0.020774  \n",
       "producao(t)                          -0.027233  \n",
       "valor_saca                           -0.055376  \n",
       "precipitacao_media                   -0.293877  \n",
       "Evento_mar_jun_num                    0.017169  \n",
       "Evento_nov_dez_jan_num                1.000000  "
      ]
     },
     "execution_count": 310,
     "metadata": {},
     "output_type": "execute_result"
    }
   ],
   "source": [
    "mer[['delta_area', 'produtividade(kg/ha)', \"producao(t)\", 'valor_saca', \"precipitacao_media\", 'Evento_mar_jun_num', 'Evento_nov_dez_jan_num']].corr()"
   ]
  },
  {
   "cell_type": "code",
   "execution_count": 303,
   "id": "aaba2d8a",
   "metadata": {},
   "outputs": [],
   "source": [
    "mer.drop([\"Unnamed: 0\"], axis = 1, inplace = True)"
   ]
  },
  {
   "cell_type": "code",
   "execution_count": 304,
   "id": "40ad96f4",
   "metadata": {},
   "outputs": [
    {
     "data": {
      "text/plain": [
       "Index(['Ano', 'Unidade da Federação', 'Produto das lavouras temporárias',\n",
       "       'area_plantada(ha)', 'area_colhida(ha)', 'delta_area', 'producao(t)',\n",
       "       'produtividade(kg/ha)', 'valor_mil(R$)', 'valor_saca',\n",
       "       'var_produtividade', 'var_produtividade_%', 'var_producao(t)',\n",
       "       'var_producao(t)_%', 'Media_mar_jun', 'Media_semestre_1',\n",
       "       'Media_semestre_2', 'Evento_mar_jun', 'Evento_nov_dez_jan', 'ONI',\n",
       "       'ONI_nino', 'ONI_nina', 'Evento_mar_jun_num', 'Evento_nov_dez_jan_num',\n",
       "       'Precipitacao_out_mai', 'precipitacao_media'],\n",
       "      dtype='object')"
      ]
     },
     "execution_count": 304,
     "metadata": {},
     "output_type": "execute_result"
    }
   ],
   "source": [
    "mer.columns"
   ]
  },
  {
   "cell_type": "code",
   "execution_count": 305,
   "id": "d692a814",
   "metadata": {},
   "outputs": [],
   "source": [
    "mer_pca = mer.drop(['Precipitacao_out_mai', 'var_produtividade', 'var_produtividade_%', 'var_producao(t)',\n",
    "       'var_producao(t)_%', 'ONI', 'ONI_nino', 'ONI_nina'], axis = 1)"
   ]
  },
  {
   "cell_type": "markdown",
   "id": "16a2d60e",
   "metadata": {},
   "source": [
    "### Aplicando métodos de aprendizando de máquina, começando pela regressão linear"
   ]
  },
  {
   "cell_type": "markdown",
   "id": "65a29266",
   "metadata": {},
   "source": [
    "### Usando o PCA para detectar as variáveis que contribuem de forma mais significativa para a variância"
   ]
  },
  {
   "cell_type": "code",
   "execution_count": 279,
   "id": "0d178bd0",
   "metadata": {},
   "outputs": [],
   "source": [
    "from sklearn.model_selection import train_test_split\n",
    "from sklearn.linear_model import LinearRegression\n",
    "from sklearn.metrics import mean_squared_error, r2_score\n",
    "from sklearn.preprocessing import StandardScaler\n",
    "from sklearn.decomposition import PCA"
   ]
  },
  {
   "cell_type": "markdown",
   "id": "50dc11cf",
   "metadata": {},
   "source": [
    "### Análise exploratória, incluindo as variáveis Produção e produtividade para avaliação das correlações entre todas as variáveis"
   ]
  },
  {
   "cell_type": "code",
   "execution_count": 306,
   "id": "3b82a857",
   "metadata": {},
   "outputs": [
    {
     "name": "stdout",
     "output_type": "stream",
     "text": [
      "[0.42126415 0.21555867]\n",
      "0.6368228182030038\n",
      "\n",
      "Variáveis mais influentes em PC1:\n",
      "area_colhida(ha)     0.438289\n",
      "valor_mil(R$)        0.427097\n",
      "area_plantada(ha)    0.426324\n",
      "producao(t)          0.407046\n",
      "valor_saca           0.371184\n",
      "Name: PC1, dtype: float64\n",
      "\n",
      "Variáveis mais influentes em PC2:\n",
      "Media_mar_jun           0.609323\n",
      "Media_semestre_1        0.569746\n",
      "Media_semestre_2        0.328010\n",
      "produtividade(kg/ha)    0.221556\n",
      "producao(t)             0.183285\n",
      "Name: PC2, dtype: float64\n"
     ]
    }
   ],
   "source": [
    "X_PCA = mer_pca.select_dtypes(include=[\"float64\", \"int64\"])  # ou escolha colunas específicas\n",
    "\n",
    "scaler = StandardScaler()\n",
    "X_scaled = scaler.fit_transform(X_PCA)\n",
    "\n",
    "pca = PCA(n_components=2) #número de componentes\n",
    "X_pca = pca.fit_transform(X_scaled)\n",
    "\n",
    "df_pca = pd.DataFrame(X_pca, columns=[\"PC1\", \"PC2\"])\n",
    "\n",
    "print(pca.explained_variance_ratio_)\n",
    "print(pca.explained_variance_ratio_.sum())  # total de variância explicada\n",
    "\n",
    "df_final = pd.concat([mer.reset_index(drop=True), df_pca], axis=1)\n",
    "componentes_df = pd.DataFrame(\n",
    "    pca.components_,\n",
    "    columns=X_PCA.columns,\n",
    "    index=[\"PC1\", \"PC2\"]\n",
    ")\n",
    "for pc in componentes_df.index:\n",
    "    print(f\"\\nVariáveis mais influentes em {pc}:\")\n",
    "    print(componentes_df.loc[pc].sort_values(ascending=False).head(5))"
   ]
  },
  {
   "cell_type": "code",
   "execution_count": 308,
   "id": "640e0e6e",
   "metadata": {},
   "outputs": [
    {
     "name": "stdout",
     "output_type": "stream",
     "text": [
      "[0.41733096 0.24776363]\n",
      "0.665094593345462\n",
      "\n",
      "Variáveis mais influentes em PC1:\n",
      "area_colhida(ha)      0.490652\n",
      "area_plantada(ha)     0.487753\n",
      "valor_saca            0.484521\n",
      "valor_mil(R$)         0.481659\n",
      "precipitacao_media    0.186849\n",
      "Name: PC1, dtype: float64\n",
      "\n",
      "Variáveis mais influentes em PC2:\n",
      "Media_mar_jun        0.653146\n",
      "Media_semestre_1     0.593170\n",
      "Media_semestre_2     0.401361\n",
      "area_colhida(ha)     0.163023\n",
      "area_plantada(ha)    0.159341\n",
      "Name: PC2, dtype: float64\n"
     ]
    }
   ],
   "source": [
    "X_PCA = mer_pca.drop([\"producao(t)\", \"produtividade(kg/ha)\"], axis = 1).select_dtypes(include=[\"float64\", \"int64\"])  # ou escolha colunas específicas\n",
    "\n",
    "scaler = StandardScaler()\n",
    "X_scaled = scaler.fit_transform(X_PCA)\n",
    "\n",
    "pca = PCA(n_components=2) #número de componentes\n",
    "X_pca = pca.fit_transform(X_scaled)\n",
    "\n",
    "df_pca = pd.DataFrame(X_pca, columns=[\"PC1\", \"PC2\"])\n",
    "\n",
    "print(pca.explained_variance_ratio_)\n",
    "print(pca.explained_variance_ratio_.sum())  # total de variância explicada\n",
    "\n",
    "df_final = pd.concat([mer.reset_index(drop=True), df_pca], axis=1)\n",
    "componentes_df = pd.DataFrame(\n",
    "    pca.components_,\n",
    "    columns=X_PCA.columns,\n",
    "    index=[\"PC1\", \"PC2\"]\n",
    ")\n",
    "for pc in componentes_df.index:\n",
    "    print(f\"\\nVariáveis mais influentes em {pc}:\")\n",
    "    print(componentes_df.loc[pc].sort_values(ascending=False).head(5))"
   ]
  },
  {
   "cell_type": "code",
   "execution_count": null,
   "id": "4c024232",
   "metadata": {},
   "outputs": [
    {
     "name": "stdout",
     "output_type": "stream",
     "text": [
      "\n",
      "Variáveis mais influentes em PC1:\n",
      "area_colhida(ha)     0.421776\n",
      "area_plantada(ha)    0.410957\n",
      "producao(t)          0.382499\n",
      "valor_mil(R$)        0.375503\n",
      "valor_saca           0.318343\n",
      "Name: PC1, dtype: float64\n",
      "\n",
      "Variáveis mais influentes em PC2:\n",
      "Media_mar_jun       0.471428\n",
      "Media_semestre_1    0.454637\n",
      "ONI                 0.381829\n",
      "Media_semestre_2    0.279932\n",
      "ONI_nino            0.268170\n",
      "Name: PC2, dtype: float64\n"
     ]
    }
   ],
   "source": [
    "X_PCA = mer_pca.select_dtypes(include=[\"float64\", \"int64\"])  # ou escolha colunas específicas\n",
    "\n",
    "scaler = StandardScaler()\n",
    "X_scaled = scaler.fit_transform(X_PCA)\n",
    "\n",
    "pca = PCA(n_components=2) #número de componentes\n",
    "X_pca = pca.fit_transform(X_scaled)\n",
    "\n",
    "df_pca = pd.DataFrame(X_pca, columns=[\"PC1\", \"PC2\"])\n",
    "\n",
    "print(pca.explained_variance_ratio_)\n",
    "print(pca.explained_variance_ratio_.sum())  # total de variância explicada\n",
    "\n",
    "df_final = pd.concat([mer.reset_index(drop=True), df_pca], axis=1)\n",
    "componentes_df = pd.DataFrame(\n",
    "    pca.components_,\n",
    "    columns=X_PCA.columns,\n",
    "    index=[\"PC1\", \"PC2\"]\n",
    ")\n",
    "for pc in componentes_df.index:\n",
    "    print(f\"\\nVariáveis mais influentes em {pc}:\")\n",
    "    print(componentes_df.loc[pc].sort_values(ascending=False).head(5))\n"
   ]
  },
  {
   "cell_type": "code",
   "execution_count": 234,
   "id": "ccc0bd80",
   "metadata": {},
   "outputs": [
    {
     "data": {
      "image/png": "[encoded data removed]",
      "text/plain": [
       "<Figure size 1000x400 with 1 Axes>"
      ]
     },
     "metadata": {},
     "output_type": "display_data"
    },
    {
     "data": {
      "image/png": "[encoded data removed]",
      "text/plain": [
       "<Figure size 1000x400 with 1 Axes>"
      ]
     },
     "metadata": {},
     "output_type": "display_data"
    },
    {
     "data": {
      "image/png": "[encoded data removed]",
      "text/plain": [
       "<Figure size 1000x400 with 1 Axes>"
      ]
     },
     "metadata": {},
     "output_type": "display_data"
    },
    {
     "data": {
      "image/png": "[encoded data removed]",
      "text/plain": [
       "<Figure size 1000x400 with 1 Axes>"
      ]
     },
     "metadata": {},
     "output_type": "display_data"
    }
   ],
   "source": [
    "import matplotlib.pyplot as plt\n",
    "\n",
    "for i in range(4):\n",
    "    plt.figure(figsize=(10, 4))\n",
    "    plt.bar(componentes_df.columns, componentes_df.iloc[i])\n",
    "    plt.title(f'Contribuição das variáveis para PC{i+1}')\n",
    "    plt.xticks(rotation=45)\n",
    "    plt.ylabel('Peso')\n",
    "    plt.grid(False)\n",
    "    plt.tight_layout()\n",
    "    plt.show()"
   ]
  },
  {
   "cell_type": "markdown",
   "id": "0b2da6c1",
   "metadata": {},
   "source": [
    "### Aplicando a regressão linear para detectar R2 o erro (RMSE) e e construi o modelo preditivo"
   ]
  },
  {
   "cell_type": "code",
   "execution_count": 142,
   "id": "1bbdc2b1",
   "metadata": {},
   "outputs": [
    {
     "name": "stdout",
     "output_type": "stream",
     "text": [
      "R²: 0.31\n",
      "RMSE: 3698524.98\n"
     ]
    }
   ],
   "source": [
    "X = mer[['Evento_mar_jun_num']] #variável independente\n",
    "y = mer[[\"producao(t)\"]] #variável dependente\n",
    "\n",
    "X_train, X_test, y_train, y_test = train_test_split(X, y, test_size = 0.2, stratify=X)\n",
    "\n",
    "modelo = LinearRegression()\n",
    "modelo.fit(X_train, y_train)\n",
    "\n",
    "y_pred = modelo.predict(X_test)\n",
    "\n",
    "print(f\"R²: {r2_score(y_test, y_pred):.2f}\")\n",
    "print(f\"RMSE: {mean_squared_error(y_test, y_pred, squared=False):.2f}\")"
   ]
  },
  {
   "cell_type": "code",
   "execution_count": 164,
   "id": "feec20f4",
   "metadata": {},
   "outputs": [
    {
     "name": "stdout",
     "output_type": "stream",
     "text": [
      "R²: -0.35\n",
      "RMSE: 5176725.62\n"
     ]
    }
   ],
   "source": [
    "X = mer[['Evento_nov_dez_jan_num']] #variável independente\n",
    "y = mer[[\"producao(t)\"]] #variável dependente\n",
    "\n",
    "X_train, X_test, y_train, y_test = train_test_split(X, y, test_size = 0.7, stratify = X, random_state = 77)\n",
    "\n",
    "modelo = LinearRegression()\n",
    "modelo.fit(X_train, y_train)\n",
    "\n",
    "y_pred = modelo.predict(X_test)\n",
    "\n",
    "print(f\"R²: {r2_score(y_test, y_pred):.2f}\")\n",
    "print(f\"RMSE: {mean_squared_error(y_test, y_pred, squared=False):.2f}\")"
   ]
  },
  {
   "cell_type": "code",
   "execution_count": 135,
   "id": "5b4c5c3a",
   "metadata": {},
   "outputs": [
    {
     "name": "stdout",
     "output_type": "stream",
     "text": [
      "R²: -1.42\n",
      "RMSE: 5024947.45\n"
     ]
    }
   ],
   "source": [
    "X = mer[['precipitacao_media']] #variável independente\n",
    "y = mer[[\"producao(t)\"]] #variável dependente\n",
    "\n",
    "X_train, X_test, y_train, y_test = train_test_split(X, y, test_size = 0.2, random_state = 77)\n",
    "\n",
    "modelo = LinearRegression()\n",
    "modelo.fit(X_train, y_train)\n",
    "\n",
    "y_pred = modelo.predict(X_test)\n",
    "\n",
    "print(f\"R²: {r2_score(y_test, y_pred):.2f}\")\n",
    "print(f\"RMSE: {mean_squared_error(y_test, y_pred, squared=False):.2f}\")"
   ]
  },
  {
   "cell_type": "code",
   "execution_count": 129,
   "id": "45c4c07f",
   "metadata": {},
   "outputs": [
    {
     "name": "stdout",
     "output_type": "stream",
     "text": [
      "R²: 0.02\n",
      "RMSE: 830.88\n"
     ]
    }
   ],
   "source": [
    "X = mer[['precipitacao_media']] #variável independente\n",
    "y = mer[[\"produtividade(kg/ha)\"]] #variável dependente\n",
    "\n",
    "X_train, X_test, y_train, y_test = train_test_split(X, y, test_size = 0.2, random_state = 72)\n",
    "\n",
    "modelo = LinearRegression()\n",
    "modelo.fit(X_train, y_train)\n",
    "\n",
    "y_pred = modelo.predict(X_test)\n",
    "\n",
    "print(f\"R²: {r2_score(y_test, y_pred):.2f}\")\n",
    "print(f\"RMSE: {mean_squared_error(y_test, y_pred, squared=False):.2f}\")"
   ]
  },
  {
   "cell_type": "code",
   "execution_count": 136,
   "id": "da9828d6",
   "metadata": {},
   "outputs": [
    {
     "name": "stdout",
     "output_type": "stream",
     "text": [
      "R²: -0.75\n",
      "RMSE: 4271018.36\n"
     ]
    }
   ],
   "source": [
    "X = mer[['ONI']] #variável independente\n",
    "y = mer[[\"producao(t)\"]] #variável dependente\n",
    "\n",
    "X_train, X_test, y_train, y_test = train_test_split(X, y, test_size = 0.2, random_state = 77)\n",
    "\n",
    "modelo = LinearRegression()\n",
    "modelo.fit(X_train, y_train)\n",
    "\n",
    "y_pred = modelo.predict(X_test)\n",
    "\n",
    "print(f\"R²: {r2_score(y_test, y_pred):.2f}\")\n",
    "print(f\"RMSE: {mean_squared_error(y_test, y_pred, squared=False):.2f}\")"
   ]
  },
  {
   "cell_type": "code",
   "execution_count": 131,
   "id": "833d1629",
   "metadata": {},
   "outputs": [
    {
     "name": "stdout",
     "output_type": "stream",
     "text": [
      "R²: -0.03\n",
      "RMSE: 4658993.40\n"
     ]
    }
   ],
   "source": [
    "X = mer[['ONI_nino']] #variável independente\n",
    "y = mer[[\"producao(t)\"]] #variável dependente\n",
    "\n",
    "X_train, X_test, y_train, y_test = train_test_split(X, y, test_size = 0.2, random_state = 72)\n",
    "\n",
    "modelo = LinearRegression()\n",
    "modelo.fit(X_train, y_train)\n",
    "\n",
    "y_pred = modelo.predict(X_test)\n",
    "\n",
    "print(f\"R²: {r2_score(y_test, y_pred):.2f}\")\n",
    "print(f\"RMSE: {mean_squared_error(y_test, y_pred, squared=False):.2f}\")"
   ]
  },
  {
   "cell_type": "code",
   "execution_count": 132,
   "id": "2f855656",
   "metadata": {},
   "outputs": [
    {
     "name": "stdout",
     "output_type": "stream",
     "text": [
      "R²: -0.24\n",
      "RMSE: 5108037.97\n"
     ]
    }
   ],
   "source": [
    "X = mer[['ONI_nina']] #variável independente\n",
    "y = mer[[\"producao(t)\"]] #variável dependente\n",
    "\n",
    "X_train, X_test, y_train, y_test = train_test_split(X, y, test_size = 0.2, random_state = 72)\n",
    "\n",
    "modelo = LinearRegression()\n",
    "modelo.fit(X_train, y_train)\n",
    "\n",
    "y_pred = modelo.predict(X_test)\n",
    "\n",
    "print(f\"R²: {r2_score(y_test, y_pred):.2f}\")\n",
    "print(f\"RMSE: {mean_squared_error(y_test, y_pred, squared=False):.2f}\")"
   ]
  },
  {
   "cell_type": "code",
   "execution_count": 122,
   "id": "a3d9c1dd",
   "metadata": {},
   "outputs": [
    {
     "name": "stdout",
     "output_type": "stream",
     "text": [
      "R²: -0.15\n",
      "RMSE: 4908009.87\n"
     ]
    }
   ],
   "source": [
    "print(f\"R²: {r2_score(y_test, y_pred):.2f}\")\n",
    "print(f\"RMSE: {mean_squared_error(y_test, y_pred, squared=False):.2f}\")"
   ]
  },
  {
   "cell_type": "code",
   "execution_count": 187,
   "id": "fb10fbd5",
   "metadata": {},
   "outputs": [
    {
     "data": {
      "text/plain": [
       "array([2, 2, 2, 1, 2, 0, 2, 2, 2, 2, 2, 2, 2, 0, 2])"
      ]
     },
     "execution_count": 187,
     "metadata": {},
     "output_type": "execute_result"
    }
   ],
   "source": [
    "coluna_1.ravel()"
   ]
  },
  {
   "cell_type": "code",
   "execution_count": 190,
   "id": "e6e59895",
   "metadata": {},
   "outputs": [
    {
     "data": {
      "text/plain": [
       "array([13123154.1 , 13123154.1 , 13123154.1 , 13515168.24, 13123154.1 ,\n",
       "       13907182.38, 13123154.1 , 13123154.1 , 13123154.1 , 13123154.1 ,\n",
       "       13123154.1 , 13123154.1 , 13123154.1 , 13907182.38, 13123154.1 ])"
      ]
     },
     "execution_count": 190,
     "metadata": {},
     "output_type": "execute_result"
    }
   ],
   "source": [
    "y_pred.ravel().round(2)"
   ]
  },
  {
   "cell_type": "code",
   "execution_count": 179,
   "id": "36acd493",
   "metadata": {},
   "outputs": [],
   "source": [
    "coluna_1 = X_test[\"Evento_nov_dez_jan_num\"].values"
   ]
  },
  {
   "cell_type": "code",
   "execution_count": 192,
   "id": "dbb084d4",
   "metadata": {},
   "outputs": [],
   "source": [
    "df_prev = pd.DataFrame({\"Evento_nov_dez_jan_num\": coluna_1.ravel(),\n",
    "              \"Previsao\": y_pred.ravel().round(2)})"
   ]
  },
  {
   "cell_type": "code",
   "execution_count": 193,
   "id": "6b4f1b3f",
   "metadata": {},
   "outputs": [
    {
     "data": {
      "text/html": [
       "<div>\n",
       "<style scoped>\n",
       "    .dataframe tbody tr th:only-of-type {\n",
       "        vertical-align: middle;\n",
       "    }\n",
       "\n",
       "    .dataframe tbody tr th {\n",
       "        vertical-align: top;\n",
       "    }\n",
       "\n",
       "    .dataframe thead th {\n",
       "        text-align: right;\n",
       "    }\n",
       "</style>\n",
       "<table border=\"1\" class=\"dataframe\">\n",
       "  <thead>\n",
       "    <tr style=\"text-align: right;\">\n",
       "      <th></th>\n",
       "      <th>Evento_nov_dez_jan_num</th>\n",
       "      <th>Previsao</th>\n",
       "    </tr>\n",
       "  </thead>\n",
       "  <tbody>\n",
       "    <tr>\n",
       "      <th>0</th>\n",
       "      <td>2</td>\n",
       "      <td>13123154.10</td>\n",
       "    </tr>\n",
       "    <tr>\n",
       "      <th>1</th>\n",
       "      <td>2</td>\n",
       "      <td>13123154.10</td>\n",
       "    </tr>\n",
       "    <tr>\n",
       "      <th>2</th>\n",
       "      <td>2</td>\n",
       "      <td>13123154.10</td>\n",
       "    </tr>\n",
       "    <tr>\n",
       "      <th>3</th>\n",
       "      <td>1</td>\n",
       "      <td>13515168.24</td>\n",
       "    </tr>\n",
       "    <tr>\n",
       "      <th>4</th>\n",
       "      <td>2</td>\n",
       "      <td>13123154.10</td>\n",
       "    </tr>\n",
       "    <tr>\n",
       "      <th>5</th>\n",
       "      <td>0</td>\n",
       "      <td>13907182.38</td>\n",
       "    </tr>\n",
       "    <tr>\n",
       "      <th>6</th>\n",
       "      <td>2</td>\n",
       "      <td>13123154.10</td>\n",
       "    </tr>\n",
       "    <tr>\n",
       "      <th>7</th>\n",
       "      <td>2</td>\n",
       "      <td>13123154.10</td>\n",
       "    </tr>\n",
       "    <tr>\n",
       "      <th>8</th>\n",
       "      <td>2</td>\n",
       "      <td>13123154.10</td>\n",
       "    </tr>\n",
       "    <tr>\n",
       "      <th>9</th>\n",
       "      <td>2</td>\n",
       "      <td>13123154.10</td>\n",
       "    </tr>\n",
       "    <tr>\n",
       "      <th>10</th>\n",
       "      <td>2</td>\n",
       "      <td>13123154.10</td>\n",
       "    </tr>\n",
       "    <tr>\n",
       "      <th>11</th>\n",
       "      <td>2</td>\n",
       "      <td>13123154.10</td>\n",
       "    </tr>\n",
       "    <tr>\n",
       "      <th>12</th>\n",
       "      <td>2</td>\n",
       "      <td>13123154.10</td>\n",
       "    </tr>\n",
       "    <tr>\n",
       "      <th>13</th>\n",
       "      <td>0</td>\n",
       "      <td>13907182.38</td>\n",
       "    </tr>\n",
       "    <tr>\n",
       "      <th>14</th>\n",
       "      <td>2</td>\n",
       "      <td>13123154.10</td>\n",
       "    </tr>\n",
       "  </tbody>\n",
       "</table>\n",
       "</div>"
      ],
      "text/plain": [
       "    Evento_nov_dez_jan_num     Previsao\n",
       "0                        2  13123154.10\n",
       "1                        2  13123154.10\n",
       "2                        2  13123154.10\n",
       "3                        1  13515168.24\n",
       "4                        2  13123154.10\n",
       "5                        0  13907182.38\n",
       "6                        2  13123154.10\n",
       "7                        2  13123154.10\n",
       "8                        2  13123154.10\n",
       "9                        2  13123154.10\n",
       "10                       2  13123154.10\n",
       "11                       2  13123154.10\n",
       "12                       2  13123154.10\n",
       "13                       0  13907182.38\n",
       "14                       2  13123154.10"
      ]
     },
     "execution_count": 193,
     "metadata": {},
     "output_type": "execute_result"
    }
   ],
   "source": [
    "df_prev"
   ]
  },
  {
   "cell_type": "code",
   "execution_count": 166,
   "id": "f5f5d95f",
   "metadata": {},
   "outputs": [
    {
     "data": {
      "text/plain": [
       "array([[13123154.0952381 ],\n",
       "       [13123154.0952381 ],\n",
       "       [13123154.0952381 ],\n",
       "       [13515168.23809524],\n",
       "       [13123154.0952381 ],\n",
       "       [13907182.38095238],\n",
       "       [13123154.0952381 ],\n",
       "       [13123154.0952381 ],\n",
       "       [13123154.0952381 ],\n",
       "       [13123154.0952381 ],\n",
       "       [13123154.0952381 ],\n",
       "       [13123154.0952381 ],\n",
       "       [13123154.0952381 ],\n",
       "       [13907182.38095238],\n",
       "       [13123154.0952381 ]])"
      ]
     },
     "execution_count": 166,
     "metadata": {},
     "output_type": "execute_result"
    }
   ],
   "source": [
    "y_pred"
   ]
  },
  {
   "cell_type": "code",
   "execution_count": 153,
   "id": "8516abd1",
   "metadata": {},
   "outputs": [
    {
     "data": {
      "text/html": [
       "<div>\n",
       "<style scoped>\n",
       "    .dataframe tbody tr th:only-of-type {\n",
       "        vertical-align: middle;\n",
       "    }\n",
       "\n",
       "    .dataframe tbody tr th {\n",
       "        vertical-align: top;\n",
       "    }\n",
       "\n",
       "    .dataframe thead th {\n",
       "        text-align: right;\n",
       "    }\n",
       "</style>\n",
       "<table border=\"1\" class=\"dataframe\">\n",
       "  <thead>\n",
       "    <tr style=\"text-align: right;\">\n",
       "      <th></th>\n",
       "      <th>producao(t)</th>\n",
       "    </tr>\n",
       "  </thead>\n",
       "  <tbody>\n",
       "    <tr>\n",
       "      <th>13</th>\n",
       "      <td>15700264.0</td>\n",
       "    </tr>\n",
       "    <tr>\n",
       "      <th>6</th>\n",
       "      <td>7679939.0</td>\n",
       "    </tr>\n",
       "    <tr>\n",
       "      <th>7</th>\n",
       "      <td>8025322.0</td>\n",
       "    </tr>\n",
       "    <tr>\n",
       "      <th>1</th>\n",
       "      <td>9579297.0</td>\n",
       "    </tr>\n",
       "    <tr>\n",
       "      <th>19</th>\n",
       "      <td>9370339.0</td>\n",
       "    </tr>\n",
       "    <tr>\n",
       "      <th>8</th>\n",
       "      <td>10480026.0</td>\n",
       "    </tr>\n",
       "    <tr>\n",
       "      <th>18</th>\n",
       "      <td>20420501.0</td>\n",
       "    </tr>\n",
       "    <tr>\n",
       "      <th>16</th>\n",
       "      <td>17538725.0</td>\n",
       "    </tr>\n",
       "    <tr>\n",
       "      <th>9</th>\n",
       "      <td>11717548.0</td>\n",
       "    </tr>\n",
       "    <tr>\n",
       "      <th>15</th>\n",
       "      <td>18744186.0</td>\n",
       "    </tr>\n",
       "    <tr>\n",
       "      <th>0</th>\n",
       "      <td>5610518.0</td>\n",
       "    </tr>\n",
       "    <tr>\n",
       "      <th>3</th>\n",
       "      <td>2444540.0</td>\n",
       "    </tr>\n",
       "    <tr>\n",
       "      <th>11</th>\n",
       "      <td>12756577.0</td>\n",
       "    </tr>\n",
       "    <tr>\n",
       "      <th>17</th>\n",
       "      <td>18498119.0</td>\n",
       "    </tr>\n",
       "    <tr>\n",
       "      <th>10</th>\n",
       "      <td>5945243.0</td>\n",
       "    </tr>\n",
       "  </tbody>\n",
       "</table>\n",
       "</div>"
      ],
      "text/plain": [
       "    producao(t)\n",
       "13   15700264.0\n",
       "6     7679939.0\n",
       "7     8025322.0\n",
       "1     9579297.0\n",
       "19    9370339.0\n",
       "8    10480026.0\n",
       "18   20420501.0\n",
       "16   17538725.0\n",
       "9    11717548.0\n",
       "15   18744186.0\n",
       "0     5610518.0\n",
       "3     2444540.0\n",
       "11   12756577.0\n",
       "17   18498119.0\n",
       "10    5945243.0"
      ]
     },
     "execution_count": 153,
     "metadata": {},
     "output_type": "execute_result"
    }
   ],
   "source": [
    "y_test"
   ]
  },
  {
   "cell_type": "code",
   "execution_count": 160,
   "id": "7e0f574b",
   "metadata": {},
   "outputs": [
    {
     "data": {
      "text/plain": [
       "Index(['Unnamed: 0', 'Ano', 'Unidade da Federação',\n",
       "       'Produto das lavouras temporárias', 'area_plantada(ha)',\n",
       "       'area_colhida(ha)', 'delta_area', 'producao(t)', 'produtividade(kg/ha)',\n",
       "       'valor_mil(R$)', 'valor_saca', 'var_produtividade',\n",
       "       'var_produtividade_%', 'var_producao(t)', 'var_producao(t)_%',\n",
       "       'Media_mar_jun', 'Media_semestre_1', 'Media_semestre_2',\n",
       "       'Evento_mar_jun', 'Evento_nov_dez_jan', 'ONI', 'ONI_nino', 'ONI_nina',\n",
       "       'Evento_mar_jun_num', 'Evento_nov_dez_jan_num', 'Precipitacao_out_mai',\n",
       "       'precipitacao_media'],\n",
       "      dtype='object')"
      ]
     },
     "execution_count": 160,
     "metadata": {},
     "output_type": "execute_result"
    }
   ],
   "source": [
    "mer.columns"
   ]
  },
  {
   "cell_type": "code",
   "execution_count": 159,
   "id": "d6603ab4",
   "metadata": {},
   "outputs": [
    {
     "data": {
      "text/html": [
       "<div>\n",
       "<style scoped>\n",
       "    .dataframe tbody tr th:only-of-type {\n",
       "        vertical-align: middle;\n",
       "    }\n",
       "\n",
       "    .dataframe tbody tr th {\n",
       "        vertical-align: top;\n",
       "    }\n",
       "\n",
       "    .dataframe thead th {\n",
       "        text-align: right;\n",
       "    }\n",
       "</style>\n",
       "<table border=\"1\" class=\"dataframe\">\n",
       "  <thead>\n",
       "    <tr style=\"text-align: right;\">\n",
       "      <th></th>\n",
       "      <th>Evento_nov_dez_jan_num</th>\n",
       "    </tr>\n",
       "  </thead>\n",
       "  <tbody>\n",
       "    <tr>\n",
       "      <th>13</th>\n",
       "      <td>0</td>\n",
       "    </tr>\n",
       "    <tr>\n",
       "      <th>6</th>\n",
       "      <td>2</td>\n",
       "    </tr>\n",
       "    <tr>\n",
       "      <th>7</th>\n",
       "      <td>0</td>\n",
       "    </tr>\n",
       "    <tr>\n",
       "      <th>1</th>\n",
       "      <td>2</td>\n",
       "    </tr>\n",
       "    <tr>\n",
       "      <th>19</th>\n",
       "      <td>2</td>\n",
       "    </tr>\n",
       "    <tr>\n",
       "      <th>8</th>\n",
       "      <td>1</td>\n",
       "    </tr>\n",
       "    <tr>\n",
       "      <th>18</th>\n",
       "      <td>2</td>\n",
       "    </tr>\n",
       "    <tr>\n",
       "      <th>16</th>\n",
       "      <td>2</td>\n",
       "    </tr>\n",
       "    <tr>\n",
       "      <th>9</th>\n",
       "      <td>2</td>\n",
       "    </tr>\n",
       "    <tr>\n",
       "      <th>15</th>\n",
       "      <td>2</td>\n",
       "    </tr>\n",
       "    <tr>\n",
       "      <th>0</th>\n",
       "      <td>2</td>\n",
       "    </tr>\n",
       "    <tr>\n",
       "      <th>3</th>\n",
       "      <td>2</td>\n",
       "    </tr>\n",
       "    <tr>\n",
       "      <th>11</th>\n",
       "      <td>2</td>\n",
       "    </tr>\n",
       "    <tr>\n",
       "      <th>17</th>\n",
       "      <td>2</td>\n",
       "    </tr>\n",
       "    <tr>\n",
       "      <th>10</th>\n",
       "      <td>2</td>\n",
       "    </tr>\n",
       "  </tbody>\n",
       "</table>\n",
       "</div>"
      ],
      "text/plain": [
       "    Evento_nov_dez_jan_num\n",
       "13                       0\n",
       "6                        2\n",
       "7                        0\n",
       "1                        2\n",
       "19                       2\n",
       "8                        1\n",
       "18                       2\n",
       "16                       2\n",
       "9                        2\n",
       "15                       2\n",
       "0                        2\n",
       "3                        2\n",
       "11                       2\n",
       "17                       2\n",
       "10                       2"
      ]
     },
     "execution_count": 159,
     "metadata": {},
     "output_type": "execute_result"
    }
   ],
   "source": [
    "X_test"
   ]
  },
  {
   "cell_type": "code",
   "execution_count": 157,
   "id": "cebd4868",
   "metadata": {},
   "outputs": [
    {
     "data": {
      "text/plain": [
       "15"
      ]
     },
     "execution_count": 157,
     "metadata": {},
     "output_type": "execute_result"
    }
   ],
   "source": [
    "len(y_pred)"
   ]
  },
  {
   "cell_type": "markdown",
   "id": "fa6ca67c",
   "metadata": {},
   "source": []
  },
  {
   "cell_type": "markdown",
   "id": "3c4bac82",
   "metadata": {},
   "source": []
  }
 ],
 "metadata": {
  "kernelspec": {
   "display_name": "base",
   "language": "python",
   "name": "python3"
  },
  "language_info": {
   "codemirror_mode": {
    "name": "ipython",
    "version": 3
   },
   "file_extension": ".py",
   "mimetype": "text/x-python",
   "name": "python",
   "nbconvert_exporter": "python",
   "pygments_lexer": "ipython3",
   "version": "3.12.7"
  }
 },
 "nbformat": 4,
 "nbformat_minor": 5
}
