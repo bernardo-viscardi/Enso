{
 "cells": [
  {
   "cell_type": "code",
   "execution_count": 2,
   "id": "b8463c03-1dce-43df-842b-6be4299b5014",
   "metadata": {},
   "outputs": [],
   "source": [
    "import pandas as pd\n",
    "import numpy as np\n",
    "import requests\n",
    "import pprint\n",
    "import sidrapy\n",
    "import warnings \n",
    "warnings.simplefilter(\"ignore\")"
   ]
  },
  {
   "cell_type": "markdown",
   "id": "7c3c912d",
   "metadata": {},
   "source": [
    "# Estabelecer a conexão com a API do SIDRA IBGE"
   ]
  },
  {
   "cell_type": "code",
   "execution_count": 116,
   "id": "27a6f732-ea90-41ad-95aa-49dabfd40711",
   "metadata": {},
   "outputs": [],
   "source": [
    "API = \"https://apisidra.ibge.gov.br/values/t/1612/n3/43/v/allxp/p/last%2024/c81/2713\""
   ]
  },
  {
   "cell_type": "markdown",
   "id": "e3b3f81c",
   "metadata": {},
   "source": [
    "Transformar o arquivo json em um Dataframe"
   ]
  },
  {
   "cell_type": "code",
   "execution_count": 117,
   "id": "b0beac5e-5bfc-4976-b9aa-d9149a996070",
   "metadata": {},
   "outputs": [],
   "source": [
    "req = requests.get(API)\n",
    "info = req.json()"
   ]
  },
  {
   "cell_type": "code",
   "execution_count": 140,
   "id": "2a717457-05ee-4e57-8ff7-dd4d2c1b42a0",
   "metadata": {},
   "outputs": [],
   "source": [
    "df = pd.DataFrame(info)\n",
    "df.columns = df.iloc[0]\n",
    "df = df[1:]\n",
    "df.reset_index(drop=True, inplace=True)"
   ]
  },
  {
   "cell_type": "markdown",
   "id": "9e6fb5db",
   "metadata": {},
   "source": [
    "Exluir colunas desnecessárias"
   ]
  },
  {
   "cell_type": "code",
   "execution_count": 141,
   "id": "f6d2762c-b731-4703-8dbc-a8b0b86e6f4b",
   "metadata": {},
   "outputs": [],
   "source": [
    "df.drop(['Nível Territorial (Código)', 'Nível Territorial',\n",
    "       'Unidade de Medida (Código)', 'Variável (Código)', 'Ano (Código)', 'Produto das lavouras temporárias (Código)',\n",
    "       'Unidade de Medida'\n",
    "       ],\n",
    "       axis = 1, inplace = True)"
   ]
  },
  {
   "cell_type": "markdown",
   "id": "4ec49702",
   "metadata": {},
   "source": [
    "Substituir valores não numéricos da coluna Valor e transformá-la em decimal"
   ]
  },
  {
   "cell_type": "code",
   "execution_count": 142,
   "id": "7be6382a-ff24-4968-9db7-c757c3a95804",
   "metadata": {},
   "outputs": [],
   "source": [
    "df.Valor.replace(\"-\", np.nan, inplace = True)\n",
    "df.Valor.replace(\"X\", np.nan, inplace = True)\n",
    "df.Valor.replace(\"...\", np.nan, inplace = True)\n",
    "df.Valor.replace(\"..\", np.nan, inplace = True)"
   ]
  },
  {
   "cell_type": "code",
   "execution_count": 143,
   "id": "6f4182ba",
   "metadata": {},
   "outputs": [],
   "source": [
    "df.Valor = df.Valor.astype(float)"
   ]
  },
  {
   "cell_type": "markdown",
   "id": "35bace24",
   "metadata": {},
   "source": [
    "# Seperar os valores em linha e depois fazer o merge em colunas"
   ]
  },
  {
   "cell_type": "code",
   "execution_count": 144,
   "id": "427f2b44-a059-4866-89a8-e7fe9222d290",
   "metadata": {},
   "outputs": [],
   "source": [
    "\n",
    "area_plant = df.loc[df[\"Variável\"] == \"Área plantada\"]\n",
    "area_col = df.loc[df[\"Variável\"] == \"Área colhida\"]\n",
    "produtiv = df.loc[df[\"Variável\"] == 'Rendimento médio da produção']\n",
    "prod = df.loc[df[\"Variável\"] == \"Quantidade produzida\"]\n",
    "val = df.loc[df[\"Variável\"] == \"Valor da produção\"]"
   ]
  },
  {
   "cell_type": "code",
   "execution_count": 145,
   "id": "bac9fbdb",
   "metadata": {},
   "outputs": [],
   "source": [
    "area_plant.drop(\"Variável\", axis = 1, inplace = True)\n",
    "area_col.drop(\"Variável\", axis = 1, inplace = True)\n",
    "produtiv.drop(\"Variável\", axis = 1, inplace = True)\n",
    "prod.drop(\"Variável\", axis = 1, inplace = True)\n",
    "val.drop(\"Variável\", axis = 1, inplace = True)"
   ]
  },
  {
   "cell_type": "code",
   "execution_count": 146,
   "id": "7e042c5f",
   "metadata": {},
   "outputs": [],
   "source": [
    "mer = area_plant.merge(area_col, on = [\"Ano\", 'Unidade da Federação (Código)',\n",
    "       'Unidade da Federação', 'Produto das lavouras temporárias'], how = \"inner\")\n",
    "mer.rename({\n",
    "    'Valor_x': 'area_plantada(ha)',\n",
    "    'Valor_y': 'area_colhida(ha)'\n",
    "}, axis = 1, inplace = True)"
   ]
  },
  {
   "cell_type": "markdown",
   "id": "a75b72c6",
   "metadata": {},
   "source": [
    "Calcular a diferença entre áreas plantadas e colhidas"
   ]
  },
  {
   "cell_type": "code",
   "execution_count": 147,
   "id": "e811777a",
   "metadata": {},
   "outputs": [],
   "source": [
    "mer[\"plantada-colhida\"] = mer['area_plantada(ha)'] - mer['area_colhida(ha)']"
   ]
  },
  {
   "cell_type": "code",
   "execution_count": 148,
   "id": "09372e4e",
   "metadata": {},
   "outputs": [],
   "source": [
    "mer = mer.merge(prod, on = [\"Ano\", 'Unidade da Federação (Código)',\n",
    "       'Unidade da Federação', 'Produto das lavouras temporárias'], how = \"inner\")\n",
    "mer.rename({\"Valor\": \"producao(t)\"}, axis = 1, inplace = True)"
   ]
  },
  {
   "cell_type": "code",
   "execution_count": 149,
   "id": "d668ae8e",
   "metadata": {},
   "outputs": [],
   "source": [
    "mer = mer.merge(produtiv, on = [\"Ano\", 'Unidade da Federação (Código)',\n",
    "       'Unidade da Federação', 'Produto das lavouras temporárias'], how = \"inner\")\n",
    "mer.rename({\"Valor\": \"produtividade(kg/ha)\"}, axis = 1, inplace = True)"
   ]
  },
  {
   "cell_type": "code",
   "execution_count": 150,
   "id": "1a32092d",
   "metadata": {},
   "outputs": [],
   "source": [
    "mer = mer.merge(val, on = [\"Ano\", 'Unidade da Federação (Código)',\n",
    "       'Unidade da Federação', 'Produto das lavouras temporárias'], how = \"inner\")\n",
    "mer.rename({\"Valor\": \"valor_mil(R$)\"}, axis = 1, inplace = True)"
   ]
  },
  {
   "cell_type": "markdown",
   "id": "9855d5c9",
   "metadata": {},
   "source": [
    "Calcular o valor médio da saca de soja"
   ]
  },
  {
   "cell_type": "code",
   "execution_count": 151,
   "id": "92f07abd",
   "metadata": {},
   "outputs": [],
   "source": [
    "mer['valor_saca'] = (mer['valor_mil(R$)'] / ((mer['producao(t)'] / 60))).round(2)"
   ]
  },
  {
   "cell_type": "code",
   "execution_count": 152,
   "id": "e6ff17fb",
   "metadata": {},
   "outputs": [
    {
     "data": {
      "text/plain": [
       "Index(['area_plantada(ha)', 'Unidade da Federação (Código)',\n",
       "       'Unidade da Federação', 'Ano', 'Produto das lavouras temporárias',\n",
       "       'area_colhida(ha)', 'plantada-colhida', 'producao(t)',\n",
       "       'produtividade(kg/ha)', 'valor_mil(R$)', 'valor_saca'],\n",
       "      dtype='object', name=0)"
      ]
     },
     "execution_count": 152,
     "metadata": {},
     "output_type": "execute_result"
    }
   ],
   "source": [
    "mer.columns"
   ]
  },
  {
   "cell_type": "code",
   "execution_count": 153,
   "id": "9ee7b74b",
   "metadata": {},
   "outputs": [],
   "source": [
    "mer = mer[[ 'Ano', 'Unidade da Federação', 'Produto das lavouras temporárias', 'area_plantada(ha)',\n",
    "       'area_colhida(ha)', 'plantada-colhida', 'producao(t)', 'produtividade(kg/ha)', 'valor_mil(R$)', 'valor_saca']]"
   ]
  },
  {
   "cell_type": "code",
   "execution_count": 154,
   "id": "ddc29717",
   "metadata": {},
   "outputs": [],
   "source": [
    "mer.to_parquet(\"soja_IBGE_RS.parquet\", index = False)"
   ]
  },
  {
   "cell_type": "markdown",
   "id": "a0972abb",
   "metadata": {},
   "source": [
    "# Importar as variáveis climátivas"
   ]
  },
  {
   "cell_type": "markdown",
   "id": "fa6ca67c",
   "metadata": {},
   "source": []
  },
  {
   "cell_type": "markdown",
   "id": "3c4bac82",
   "metadata": {},
   "source": []
  }
 ],
 "metadata": {
  "kernelspec": {
   "display_name": "base",
   "language": "python",
   "name": "python3"
  },
  "language_info": {
   "codemirror_mode": {
    "name": "ipython",
    "version": 3
   },
   "file_extension": ".py",
   "mimetype": "text/x-python",
   "name": "python",
   "nbconvert_exporter": "python",
   "pygments_lexer": "ipython3",
   "version": "3.12.7"
  }
 },
 "nbformat": 4,
 "nbformat_minor": 5
}
