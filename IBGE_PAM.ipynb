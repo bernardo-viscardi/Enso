{
 "cells": [
  {
   "cell_type": "code",
   "execution_count": 1,
   "id": "b8463c03-1dce-43df-842b-6be4299b5014",
   "metadata": {},
   "outputs": [],
   "source": [
    "import pandas as pd\n",
    "import numpy as np\n",
    "import requests\n",
    "import pprint\n",
    "import sidrapy\n",
    "import warnings \n",
    "warnings.simplefilter(\"ignore\")"
   ]
  },
  {
   "cell_type": "markdown",
   "id": "7c3c912d",
   "metadata": {},
   "source": [
    "# Estabelecer a conexão com a API do SIDRA IBGE"
   ]
  },
  {
   "cell_type": "code",
   "execution_count": 4,
   "id": "27a6f732-ea90-41ad-95aa-49dabfd40711",
   "metadata": {},
   "outputs": [],
   "source": [
    "API = \"https://apisidra.ibge.gov.br/values/t/1612/n3/43/v/allxp/p/last%2024/c81/2713\""
   ]
  },
  {
   "cell_type": "markdown",
   "id": "e3b3f81c",
   "metadata": {},
   "source": [
    "Transformar o arquivo json em um Dataframe"
   ]
  },
  {
   "cell_type": "code",
   "execution_count": 5,
   "id": "b0beac5e-5bfc-4976-b9aa-d9149a996070",
   "metadata": {},
   "outputs": [],
   "source": [
    "req = requests.get(API)\n",
    "info = req.json()"
   ]
  },
  {
   "cell_type": "code",
   "execution_count": 6,
   "id": "2a717457-05ee-4e57-8ff7-dd4d2c1b42a0",
   "metadata": {},
   "outputs": [],
   "source": [
    "df = pd.DataFrame(info)\n",
    "df.columns = df.iloc[0]\n",
    "df = df[1:]\n",
    "df.reset_index(drop=True, inplace=True)"
   ]
  },
  {
   "cell_type": "markdown",
   "id": "9e6fb5db",
   "metadata": {},
   "source": [
    "Exluir colunas desnecessárias"
   ]
  },
  {
   "cell_type": "code",
   "execution_count": 7,
   "id": "f6d2762c-b731-4703-8dbc-a8b0b86e6f4b",
   "metadata": {},
   "outputs": [],
   "source": [
    "df.drop(['Nível Territorial (Código)', 'Nível Territorial',\n",
    "       'Unidade de Medida (Código)', 'Variável (Código)', 'Ano (Código)', 'Produto das lavouras temporárias (Código)',\n",
    "       'Unidade de Medida'\n",
    "       ],\n",
    "       axis = 1, inplace = True)"
   ]
  },
  {
   "cell_type": "markdown",
   "id": "4ec49702",
   "metadata": {},
   "source": [
    "Substituir valores não numéricos da coluna Valor e transformá-la em decimal"
   ]
  },
  {
   "cell_type": "code",
   "execution_count": 8,
   "id": "7be6382a-ff24-4968-9db7-c757c3a95804",
   "metadata": {},
   "outputs": [],
   "source": [
    "df.Valor.replace(\"-\", np.nan, inplace = True)\n",
    "df.Valor.replace(\"X\", np.nan, inplace = True)\n",
    "df.Valor.replace(\"...\", np.nan, inplace = True)\n",
    "df.Valor.replace(\"..\", np.nan, inplace = True)"
   ]
  },
  {
   "cell_type": "code",
   "execution_count": 9,
   "id": "6f4182ba",
   "metadata": {},
   "outputs": [],
   "source": [
    "df.Valor = df.Valor.astype(float)"
   ]
  },
  {
   "cell_type": "markdown",
   "id": "35bace24",
   "metadata": {},
   "source": [
    "# Seperar os valores em linha e depois fazer o merge em colunas"
   ]
  },
  {
   "cell_type": "code",
   "execution_count": 10,
   "id": "427f2b44-a059-4866-89a8-e7fe9222d290",
   "metadata": {},
   "outputs": [],
   "source": [
    "\n",
    "area_plant = df.loc[df[\"Variável\"] == \"Área plantada\"]\n",
    "area_col = df.loc[df[\"Variável\"] == \"Área colhida\"]\n",
    "produtiv = df.loc[df[\"Variável\"] == 'Rendimento médio da produção']\n",
    "prod = df.loc[df[\"Variável\"] == \"Quantidade produzida\"]\n",
    "val = df.loc[df[\"Variável\"] == \"Valor da produção\"]"
   ]
  },
  {
   "cell_type": "code",
   "execution_count": 11,
   "id": "bac9fbdb",
   "metadata": {},
   "outputs": [],
   "source": [
    "area_plant.drop(\"Variável\", axis = 1, inplace = True)\n",
    "area_col.drop(\"Variável\", axis = 1, inplace = True)\n",
    "produtiv.drop(\"Variável\", axis = 1, inplace = True)\n",
    "prod.drop(\"Variável\", axis = 1, inplace = True)\n",
    "val.drop(\"Variável\", axis = 1, inplace = True)"
   ]
  },
  {
   "cell_type": "code",
   "execution_count": 12,
   "id": "7e042c5f",
   "metadata": {},
   "outputs": [],
   "source": [
    "mer = area_plant.merge(area_col, on = [\"Ano\", 'Unidade da Federação (Código)',\n",
    "       'Unidade da Federação', 'Produto das lavouras temporárias'], how = \"inner\")\n",
    "mer.rename({\n",
    "    'Valor_x': 'area_plantada(ha)',\n",
    "    'Valor_y': 'area_colhida(ha)'\n",
    "}, axis = 1, inplace = True)"
   ]
  },
  {
   "cell_type": "markdown",
   "id": "a75b72c6",
   "metadata": {},
   "source": [
    "Calcular a diferença entre áreas plantadas e colhidas"
   ]
  },
  {
   "cell_type": "code",
   "execution_count": 13,
   "id": "e811777a",
   "metadata": {},
   "outputs": [],
   "source": [
    "mer[\"delta_area\"] = mer['area_colhida(ha)'] - mer['area_plantada(ha)']"
   ]
  },
  {
   "cell_type": "code",
   "execution_count": 14,
   "id": "09372e4e",
   "metadata": {},
   "outputs": [],
   "source": [
    "mer = mer.merge(prod, on = [\"Ano\", 'Unidade da Federação (Código)',\n",
    "       'Unidade da Federação', 'Produto das lavouras temporárias'], how = \"inner\")\n",
    "mer.rename({\"Valor\": \"producao(t)\"}, axis = 1, inplace = True)"
   ]
  },
  {
   "cell_type": "code",
   "execution_count": 15,
   "id": "d668ae8e",
   "metadata": {},
   "outputs": [],
   "source": [
    "mer = mer.merge(produtiv, on = [\"Ano\", 'Unidade da Federação (Código)',\n",
    "       'Unidade da Federação', 'Produto das lavouras temporárias'], how = \"inner\")\n",
    "mer.rename({\"Valor\": \"produtividade(kg/ha)\"}, axis = 1, inplace = True)"
   ]
  },
  {
   "cell_type": "code",
   "execution_count": 16,
   "id": "1a32092d",
   "metadata": {},
   "outputs": [],
   "source": [
    "mer = mer.merge(val, on = [\"Ano\", 'Unidade da Federação (Código)',\n",
    "       'Unidade da Federação', 'Produto das lavouras temporárias'], how = \"inner\")\n",
    "mer.rename({\"Valor\": \"valor_mil(R$)\"}, axis = 1, inplace = True)"
   ]
  },
  {
   "cell_type": "markdown",
   "id": "9855d5c9",
   "metadata": {},
   "source": [
    "Calcular o valor médio da saca de soja"
   ]
  },
  {
   "cell_type": "code",
   "execution_count": 17,
   "id": "92f07abd",
   "metadata": {},
   "outputs": [],
   "source": [
    "mer['valor_saca'] = (mer['valor_mil(R$)'] / ((mer['producao(t)'] / 60))).round(2)"
   ]
  },
  {
   "cell_type": "code",
   "execution_count": 18,
   "id": "e6ff17fb",
   "metadata": {},
   "outputs": [
    {
     "data": {
      "text/plain": [
       "Index(['area_plantada(ha)', 'Unidade da Federação (Código)',\n",
       "       'Unidade da Federação', 'Ano', 'Produto das lavouras temporárias',\n",
       "       'area_colhida(ha)', 'delta_area', 'producao(t)', 'produtividade(kg/ha)',\n",
       "       'valor_mil(R$)', 'valor_saca'],\n",
       "      dtype='object', name=0)"
      ]
     },
     "execution_count": 18,
     "metadata": {},
     "output_type": "execute_result"
    }
   ],
   "source": [
    "mer.columns"
   ]
  },
  {
   "cell_type": "code",
   "execution_count": 19,
   "id": "9ee7b74b",
   "metadata": {},
   "outputs": [],
   "source": [
    "mer = mer[[ 'Ano', 'Unidade da Federação', 'Produto das lavouras temporárias', 'area_plantada(ha)',\n",
    "       'area_colhida(ha)', 'delta_area', 'producao(t)', 'produtividade(kg/ha)', 'valor_mil(R$)', 'valor_saca']]"
   ]
  },
  {
   "cell_type": "code",
   "execution_count": 20,
   "id": "ddc29717",
   "metadata": {},
   "outputs": [],
   "source": [
    "mer.to_csv(\"soja_IBGE_RS.csv\")"
   ]
  },
  {
   "cell_type": "code",
   "execution_count": 135,
   "id": "ebb55869",
   "metadata": {},
   "outputs": [],
   "source": [
    "mer = pd.read_csv(\"soja_IBGE_RS.csv\")"
   ]
  },
  {
   "cell_type": "code",
   "execution_count": 136,
   "id": "6563cb8e",
   "metadata": {},
   "outputs": [],
   "source": [
    "mer[\"var_produtividade\"] = mer[\"produtividade(kg/ha)\"].diff()\n",
    "mer[\"var_produtividade_%\"] = mer[\"produtividade(kg/ha)\"].pct_change()\n",
    "mer[\"var_producao(t)\"] = mer[\"produtividade(kg/ha)\"].diff()\n",
    "mer[\"var_producao(t)_%\"] = mer[\"produtividade(kg/ha)\"].pct_change()"
   ]
  },
  {
   "cell_type": "markdown",
   "id": "a0972abb",
   "metadata": {},
   "source": [
    "# Importar as variáveis climátivas"
   ]
  },
  {
   "cell_type": "markdown",
   "id": "4d997b3c",
   "metadata": {},
   "source": [
    "# Upload do histórico da variação da temperatura média da superfícia do Oceano Pacífico"
   ]
  },
  {
   "cell_type": "markdown",
   "id": "e8e9fb09",
   "metadata": {},
   "source": [
    "Os eventos de El Nino e La nina ocorrem quando há 5 ocorrências de temperaturas 0,5 acima (El Niño) ou abaixo (La Niña) do padrão. Os dados disponíveis nesse dataset"
   ]
  },
  {
   "cell_type": "markdown",
   "id": "48cbe0b4",
   "metadata": {},
   "source": [
    "Estudos mostraram que uma condição necessária para o desenvolvimento e persistência da convecção profunda (aumento da nebulosidade e da precipitação) nos Trópicos é que a temperatura da superfície do mar (SST) local seja de 28 °C ou superior. Uma vez que o padrão de convecção profunda é alterado devido a SSTs anômalas, a circulação atmosférica tropical e subtropical se ajusta ao novo padrão de aquecimento tropical, resultando em padrões anômalos de precipitação e temperatura que se estendem muito além da região do Pacífico equatorial. Uma anomalia de SST de +0,5 °C na região do Niño 3.4 é suficiente para atingir esse limite entre o final de março e meados de junho. Durante o restante do ano, uma anomalia de SST maior, chegando a +1,5 °C nos meses de novembro, dezembro e janeiro, é necessária para atingir o limiar que sustenta a convecção profunda persistente nessa região."
   ]
  },
  {
   "cell_type": "code",
   "execution_count": 137,
   "id": "436b62e7",
   "metadata": {},
   "outputs": [],
   "source": [
    "enso = pd.read_excel(\"Temp_media_2010_2025.xlsx\")"
   ]
  },
  {
   "cell_type": "markdown",
   "id": "a425bbc7",
   "metadata": {},
   "source": [
    "### Aplicando os ajustes para fazer a fusão entre as bases do IBGE e do NOOA"
   ]
  },
  {
   "cell_type": "code",
   "execution_count": 138,
   "id": "2cbd1933",
   "metadata": {},
   "outputs": [
    {
     "data": {
      "text/plain": [
       "24"
      ]
     },
     "execution_count": 138,
     "metadata": {},
     "output_type": "execute_result"
    }
   ],
   "source": [
    "mer.shape[0]"
   ]
  },
  {
   "cell_type": "code",
   "execution_count": 139,
   "id": "6fa90048",
   "metadata": {},
   "outputs": [
    {
     "data": {
      "text/plain": [
       "array([2000, 2001, 2002, 2003, 2004, 2005, 2006, 2007, 2008, 2009, 2010,\n",
       "       2011, 2012, 2013, 2014, 2015, 2016, 2017, 2018, 2019, 2020, 2021,\n",
       "       2022, 2023, 2024, 2025], dtype=int64)"
      ]
     },
     "execution_count": 139,
     "metadata": {},
     "output_type": "execute_result"
    }
   ],
   "source": [
    "enso.Year.unique()"
   ]
  },
  {
   "cell_type": "code",
   "execution_count": 140,
   "id": "af1a3beb",
   "metadata": {},
   "outputs": [],
   "source": [
    "enso.rename(columns = {\"Year\": \"Ano\"}, inplace = True)"
   ]
  },
  {
   "cell_type": "code",
   "execution_count": 141,
   "id": "6c8ef545",
   "metadata": {},
   "outputs": [],
   "source": [
    "mer[\"Ano\"] = mer[\"Ano\"].astype(int)"
   ]
  },
  {
   "cell_type": "code",
   "execution_count": 142,
   "id": "fc7e1fd2",
   "metadata": {},
   "outputs": [
    {
     "data": {
      "text/plain": [
       "Index(['Ano', 'Jan', 'Fev', 'Mar', 'Abr', 'Mai', 'Jun', 'Jul', 'Ago', 'Set',\n",
       "       'Out', 'Nov', 'Dez', 'Media_mar_jun', 'Media_semestre_1',\n",
       "       'Media_semestre_2', 'Evento_mar_jun', 'Evento_nov_dez_jan', 'ONI',\n",
       "       'ONI_nino', 'ONI_nina'],\n",
       "      dtype='object')"
      ]
     },
     "execution_count": 142,
     "metadata": {},
     "output_type": "execute_result"
    }
   ],
   "source": [
    "enso.columns"
   ]
  },
  {
   "cell_type": "code",
   "execution_count": 143,
   "id": "1cf633e1",
   "metadata": {},
   "outputs": [],
   "source": [
    "mer = mer.merge(enso[[\"Ano\", 'Media_mar_jun', 'Media_semestre_1',\n",
    "       'Media_semestre_2', 'Evento_mar_jun', 'Evento_nov_dez_jan', 'ONI', 'ONI_nino', 'ONI_nina']], on = \"Ano\", how = \"inner\")"
   ]
  },
  {
   "cell_type": "code",
   "execution_count": 145,
   "id": "41f372ca",
   "metadata": {},
   "outputs": [],
   "source": [
    "from sklearn.preprocessing import LabelEncoder\n",
    "\n",
    "le = LabelEncoder()\n",
    "\n",
    "mer['Evento_mar_jun_num'] = le.fit_transform(mer['Evento_mar_jun'])\n",
    "mer['Evento_nov_dez_jan_num'] = le.fit_transform(mer['Evento_nov_dez_jan'])\n"
   ]
  },
  {
   "cell_type": "markdown",
   "id": "0a9a2843",
   "metadata": {},
   "source": [
    "### Bases sobre precipitação média no RS provenientes do INPE"
   ]
  },
  {
   "cell_type": "code",
   "execution_count": 146,
   "id": "766747f5",
   "metadata": {},
   "outputs": [],
   "source": [
    "prec = pd.read_csv(\"media_pluviometrica_RS.csv\", sep = \";\")"
   ]
  },
  {
   "cell_type": "code",
   "execution_count": 147,
   "id": "404284b8",
   "metadata": {},
   "outputs": [],
   "source": [
    "mer = mer.merge(prec, on = \"Ano\", how = \"inner\")"
   ]
  },
  {
   "cell_type": "code",
   "execution_count": 148,
   "id": "5c7f290d",
   "metadata": {},
   "outputs": [
    {
     "data": {
      "text/html": [
       "<div>\n",
       "<style scoped>\n",
       "    .dataframe tbody tr th:only-of-type {\n",
       "        vertical-align: middle;\n",
       "    }\n",
       "\n",
       "    .dataframe tbody tr th {\n",
       "        vertical-align: top;\n",
       "    }\n",
       "\n",
       "    .dataframe thead th {\n",
       "        text-align: right;\n",
       "    }\n",
       "</style>\n",
       "<table border=\"1\" class=\"dataframe\">\n",
       "  <thead>\n",
       "    <tr style=\"text-align: right;\">\n",
       "      <th></th>\n",
       "      <th>delta_area</th>\n",
       "      <th>produtividade(kg/ha)</th>\n",
       "      <th>ONI</th>\n",
       "      <th>Evento_nov_dez_jan_num</th>\n",
       "      <th>Evento_nov_dez_jan_num</th>\n",
       "      <th>ONI_nino</th>\n",
       "      <th>ONI_nina</th>\n",
       "    </tr>\n",
       "  </thead>\n",
       "  <tbody>\n",
       "    <tr>\n",
       "      <th>delta_area</th>\n",
       "      <td>1.000000</td>\n",
       "      <td>0.629241</td>\n",
       "      <td>0.023536</td>\n",
       "      <td>-0.213196</td>\n",
       "      <td>-0.213196</td>\n",
       "      <td>0.127947</td>\n",
       "      <td>0.118445</td>\n",
       "    </tr>\n",
       "    <tr>\n",
       "      <th>produtividade(kg/ha)</th>\n",
       "      <td>0.629241</td>\n",
       "      <td>1.000000</td>\n",
       "      <td>0.075495</td>\n",
       "      <td>-0.020774</td>\n",
       "      <td>-0.020774</td>\n",
       "      <td>0.141683</td>\n",
       "      <td>0.151026</td>\n",
       "    </tr>\n",
       "    <tr>\n",
       "      <th>ONI</th>\n",
       "      <td>0.023536</td>\n",
       "      <td>0.075495</td>\n",
       "      <td>1.000000</td>\n",
       "      <td>-0.322041</td>\n",
       "      <td>-0.322041</td>\n",
       "      <td>0.704643</td>\n",
       "      <td>-0.457737</td>\n",
       "    </tr>\n",
       "    <tr>\n",
       "      <th>Evento_nov_dez_jan_num</th>\n",
       "      <td>-0.213196</td>\n",
       "      <td>-0.020774</td>\n",
       "      <td>-0.322041</td>\n",
       "      <td>1.000000</td>\n",
       "      <td>1.000000</td>\n",
       "      <td>-0.388034</td>\n",
       "      <td>0.108864</td>\n",
       "    </tr>\n",
       "    <tr>\n",
       "      <th>Evento_nov_dez_jan_num</th>\n",
       "      <td>-0.213196</td>\n",
       "      <td>-0.020774</td>\n",
       "      <td>-0.322041</td>\n",
       "      <td>1.000000</td>\n",
       "      <td>1.000000</td>\n",
       "      <td>-0.388034</td>\n",
       "      <td>0.108864</td>\n",
       "    </tr>\n",
       "    <tr>\n",
       "      <th>ONI_nino</th>\n",
       "      <td>0.127947</td>\n",
       "      <td>0.141683</td>\n",
       "      <td>0.704643</td>\n",
       "      <td>-0.388034</td>\n",
       "      <td>-0.388034</td>\n",
       "      <td>1.000000</td>\n",
       "      <td>-0.344942</td>\n",
       "    </tr>\n",
       "    <tr>\n",
       "      <th>ONI_nina</th>\n",
       "      <td>0.118445</td>\n",
       "      <td>0.151026</td>\n",
       "      <td>-0.457737</td>\n",
       "      <td>0.108864</td>\n",
       "      <td>0.108864</td>\n",
       "      <td>-0.344942</td>\n",
       "      <td>1.000000</td>\n",
       "    </tr>\n",
       "  </tbody>\n",
       "</table>\n",
       "</div>"
      ],
      "text/plain": [
       "                        delta_area  produtividade(kg/ha)       ONI  \\\n",
       "delta_area                1.000000              0.629241  0.023536   \n",
       "produtividade(kg/ha)      0.629241              1.000000  0.075495   \n",
       "ONI                       0.023536              0.075495  1.000000   \n",
       "Evento_nov_dez_jan_num   -0.213196             -0.020774 -0.322041   \n",
       "Evento_nov_dez_jan_num   -0.213196             -0.020774 -0.322041   \n",
       "ONI_nino                  0.127947              0.141683  0.704643   \n",
       "ONI_nina                  0.118445              0.151026 -0.457737   \n",
       "\n",
       "                        Evento_nov_dez_jan_num  Evento_nov_dez_jan_num  \\\n",
       "delta_area                           -0.213196               -0.213196   \n",
       "produtividade(kg/ha)                 -0.020774               -0.020774   \n",
       "ONI                                  -0.322041               -0.322041   \n",
       "Evento_nov_dez_jan_num                1.000000                1.000000   \n",
       "Evento_nov_dez_jan_num                1.000000                1.000000   \n",
       "ONI_nino                             -0.388034               -0.388034   \n",
       "ONI_nina                              0.108864                0.108864   \n",
       "\n",
       "                        ONI_nino  ONI_nina  \n",
       "delta_area              0.127947  0.118445  \n",
       "produtividade(kg/ha)    0.141683  0.151026  \n",
       "ONI                     0.704643 -0.457737  \n",
       "Evento_nov_dez_jan_num -0.388034  0.108864  \n",
       "Evento_nov_dez_jan_num -0.388034  0.108864  \n",
       "ONI_nino                1.000000 -0.344942  \n",
       "ONI_nina               -0.344942  1.000000  "
      ]
     },
     "execution_count": 148,
     "metadata": {},
     "output_type": "execute_result"
    }
   ],
   "source": [
    "mer[['delta_area', 'produtividade(kg/ha)', 'ONI', 'Evento_nov_dez_jan_num', 'Evento_nov_dez_jan_num', 'ONI_nino', 'ONI_nina']].corr()"
   ]
  },
  {
   "cell_type": "code",
   "execution_count": 123,
   "id": "ec0c2d23",
   "metadata": {},
   "outputs": [
    {
     "data": {
      "text/html": [
       "<div>\n",
       "<style scoped>\n",
       "    .dataframe tbody tr th:only-of-type {\n",
       "        vertical-align: middle;\n",
       "    }\n",
       "\n",
       "    .dataframe tbody tr th {\n",
       "        vertical-align: top;\n",
       "    }\n",
       "\n",
       "    .dataframe thead th {\n",
       "        text-align: right;\n",
       "    }\n",
       "</style>\n",
       "<table border=\"1\" class=\"dataframe\">\n",
       "  <thead>\n",
       "    <tr style=\"text-align: right;\">\n",
       "      <th></th>\n",
       "      <th>delta_area</th>\n",
       "      <th>produtividade(kg/ha)</th>\n",
       "      <th>Evento_nov_dez_jan_num</th>\n",
       "    </tr>\n",
       "  </thead>\n",
       "  <tbody>\n",
       "    <tr>\n",
       "      <th>delta_area</th>\n",
       "      <td>1.000000</td>\n",
       "      <td>0.629241</td>\n",
       "      <td>-0.213196</td>\n",
       "    </tr>\n",
       "    <tr>\n",
       "      <th>produtividade(kg/ha)</th>\n",
       "      <td>0.629241</td>\n",
       "      <td>1.000000</td>\n",
       "      <td>-0.020774</td>\n",
       "    </tr>\n",
       "    <tr>\n",
       "      <th>Evento_nov_dez_jan_num</th>\n",
       "      <td>-0.213196</td>\n",
       "      <td>-0.020774</td>\n",
       "      <td>1.000000</td>\n",
       "    </tr>\n",
       "  </tbody>\n",
       "</table>\n",
       "</div>"
      ],
      "text/plain": [
       "                        delta_area  produtividade(kg/ha)  \\\n",
       "delta_area                1.000000              0.629241   \n",
       "produtividade(kg/ha)      0.629241              1.000000   \n",
       "Evento_nov_dez_jan_num   -0.213196             -0.020774   \n",
       "\n",
       "                        Evento_nov_dez_jan_num  \n",
       "delta_area                           -0.213196  \n",
       "produtividade(kg/ha)                 -0.020774  \n",
       "Evento_nov_dez_jan_num                1.000000  "
      ]
     },
     "execution_count": 123,
     "metadata": {},
     "output_type": "execute_result"
    }
   ],
   "source": [
    "mer[['delta_area', 'produtividade(kg/ha)', 'Evento_nov_dez_jan_num']].corr()"
   ]
  },
  {
   "cell_type": "code",
   "execution_count": 124,
   "id": "c3450b8b",
   "metadata": {},
   "outputs": [
    {
     "data": {
      "text/html": [
       "<div>\n",
       "<style scoped>\n",
       "    .dataframe tbody tr th:only-of-type {\n",
       "        vertical-align: middle;\n",
       "    }\n",
       "\n",
       "    .dataframe tbody tr th {\n",
       "        vertical-align: top;\n",
       "    }\n",
       "\n",
       "    .dataframe thead th {\n",
       "        text-align: right;\n",
       "    }\n",
       "</style>\n",
       "<table border=\"1\" class=\"dataframe\">\n",
       "  <thead>\n",
       "    <tr style=\"text-align: right;\">\n",
       "      <th></th>\n",
       "      <th>delta_area</th>\n",
       "      <th>produtividade(kg/ha)</th>\n",
       "      <th>Evento_mar_jun_num</th>\n",
       "    </tr>\n",
       "  </thead>\n",
       "  <tbody>\n",
       "    <tr>\n",
       "      <th>delta_area</th>\n",
       "      <td>1.000000</td>\n",
       "      <td>0.629241</td>\n",
       "      <td>-0.096442</td>\n",
       "    </tr>\n",
       "    <tr>\n",
       "      <th>produtividade(kg/ha)</th>\n",
       "      <td>0.629241</td>\n",
       "      <td>1.000000</td>\n",
       "      <td>-0.392848</td>\n",
       "    </tr>\n",
       "    <tr>\n",
       "      <th>Evento_mar_jun_num</th>\n",
       "      <td>-0.096442</td>\n",
       "      <td>-0.392848</td>\n",
       "      <td>1.000000</td>\n",
       "    </tr>\n",
       "  </tbody>\n",
       "</table>\n",
       "</div>"
      ],
      "text/plain": [
       "                      delta_area  produtividade(kg/ha)  Evento_mar_jun_num\n",
       "delta_area              1.000000              0.629241           -0.096442\n",
       "produtividade(kg/ha)    0.629241              1.000000           -0.392848\n",
       "Evento_mar_jun_num     -0.096442             -0.392848            1.000000"
      ]
     },
     "execution_count": 124,
     "metadata": {},
     "output_type": "execute_result"
    }
   ],
   "source": [
    "mer[['delta_area', 'produtividade(kg/ha)','Evento_mar_jun_num']].corr()"
   ]
  },
  {
   "cell_type": "code",
   "execution_count": 125,
   "id": "63ea646b",
   "metadata": {},
   "outputs": [
    {
     "data": {
      "text/plain": [
       "Index(['Unnamed: 0', 'Ano', 'Unidade da Federação',\n",
       "       'Produto das lavouras temporárias', 'area_plantada(ha)',\n",
       "       'area_colhida(ha)', 'delta_area', 'producao(t)', 'produtividade(kg/ha)',\n",
       "       'valor_mil(R$)', 'valor_saca', 'var_produtividade',\n",
       "       'var_produtividade_%', 'var_producao(t)', 'var_producao(t)_%',\n",
       "       'Media_mar_jun', 'Media_semestre_1', 'Media_semestre_2',\n",
       "       'Evento_mar_jun', 'Evento_nov_dez_jan', 'ONI', 'ONI_nino', 'ONI_nina',\n",
       "       'Evento_mar_jun_num', 'Evento_nov_dez_jan_num',\n",
       "       'PRECIPITAÇÃO TOTAL, HORÁRIO (mm)', 'precipitacao_media'],\n",
       "      dtype='object')"
      ]
     },
     "execution_count": 125,
     "metadata": {},
     "output_type": "execute_result"
    }
   ],
   "source": [
    "mer.columns"
   ]
  },
  {
   "cell_type": "code",
   "execution_count": 126,
   "id": "d11f3efe",
   "metadata": {},
   "outputs": [],
   "source": [
    "mer.rename({'PRECIPITAÇÃO TOTAL, HORÁRIO (mm)': \"Precipitacao_out_mai\"}, axis = 1, inplace = True)"
   ]
  },
  {
   "cell_type": "code",
   "execution_count": 127,
   "id": "8149b57e",
   "metadata": {},
   "outputs": [
    {
     "data": {
      "text/html": [
       "<div>\n",
       "<style scoped>\n",
       "    .dataframe tbody tr th:only-of-type {\n",
       "        vertical-align: middle;\n",
       "    }\n",
       "\n",
       "    .dataframe tbody tr th {\n",
       "        vertical-align: top;\n",
       "    }\n",
       "\n",
       "    .dataframe thead th {\n",
       "        text-align: right;\n",
       "    }\n",
       "</style>\n",
       "<table border=\"1\" class=\"dataframe\">\n",
       "  <thead>\n",
       "    <tr style=\"text-align: right;\">\n",
       "      <th></th>\n",
       "      <th>precipitacao_media</th>\n",
       "      <th>ONI</th>\n",
       "      <th>ONI_nino</th>\n",
       "      <th>ONI_nina</th>\n",
       "      <th>Media_semestre_1</th>\n",
       "      <th>Media_semestre_2</th>\n",
       "    </tr>\n",
       "  </thead>\n",
       "  <tbody>\n",
       "    <tr>\n",
       "      <th>precipitacao_media</th>\n",
       "      <td>1.000000</td>\n",
       "      <td>0.004727</td>\n",
       "      <td>0.078601</td>\n",
       "      <td>0.007535</td>\n",
       "      <td>-0.079600</td>\n",
       "      <td>-0.029615</td>\n",
       "    </tr>\n",
       "    <tr>\n",
       "      <th>ONI</th>\n",
       "      <td>0.004727</td>\n",
       "      <td>1.000000</td>\n",
       "      <td>0.704643</td>\n",
       "      <td>-0.457737</td>\n",
       "      <td>0.805887</td>\n",
       "      <td>0.215516</td>\n",
       "    </tr>\n",
       "    <tr>\n",
       "      <th>ONI_nino</th>\n",
       "      <td>0.078601</td>\n",
       "      <td>0.704643</td>\n",
       "      <td>1.000000</td>\n",
       "      <td>-0.344942</td>\n",
       "      <td>0.527617</td>\n",
       "      <td>0.262133</td>\n",
       "    </tr>\n",
       "    <tr>\n",
       "      <th>ONI_nina</th>\n",
       "      <td>0.007535</td>\n",
       "      <td>-0.457737</td>\n",
       "      <td>-0.344942</td>\n",
       "      <td>1.000000</td>\n",
       "      <td>-0.495392</td>\n",
       "      <td>-0.639817</td>\n",
       "    </tr>\n",
       "    <tr>\n",
       "      <th>Media_semestre_1</th>\n",
       "      <td>-0.079600</td>\n",
       "      <td>0.805887</td>\n",
       "      <td>0.527617</td>\n",
       "      <td>-0.495392</td>\n",
       "      <td>1.000000</td>\n",
       "      <td>0.227692</td>\n",
       "    </tr>\n",
       "    <tr>\n",
       "      <th>Media_semestre_2</th>\n",
       "      <td>-0.029615</td>\n",
       "      <td>0.215516</td>\n",
       "      <td>0.262133</td>\n",
       "      <td>-0.639817</td>\n",
       "      <td>0.227692</td>\n",
       "      <td>1.000000</td>\n",
       "    </tr>\n",
       "  </tbody>\n",
       "</table>\n",
       "</div>"
      ],
      "text/plain": [
       "                    precipitacao_media       ONI  ONI_nino  ONI_nina  \\\n",
       "precipitacao_media            1.000000  0.004727  0.078601  0.007535   \n",
       "ONI                           0.004727  1.000000  0.704643 -0.457737   \n",
       "ONI_nino                      0.078601  0.704643  1.000000 -0.344942   \n",
       "ONI_nina                      0.007535 -0.457737 -0.344942  1.000000   \n",
       "Media_semestre_1             -0.079600  0.805887  0.527617 -0.495392   \n",
       "Media_semestre_2             -0.029615  0.215516  0.262133 -0.639817   \n",
       "\n",
       "                    Media_semestre_1  Media_semestre_2  \n",
       "precipitacao_media         -0.079600         -0.029615  \n",
       "ONI                         0.805887          0.215516  \n",
       "ONI_nino                    0.527617          0.262133  \n",
       "ONI_nina                   -0.495392         -0.639817  \n",
       "Media_semestre_1            1.000000          0.227692  \n",
       "Media_semestre_2            0.227692          1.000000  "
      ]
     },
     "execution_count": 127,
     "metadata": {},
     "output_type": "execute_result"
    }
   ],
   "source": [
    "mer[[\"precipitacao_media\", 'ONI', 'ONI_nino', 'ONI_nina', 'Media_semestre_1', 'Media_semestre_2']].corr()"
   ]
  },
  {
   "cell_type": "code",
   "execution_count": 128,
   "id": "48d21fc0",
   "metadata": {},
   "outputs": [
    {
     "data": {
      "text/html": [
       "<div>\n",
       "<style scoped>\n",
       "    .dataframe tbody tr th:only-of-type {\n",
       "        vertical-align: middle;\n",
       "    }\n",
       "\n",
       "    .dataframe tbody tr th {\n",
       "        vertical-align: top;\n",
       "    }\n",
       "\n",
       "    .dataframe thead th {\n",
       "        text-align: right;\n",
       "    }\n",
       "</style>\n",
       "<table border=\"1\" class=\"dataframe\">\n",
       "  <thead>\n",
       "    <tr style=\"text-align: right;\">\n",
       "      <th></th>\n",
       "      <th>delta_area</th>\n",
       "      <th>produtividade(kg/ha)</th>\n",
       "      <th>producao(t)</th>\n",
       "      <th>valor_saca</th>\n",
       "      <th>precipitacao_media</th>\n",
       "      <th>Evento_mar_jun_num</th>\n",
       "      <th>Evento_nov_dez_jan_num</th>\n",
       "    </tr>\n",
       "  </thead>\n",
       "  <tbody>\n",
       "    <tr>\n",
       "      <th>delta_area</th>\n",
       "      <td>1.000000</td>\n",
       "      <td>0.629241</td>\n",
       "      <td>0.436164</td>\n",
       "      <td>-0.050294</td>\n",
       "      <td>0.263874</td>\n",
       "      <td>-0.096442</td>\n",
       "      <td>-0.213196</td>\n",
       "    </tr>\n",
       "    <tr>\n",
       "      <th>produtividade(kg/ha)</th>\n",
       "      <td>0.629241</td>\n",
       "      <td>1.000000</td>\n",
       "      <td>0.902097</td>\n",
       "      <td>0.105316</td>\n",
       "      <td>0.326429</td>\n",
       "      <td>-0.392848</td>\n",
       "      <td>-0.020774</td>\n",
       "    </tr>\n",
       "    <tr>\n",
       "      <th>producao(t)</th>\n",
       "      <td>0.436164</td>\n",
       "      <td>0.902097</td>\n",
       "      <td>1.000000</td>\n",
       "      <td>0.428596</td>\n",
       "      <td>0.322912</td>\n",
       "      <td>-0.479999</td>\n",
       "      <td>-0.027233</td>\n",
       "    </tr>\n",
       "    <tr>\n",
       "      <th>valor_saca</th>\n",
       "      <td>-0.050294</td>\n",
       "      <td>0.105316</td>\n",
       "      <td>0.428596</td>\n",
       "      <td>1.000000</td>\n",
       "      <td>0.238390</td>\n",
       "      <td>-0.290019</td>\n",
       "      <td>-0.055376</td>\n",
       "    </tr>\n",
       "    <tr>\n",
       "      <th>precipitacao_media</th>\n",
       "      <td>0.263874</td>\n",
       "      <td>0.326429</td>\n",
       "      <td>0.322912</td>\n",
       "      <td>0.238390</td>\n",
       "      <td>1.000000</td>\n",
       "      <td>-0.023555</td>\n",
       "      <td>-0.293877</td>\n",
       "    </tr>\n",
       "    <tr>\n",
       "      <th>Evento_mar_jun_num</th>\n",
       "      <td>-0.096442</td>\n",
       "      <td>-0.392848</td>\n",
       "      <td>-0.479999</td>\n",
       "      <td>-0.290019</td>\n",
       "      <td>-0.023555</td>\n",
       "      <td>1.000000</td>\n",
       "      <td>0.017169</td>\n",
       "    </tr>\n",
       "    <tr>\n",
       "      <th>Evento_nov_dez_jan_num</th>\n",
       "      <td>-0.213196</td>\n",
       "      <td>-0.020774</td>\n",
       "      <td>-0.027233</td>\n",
       "      <td>-0.055376</td>\n",
       "      <td>-0.293877</td>\n",
       "      <td>0.017169</td>\n",
       "      <td>1.000000</td>\n",
       "    </tr>\n",
       "  </tbody>\n",
       "</table>\n",
       "</div>"
      ],
      "text/plain": [
       "                        delta_area  produtividade(kg/ha)  producao(t)  \\\n",
       "delta_area                1.000000              0.629241     0.436164   \n",
       "produtividade(kg/ha)      0.629241              1.000000     0.902097   \n",
       "producao(t)               0.436164              0.902097     1.000000   \n",
       "valor_saca               -0.050294              0.105316     0.428596   \n",
       "precipitacao_media        0.263874              0.326429     0.322912   \n",
       "Evento_mar_jun_num       -0.096442             -0.392848    -0.479999   \n",
       "Evento_nov_dez_jan_num   -0.213196             -0.020774    -0.027233   \n",
       "\n",
       "                        valor_saca  precipitacao_media  Evento_mar_jun_num  \\\n",
       "delta_area               -0.050294            0.263874           -0.096442   \n",
       "produtividade(kg/ha)      0.105316            0.326429           -0.392848   \n",
       "producao(t)               0.428596            0.322912           -0.479999   \n",
       "valor_saca                1.000000            0.238390           -0.290019   \n",
       "precipitacao_media        0.238390            1.000000           -0.023555   \n",
       "Evento_mar_jun_num       -0.290019           -0.023555            1.000000   \n",
       "Evento_nov_dez_jan_num   -0.055376           -0.293877            0.017169   \n",
       "\n",
       "                        Evento_nov_dez_jan_num  \n",
       "delta_area                           -0.213196  \n",
       "produtividade(kg/ha)                 -0.020774  \n",
       "producao(t)                          -0.027233  \n",
       "valor_saca                           -0.055376  \n",
       "precipitacao_media                   -0.293877  \n",
       "Evento_mar_jun_num                    0.017169  \n",
       "Evento_nov_dez_jan_num                1.000000  "
      ]
     },
     "execution_count": 128,
     "metadata": {},
     "output_type": "execute_result"
    }
   ],
   "source": [
    "mer[['delta_area', 'produtividade(kg/ha)', \"producao(t)\", 'valor_saca', \"precipitacao_media\", 'Evento_mar_jun_num', 'Evento_nov_dez_jan_num']].corr()"
   ]
  },
  {
   "cell_type": "code",
   "execution_count": 129,
   "id": "aaba2d8a",
   "metadata": {},
   "outputs": [],
   "source": [
    "mer.drop([\"Unnamed: 0\"], axis = 1, inplace = True)"
   ]
  },
  {
   "cell_type": "code",
   "execution_count": 130,
   "id": "40ad96f4",
   "metadata": {},
   "outputs": [
    {
     "data": {
      "text/plain": [
       "Index(['Ano', 'Unidade da Federação', 'Produto das lavouras temporárias',\n",
       "       'area_plantada(ha)', 'area_colhida(ha)', 'delta_area', 'producao(t)',\n",
       "       'produtividade(kg/ha)', 'valor_mil(R$)', 'valor_saca',\n",
       "       'var_produtividade', 'var_produtividade_%', 'var_producao(t)',\n",
       "       'var_producao(t)_%', 'Media_mar_jun', 'Media_semestre_1',\n",
       "       'Media_semestre_2', 'Evento_mar_jun', 'Evento_nov_dez_jan', 'ONI',\n",
       "       'ONI_nino', 'ONI_nina', 'Evento_mar_jun_num', 'Evento_nov_dez_jan_num',\n",
       "       'Precipitacao_out_mai', 'precipitacao_media'],\n",
       "      dtype='object')"
      ]
     },
     "execution_count": 130,
     "metadata": {},
     "output_type": "execute_result"
    }
   ],
   "source": [
    "mer.columns"
   ]
  },
  {
   "cell_type": "code",
   "execution_count": 131,
   "id": "d692a814",
   "metadata": {},
   "outputs": [],
   "source": [
    "mer_pca = mer.drop(['Precipitacao_out_mai', 'var_produtividade', 'var_produtividade_%', 'var_producao(t)',\n",
    "       'var_producao(t)_%', 'ONI', 'ONI_nino', 'ONI_nina'], axis = 1)"
   ]
  },
  {
   "cell_type": "markdown",
   "id": "16a2d60e",
   "metadata": {},
   "source": [
    "### Aplicando métodos de aprendizando de máquina, começando pela regressão linear"
   ]
  },
  {
   "cell_type": "markdown",
   "id": "65a29266",
   "metadata": {},
   "source": [
    "### Usando o PCA para detectar as variáveis que contribuem de forma mais significativa para a variância"
   ]
  },
  {
   "cell_type": "code",
   "execution_count": 132,
   "id": "0d178bd0",
   "metadata": {},
   "outputs": [],
   "source": [
    "from sklearn.model_selection import train_test_split\n",
    "from sklearn.linear_model import LinearRegression\n",
    "from sklearn.metrics import mean_squared_error, r2_score\n",
    "from sklearn.preprocessing import StandardScaler\n",
    "from sklearn.decomposition import PCA"
   ]
  },
  {
   "cell_type": "markdown",
   "id": "50dc11cf",
   "metadata": {},
   "source": [
    "### Análise exploratória, incluindo as variáveis Produção e produtividade para avaliação das correlações entre todas as variáveis"
   ]
  },
  {
   "cell_type": "code",
   "execution_count": 31,
   "id": "3b82a857",
   "metadata": {},
   "outputs": [
    {
     "name": "stdout",
     "output_type": "stream",
     "text": [
      "[0.42126415 0.21555867]\n",
      "0.6368228182030038\n",
      "\n",
      "Variáveis mais influentes em PC1:\n",
      "area_colhida(ha)     0.438289\n",
      "valor_mil(R$)        0.427097\n",
      "area_plantada(ha)    0.426324\n",
      "producao(t)          0.407046\n",
      "valor_saca           0.371184\n",
      "Name: PC1, dtype: float64\n",
      "\n",
      "Variáveis mais influentes em PC2:\n",
      "Media_mar_jun           0.609323\n",
      "Media_semestre_1        0.569746\n",
      "Media_semestre_2        0.328010\n",
      "produtividade(kg/ha)    0.221556\n",
      "producao(t)             0.183285\n",
      "Name: PC2, dtype: float64\n"
     ]
    }
   ],
   "source": [
    "X_PCA = mer_pca.select_dtypes(include=[\"float64\", \"int64\"])  # ou escolha colunas específicas\n",
    "\n",
    "scaler = StandardScaler()\n",
    "X_scaled = scaler.fit_transform(X_PCA)\n",
    "\n",
    "pca = PCA(n_components=2) #número de componentes\n",
    "X_pca = pca.fit_transform(X_scaled)\n",
    "\n",
    "df_pca = pd.DataFrame(X_pca, columns=[\"PC1\", \"PC2\"])\n",
    "\n",
    "print(pca.explained_variance_ratio_)\n",
    "print(pca.explained_variance_ratio_.sum())  # total de variância explicada\n",
    "\n",
    "df_final = pd.concat([mer.reset_index(drop=True), df_pca], axis=1)\n",
    "componentes_df = pd.DataFrame(\n",
    "    pca.components_,\n",
    "    columns=X_PCA.columns,\n",
    "    index=[\"PC1\", \"PC2\"]\n",
    ")\n",
    "for pc in componentes_df.index:\n",
    "    print(f\"\\nVariáveis mais influentes em {pc}:\")\n",
    "    print(componentes_df.loc[pc].sort_values(ascending=False).head(5))"
   ]
  },
  {
   "cell_type": "code",
   "execution_count": 32,
   "id": "640e0e6e",
   "metadata": {},
   "outputs": [
    {
     "name": "stdout",
     "output_type": "stream",
     "text": [
      "[0.41733096 0.24776363]\n",
      "0.665094593345462\n",
      "\n",
      "Variáveis mais influentes em PC1:\n",
      "area_colhida(ha)      0.490652\n",
      "area_plantada(ha)     0.487753\n",
      "valor_saca            0.484521\n",
      "valor_mil(R$)         0.481659\n",
      "precipitacao_media    0.186849\n",
      "Name: PC1, dtype: float64\n",
      "\n",
      "Variáveis mais influentes em PC2:\n",
      "Media_mar_jun        0.653146\n",
      "Media_semestre_1     0.593170\n",
      "Media_semestre_2     0.401361\n",
      "area_colhida(ha)     0.163023\n",
      "area_plantada(ha)    0.159341\n",
      "Name: PC2, dtype: float64\n"
     ]
    }
   ],
   "source": [
    "X_PCA = mer_pca.drop([\"producao(t)\", \"produtividade(kg/ha)\"], axis = 1).select_dtypes(include=[\"float64\", \"int64\"])  # ou escolha colunas específicas\n",
    "\n",
    "scaler = StandardScaler()\n",
    "X_scaled = scaler.fit_transform(X_PCA)\n",
    "\n",
    "pca = PCA(n_components=2) #número de componentes\n",
    "X_pca = pca.fit_transform(X_scaled)\n",
    "\n",
    "df_pca = pd.DataFrame(X_pca, columns=[\"PC1\", \"PC2\"])\n",
    "\n",
    "print(pca.explained_variance_ratio_)\n",
    "print(pca.explained_variance_ratio_.sum())  # total de variância explicada\n",
    "\n",
    "df_final = pd.concat([mer.reset_index(drop=True), df_pca], axis=1)\n",
    "componentes_df = pd.DataFrame(\n",
    "    pca.components_,\n",
    "    columns=X_PCA.columns,\n",
    "    index=[\"PC1\", \"PC2\"]\n",
    ")\n",
    "for pc in componentes_df.index:\n",
    "    print(f\"\\nVariáveis mais influentes em {pc}:\")\n",
    "    print(componentes_df.loc[pc].sort_values(ascending=False).head(5))"
   ]
  },
  {
   "cell_type": "code",
   "execution_count": 33,
   "id": "4c024232",
   "metadata": {},
   "outputs": [
    {
     "name": "stdout",
     "output_type": "stream",
     "text": [
      "[0.42126415 0.21555867]\n",
      "0.6368228182030038\n",
      "\n",
      "Variáveis mais influentes em PC1:\n",
      "area_colhida(ha)     0.438289\n",
      "valor_mil(R$)        0.427097\n",
      "area_plantada(ha)    0.426324\n",
      "producao(t)          0.407046\n",
      "valor_saca           0.371184\n",
      "Name: PC1, dtype: float64\n",
      "\n",
      "Variáveis mais influentes em PC2:\n",
      "Media_mar_jun           0.609323\n",
      "Media_semestre_1        0.569746\n",
      "Media_semestre_2        0.328010\n",
      "produtividade(kg/ha)    0.221556\n",
      "producao(t)             0.183285\n",
      "Name: PC2, dtype: float64\n"
     ]
    }
   ],
   "source": [
    "X_PCA = mer_pca.select_dtypes(include=[\"float64\", \"int64\"])  # ou escolha colunas específicas\n",
    "\n",
    "scaler = StandardScaler()\n",
    "X_scaled = scaler.fit_transform(X_PCA)\n",
    "\n",
    "pca = PCA(n_components=2) #número de componentes\n",
    "X_pca = pca.fit_transform(X_scaled)\n",
    "\n",
    "df_pca = pd.DataFrame(X_pca, columns=[\"PC1\", \"PC2\"])\n",
    "\n",
    "print(pca.explained_variance_ratio_)\n",
    "print(pca.explained_variance_ratio_.sum())  # total de variância explicada\n",
    "\n",
    "df_final = pd.concat([mer.reset_index(drop=True), df_pca], axis=1)\n",
    "componentes_df = pd.DataFrame(\n",
    "    pca.components_,\n",
    "    columns=X_PCA.columns,\n",
    "    index=[\"PC1\", \"PC2\"]\n",
    ")\n",
    "for pc in componentes_df.index:\n",
    "    print(f\"\\nVariáveis mais influentes em {pc}:\")\n",
    "    print(componentes_df.loc[pc].sort_values(ascending=False).head(5))\n"
   ]
  },
  {
   "cell_type": "code",
   "execution_count": 35,
   "id": "ccc0bd80",
   "metadata": {},
   "outputs": [
    {
     "data": {
      "image/png": "[encoded data removed]",
      "text/plain": [
       "<Figure size 1000x400 with 1 Axes>"
      ]
     },
     "metadata": {},
     "output_type": "display_data"
    },
    {
     "data": {
      "image/png": "[encoded data removed]",
      "text/plain": [
       "<Figure size 1000x400 with 1 Axes>"
      ]
     },
     "metadata": {},
     "output_type": "display_data"
    }
   ],
   "source": [
    "import matplotlib.pyplot as plt\n",
    "\n",
    "for i in range(2):\n",
    "    plt.figure(figsize=(10, 4))\n",
    "    plt.bar(componentes_df.columns, componentes_df.iloc[i])\n",
    "    plt.title(f'Contribuição das variáveis para PC{i+1}')\n",
    "    plt.xticks(rotation=45)\n",
    "    plt.ylabel('Peso')\n",
    "    plt.grid(False)\n",
    "    plt.tight_layout()\n",
    "    plt.show()"
   ]
  },
  {
   "cell_type": "markdown",
   "id": "0b2da6c1",
   "metadata": {},
   "source": [
    "### Aplicando a regressão linear para detectar R2 o erro (RMSE) e e construi o modelo preditivo"
   ]
  },
  {
   "cell_type": "code",
   "execution_count": 52,
   "id": "1bbdc2b1",
   "metadata": {},
   "outputs": [
    {
     "name": "stdout",
     "output_type": "stream",
     "text": [
      "R²: -0.63\n",
      "RMSE: 4359775.88\n"
     ]
    }
   ],
   "source": [
    "X = mer[['Evento_mar_jun_num']] #variável independente\n",
    "y = mer[[\"producao(t)\"]] #variável dependente\n",
    "\n",
    "X_train, X_test, y_train, y_test = train_test_split(X, y, test_size = 0.2, stratify=X)\n",
    "\n",
    "modelo = LinearRegression()\n",
    "modelo.fit(X_train, y_train)\n",
    "\n",
    "y_pred = modelo.predict(X_test)\n",
    "\n",
    "print(f\"R²: {r2_score(y_test, y_pred):.2f}\")\n",
    "print(f\"RMSE: {mean_squared_error(y_test, y_pred, squared=False):.2f}\")"
   ]
  },
  {
   "cell_type": "code",
   "execution_count": 38,
   "id": "0d675cbf",
   "metadata": {},
   "outputs": [
    {
     "data": {
      "text/html": [
       "<div>\n",
       "<style scoped>\n",
       "    .dataframe tbody tr th:only-of-type {\n",
       "        vertical-align: middle;\n",
       "    }\n",
       "\n",
       "    .dataframe tbody tr th {\n",
       "        vertical-align: top;\n",
       "    }\n",
       "\n",
       "    .dataframe thead th {\n",
       "        text-align: right;\n",
       "    }\n",
       "</style>\n",
       "<table border=\"1\" class=\"dataframe\">\n",
       "  <thead>\n",
       "    <tr style=\"text-align: right;\">\n",
       "      <th></th>\n",
       "      <th>Evento_mar_jun_num</th>\n",
       "    </tr>\n",
       "  </thead>\n",
       "  <tbody>\n",
       "    <tr>\n",
       "      <th>18</th>\n",
       "      <td>1</td>\n",
       "    </tr>\n",
       "    <tr>\n",
       "      <th>12</th>\n",
       "      <td>2</td>\n",
       "    </tr>\n",
       "    <tr>\n",
       "      <th>8</th>\n",
       "      <td>2</td>\n",
       "    </tr>\n",
       "    <tr>\n",
       "      <th>11</th>\n",
       "      <td>2</td>\n",
       "    </tr>\n",
       "    <tr>\n",
       "      <th>13</th>\n",
       "      <td>0</td>\n",
       "    </tr>\n",
       "  </tbody>\n",
       "</table>\n",
       "</div>"
      ],
      "text/plain": [
       "    Evento_mar_jun_num\n",
       "18                   1\n",
       "12                   2\n",
       "8                    2\n",
       "11                   2\n",
       "13                   0"
      ]
     },
     "execution_count": 38,
     "metadata": {},
     "output_type": "execute_result"
    }
   ],
   "source": [
    "X_test"
   ]
  },
  {
   "cell_type": "code",
   "execution_count": 41,
   "id": "306fbaf4",
   "metadata": {},
   "outputs": [],
   "source": [
    "coluna_1 = X_test[\"Evento_mar_jun_num\"].values\n",
    "df_prev = pd.DataFrame({\"Evento_mar_jun_num\": coluna_1.ravel(),\n",
    "              \"Previsao_producao\": y_pred.ravel().round(2)})"
   ]
  },
  {
   "cell_type": "code",
   "execution_count": 44,
   "id": "d1b47979",
   "metadata": {},
   "outputs": [],
   "source": [
    "mer_prod = mer.merge(df_prev, how = \"inner\", on = 'Evento_mar_jun_num')"
   ]
  },
  {
   "cell_type": "code",
   "execution_count": 45,
   "id": "5db0c1f3",
   "metadata": {},
   "outputs": [],
   "source": [
    "mer_prod.to_csv(\"mer_producao_09_08.csv\", sep = \";\")"
   ]
  },
  {
   "cell_type": "code",
   "execution_count": null,
   "id": "dcfed295",
   "metadata": {},
   "outputs": [],
   "source": [
    "X = mer[[\"Evento_mar_jun_num\"]] #variável independente\n",
    "y = mer[['area_colhida(ha)']] #variável dependente\n",
    "\n",
    "X_train, X_test, y_train, y_test = train_test_split(X, y, test_size = 0.7, stratify = X, random_state = 772)\n",
    "\n",
    "modelo = LinearRegression()\n",
    "modelo.fit(X_train, y_train)\n",
    "\n",
    "y_pred = modelo.predict(X_test)\n",
    "\n",
    "print(f\"R²: {r2_score(y_test, y_pred):.2f}\")\n",
    "print(f\"RMSE: {mean_squared_error(y_test, y_pred, squared=False):.2f}\")"
   ]
  },
  {
   "cell_type": "code",
   "execution_count": 68,
   "id": "d316cb7f",
   "metadata": {},
   "outputs": [],
   "source": [
    "coluna_1 = X_test[\"Evento_mar_jun_num\"].values\n",
    "df_prev = pd.DataFrame({\"Evento_mar_jun_num\": coluna_1.ravel(),\n",
    "              \"Previsao_area_colhida\": y_pred.ravel().round(2)})"
   ]
  },
  {
   "cell_type": "code",
   "execution_count": 69,
   "id": "a312cb10",
   "metadata": {},
   "outputs": [
    {
     "data": {
      "text/html": [
       "<div>\n",
       "<style scoped>\n",
       "    .dataframe tbody tr th:only-of-type {\n",
       "        vertical-align: middle;\n",
       "    }\n",
       "\n",
       "    .dataframe tbody tr th {\n",
       "        vertical-align: top;\n",
       "    }\n",
       "\n",
       "    .dataframe thead th {\n",
       "        text-align: right;\n",
       "    }\n",
       "</style>\n",
       "<table border=\"1\" class=\"dataframe\">\n",
       "  <thead>\n",
       "    <tr style=\"text-align: right;\">\n",
       "      <th></th>\n",
       "      <th>Evento_mar_jun_num</th>\n",
       "      <th>Previsao_area_colhida</th>\n",
       "    </tr>\n",
       "  </thead>\n",
       "  <tbody>\n",
       "    <tr>\n",
       "      <th>0</th>\n",
       "      <td>2</td>\n",
       "      <td>3878864.52</td>\n",
       "    </tr>\n",
       "    <tr>\n",
       "      <th>1</th>\n",
       "      <td>2</td>\n",
       "      <td>3878864.52</td>\n",
       "    </tr>\n",
       "    <tr>\n",
       "      <th>2</th>\n",
       "      <td>2</td>\n",
       "      <td>3878864.52</td>\n",
       "    </tr>\n",
       "    <tr>\n",
       "      <th>3</th>\n",
       "      <td>2</td>\n",
       "      <td>3878864.52</td>\n",
       "    </tr>\n",
       "    <tr>\n",
       "      <th>4</th>\n",
       "      <td>1</td>\n",
       "      <td>4541172.81</td>\n",
       "    </tr>\n",
       "    <tr>\n",
       "      <th>5</th>\n",
       "      <td>2</td>\n",
       "      <td>3878864.52</td>\n",
       "    </tr>\n",
       "    <tr>\n",
       "      <th>6</th>\n",
       "      <td>2</td>\n",
       "      <td>3878864.52</td>\n",
       "    </tr>\n",
       "    <tr>\n",
       "      <th>7</th>\n",
       "      <td>2</td>\n",
       "      <td>3878864.52</td>\n",
       "    </tr>\n",
       "    <tr>\n",
       "      <th>8</th>\n",
       "      <td>1</td>\n",
       "      <td>4541172.81</td>\n",
       "    </tr>\n",
       "    <tr>\n",
       "      <th>9</th>\n",
       "      <td>0</td>\n",
       "      <td>5203481.10</td>\n",
       "    </tr>\n",
       "    <tr>\n",
       "      <th>10</th>\n",
       "      <td>2</td>\n",
       "      <td>3878864.52</td>\n",
       "    </tr>\n",
       "    <tr>\n",
       "      <th>11</th>\n",
       "      <td>1</td>\n",
       "      <td>4541172.81</td>\n",
       "    </tr>\n",
       "    <tr>\n",
       "      <th>12</th>\n",
       "      <td>2</td>\n",
       "      <td>3878864.52</td>\n",
       "    </tr>\n",
       "    <tr>\n",
       "      <th>13</th>\n",
       "      <td>2</td>\n",
       "      <td>3878864.52</td>\n",
       "    </tr>\n",
       "    <tr>\n",
       "      <th>14</th>\n",
       "      <td>0</td>\n",
       "      <td>5203481.10</td>\n",
       "    </tr>\n",
       "  </tbody>\n",
       "</table>\n",
       "</div>"
      ],
      "text/plain": [
       "    Evento_mar_jun_num  Previsao_area_colhida\n",
       "0                    2             3878864.52\n",
       "1                    2             3878864.52\n",
       "2                    2             3878864.52\n",
       "3                    2             3878864.52\n",
       "4                    1             4541172.81\n",
       "5                    2             3878864.52\n",
       "6                    2             3878864.52\n",
       "7                    2             3878864.52\n",
       "8                    1             4541172.81\n",
       "9                    0             5203481.10\n",
       "10                   2             3878864.52\n",
       "11                   1             4541172.81\n",
       "12                   2             3878864.52\n",
       "13                   2             3878864.52\n",
       "14                   0             5203481.10"
      ]
     },
     "execution_count": 69,
     "metadata": {},
     "output_type": "execute_result"
    }
   ],
   "source": [
    "df_prev"
   ]
  },
  {
   "cell_type": "code",
   "execution_count": 55,
   "id": "feec20f4",
   "metadata": {},
   "outputs": [
    {
     "name": "stdout",
     "output_type": "stream",
     "text": [
      "R²: -0.64\n",
      "RMSE: 5962972.52\n"
     ]
    }
   ],
   "source": [
    "X = mer[['Evento_nov_dez_jan_num']] #variável independente\n",
    "y = mer[[\"producao(t)\"]] #variável dependente\n",
    "\n",
    "X_train, X_test, y_train, y_test = train_test_split(X, y, test_size = 0.7, stratify = X, random_state = 75)\n",
    "\n",
    "modelo = LinearRegression()\n",
    "modelo.fit(X_train, y_train)\n",
    "\n",
    "y_pred = modelo.predict(X_test)\n",
    "\n",
    "print(f\"R²: {r2_score(y_test, y_pred):.2f}\")\n",
    "print(f\"RMSE: {mean_squared_error(y_test, y_pred, squared=False):.2f}\")"
   ]
  },
  {
   "cell_type": "code",
   "execution_count": 61,
   "id": "886099d2",
   "metadata": {},
   "outputs": [
    {
     "data": {
      "text/plain": [
       "Index(['Ano', 'Unidade da Federação', 'Produto das lavouras temporárias',\n",
       "       'area_plantada(ha)', 'area_colhida(ha)', 'delta_area', 'producao(t)',\n",
       "       'produtividade(kg/ha)', 'valor_mil(R$)', 'valor_saca',\n",
       "       'var_produtividade', 'var_produtividade_%', 'var_producao(t)',\n",
       "       'var_producao(t)_%', 'Media_mar_jun', 'Media_semestre_1',\n",
       "       'Media_semestre_2', 'Evento_mar_jun', 'Evento_nov_dez_jan', 'ONI',\n",
       "       'ONI_nino', 'ONI_nina', 'Evento_mar_jun_num', 'Evento_nov_dez_jan_num',\n",
       "       'Precipitacao_out_mai', 'precipitacao_media'],\n",
       "      dtype='object')"
      ]
     },
     "execution_count": 61,
     "metadata": {},
     "output_type": "execute_result"
    }
   ],
   "source": [
    "mer.columns"
   ]
  },
  {
   "cell_type": "code",
   "execution_count": 62,
   "id": "7117ff38",
   "metadata": {},
   "outputs": [
    {
     "name": "stdout",
     "output_type": "stream",
     "text": [
      "R²: -0.19\n",
      "RMSE: 1118112.49\n"
     ]
    }
   ],
   "source": [
    "X = mer[['Evento_nov_dez_jan_num']] #variável independente\n",
    "y = mer[['area_colhida(ha)']] #variável dependente\n",
    "\n",
    "X_train, X_test, y_train, y_test = train_test_split(X, y, test_size = 0.7, stratify = X, random_state = 75)\n",
    "\n",
    "modelo = LinearRegression()\n",
    "modelo.fit(X_train, y_train)\n",
    "\n",
    "y_pred = modelo.predict(X_test)\n",
    "\n",
    "print(f\"R²: {r2_score(y_test, y_pred):.2f}\")\n",
    "print(f\"RMSE: {mean_squared_error(y_test, y_pred, squared=False):.2f}\")"
   ]
  },
  {
   "cell_type": "code",
   "execution_count": null,
   "id": "9cdf9dc9",
   "metadata": {},
   "outputs": [
    {
     "name": "stdout",
     "output_type": "stream",
     "text": [
      "R²: -0.32\n",
      "RMSE: 1213380.31\n"
     ]
    }
   ],
   "source": []
  },
  {
   "cell_type": "code",
   "execution_count": 56,
   "id": "5b4c5c3a",
   "metadata": {},
   "outputs": [
    {
     "name": "stdout",
     "output_type": "stream",
     "text": [
      "R²: -0.99\n",
      "RMSE: 5914099.97\n"
     ]
    }
   ],
   "source": [
    "X = mer[['precipitacao_media']] #variável independente\n",
    "y = mer[[\"producao(t)\"]] #variável dependente\n",
    "\n",
    "X_train, X_test, y_train, y_test = train_test_split(X, y, test_size = 0.2, random_state = 75)\n",
    "\n",
    "modelo = LinearRegression()\n",
    "modelo.fit(X_train, y_train)\n",
    "\n",
    "y_pred = modelo.predict(X_test)\n",
    "\n",
    "print(f\"R²: {r2_score(y_test, y_pred):.2f}\")\n",
    "print(f\"RMSE: {mean_squared_error(y_test, y_pred, squared=False):.2f}\")"
   ]
  },
  {
   "cell_type": "code",
   "execution_count": 60,
   "id": "45c4c07f",
   "metadata": {},
   "outputs": [
    {
     "name": "stdout",
     "output_type": "stream",
     "text": [
      "R²: -1.42\n",
      "RMSE: 5024947.45\n"
     ]
    }
   ],
   "source": [
    "X = mer[['precipitacao_media']] #variável independente\n",
    "y = mer[[\"producao(t)\"]] #variável dependente\n",
    "\n",
    "X_train, X_test, y_train, y_test = train_test_split(X, y, test_size = 0.2, random_state = 77)\n",
    "\n",
    "modelo = LinearRegression()\n",
    "modelo.fit(X_train, y_train)\n",
    "\n",
    "y_pred = modelo.predict(X_test)\n",
    "\n",
    "print(f\"R²: {r2_score(y_test, y_pred):.2f}\")\n",
    "print(f\"RMSE: {mean_squared_error(y_test, y_pred, squared=False):.2f}\")"
   ]
  },
  {
   "cell_type": "code",
   "execution_count": null,
   "id": "99485f20",
   "metadata": {},
   "outputs": [],
   "source": []
  },
  {
   "cell_type": "code",
   "execution_count": 136,
   "id": "da9828d6",
   "metadata": {},
   "outputs": [
    {
     "name": "stdout",
     "output_type": "stream",
     "text": [
      "R²: -0.75\n",
      "RMSE: 4271018.36\n"
     ]
    }
   ],
   "source": [
    "X = mer[['ONI']] #variável independente\n",
    "y = mer[[\"producao(t)\"]] #variável dependente\n",
    "\n",
    "X_train, X_test, y_train, y_test = train_test_split(X, y, test_size = 0.2, random_state = 77)\n",
    "\n",
    "modelo = LinearRegression()\n",
    "modelo.fit(X_train, y_train)\n",
    "\n",
    "y_pred = modelo.predict(X_test)\n",
    "\n",
    "print(f\"R²: {r2_score(y_test, y_pred):.2f}\")\n",
    "print(f\"RMSE: {mean_squared_error(y_test, y_pred, squared=False):.2f}\")"
   ]
  },
  {
   "cell_type": "code",
   "execution_count": 131,
   "id": "833d1629",
   "metadata": {},
   "outputs": [
    {
     "name": "stdout",
     "output_type": "stream",
     "text": [
      "R²: -0.03\n",
      "RMSE: 4658993.40\n"
     ]
    }
   ],
   "source": [
    "X = mer[['ONI_nino']] #variável independente\n",
    "y = mer[[\"producao(t)\"]] #variável dependente\n",
    "\n",
    "X_train, X_test, y_train, y_test = train_test_split(X, y, test_size = 0.2, random_state = 72)\n",
    "\n",
    "modelo = LinearRegression()\n",
    "modelo.fit(X_train, y_train)\n",
    "\n",
    "y_pred = modelo.predict(X_test)\n",
    "\n",
    "print(f\"R²: {r2_score(y_test, y_pred):.2f}\")\n",
    "print(f\"RMSE: {mean_squared_error(y_test, y_pred, squared=False):.2f}\")"
   ]
  },
  {
   "cell_type": "code",
   "execution_count": 132,
   "id": "2f855656",
   "metadata": {},
   "outputs": [
    {
     "name": "stdout",
     "output_type": "stream",
     "text": [
      "R²: -0.24\n",
      "RMSE: 5108037.97\n"
     ]
    }
   ],
   "source": [
    "X = mer[['ONI_nina']] #variável independente\n",
    "y = mer[[\"producao(t)\"]] #variável dependente\n",
    "\n",
    "X_train, X_test, y_train, y_test = train_test_split(X, y, test_size = 0.2, random_state = 72)\n",
    "\n",
    "modelo = LinearRegression()\n",
    "modelo.fit(X_train, y_train)\n",
    "\n",
    "y_pred = modelo.predict(X_test)\n",
    "\n",
    "print(f\"R²: {r2_score(y_test, y_pred):.2f}\")\n",
    "print(f\"RMSE: {mean_squared_error(y_test, y_pred, squared=False):.2f}\")"
   ]
  },
  {
   "cell_type": "code",
   "execution_count": 122,
   "id": "a3d9c1dd",
   "metadata": {},
   "outputs": [
    {
     "name": "stdout",
     "output_type": "stream",
     "text": [
      "R²: -0.15\n",
      "RMSE: 4908009.87\n"
     ]
    }
   ],
   "source": [
    "print(f\"R²: {r2_score(y_test, y_pred):.2f}\")\n",
    "print(f\"RMSE: {mean_squared_error(y_test, y_pred, squared=False):.2f}\")"
   ]
  },
  {
   "cell_type": "markdown",
   "id": "36acd493",
   "metadata": {},
   "source": [
    "# usando o cross validation"
   ]
  },
  {
   "cell_type": "code",
   "execution_count": 74,
   "id": "dbb084d4",
   "metadata": {},
   "outputs": [
    {
     "name": "stdout",
     "output_type": "stream",
     "text": [
      "R² médio: -45.19155934200402\n"
     ]
    }
   ],
   "source": [
    "from sklearn.model_selection import cross_val_score\n",
    "\n",
    "model = LinearRegression()\n",
    "scores = cross_val_score(model, X, y, cv=5, scoring='r2')\n",
    "print(\"R² médio:\", scores.mean())"
   ]
  },
  {
   "cell_type": "code",
   "execution_count": 73,
   "id": "6b4f1b3f",
   "metadata": {},
   "outputs": [
    {
     "data": {
      "image/png": "[encoded data removed]",
      "text/plain": [
       "<Figure size 640x480 with 1 Axes>"
      ]
     },
     "metadata": {},
     "output_type": "display_data"
    }
   ],
   "source": [
    "import matplotlib.pyplot as plt\n",
    "\n",
    "plt.scatter(mer[\"Media_mar_jun\"], mer[\"producao(t)\"])\n",
    "plt.xlabel(\"Variação da temperatura média do Pacífico\")\n",
    "plt.ylabel(\"Produção\")\n",
    "plt.title(\"Correlação entre temperatura e produção\")\n",
    "plt.grid(True)\n",
    "plt.show()"
   ]
  },
  {
   "cell_type": "markdown",
   "id": "f5f5d95f",
   "metadata": {},
   "source": [
    "# decision tree"
   ]
  },
  {
   "cell_type": "code",
   "execution_count": 133,
   "id": "4a2b5bc2",
   "metadata": {},
   "outputs": [],
   "source": [
    "from sklearn.tree import DecisionTreeRegressor\n",
    "from sklearn.model_selection import train_test_split\n",
    "from sklearn.metrics import r2_score, mean_squared_error"
   ]
  },
  {
   "cell_type": "code",
   "execution_count": 134,
   "id": "723d83e8",
   "metadata": {},
   "outputs": [
    {
     "data": {
      "text/html": [
       "<div>\n",
       "<style scoped>\n",
       "    .dataframe tbody tr th:only-of-type {\n",
       "        vertical-align: middle;\n",
       "    }\n",
       "\n",
       "    .dataframe tbody tr th {\n",
       "        vertical-align: top;\n",
       "    }\n",
       "\n",
       "    .dataframe thead th {\n",
       "        text-align: right;\n",
       "    }\n",
       "</style>\n",
       "<table border=\"1\" class=\"dataframe\">\n",
       "  <thead>\n",
       "    <tr style=\"text-align: right;\">\n",
       "      <th></th>\n",
       "      <th>Ano</th>\n",
       "      <th>Unidade da Federação</th>\n",
       "      <th>Produto das lavouras temporárias</th>\n",
       "      <th>area_plantada(ha)</th>\n",
       "      <th>area_colhida(ha)</th>\n",
       "      <th>delta_area</th>\n",
       "      <th>producao(t)</th>\n",
       "      <th>produtividade(kg/ha)</th>\n",
       "      <th>valor_mil(R$)</th>\n",
       "      <th>valor_saca</th>\n",
       "      <th>...</th>\n",
       "      <th>Media_semestre_2</th>\n",
       "      <th>Evento_mar_jun</th>\n",
       "      <th>Evento_nov_dez_jan</th>\n",
       "      <th>ONI</th>\n",
       "      <th>ONI_nino</th>\n",
       "      <th>ONI_nina</th>\n",
       "      <th>Evento_mar_jun_num</th>\n",
       "      <th>Evento_nov_dez_jan_num</th>\n",
       "      <th>Precipitacao_out_mai</th>\n",
       "      <th>precipitacao_media</th>\n",
       "    </tr>\n",
       "  </thead>\n",
       "  <tbody>\n",
       "    <tr>\n",
       "      <th>0</th>\n",
       "      <td>2002</td>\n",
       "      <td>Rio Grande do Sul</td>\n",
       "      <td>Soja (em grão)</td>\n",
       "      <td>3307252.0</td>\n",
       "      <td>3295342.0</td>\n",
       "      <td>-11910.0</td>\n",
       "      <td>5610518.0</td>\n",
       "      <td>1702.0</td>\n",
       "      <td>2477854.0</td>\n",
       "      <td>26.50</td>\n",
       "      <td>...</td>\n",
       "      <td>1.050000</td>\n",
       "      <td>Neutro</td>\n",
       "      <td>Neutro</td>\n",
       "      <td>0</td>\n",
       "      <td>0</td>\n",
       "      <td>0</td>\n",
       "      <td>2</td>\n",
       "      <td>2</td>\n",
       "      <td>5490.0</td>\n",
       "      <td>1098.00</td>\n",
       "    </tr>\n",
       "    <tr>\n",
       "      <th>1</th>\n",
       "      <td>2003</td>\n",
       "      <td>Rio Grande do Sul</td>\n",
       "      <td>Soja (em grão)</td>\n",
       "      <td>3591970.0</td>\n",
       "      <td>3591470.0</td>\n",
       "      <td>-500.0</td>\n",
       "      <td>9579297.0</td>\n",
       "      <td>2667.0</td>\n",
       "      <td>5434779.0</td>\n",
       "      <td>34.04</td>\n",
       "      <td>...</td>\n",
       "      <td>0.283333</td>\n",
       "      <td>Neutro</td>\n",
       "      <td>Neutro</td>\n",
       "      <td>0</td>\n",
       "      <td>0</td>\n",
       "      <td>0</td>\n",
       "      <td>2</td>\n",
       "      <td>2</td>\n",
       "      <td>4847.8</td>\n",
       "      <td>969.56</td>\n",
       "    </tr>\n",
       "    <tr>\n",
       "      <th>2</th>\n",
       "      <td>2004</td>\n",
       "      <td>Rio Grande do Sul</td>\n",
       "      <td>Soja (em grão)</td>\n",
       "      <td>3984337.0</td>\n",
       "      <td>3968530.0</td>\n",
       "      <td>-15807.0</td>\n",
       "      <td>5541714.0</td>\n",
       "      <td>1396.0</td>\n",
       "      <td>3804582.0</td>\n",
       "      <td>41.19</td>\n",
       "      <td>...</td>\n",
       "      <td>0.650000</td>\n",
       "      <td>Neutro</td>\n",
       "      <td>Neutro</td>\n",
       "      <td>0</td>\n",
       "      <td>0</td>\n",
       "      <td>0</td>\n",
       "      <td>2</td>\n",
       "      <td>2</td>\n",
       "      <td>2405.4</td>\n",
       "      <td>481.08</td>\n",
       "    </tr>\n",
       "    <tr>\n",
       "      <th>3</th>\n",
       "      <td>2005</td>\n",
       "      <td>Rio Grande do Sul</td>\n",
       "      <td>Soja (em grão)</td>\n",
       "      <td>4179272.0</td>\n",
       "      <td>3733822.0</td>\n",
       "      <td>-445450.0</td>\n",
       "      <td>2444540.0</td>\n",
       "      <td>654.0</td>\n",
       "      <td>1161908.0</td>\n",
       "      <td>28.52</td>\n",
       "      <td>...</td>\n",
       "      <td>-0.333333</td>\n",
       "      <td>Neutro</td>\n",
       "      <td>Neutro</td>\n",
       "      <td>0</td>\n",
       "      <td>0</td>\n",
       "      <td>0</td>\n",
       "      <td>2</td>\n",
       "      <td>2</td>\n",
       "      <td>3215.8</td>\n",
       "      <td>643.16</td>\n",
       "    </tr>\n",
       "    <tr>\n",
       "      <th>4</th>\n",
       "      <td>2006</td>\n",
       "      <td>Rio Grande do Sul</td>\n",
       "      <td>Soja (em grão)</td>\n",
       "      <td>3868501.0</td>\n",
       "      <td>3863726.0</td>\n",
       "      <td>-4775.0</td>\n",
       "      <td>7559291.0</td>\n",
       "      <td>1956.0</td>\n",
       "      <td>2893470.0</td>\n",
       "      <td>22.97</td>\n",
       "      <td>...</td>\n",
       "      <td>0.583333</td>\n",
       "      <td>Neutro</td>\n",
       "      <td>Neutro</td>\n",
       "      <td>-1</td>\n",
       "      <td>0</td>\n",
       "      <td>0</td>\n",
       "      <td>2</td>\n",
       "      <td>2</td>\n",
       "      <td>4194.4</td>\n",
       "      <td>838.88</td>\n",
       "    </tr>\n",
       "  </tbody>\n",
       "</table>\n",
       "<p>5 rows × 26 columns</p>\n",
       "</div>"
      ],
      "text/plain": [
       "    Ano Unidade da Federação Produto das lavouras temporárias  \\\n",
       "0  2002    Rio Grande do Sul                   Soja (em grão)   \n",
       "1  2003    Rio Grande do Sul                   Soja (em grão)   \n",
       "2  2004    Rio Grande do Sul                   Soja (em grão)   \n",
       "3  2005    Rio Grande do Sul                   Soja (em grão)   \n",
       "4  2006    Rio Grande do Sul                   Soja (em grão)   \n",
       "\n",
       "   area_plantada(ha)  area_colhida(ha)  delta_area  producao(t)  \\\n",
       "0          3307252.0         3295342.0    -11910.0    5610518.0   \n",
       "1          3591970.0         3591470.0      -500.0    9579297.0   \n",
       "2          3984337.0         3968530.0    -15807.0    5541714.0   \n",
       "3          4179272.0         3733822.0   -445450.0    2444540.0   \n",
       "4          3868501.0         3863726.0     -4775.0    7559291.0   \n",
       "\n",
       "   produtividade(kg/ha)  valor_mil(R$)  valor_saca  ...  Media_semestre_2  \\\n",
       "0                1702.0      2477854.0       26.50  ...          1.050000   \n",
       "1                2667.0      5434779.0       34.04  ...          0.283333   \n",
       "2                1396.0      3804582.0       41.19  ...          0.650000   \n",
       "3                 654.0      1161908.0       28.52  ...         -0.333333   \n",
       "4                1956.0      2893470.0       22.97  ...          0.583333   \n",
       "\n",
       "   Evento_mar_jun  Evento_nov_dez_jan  ONI  ONI_nino  ONI_nina  \\\n",
       "0          Neutro              Neutro    0         0         0   \n",
       "1          Neutro              Neutro    0         0         0   \n",
       "2          Neutro              Neutro    0         0         0   \n",
       "3          Neutro              Neutro    0         0         0   \n",
       "4          Neutro              Neutro   -1         0         0   \n",
       "\n",
       "   Evento_mar_jun_num Evento_nov_dez_jan_num Precipitacao_out_mai  \\\n",
       "0                   2                      2               5490.0   \n",
       "1                   2                      2               4847.8   \n",
       "2                   2                      2               2405.4   \n",
       "3                   2                      2               3215.8   \n",
       "4                   2                      2               4194.4   \n",
       "\n",
       "   precipitacao_media  \n",
       "0             1098.00  \n",
       "1              969.56  \n",
       "2              481.08  \n",
       "3              643.16  \n",
       "4              838.88  \n",
       "\n",
       "[5 rows x 26 columns]"
      ]
     },
     "execution_count": 134,
     "metadata": {},
     "output_type": "execute_result"
    }
   ],
   "source": [
    "mer.head()"
   ]
  },
  {
   "cell_type": "code",
   "execution_count": 158,
   "id": "8516abd1",
   "metadata": {},
   "outputs": [],
   "source": [
    "X = mer.drop(columns=[\"producao(t)\", 'produtividade(kg/ha)', \"Ano\", \"Unidade da Federação\", \"Produto das lavouras temporárias\", 'Evento_mar_jun', 'Evento_nov_dez_jan'])  # variáveis explicativas\n",
    "y = mer[\"producao(t)\"]                 # variável alvo"
   ]
  },
  {
   "cell_type": "code",
   "execution_count": 159,
   "id": "7e0f574b",
   "metadata": {},
   "outputs": [],
   "source": [
    "X_train, X_test, y_train, y_test = train_test_split(X, y, test_size=0.2, random_state=42)"
   ]
  },
  {
   "cell_type": "code",
   "execution_count": 160,
   "id": "d6603ab4",
   "metadata": {},
   "outputs": [
    {
     "data": {
      "text/html": [
       "<style>#sk-container-id-2 {\n",
       "  /* Definition of color scheme common for light and dark mode */\n",
       "  --sklearn-color-text: black;\n",
       "  --sklearn-color-line: gray;\n",
       "  /* Definition of color scheme for unfitted estimators */\n",
       "  --sklearn-color-unfitted-level-0: #fff5e6;\n",
       "  --sklearn-color-unfitted-level-1: #f6e4d2;\n",
       "  --sklearn-color-unfitted-level-2: #ffe0b3;\n",
       "  --sklearn-color-unfitted-level-3: chocolate;\n",
       "  /* Definition of color scheme for fitted estimators */\n",
       "  --sklearn-color-fitted-level-0: #f0f8ff;\n",
       "  --sklearn-color-fitted-level-1: #d4ebff;\n",
       "  --sklearn-color-fitted-level-2: #b3dbfd;\n",
       "  --sklearn-color-fitted-level-3: cornflowerblue;\n",
       "\n",
       "  /* Specific color for light theme */\n",
       "  --sklearn-color-text-on-default-background: var(--sg-text-color, var(--theme-code-foreground, var(--jp-content-font-color1, black)));\n",
       "  --sklearn-color-background: var(--sg-background-color, var(--theme-background, var(--jp-layout-color0, white)));\n",
       "  --sklearn-color-border-box: var(--sg-text-color, var(--theme-code-foreground, var(--jp-content-font-color1, black)));\n",
       "  --sklearn-color-icon: #696969;\n",
       "\n",
       "  @media (prefers-color-scheme: dark) {\n",
       "    /* Redefinition of color scheme for dark theme */\n",
       "    --sklearn-color-text-on-default-background: var(--sg-text-color, var(--theme-code-foreground, var(--jp-content-font-color1, white)));\n",
       "    --sklearn-color-background: var(--sg-background-color, var(--theme-background, var(--jp-layout-color0, #111)));\n",
       "    --sklearn-color-border-box: var(--sg-text-color, var(--theme-code-foreground, var(--jp-content-font-color1, white)));\n",
       "    --sklearn-color-icon: #878787;\n",
       "  }\n",
       "}\n",
       "\n",
       "#sk-container-id-2 {\n",
       "  color: var(--sklearn-color-text);\n",
       "}\n",
       "\n",
       "#sk-container-id-2 pre {\n",
       "  padding: 0;\n",
       "}\n",
       "\n",
       "#sk-container-id-2 input.sk-hidden--visually {\n",
       "  border: 0;\n",
       "  clip: rect(1px 1px 1px 1px);\n",
       "  clip: rect(1px, 1px, 1px, 1px);\n",
       "  height: 1px;\n",
       "  margin: -1px;\n",
       "  overflow: hidden;\n",
       "  padding: 0;\n",
       "  position: absolute;\n",
       "  width: 1px;\n",
       "}\n",
       "\n",
       "#sk-container-id-2 div.sk-dashed-wrapped {\n",
       "  border: 1px dashed var(--sklearn-color-line);\n",
       "  margin: 0 0.4em 0.5em 0.4em;\n",
       "  box-sizing: border-box;\n",
       "  padding-bottom: 0.4em;\n",
       "  background-color: var(--sklearn-color-background);\n",
       "}\n",
       "\n",
       "#sk-container-id-2 div.sk-container {\n",
       "  /* jupyter's `normalize.less` sets `[hidden] { display: none; }`\n",
       "     but bootstrap.min.css set `[hidden] { display: none !important; }`\n",
       "     so we also need the `!important` here to be able to override the\n",
       "     default hidden behavior on the sphinx rendered scikit-learn.org.\n",
       "     See: https://github.com/scikit-learn/scikit-learn/issues/21755 */\n",
       "  display: inline-block !important;\n",
       "  position: relative;\n",
       "}\n",
       "\n",
       "#sk-container-id-2 div.sk-text-repr-fallback {\n",
       "  display: none;\n",
       "}\n",
       "\n",
       "div.sk-parallel-item,\n",
       "div.sk-serial,\n",
       "div.sk-item {\n",
       "  /* draw centered vertical line to link estimators */\n",
       "  background-image: linear-gradient(var(--sklearn-color-text-on-default-background), var(--sklearn-color-text-on-default-background));\n",
       "  background-size: 2px 100%;\n",
       "  background-repeat: no-repeat;\n",
       "  background-position: center center;\n",
       "}\n",
       "\n",
       "/* Parallel-specific style estimator block */\n",
       "\n",
       "#sk-container-id-2 div.sk-parallel-item::after {\n",
       "  content: \"\";\n",
       "  width: 100%;\n",
       "  border-bottom: 2px solid var(--sklearn-color-text-on-default-background);\n",
       "  flex-grow: 1;\n",
       "}\n",
       "\n",
       "#sk-container-id-2 div.sk-parallel {\n",
       "  display: flex;\n",
       "  align-items: stretch;\n",
       "  justify-content: center;\n",
       "  background-color: var(--sklearn-color-background);\n",
       "  position: relative;\n",
       "}\n",
       "\n",
       "#sk-container-id-2 div.sk-parallel-item {\n",
       "  display: flex;\n",
       "  flex-direction: column;\n",
       "}\n",
       "\n",
       "#sk-container-id-2 div.sk-parallel-item:first-child::after {\n",
       "  align-self: flex-end;\n",
       "  width: 50%;\n",
       "}\n",
       "\n",
       "#sk-container-id-2 div.sk-parallel-item:last-child::after {\n",
       "  align-self: flex-start;\n",
       "  width: 50%;\n",
       "}\n",
       "\n",
       "#sk-container-id-2 div.sk-parallel-item:only-child::after {\n",
       "  width: 0;\n",
       "}\n",
       "\n",
       "/* Serial-specific style estimator block */\n",
       "\n",
       "#sk-container-id-2 div.sk-serial {\n",
       "  display: flex;\n",
       "  flex-direction: column;\n",
       "  align-items: center;\n",
       "  background-color: var(--sklearn-color-background);\n",
       "  padding-right: 1em;\n",
       "  padding-left: 1em;\n",
       "}\n",
       "\n",
       "\n",
       "/* Toggleable style: style used for estimator/Pipeline/ColumnTransformer box that is\n",
       "clickable and can be expanded/collapsed.\n",
       "- Pipeline and ColumnTransformer use this feature and define the default style\n",
       "- Estimators will overwrite some part of the style using the `sk-estimator` class\n",
       "*/\n",
       "\n",
       "/* Pipeline and ColumnTransformer style (default) */\n",
       "\n",
       "#sk-container-id-2 div.sk-toggleable {\n",
       "  /* Default theme specific background. It is overwritten whether we have a\n",
       "  specific estimator or a Pipeline/ColumnTransformer */\n",
       "  background-color: var(--sklearn-color-background);\n",
       "}\n",
       "\n",
       "/* Toggleable label */\n",
       "#sk-container-id-2 label.sk-toggleable__label {\n",
       "  cursor: pointer;\n",
       "  display: block;\n",
       "  width: 100%;\n",
       "  margin-bottom: 0;\n",
       "  padding: 0.5em;\n",
       "  box-sizing: border-box;\n",
       "  text-align: center;\n",
       "}\n",
       "\n",
       "#sk-container-id-2 label.sk-toggleable__label-arrow:before {\n",
       "  /* Arrow on the left of the label */\n",
       "  content: \"▸\";\n",
       "  float: left;\n",
       "  margin-right: 0.25em;\n",
       "  color: var(--sklearn-color-icon);\n",
       "}\n",
       "\n",
       "#sk-container-id-2 label.sk-toggleable__label-arrow:hover:before {\n",
       "  color: var(--sklearn-color-text);\n",
       "}\n",
       "\n",
       "/* Toggleable content - dropdown */\n",
       "\n",
       "#sk-container-id-2 div.sk-toggleable__content {\n",
       "  max-height: 0;\n",
       "  max-width: 0;\n",
       "  overflow: hidden;\n",
       "  text-align: left;\n",
       "  /* unfitted */\n",
       "  background-color: var(--sklearn-color-unfitted-level-0);\n",
       "}\n",
       "\n",
       "#sk-container-id-2 div.sk-toggleable__content.fitted {\n",
       "  /* fitted */\n",
       "  background-color: var(--sklearn-color-fitted-level-0);\n",
       "}\n",
       "\n",
       "#sk-container-id-2 div.sk-toggleable__content pre {\n",
       "  margin: 0.2em;\n",
       "  border-radius: 0.25em;\n",
       "  color: var(--sklearn-color-text);\n",
       "  /* unfitted */\n",
       "  background-color: var(--sklearn-color-unfitted-level-0);\n",
       "}\n",
       "\n",
       "#sk-container-id-2 div.sk-toggleable__content.fitted pre {\n",
       "  /* unfitted */\n",
       "  background-color: var(--sklearn-color-fitted-level-0);\n",
       "}\n",
       "\n",
       "#sk-container-id-2 input.sk-toggleable__control:checked~div.sk-toggleable__content {\n",
       "  /* Expand drop-down */\n",
       "  max-height: 200px;\n",
       "  max-width: 100%;\n",
       "  overflow: auto;\n",
       "}\n",
       "\n",
       "#sk-container-id-2 input.sk-toggleable__control:checked~label.sk-toggleable__label-arrow:before {\n",
       "  content: \"▾\";\n",
       "}\n",
       "\n",
       "/* Pipeline/ColumnTransformer-specific style */\n",
       "\n",
       "#sk-container-id-2 div.sk-label input.sk-toggleable__control:checked~label.sk-toggleable__label {\n",
       "  color: var(--sklearn-color-text);\n",
       "  background-color: var(--sklearn-color-unfitted-level-2);\n",
       "}\n",
       "\n",
       "#sk-container-id-2 div.sk-label.fitted input.sk-toggleable__control:checked~label.sk-toggleable__label {\n",
       "  background-color: var(--sklearn-color-fitted-level-2);\n",
       "}\n",
       "\n",
       "/* Estimator-specific style */\n",
       "\n",
       "/* Colorize estimator box */\n",
       "#sk-container-id-2 div.sk-estimator input.sk-toggleable__control:checked~label.sk-toggleable__label {\n",
       "  /* unfitted */\n",
       "  background-color: var(--sklearn-color-unfitted-level-2);\n",
       "}\n",
       "\n",
       "#sk-container-id-2 div.sk-estimator.fitted input.sk-toggleable__control:checked~label.sk-toggleable__label {\n",
       "  /* fitted */\n",
       "  background-color: var(--sklearn-color-fitted-level-2);\n",
       "}\n",
       "\n",
       "#sk-container-id-2 div.sk-label label.sk-toggleable__label,\n",
       "#sk-container-id-2 div.sk-label label {\n",
       "  /* The background is the default theme color */\n",
       "  color: var(--sklearn-color-text-on-default-background);\n",
       "}\n",
       "\n",
       "/* On hover, darken the color of the background */\n",
       "#sk-container-id-2 div.sk-label:hover label.sk-toggleable__label {\n",
       "  color: var(--sklearn-color-text);\n",
       "  background-color: var(--sklearn-color-unfitted-level-2);\n",
       "}\n",
       "\n",
       "/* Label box, darken color on hover, fitted */\n",
       "#sk-container-id-2 div.sk-label.fitted:hover label.sk-toggleable__label.fitted {\n",
       "  color: var(--sklearn-color-text);\n",
       "  background-color: var(--sklearn-color-fitted-level-2);\n",
       "}\n",
       "\n",
       "/* Estimator label */\n",
       "\n",
       "#sk-container-id-2 div.sk-label label {\n",
       "  font-family: monospace;\n",
       "  font-weight: bold;\n",
       "  display: inline-block;\n",
       "  line-height: 1.2em;\n",
       "}\n",
       "\n",
       "#sk-container-id-2 div.sk-label-container {\n",
       "  text-align: center;\n",
       "}\n",
       "\n",
       "/* Estimator-specific */\n",
       "#sk-container-id-2 div.sk-estimator {\n",
       "  font-family: monospace;\n",
       "  border: 1px dotted var(--sklearn-color-border-box);\n",
       "  border-radius: 0.25em;\n",
       "  box-sizing: border-box;\n",
       "  margin-bottom: 0.5em;\n",
       "  /* unfitted */\n",
       "  background-color: var(--sklearn-color-unfitted-level-0);\n",
       "}\n",
       "\n",
       "#sk-container-id-2 div.sk-estimator.fitted {\n",
       "  /* fitted */\n",
       "  background-color: var(--sklearn-color-fitted-level-0);\n",
       "}\n",
       "\n",
       "/* on hover */\n",
       "#sk-container-id-2 div.sk-estimator:hover {\n",
       "  /* unfitted */\n",
       "  background-color: var(--sklearn-color-unfitted-level-2);\n",
       "}\n",
       "\n",
       "#sk-container-id-2 div.sk-estimator.fitted:hover {\n",
       "  /* fitted */\n",
       "  background-color: var(--sklearn-color-fitted-level-2);\n",
       "}\n",
       "\n",
       "/* Specification for estimator info (e.g. \"i\" and \"?\") */\n",
       "\n",
       "/* Common style for \"i\" and \"?\" */\n",
       "\n",
       ".sk-estimator-doc-link,\n",
       "a:link.sk-estimator-doc-link,\n",
       "a:visited.sk-estimator-doc-link {\n",
       "  float: right;\n",
       "  font-size: smaller;\n",
       "  line-height: 1em;\n",
       "  font-family: monospace;\n",
       "  background-color: var(--sklearn-color-background);\n",
       "  border-radius: 1em;\n",
       "  height: 1em;\n",
       "  width: 1em;\n",
       "  text-decoration: none !important;\n",
       "  margin-left: 1ex;\n",
       "  /* unfitted */\n",
       "  border: var(--sklearn-color-unfitted-level-1) 1pt solid;\n",
       "  color: var(--sklearn-color-unfitted-level-1);\n",
       "}\n",
       "\n",
       ".sk-estimator-doc-link.fitted,\n",
       "a:link.sk-estimator-doc-link.fitted,\n",
       "a:visited.sk-estimator-doc-link.fitted {\n",
       "  /* fitted */\n",
       "  border: var(--sklearn-color-fitted-level-1) 1pt solid;\n",
       "  color: var(--sklearn-color-fitted-level-1);\n",
       "}\n",
       "\n",
       "/* On hover */\n",
       "div.sk-estimator:hover .sk-estimator-doc-link:hover,\n",
       ".sk-estimator-doc-link:hover,\n",
       "div.sk-label-container:hover .sk-estimator-doc-link:hover,\n",
       ".sk-estimator-doc-link:hover {\n",
       "  /* unfitted */\n",
       "  background-color: var(--sklearn-color-unfitted-level-3);\n",
       "  color: var(--sklearn-color-background);\n",
       "  text-decoration: none;\n",
       "}\n",
       "\n",
       "div.sk-estimator.fitted:hover .sk-estimator-doc-link.fitted:hover,\n",
       ".sk-estimator-doc-link.fitted:hover,\n",
       "div.sk-label-container:hover .sk-estimator-doc-link.fitted:hover,\n",
       ".sk-estimator-doc-link.fitted:hover {\n",
       "  /* fitted */\n",
       "  background-color: var(--sklearn-color-fitted-level-3);\n",
       "  color: var(--sklearn-color-background);\n",
       "  text-decoration: none;\n",
       "}\n",
       "\n",
       "/* Span, style for the box shown on hovering the info icon */\n",
       ".sk-estimator-doc-link span {\n",
       "  display: none;\n",
       "  z-index: 9999;\n",
       "  position: relative;\n",
       "  font-weight: normal;\n",
       "  right: .2ex;\n",
       "  padding: .5ex;\n",
       "  margin: .5ex;\n",
       "  width: min-content;\n",
       "  min-width: 20ex;\n",
       "  max-width: 50ex;\n",
       "  color: var(--sklearn-color-text);\n",
       "  box-shadow: 2pt 2pt 4pt #999;\n",
       "  /* unfitted */\n",
       "  background: var(--sklearn-color-unfitted-level-0);\n",
       "  border: .5pt solid var(--sklearn-color-unfitted-level-3);\n",
       "}\n",
       "\n",
       ".sk-estimator-doc-link.fitted span {\n",
       "  /* fitted */\n",
       "  background: var(--sklearn-color-fitted-level-0);\n",
       "  border: var(--sklearn-color-fitted-level-3);\n",
       "}\n",
       "\n",
       ".sk-estimator-doc-link:hover span {\n",
       "  display: block;\n",
       "}\n",
       "\n",
       "/* \"?\"-specific style due to the `<a>` HTML tag */\n",
       "\n",
       "#sk-container-id-2 a.estimator_doc_link {\n",
       "  float: right;\n",
       "  font-size: 1rem;\n",
       "  line-height: 1em;\n",
       "  font-family: monospace;\n",
       "  background-color: var(--sklearn-color-background);\n",
       "  border-radius: 1rem;\n",
       "  height: 1rem;\n",
       "  width: 1rem;\n",
       "  text-decoration: none;\n",
       "  /* unfitted */\n",
       "  color: var(--sklearn-color-unfitted-level-1);\n",
       "  border: var(--sklearn-color-unfitted-level-1) 1pt solid;\n",
       "}\n",
       "\n",
       "#sk-container-id-2 a.estimator_doc_link.fitted {\n",
       "  /* fitted */\n",
       "  border: var(--sklearn-color-fitted-level-1) 1pt solid;\n",
       "  color: var(--sklearn-color-fitted-level-1);\n",
       "}\n",
       "\n",
       "/* On hover */\n",
       "#sk-container-id-2 a.estimator_doc_link:hover {\n",
       "  /* unfitted */\n",
       "  background-color: var(--sklearn-color-unfitted-level-3);\n",
       "  color: var(--sklearn-color-background);\n",
       "  text-decoration: none;\n",
       "}\n",
       "\n",
       "#sk-container-id-2 a.estimator_doc_link.fitted:hover {\n",
       "  /* fitted */\n",
       "  background-color: var(--sklearn-color-fitted-level-3);\n",
       "}\n",
       "</style><div id=\"sk-container-id-2\" class=\"sk-top-container\"><div class=\"sk-text-repr-fallback\"><pre>DecisionTreeRegressor(max_depth=4, random_state=42)</pre><b>In a Jupyter environment, please rerun this cell to show the HTML representation or trust the notebook. <br />On GitHub, the HTML representation is unable to render, please try loading this page with nbviewer.org.</b></div><div class=\"sk-container\" hidden><div class=\"sk-item\"><div class=\"sk-estimator fitted sk-toggleable\"><input class=\"sk-toggleable__control sk-hidden--visually\" id=\"sk-estimator-id-2\" type=\"checkbox\" checked><label for=\"sk-estimator-id-2\" class=\"sk-toggleable__label fitted sk-toggleable__label-arrow fitted\">&nbsp;&nbsp;DecisionTreeRegressor<a class=\"sk-estimator-doc-link fitted\" rel=\"noreferrer\" target=\"_blank\" href=\"https://scikit-learn.org/1.5/modules/generated/sklearn.tree.DecisionTreeRegressor.html\">?<span>Documentation for DecisionTreeRegressor</span></a><span class=\"sk-estimator-doc-link fitted\">i<span>Fitted</span></span></label><div class=\"sk-toggleable__content fitted\"><pre>DecisionTreeRegressor(max_depth=4, random_state=42)</pre></div> </div></div></div></div>"
      ],
      "text/plain": [
       "DecisionTreeRegressor(max_depth=4, random_state=42)"
      ]
     },
     "execution_count": 160,
     "metadata": {},
     "output_type": "execute_result"
    }
   ],
   "source": [
    "tree = DecisionTreeRegressor(max_depth=4, random_state=42)\n",
    "tree.fit(X_train, y_train)"
   ]
  },
  {
   "cell_type": "code",
   "execution_count": 161,
   "id": "cebd4868",
   "metadata": {},
   "outputs": [
    {
     "name": "stdout",
     "output_type": "stream",
     "text": [
      "R²: 0.380\n",
      "RMSE: 4093104.77\n"
     ]
    }
   ],
   "source": [
    "y_pred = tree.predict(X_test)\n",
    "\n",
    "r2 = r2_score(y_test, y_pred)\n",
    "rmse = mean_squared_error(y_test, y_pred, squared=False)\n",
    "\n",
    "print(f\"R²: {r2:.3f}\")\n",
    "print(f\"RMSE: {rmse:.2f}\")"
   ]
  },
  {
   "cell_type": "code",
   "execution_count": 163,
   "id": "cd32c392",
   "metadata": {},
   "outputs": [
    {
     "data": {
      "image/png": "[encoded data removed]",
      "text/plain": [
       "<Figure size 1200x600 with 1 Axes>"
      ]
     },
     "metadata": {},
     "output_type": "display_data"
    }
   ],
   "source": [
    "from sklearn.tree import plot_tree\n",
    "import matplotlib.pyplot as plt\n",
    "\n",
    "plt.figure(figsize=(12, 6))\n",
    "plot_tree(tree, feature_names=X.columns, filled=True, rounded=True)\n",
    "plt.show()"
   ]
  },
  {
   "cell_type": "code",
   "execution_count": 164,
   "id": "246f5f49",
   "metadata": {},
   "outputs": [
    {
     "data": {
      "text/plain": [
       "array([ 7619615., 13548012., 13548012.,  7619615.,  5541714.])"
      ]
     },
     "execution_count": 164,
     "metadata": {},
     "output_type": "execute_result"
    }
   ],
   "source": [
    "y_pred"
   ]
  },
  {
   "cell_type": "code",
   "execution_count": 157,
   "id": "15ebddf5",
   "metadata": {},
   "outputs": [],
   "source": [
    "X = mer.drop(columns=[\"producao(t)\", 'produtividade(kg/ha)', \"Ano\", \"Unidade da Federação\", \"Produto das lavouras temporárias\", 'Evento_mar_jun', 'Evento_nov_dez_jan'])  # variáveis explicativas\n",
    "y = mer['produtividade(kg/ha)']                 # variável alvo"
   ]
  },
  {
   "cell_type": "code",
   "execution_count": 156,
   "id": "4438f5bc",
   "metadata": {},
   "outputs": [
    {
     "data": {
      "text/plain": [
       "Index(['Unnamed: 0', 'Ano', 'Unidade da Federação',\n",
       "       'Produto das lavouras temporárias', 'area_plantada(ha)',\n",
       "       'area_colhida(ha)', 'delta_area', 'producao(t)', 'produtividade(kg/ha)',\n",
       "       'valor_mil(R$)', 'valor_saca', 'var_produtividade',\n",
       "       'var_produtividade_%', 'var_producao(t)', 'var_producao(t)_%',\n",
       "       'Media_mar_jun', 'Media_semestre_1', 'Media_semestre_2',\n",
       "       'Evento_mar_jun', 'Evento_nov_dez_jan', 'ONI', 'ONI_nino', 'ONI_nina',\n",
       "       'Evento_mar_jun_num', 'Evento_nov_dez_jan_num',\n",
       "       'PRECIPITAÇÃO TOTAL, HORÁRIO (mm)', 'precipitacao_media'],\n",
       "      dtype='object')"
      ]
     },
     "execution_count": 156,
     "metadata": {},
     "output_type": "execute_result"
    }
   ],
   "source": [
    "mer.columns"
   ]
  },
  {
   "cell_type": "markdown",
   "id": "fa6ca67c",
   "metadata": {},
   "source": []
  },
  {
   "cell_type": "markdown",
   "id": "3c4bac82",
   "metadata": {},
   "source": []
  }
 ],
 "metadata": {
  "kernelspec": {
   "display_name": "base",
   "language": "python",
   "name": "python3"
  },
  "language_info": {
   "codemirror_mode": {
    "name": "ipython",
    "version": 3
   },
   "file_extension": ".py",
   "mimetype": "text/x-python",
   "name": "python",
   "nbconvert_exporter": "python",
   "pygments_lexer": "ipython3",
   "version": "3.12.7"
  }
 },
 "nbformat": 4,
 "nbformat_minor": 5
}
